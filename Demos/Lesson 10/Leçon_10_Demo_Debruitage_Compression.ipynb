{
 "cells": [
  {
   "cell_type": "markdown",
   "metadata": {},
   "source": [
    "[![Open In Colab](https://colab.research.google.com/assets/colab-badge.svg)](https://colab.research.google.com/github/MaloADBA/ELE8812-demos/blob/main/Demos/Lesson%2010/Leçon_10_Demo_Debruitage_Compression.ipynb)"
   ]
  },
  {
   "cell_type": "code",
   "execution_count": 1,
   "metadata": {
    "executionInfo": {
     "elapsed": 169,
     "status": "ok",
     "timestamp": 1647282822312,
     "user": {
      "displayName": "Eva Alonso",
      "photoUrl": "https://lh3.googleusercontent.com/a-/AOh14GhLM2zWWbwTtD8-EJqYjy1S1EDUu2-SgI4x2H-sOw=s64",
      "userId": "01143959102600730072"
     },
     "user_tz": 240
    },
    "id": "Hd2ZyfNCoaAC"
   },
   "outputs": [],
   "source": [
    "import imageio\n",
    "import numpy as np\n",
    "import pywt\n",
    "import matplotlib.pyplot as plt\n",
    "\n",
    "from ipywidgets import interact, interactive, fixed, interact_manual\n",
    "import ipywidgets as widgets"
   ]
  },
  {
   "cell_type": "markdown",
   "metadata": {
    "id": "EhJfY2tuoaAF"
   },
   "source": [
    "Pour une version interactive de ce notebook: [![Binder](https://mybinder.org/badge.svg)](https://mybinder.org/v2/gh/joe-from-mtl/ele8812_Cours_AnalyseMultiresolution/master?filepath=notebooks%2FDemo_Debruitage_Compression.ipynb)"
   ]
  },
  {
   "cell_type": "code",
   "execution_count": 2,
   "metadata": {
    "executionInfo": {
     "elapsed": 184,
     "status": "ok",
     "timestamp": 1647282824521,
     "user": {
      "displayName": "Eva Alonso",
      "photoUrl": "https://lh3.googleusercontent.com/a-/AOh14GhLM2zWWbwTtD8-EJqYjy1S1EDUu2-SgI4x2H-sOw=s64",
      "userId": "01143959102600730072"
     },
     "user_tz": 240
    },
    "id": "C2HKtdI6oaAG"
   },
   "outputs": [],
   "source": [
    "# Parameters\n",
    "plt.style.use('seaborn-poster')\n",
    "plt.rcParams['axes.linewidth'] = 3\n",
    "\n",
    "waveletList = ['haar', 'db2', 'db3', 'db4', 'sym2', 'sym3']\n",
    "thresholdTypes = ['hard', 'soft']\n",
    "thresholdValues = widgets.FloatSlider(0.05, min=0.0, max=1.0, step=0.01, description='Threshold Value', continuous_update=False)\n",
    "displayTypes = ['decomposition', 'details_histogram', 'thresholded_decomposition', 'denoised_image', 'composite']\n",
    "waveletList = ['haar', 'db2', 'db3', 'db4', 'sym2', 'sym3','sym4','sym5','sym6']"
   ]
  },
  {
   "cell_type": "code",
   "execution_count": null,
   "metadata": {},
   "outputs": [],
   "source": [
    "!git clone https://github.com/MaloADBA/ELE8812-demos.git Repo"
   ]
  },
  {
   "cell_type": "markdown",
   "metadata": {
    "id": "OvN_c7TCoaAG"
   },
   "source": [
    "# Débruitage et compression par transformée en ondelettes rapide\n",
    "## ELE8812"
   ]
  },
  {
   "cell_type": "markdown",
   "metadata": {
    "id": "uUl2W8tToaAH"
   },
   "source": [
    "## Image a débruiter"
   ]
  },
  {
   "cell_type": "code",
   "execution_count": 3,
   "metadata": {
    "executionInfo": {
     "elapsed": 169,
     "status": "ok",
     "timestamp": 1647282828003,
     "user": {
      "displayName": "Eva Alonso",
      "photoUrl": "https://lh3.googleusercontent.com/a-/AOh14GhLM2zWWbwTtD8-EJqYjy1S1EDUu2-SgI4x2H-sOw=s64",
      "userId": "01143959102600730072"
     },
     "user_tz": 240
    },
    "id": "MOL9JReYoaAH"
   },
   "outputs": [],
   "source": [
    "imageSelector = widgets.Dropdown(options={'Vase': 'Repo/Data/Vase.tif', 'Lenna': 'Repo/Data/Lenna.tif', \n",
    "                                          'IRM - Genou': 'Repo/Data/IRMgenou.tif', 'CT - Thorax': 'Repo/Data/CTthorax.tif',\n",
    "                                          'CT - Crane': 'Repo/Data/CTcrane.tif'},\n",
    "    value='Repo/Data/IRMgenou.tif',\n",
    "    description='Image:',\n",
    ")"
   ]
  },
  {
   "cell_type": "code",
   "execution_count": 6,
   "metadata": {
    "colab": {
     "base_uri": "https://localhost:8080/",
     "height": 49,
     "referenced_widgets": [
      "9516a22ec1634e9d99b0c3c50756d443",
      "a16c1b39540440e68c93e4076010ff8f",
      "5ed553ff0d764b1ca8ba481bd3772f47"
     ]
    },
    "executionInfo": {
     "elapsed": 148,
     "status": "ok",
     "timestamp": 1647282837628,
     "user": {
      "displayName": "Eva Alonso",
      "photoUrl": "https://lh3.googleusercontent.com/a-/AOh14GhLM2zWWbwTtD8-EJqYjy1S1EDUu2-SgI4x2H-sOw=s64",
      "userId": "01143959102600730072"
     },
     "user_tz": 240
    },
    "id": "jg03hZwioaAH",
    "outputId": "4d17ea00-27b0-46de-e9b7-92faefa986ed"
   },
   "outputs": [
    {
     "data": {
      "application/vnd.jupyter.widget-view+json": {
       "model_id": "9516a22ec1634e9d99b0c3c50756d443",
       "version_major": 2,
       "version_minor": 0
      },
      "text/plain": [
       "Dropdown(description='Image:', index=3, options={'Vase': '../images/Vase.tif', 'Lenna': '../images/Lenna.tif',…"
      ]
     },
     "metadata": {},
     "output_type": "display_data"
    }
   ],
   "source": [
    "imageSelector"
   ]
  },
  {
   "cell_type": "code",
   "execution_count": 7,
   "metadata": {
    "colab": {
     "base_uri": "https://localhost:8080/",
     "height": 346
    },
    "executionInfo": {
     "elapsed": 153,
     "status": "error",
     "timestamp": 1647282839345,
     "user": {
      "displayName": "Eva Alonso",
      "photoUrl": "https://lh3.googleusercontent.com/a-/AOh14GhLM2zWWbwTtD8-EJqYjy1S1EDUu2-SgI4x2H-sOw=s64",
      "userId": "01143959102600730072"
     },
     "user_tz": 240
    },
    "id": "MDVqsmmwoaAJ",
    "outputId": "eb1b9791-53f8-4f3c-d73a-ee173194d80c"
   },
   "outputs": [
    {
     "ename": "FileNotFoundError",
     "evalue": "ignored",
     "output_type": "error",
     "traceback": [
      "\u001b[0;31m---------------------------------------------------------------------------\u001b[0m",
      "\u001b[0;31mFileNotFoundError\u001b[0m                         Traceback (most recent call last)",
      "\u001b[0;32m<ipython-input-7-b416194ade9a>\u001b[0m in \u001b[0;36m<module>\u001b[0;34m()\u001b[0m\n\u001b[0;32m----> 1\u001b[0;31m \u001b[0mimg\u001b[0m \u001b[0;34m=\u001b[0m \u001b[0mimageio\u001b[0m\u001b[0;34m.\u001b[0m\u001b[0mimread\u001b[0m\u001b[0;34m(\u001b[0m\u001b[0mimageSelector\u001b[0m\u001b[0;34m.\u001b[0m\u001b[0mvalue\u001b[0m\u001b[0;34m)\u001b[0m\u001b[0;34m\u001b[0m\u001b[0;34m\u001b[0m\u001b[0m\n\u001b[0m\u001b[1;32m      2\u001b[0m \u001b[0mimg\u001b[0m \u001b[0;34m=\u001b[0m \u001b[0;34m(\u001b[0m\u001b[0mimg\u001b[0m \u001b[0;34m-\u001b[0m \u001b[0mimg\u001b[0m\u001b[0;34m.\u001b[0m\u001b[0mmin\u001b[0m\u001b[0;34m(\u001b[0m\u001b[0;34m)\u001b[0m\u001b[0;34m)\u001b[0m \u001b[0;34m/\u001b[0m \u001b[0;34m(\u001b[0m\u001b[0mimg\u001b[0m\u001b[0;34m.\u001b[0m\u001b[0mmax\u001b[0m\u001b[0;34m(\u001b[0m\u001b[0;34m)\u001b[0m \u001b[0;34m-\u001b[0m \u001b[0mimg\u001b[0m\u001b[0;34m.\u001b[0m\u001b[0mmin\u001b[0m\u001b[0;34m(\u001b[0m\u001b[0;34m)\u001b[0m\u001b[0;34m)\u001b[0m\u001b[0;34m\u001b[0m\u001b[0;34m\u001b[0m\u001b[0m\n\u001b[1;32m      3\u001b[0m \u001b[0mplt\u001b[0m\u001b[0;34m.\u001b[0m\u001b[0mimshow\u001b[0m\u001b[0;34m(\u001b[0m\u001b[0mimg\u001b[0m\u001b[0;34m)\u001b[0m\u001b[0;34m;\u001b[0m \u001b[0mplt\u001b[0m\u001b[0;34m.\u001b[0m\u001b[0mshow\u001b[0m\u001b[0;34m(\u001b[0m\u001b[0;34m)\u001b[0m\u001b[0;34m\u001b[0m\u001b[0;34m\u001b[0m\u001b[0m\n",
      "\u001b[0;32m/usr/local/lib/python3.7/dist-packages/imageio/core/functions.py\u001b[0m in \u001b[0;36mimread\u001b[0;34m(uri, format, **kwargs)\u001b[0m\n\u001b[1;32m    219\u001b[0m \u001b[0;34m\u001b[0m\u001b[0m\n\u001b[1;32m    220\u001b[0m     \u001b[0;31m# Get reader and read first\u001b[0m\u001b[0;34m\u001b[0m\u001b[0;34m\u001b[0m\u001b[0;34m\u001b[0m\u001b[0m\n\u001b[0;32m--> 221\u001b[0;31m     \u001b[0mreader\u001b[0m \u001b[0;34m=\u001b[0m \u001b[0mread\u001b[0m\u001b[0;34m(\u001b[0m\u001b[0muri\u001b[0m\u001b[0;34m,\u001b[0m \u001b[0mformat\u001b[0m\u001b[0;34m,\u001b[0m \u001b[0;34m\"i\"\u001b[0m\u001b[0;34m,\u001b[0m \u001b[0;34m**\u001b[0m\u001b[0mkwargs\u001b[0m\u001b[0;34m)\u001b[0m\u001b[0;34m\u001b[0m\u001b[0;34m\u001b[0m\u001b[0m\n\u001b[0m\u001b[1;32m    222\u001b[0m     \u001b[0;32mwith\u001b[0m \u001b[0mreader\u001b[0m\u001b[0;34m:\u001b[0m\u001b[0;34m\u001b[0m\u001b[0;34m\u001b[0m\u001b[0m\n\u001b[1;32m    223\u001b[0m         \u001b[0;32mreturn\u001b[0m \u001b[0mreader\u001b[0m\u001b[0;34m.\u001b[0m\u001b[0mget_data\u001b[0m\u001b[0;34m(\u001b[0m\u001b[0;36m0\u001b[0m\u001b[0;34m)\u001b[0m\u001b[0;34m\u001b[0m\u001b[0;34m\u001b[0m\u001b[0m\n",
      "\u001b[0;32m/usr/local/lib/python3.7/dist-packages/imageio/core/functions.py\u001b[0m in \u001b[0;36mget_reader\u001b[0;34m(uri, format, mode, **kwargs)\u001b[0m\n\u001b[1;32m    128\u001b[0m \u001b[0;34m\u001b[0m\u001b[0m\n\u001b[1;32m    129\u001b[0m     \u001b[0;31m# Create request object\u001b[0m\u001b[0;34m\u001b[0m\u001b[0;34m\u001b[0m\u001b[0;34m\u001b[0m\u001b[0m\n\u001b[0;32m--> 130\u001b[0;31m     \u001b[0mrequest\u001b[0m \u001b[0;34m=\u001b[0m \u001b[0mRequest\u001b[0m\u001b[0;34m(\u001b[0m\u001b[0muri\u001b[0m\u001b[0;34m,\u001b[0m \u001b[0;34m\"r\"\u001b[0m \u001b[0;34m+\u001b[0m \u001b[0mmode\u001b[0m\u001b[0;34m,\u001b[0m \u001b[0;34m**\u001b[0m\u001b[0mkwargs\u001b[0m\u001b[0;34m)\u001b[0m\u001b[0;34m\u001b[0m\u001b[0;34m\u001b[0m\u001b[0m\n\u001b[0m\u001b[1;32m    131\u001b[0m \u001b[0;34m\u001b[0m\u001b[0m\n\u001b[1;32m    132\u001b[0m     \u001b[0;31m# Get format\u001b[0m\u001b[0;34m\u001b[0m\u001b[0;34m\u001b[0m\u001b[0;34m\u001b[0m\u001b[0m\n",
      "\u001b[0;32m/usr/local/lib/python3.7/dist-packages/imageio/core/request.py\u001b[0m in \u001b[0;36m__init__\u001b[0;34m(self, uri, mode, **kwargs)\u001b[0m\n\u001b[1;32m    123\u001b[0m \u001b[0;34m\u001b[0m\u001b[0m\n\u001b[1;32m    124\u001b[0m         \u001b[0;31m# Parse what was given\u001b[0m\u001b[0;34m\u001b[0m\u001b[0;34m\u001b[0m\u001b[0;34m\u001b[0m\u001b[0m\n\u001b[0;32m--> 125\u001b[0;31m         \u001b[0mself\u001b[0m\u001b[0;34m.\u001b[0m\u001b[0m_parse_uri\u001b[0m\u001b[0;34m(\u001b[0m\u001b[0muri\u001b[0m\u001b[0;34m)\u001b[0m\u001b[0;34m\u001b[0m\u001b[0;34m\u001b[0m\u001b[0m\n\u001b[0m\u001b[1;32m    126\u001b[0m \u001b[0;34m\u001b[0m\u001b[0m\n\u001b[1;32m    127\u001b[0m         \u001b[0;31m# Set extension\u001b[0m\u001b[0;34m\u001b[0m\u001b[0;34m\u001b[0m\u001b[0;34m\u001b[0m\u001b[0m\n",
      "\u001b[0;32m/usr/local/lib/python3.7/dist-packages/imageio/core/request.py\u001b[0m in \u001b[0;36m_parse_uri\u001b[0;34m(self, uri)\u001b[0m\n\u001b[1;32m    271\u001b[0m                 \u001b[0;31m# Reading: check that the file exists (but is allowed a dir)\u001b[0m\u001b[0;34m\u001b[0m\u001b[0;34m\u001b[0m\u001b[0;34m\u001b[0m\u001b[0m\n\u001b[1;32m    272\u001b[0m                 \u001b[0;32mif\u001b[0m \u001b[0;32mnot\u001b[0m \u001b[0mos\u001b[0m\u001b[0;34m.\u001b[0m\u001b[0mpath\u001b[0m\u001b[0;34m.\u001b[0m\u001b[0mexists\u001b[0m\u001b[0;34m(\u001b[0m\u001b[0mfn\u001b[0m\u001b[0;34m)\u001b[0m\u001b[0;34m:\u001b[0m\u001b[0;34m\u001b[0m\u001b[0;34m\u001b[0m\u001b[0m\n\u001b[0;32m--> 273\u001b[0;31m                     \u001b[0;32mraise\u001b[0m \u001b[0mFileNotFoundError\u001b[0m\u001b[0;34m(\u001b[0m\u001b[0;34m\"No such file: '%s'\"\u001b[0m \u001b[0;34m%\u001b[0m \u001b[0mfn\u001b[0m\u001b[0;34m)\u001b[0m\u001b[0;34m\u001b[0m\u001b[0;34m\u001b[0m\u001b[0m\n\u001b[0m\u001b[1;32m    274\u001b[0m             \u001b[0;32melse\u001b[0m\u001b[0;34m:\u001b[0m\u001b[0;34m\u001b[0m\u001b[0;34m\u001b[0m\u001b[0m\n\u001b[1;32m    275\u001b[0m                 \u001b[0;31m# Writing: check that the directory to write to does exist\u001b[0m\u001b[0;34m\u001b[0m\u001b[0;34m\u001b[0m\u001b[0;34m\u001b[0m\u001b[0m\n",
      "\u001b[0;31mFileNotFoundError\u001b[0m: No such file: '/images/CTthorax.tif'"
     ]
    }
   ],
   "source": [
    "img = imageio.imread(imageSelector.value)\n",
    "img = (img - img.min()) / (img.max() - img.min())\n",
    "plt.imshow(img); plt.show()"
   ]
  },
  {
   "cell_type": "code",
   "execution_count": null,
   "metadata": {
    "id": "QCrxcMYWoaAJ"
   },
   "outputs": [],
   "source": [
    "# Décomposition en ondelettes\n",
    "def wavelet_decomposition_denoising(img, wavelet='haar', nLevels=1, thresholdType='hard', thresholdValue=0.05, displayType='decomposition', displayCompressionRate=False): \n",
    "    coeffs = pywt.wavedec2(img, wavelet, level=nLevels)\n",
    "    arr, coeff_slices = pywt.coeffs_to_array(coeffs)\n",
    "    arr_p = np.copy(arr)\n",
    "    arr_p[np.abs(arr) < thresholdValue] = 0.0\n",
    "    if thresholdType == 'soft':\n",
    "        arr_p[arr >= thresholdValue] -= thresholdValue\n",
    "        arr_p[arr <= -thresholdValue] += thresholdValue\n",
    "    arr_p[coeff_slices[0]] = arr[coeff_slices[0]]\n",
    "    \n",
    "    coeffs_p = pywt.array_to_coeffs(arr_p, coeff_slices, output_format='wavedec2')\n",
    "    img_p = pywt.waverec2(coeffs_p, wavelet)\n",
    "    \n",
    "    if displayCompressionRate:\n",
    "        details_mask = np.ones_like(arr, dtype=bool)\n",
    "        details_mask[coeff_slices[0]] = False\n",
    "        compression_rate = np.sum(arr_p[details_mask] == 0) / arr_p.size\n",
    "        error_rate = np.sqrt(np.sum((img - img_p)**2) / np.sum(img**2))\n",
    "        print(\"Compression rate: {:.2f}%\".format(compression_rate * 100))\n",
    "        print(\"Error (RMS): {:.2f}%\".format(error_rate * 100))\n",
    "    if displayType == 'decomposition':\n",
    "        plt.imshow(arr); plt.show()\n",
    "    elif displayType == 'details_histogram':\n",
    "        details_mask = np.ones_like(arr, dtype=bool)\n",
    "        details_mask[coeff_slices[0]] = False\n",
    "        plt.hist(arr[details_mask].ravel(), 64, log=True); plt.show()\n",
    "    elif displayType == 'thresholded_decomposition':\n",
    "        plt.imshow(arr_p); plt.show()\n",
    "    elif displayType == 'denoised_image':\n",
    "        plt.imshow(img_p); plt.show()\n",
    "    elif displayType == 'composite':\n",
    "       \n",
    "        plt.figure(figsize=(16,5))\n",
    "        plt.subplot(131); plt.imshow(img); plt.title('Originale')\n",
    "        plt.subplot(132); plt.imshow(img_p); plt.title(u'Débruitée / Compressée')\n",
    "        plt.subplot(133); plt.imshow(img - img_p, cmap='RdBu'); plt.title(u'Différence')\n",
    "        plt.show()"
   ]
  },
  {
   "cell_type": "code",
   "execution_count": null,
   "metadata": {
    "id": "XaXuS0U5oaAL"
   },
   "outputs": [],
   "source": [
    "def display_thresholdTypes(thresh = 0.25):\n",
    "    x = np.linspace(-1,1,512)\n",
    "    y = x * 1.0\n",
    "    y_ht = np.copy(y)\n",
    "    y_ht[np.abs(y)<thresh] = 0.0\n",
    "    y_st = np.copy(y)\n",
    "    y_st[np.abs(y)<thresh] = 0.0\n",
    "    y_st[y<=-thresh] = y_st[y<=-thresh] + thresh\n",
    "    y_st[y>=thresh] = y_st[y>=thresh] - thresh\n",
    "\n",
    "    plt.figure(figsize=(15,5))\n",
    "    plt.subplot(121); plt.plot(x, y_ht)\n",
    "    plt.grid(True)\n",
    "    plt.axvline(thresh, color='red', alpha=0.75); plt.axvline(-thresh, color='red', alpha=0.75)\n",
    "    plt.title('Hard Thresholding (T=0.25)')\n",
    "\n",
    "    plt.subplot(122); plt.plot(x, y_st)\n",
    "    plt.grid(True)\n",
    "    plt.axvline(thresh, color='red', alpha=0.75); plt.axvline(-thresh, color='red', alpha=0.75)\n",
    "    plt.title('Soft Thresholding (T=0.25)')\n",
    "    plt.show()"
   ]
  },
  {
   "cell_type": "markdown",
   "metadata": {
    "id": "TrBBll6uoaAL"
   },
   "source": [
    "## Theshold types"
   ]
  },
  {
   "cell_type": "markdown",
   "metadata": {
    "id": "u0jkmNYVoaAL"
   },
   "source": [
    "### Hard threshold\n",
    "\\begin{equation}\n",
    "I = \\left\\{ \\begin{matrix} I & \\text{if }I \\geq I_{thresh}\\\\ 0 & \\text{otherwise}\\end{matrix} \\right.\n",
    "\\end{equation}\n",
    "\n",
    "### Soft threshold\n",
    "\\begin{equation}\n",
    "I = \\left\\{ \\begin{matrix} I - I_{thresh} & \\text{if }I \\geq I_{thresh}\\\\ I + I_{thresh} & \\text{if } I \\leq -I_{thresh} \\\\ 0 & \\text{otherwise}\\end{matrix} \\right.\n",
    "\\end{equation}"
   ]
  },
  {
   "cell_type": "markdown",
   "metadata": {
    "id": "mtDjZDxhoaAL"
   },
   "source": [
    "## Threshold Types Demo"
   ]
  },
  {
   "cell_type": "code",
   "execution_count": null,
   "metadata": {
    "colab": {
     "base_uri": "https://localhost:8080/",
     "height": 385,
     "referenced_widgets": [
      "0bc1076a50be45d1ae9f5b8f660757b0",
      "36b75affc2ac4a4db9c1a7df314d2525",
      "7df70a07c711448a963899c3be4bba2b",
      "19544e75603248cd982a09d425b953e3",
      "0b2f5c9e5b0a411cb9234d22b7f2c8a6",
      "1bb9caaf6420444baf3b5fe2497d4373",
      "558fe69754a2495cb7f4a36ab9a7621c"
     ]
    },
    "executionInfo": {
     "elapsed": 542,
     "status": "ok",
     "timestamp": 1639161728295,
     "user": {
      "displayName": "Eva Alonso",
      "photoUrl": "https://lh3.googleusercontent.com/a-/AOh14GhLM2zWWbwTtD8-EJqYjy1S1EDUu2-SgI4x2H-sOw=s64",
      "userId": "01143959102600730072"
     },
     "user_tz": 300
    },
    "id": "tBtFQdf2oaAM",
    "outputId": "4c0067d8-d8a5-4df5-b812-72e298b3728a"
   },
   "outputs": [
    {
     "data": {
      "application/vnd.jupyter.widget-view+json": {
       "model_id": "0bc1076a50be45d1ae9f5b8f660757b0",
       "version_major": 2,
       "version_minor": 0
      },
      "text/plain": [
       "interactive(children=(FloatSlider(value=0.25, description='thresh', max=1.0, step=0.05), Output()), _dom_class…"
      ]
     },
     "metadata": {},
     "output_type": "display_data"
    }
   ],
   "source": [
    "interactive(display_thresholdTypes, thresh=(0,1,0.05))"
   ]
  },
  {
   "cell_type": "markdown",
   "metadata": {
    "id": "EVQMyu2AoaAM"
   },
   "source": [
    "## Denoising & Compression Demo"
   ]
  },
  {
   "cell_type": "code",
   "execution_count": null,
   "metadata": {
    "colab": {
     "base_uri": "https://localhost:8080/",
     "height": 181
    },
    "executionInfo": {
     "elapsed": 144,
     "status": "error",
     "timestamp": 1639161731447,
     "user": {
      "displayName": "Eva Alonso",
      "photoUrl": "https://lh3.googleusercontent.com/a-/AOh14GhLM2zWWbwTtD8-EJqYjy1S1EDUu2-SgI4x2H-sOw=s64",
      "userId": "01143959102600730072"
     },
     "user_tz": 300
    },
    "id": "hhYRiI6_oaAM",
    "outputId": "c33d74d1-5577-405e-9d5a-e82a38ccf928"
   },
   "outputs": [
    {
     "ename": "NameError",
     "evalue": "ignored",
     "output_type": "error",
     "traceback": [
      "\u001b[0;31m---------------------------------------------------------------------------\u001b[0m",
      "\u001b[0;31mNameError\u001b[0m                                 Traceback (most recent call last)",
      "\u001b[0;32m<ipython-input-11-bfb6b0dddee4>\u001b[0m in \u001b[0;36m<module>\u001b[0;34m()\u001b[0m\n\u001b[0;32m----> 1\u001b[0;31m interactive(wavelet_decomposition_denoising, img = fixed(img), wavelet=waveletList, nLevels=(1,6), \n\u001b[0m\u001b[1;32m      2\u001b[0m             thresholdType=thresholdTypes, thresholdValue=thresholdValues, displayType=displayTypes)\n",
      "\u001b[0;31mNameError\u001b[0m: name 'img' is not defined"
     ]
    }
   ],
   "source": [
    "interactive(wavelet_decomposition_denoising, img = fixed(img), wavelet=waveletList, nLevels=(1,6), \n",
    "            thresholdType=thresholdTypes, thresholdValue=thresholdValues, displayType=displayTypes)"
   ]
  }
 ],
 "metadata": {
  "celltoolbar": "Slideshow",
  "colab": {
   "name": "Demo_Debruitage_Compression.ipynb",
   "provenance": []
  },
  "kernelspec": {
   "display_name": "Python 3",
   "language": "python",
   "name": "python3"
  },
  "language_info": {
   "codemirror_mode": {
    "name": "ipython",
    "version": 3
   },
   "file_extension": ".py",
   "mimetype": "text/x-python",
   "name": "python",
   "nbconvert_exporter": "python",
   "pygments_lexer": "ipython3",
   "version": "3.8.8"
  },
  "widgets": {
   "application/vnd.jupyter.widget-state+json": {
    "0b2f5c9e5b0a411cb9234d22b7f2c8a6": {
     "model_module": "@jupyter-widgets/controls",
     "model_module_version": "1.5.0",
     "model_name": "SliderStyleModel",
     "state": {
      "_model_module": "@jupyter-widgets/controls",
      "_model_module_version": "1.5.0",
      "_model_name": "SliderStyleModel",
      "_view_count": null,
      "_view_module": "@jupyter-widgets/base",
      "_view_module_version": "1.2.0",
      "_view_name": "StyleView",
      "description_width": "",
      "handle_color": null
     }
    },
    "0bc1076a50be45d1ae9f5b8f660757b0": {
     "model_module": "@jupyter-widgets/controls",
     "model_module_version": "1.5.0",
     "model_name": "VBoxModel",
     "state": {
      "_dom_classes": [
       "widget-interact"
      ],
      "_model_module": "@jupyter-widgets/controls",
      "_model_module_version": "1.5.0",
      "_model_name": "VBoxModel",
      "_view_count": null,
      "_view_module": "@jupyter-widgets/controls",
      "_view_module_version": "1.5.0",
      "_view_name": "VBoxView",
      "box_style": "",
      "children": [
       "IPY_MODEL_7df70a07c711448a963899c3be4bba2b",
       "IPY_MODEL_19544e75603248cd982a09d425b953e3"
      ],
      "layout": "IPY_MODEL_36b75affc2ac4a4db9c1a7df314d2525"
     }
    },
    "19544e75603248cd982a09d425b953e3": {
     "model_module": "@jupyter-widgets/output",
     "model_module_version": "1.0.0",
     "model_name": "OutputModel",
     "state": {
      "_dom_classes": [],
      "_model_module": "@jupyter-widgets/output",
      "_model_module_version": "1.0.0",
      "_model_name": "OutputModel",
      "_view_count": null,
      "_view_module": "@jupyter-widgets/output",
      "_view_module_version": "1.0.0",
      "_view_name": "OutputView",
      "layout": "IPY_MODEL_558fe69754a2495cb7f4a36ab9a7621c",
      "msg_id": "",
      "outputs": [
       {
        "data": {
         "image/png": "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\n",
         "text/plain": "<Figure size 1080x360 with 2 Axes>"
        },
        "metadata": {
         "needs_background": "light"
        },
        "output_type": "display_data"
       }
      ]
     }
    },
    "1bb9caaf6420444baf3b5fe2497d4373": {
     "model_module": "@jupyter-widgets/base",
     "model_module_version": "1.2.0",
     "model_name": "LayoutModel",
     "state": {
      "_model_module": "@jupyter-widgets/base",
      "_model_module_version": "1.2.0",
      "_model_name": "LayoutModel",
      "_view_count": null,
      "_view_module": "@jupyter-widgets/base",
      "_view_module_version": "1.2.0",
      "_view_name": "LayoutView",
      "align_content": null,
      "align_items": null,
      "align_self": null,
      "border": null,
      "bottom": null,
      "display": null,
      "flex": null,
      "flex_flow": null,
      "grid_area": null,
      "grid_auto_columns": null,
      "grid_auto_flow": null,
      "grid_auto_rows": null,
      "grid_column": null,
      "grid_gap": null,
      "grid_row": null,
      "grid_template_areas": null,
      "grid_template_columns": null,
      "grid_template_rows": null,
      "height": null,
      "justify_content": null,
      "justify_items": null,
      "left": null,
      "margin": null,
      "max_height": null,
      "max_width": null,
      "min_height": null,
      "min_width": null,
      "object_fit": null,
      "object_position": null,
      "order": null,
      "overflow": null,
      "overflow_x": null,
      "overflow_y": null,
      "padding": null,
      "right": null,
      "top": null,
      "visibility": null,
      "width": null
     }
    },
    "36b75affc2ac4a4db9c1a7df314d2525": {
     "model_module": "@jupyter-widgets/base",
     "model_module_version": "1.2.0",
     "model_name": "LayoutModel",
     "state": {
      "_model_module": "@jupyter-widgets/base",
      "_model_module_version": "1.2.0",
      "_model_name": "LayoutModel",
      "_view_count": null,
      "_view_module": "@jupyter-widgets/base",
      "_view_module_version": "1.2.0",
      "_view_name": "LayoutView",
      "align_content": null,
      "align_items": null,
      "align_self": null,
      "border": null,
      "bottom": null,
      "display": null,
      "flex": null,
      "flex_flow": null,
      "grid_area": null,
      "grid_auto_columns": null,
      "grid_auto_flow": null,
      "grid_auto_rows": null,
      "grid_column": null,
      "grid_gap": null,
      "grid_row": null,
      "grid_template_areas": null,
      "grid_template_columns": null,
      "grid_template_rows": null,
      "height": null,
      "justify_content": null,
      "justify_items": null,
      "left": null,
      "margin": null,
      "max_height": null,
      "max_width": null,
      "min_height": null,
      "min_width": null,
      "object_fit": null,
      "object_position": null,
      "order": null,
      "overflow": null,
      "overflow_x": null,
      "overflow_y": null,
      "padding": null,
      "right": null,
      "top": null,
      "visibility": null,
      "width": null
     }
    },
    "558fe69754a2495cb7f4a36ab9a7621c": {
     "model_module": "@jupyter-widgets/base",
     "model_module_version": "1.2.0",
     "model_name": "LayoutModel",
     "state": {
      "_model_module": "@jupyter-widgets/base",
      "_model_module_version": "1.2.0",
      "_model_name": "LayoutModel",
      "_view_count": null,
      "_view_module": "@jupyter-widgets/base",
      "_view_module_version": "1.2.0",
      "_view_name": "LayoutView",
      "align_content": null,
      "align_items": null,
      "align_self": null,
      "border": null,
      "bottom": null,
      "display": null,
      "flex": null,
      "flex_flow": null,
      "grid_area": null,
      "grid_auto_columns": null,
      "grid_auto_flow": null,
      "grid_auto_rows": null,
      "grid_column": null,
      "grid_gap": null,
      "grid_row": null,
      "grid_template_areas": null,
      "grid_template_columns": null,
      "grid_template_rows": null,
      "height": null,
      "justify_content": null,
      "justify_items": null,
      "left": null,
      "margin": null,
      "max_height": null,
      "max_width": null,
      "min_height": null,
      "min_width": null,
      "object_fit": null,
      "object_position": null,
      "order": null,
      "overflow": null,
      "overflow_x": null,
      "overflow_y": null,
      "padding": null,
      "right": null,
      "top": null,
      "visibility": null,
      "width": null
     }
    },
    "5ed553ff0d764b1ca8ba481bd3772f47": {
     "model_module": "@jupyter-widgets/controls",
     "model_module_version": "1.5.0",
     "model_name": "DescriptionStyleModel",
     "state": {
      "_model_module": "@jupyter-widgets/controls",
      "_model_module_version": "1.5.0",
      "_model_name": "DescriptionStyleModel",
      "_view_count": null,
      "_view_module": "@jupyter-widgets/base",
      "_view_module_version": "1.2.0",
      "_view_name": "StyleView",
      "description_width": ""
     }
    },
    "7df70a07c711448a963899c3be4bba2b": {
     "model_module": "@jupyter-widgets/controls",
     "model_module_version": "1.5.0",
     "model_name": "FloatSliderModel",
     "state": {
      "_dom_classes": [],
      "_model_module": "@jupyter-widgets/controls",
      "_model_module_version": "1.5.0",
      "_model_name": "FloatSliderModel",
      "_view_count": null,
      "_view_module": "@jupyter-widgets/controls",
      "_view_module_version": "1.5.0",
      "_view_name": "FloatSliderView",
      "continuous_update": true,
      "description": "thresh",
      "description_tooltip": null,
      "disabled": false,
      "layout": "IPY_MODEL_1bb9caaf6420444baf3b5fe2497d4373",
      "max": 1,
      "min": 0,
      "orientation": "horizontal",
      "readout": true,
      "readout_format": ".2f",
      "step": 0.05,
      "style": "IPY_MODEL_0b2f5c9e5b0a411cb9234d22b7f2c8a6",
      "value": 0.25
     }
    },
    "9516a22ec1634e9d99b0c3c50756d443": {
     "model_module": "@jupyter-widgets/controls",
     "model_module_version": "1.5.0",
     "model_name": "DropdownModel",
     "state": {
      "_dom_classes": [],
      "_model_module": "@jupyter-widgets/controls",
      "_model_module_version": "1.5.0",
      "_model_name": "DropdownModel",
      "_options_labels": [
       "Vase",
       "Lenna",
       "IRM - Genou",
       "CT - Thorax",
       "CT - Crane"
      ],
      "_view_count": null,
      "_view_module": "@jupyter-widgets/controls",
      "_view_module_version": "1.5.0",
      "_view_name": "DropdownView",
      "description": "Image:",
      "description_tooltip": null,
      "disabled": false,
      "index": 3,
      "layout": "IPY_MODEL_a16c1b39540440e68c93e4076010ff8f",
      "style": "IPY_MODEL_5ed553ff0d764b1ca8ba481bd3772f47"
     }
    },
    "a16c1b39540440e68c93e4076010ff8f": {
     "model_module": "@jupyter-widgets/base",
     "model_module_version": "1.2.0",
     "model_name": "LayoutModel",
     "state": {
      "_model_module": "@jupyter-widgets/base",
      "_model_module_version": "1.2.0",
      "_model_name": "LayoutModel",
      "_view_count": null,
      "_view_module": "@jupyter-widgets/base",
      "_view_module_version": "1.2.0",
      "_view_name": "LayoutView",
      "align_content": null,
      "align_items": null,
      "align_self": null,
      "border": null,
      "bottom": null,
      "display": null,
      "flex": null,
      "flex_flow": null,
      "grid_area": null,
      "grid_auto_columns": null,
      "grid_auto_flow": null,
      "grid_auto_rows": null,
      "grid_column": null,
      "grid_gap": null,
      "grid_row": null,
      "grid_template_areas": null,
      "grid_template_columns": null,
      "grid_template_rows": null,
      "height": null,
      "justify_content": null,
      "justify_items": null,
      "left": null,
      "margin": null,
      "max_height": null,
      "max_width": null,
      "min_height": null,
      "min_width": null,
      "object_fit": null,
      "object_position": null,
      "order": null,
      "overflow": null,
      "overflow_x": null,
      "overflow_y": null,
      "padding": null,
      "right": null,
      "top": null,
      "visibility": null,
      "width": null
     }
    }
   }
  }
 },
 "nbformat": 4,
 "nbformat_minor": 1
}
