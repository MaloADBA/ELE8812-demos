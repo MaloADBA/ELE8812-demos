{
  "cells": [
    {
      "cell_type": "markdown",
      "metadata": {
        "id": "PkuxGdwZadk6"
      },
      "source": [
        "<a target=\"_blank\" href=\"https://colab.research.google.com/github/evaalonsoortiz/ELE8812-demos/blob/main/Demos/Lesson%208/Le%C3%A7on_8_Demo_1DSignalDecomposition.ipynb\">\n",
        "  <img src=\"https://colab.research.google.com/assets/colab-badge.svg\" alt=\"Open In Colab\"/>\n",
        "</a>"
      ]
    },
    {
      "cell_type": "markdown",
      "source": [
        "# ELE8812 - Multirésolution\n",
        "\n",
        "## Démo : Décomposition de signal 1D\n",
        "\n",
        "### Référence: DIP 4e édition, Chapitre 7, « Wavelet Transforms » p.504\n",
        "\n",
        "Dans ce démo, un signal 1D sera développé en série d’ondelettes puis reconstruit. Une comparaison avec le développement en série de Fourier sera d’abord effectuée.\n"
      ],
      "metadata": {
        "id": "9XE_pgGIcNlT"
      }
    },
    {
      "cell_type": "code",
      "execution_count": 1,
      "metadata": {
        "id": "MDpsc8Dt1z3y"
      },
      "outputs": [],
      "source": [
        "import numpy as np\n",
        "import matplotlib.pyplot as plt\n",
        "plt.rcParams['axes.linewidth'] = 3\n",
        "\n",
        "from ipywidgets import interactive, fixed\n",
        "from scipy.interpolate import interp1d\n",
        "import pywt"
      ]
    },
    {
      "cell_type": "markdown",
      "metadata": {
        "id": "n96rJ7P-1z30"
      },
      "source": [
        "## Signal to decompose\n",
        "\n",
        "\\begin{equation}\n",
        "f(x) = x^2, \\text{ for } x \\in [0, 1]\n",
        "\\end{equation}"
      ]
    },
    {
      "cell_type": "code",
      "execution_count": 10,
      "metadata": {
        "colab": {
          "base_uri": "https://localhost:8080/",
          "height": 452
        },
        "id": "jpa4ATf91z31",
        "outputId": "17c706ea-da98-4caa-cb67-26213a302c86"
      },
      "outputs": [
        {
          "output_type": "display_data",
          "data": {
            "text/plain": [
              "<Figure size 640x480 with 1 Axes>"
            ],
            "image/png": "[encoded data removed]"
          },
          "metadata": {}
        }
      ],
      "source": [
        "x = np.linspace(0, 1, 512);\n",
        "y = x**2\n",
        "plt.plot(x,y); plt.title('Original Signal')\n",
        "plt.show()"
      ]
    },
    {
      "cell_type": "markdown",
      "source": [
        "# Definition"
      ],
      "metadata": {
        "id": "cLK7U4gXbsMt"
      }
    },
    {
      "cell_type": "markdown",
      "metadata": {
        "id": "YHm6VPq01z31"
      },
      "source": [
        "## Signal series expansions\n",
        "\n",
        "\\begin{equation}\n",
        "f(x) = \\sum_k \\alpha_k \\phi_k(x)\n",
        "\\end{equation}\n",
        "\n",
        "where $\\alpha_k$ are *expansion coefficients*, $\\phi_k(x)$ are *expansion functions*."
      ]
    },
    {
      "cell_type": "markdown",
      "metadata": {
        "id": "32Mq8dNC1z32"
      },
      "source": [
        "### Expansion coefficients\n",
        "If $\\{\\phi_k(x)\\}$ forms an orthonormal basis, the $\\alpha_k$ are computed by taking the *integral inner product* of the basis $\\phi_k(x)$ and function $f(x)$\n",
        "\n",
        "\\begin{equation}\n",
        "\\alpha_k = \\langle\\phi_k(x), f(x)\\rangle = \\int\\phi^*_k(x) f(x) dx\n",
        "\\end{equation}"
      ]
    },
    {
      "cell_type": "markdown",
      "metadata": {
        "id": "5HUWWuwA1z32"
      },
      "source": [
        "# Example 1: Fourier Transform 1D"
      ]
    },
    {
      "cell_type": "markdown",
      "metadata": {
        "id": "W_bmDVC91z32"
      },
      "source": [
        "For the Fourier series expansion, the expansion functions are given by\n",
        "\n",
        "\\begin{equation}\n",
        "\\phi_k(x) = e^{2 i \\pi k x / T}\n",
        "\\end{equation}"
      ]
    },
    {
      "cell_type": "code",
      "execution_count": 11,
      "metadata": {
        "id": "37xVunQe1z33"
      },
      "outputs": [],
      "source": [
        "k = 4\n",
        "def phi_fourier(x, k):\n",
        "    phi = np.exp(2.0j * np.pi * k * x)\n",
        "    return phi\n",
        "\n",
        "def plot_fourier_functions(k):\n",
        "    plt.figure(figsize=(8,5))\n",
        "    plt.plot(x, phi_fourier(x, k).real, label='Real part')\n",
        "    plt.plot(x, phi_fourier(x, k).imag, label='Imaginary part')\n",
        "    plt.title('Fourier basis function $\\phi_k(x)$ for k={}'.format(k), y=1.05)\n",
        "    plt.hlines(0, 0, 1, color='k', linewidth=2, linestyle='dashed')\n",
        "    plt.xlim([0, 1]); plt.xlabel('x')\n",
        "    plt.ylim([-1.5, 1.5]); plt.ylabel('y')\n",
        "    plt.legend(loc=1)\n",
        "    plt.show()"
      ]
    },
    {
      "cell_type": "markdown",
      "source": [
        "Les fonctions de base de la série de Fourier sont des sinus et cosinus. Lorsque que la variable `k` augmente, la fréquence d’oscillation des fonctions de bases augmente également."
      ],
      "metadata": {
        "id": "VbgEmX7JStDE"
      }
    },
    {
      "cell_type": "code",
      "execution_count": 12,
      "metadata": {
        "colab": {
          "base_uri": "https://localhost:8080/",
          "height": 540,
          "referenced_widgets": [
            "857300ff29d141e8a6a18d5b7634d07e",
            "0710a4f89cce40889beb75079449d77d",
            "c47a5692eb78453c8aa17cc26e4184eb",
            "8d440adc9f2e4cff89dfcb275a4b6bed",
            "cc350039ae524bf8858378373f984971",
            "4780d538fec74d29a33b6384e8df0142",
            "99cd86c9bb4b48bf8d56ab15de34b538"
          ]
        },
        "id": "ugdWXQRA1z33",
        "outputId": "eef026c6-349f-4d88-c7eb-282a977cfc39"
      },
      "outputs": [
        {
          "output_type": "display_data",
          "data": {
            "text/plain": [
              "interactive(children=(IntSlider(value=8, description='k', max=16), Output()), _dom_classes=('widget-interact',…"
            ],
            "application/vnd.jupyter.widget-view+json": {
              "version_major": 2,
              "version_minor": 0,
              "model_id": "857300ff29d141e8a6a18d5b7634d07e"
            }
          },
          "metadata": {}
        }
      ],
      "source": [
        "interactive(plot_fourier_functions, k=(0,16))"
      ]
    },
    {
      "cell_type": "markdown",
      "metadata": {
        "id": "Sok0Psb71z33"
      },
      "source": [
        "## Compute the expansion coefficients"
      ]
    },
    {
      "cell_type": "code",
      "execution_count": 13,
      "metadata": {
        "id": "3jw2m0Wz1z34"
      },
      "outputs": [],
      "source": [
        "coeffs = dict()\n",
        "nLevels = 10\n",
        "for k in range(-nLevels, nLevels + 1):\n",
        "    alpha = np.sum(y * np.conj(phi_fourier(x, k)))\n",
        "    coeffs['a_{}'.format(k)] = alpha"
      ]
    },
    {
      "cell_type": "code",
      "execution_count": 20,
      "metadata": {
        "id": "V7nJWfw21z34"
      },
      "outputs": [],
      "source": [
        "def plot_reconstruction_fourier(x, y, coeffs, max_level=-1):\n",
        "    if max_level == -1:\n",
        "        max_level = (len(coeffs) - 1) / 2\n",
        "\n",
        "    signal = None\n",
        "    plt.figure(figsize=(8,5))\n",
        "    for k in range(-max_level, max_level+1):\n",
        "        alpha = coeffs['a_{}'.format(k)]\n",
        "        phi = alpha * phi_fourier(x, k) / float(len(x))\n",
        "        if signal is None:\n",
        "            signal = phi\n",
        "        else:\n",
        "            signal += phi\n",
        "        if k == max_level:\n",
        "            label=r\"$\\alpha_k \\phi_k(x)$\"\n",
        "        else:\n",
        "            label = None\n",
        "        plt.plot(x, phi.real, color=[0.2, 0.2, 1.0], alpha=0.5, label=label, linewidth=5)\n",
        "\n",
        "    plt.plot(x, y, color='k', label=r'$f(x)$')\n",
        "    plt.plot(x, signal.real, color='r', label=r'$\\frac{1}{N}\\sum_k \\alpha_k \\phi_k(x)$')\n",
        "    plt.hlines(0, 0, 1, color='k', linewidth=2, linestyle='dashed')\n",
        "    plt.xlim([0, 1]); plt.xlabel('x')\n",
        "    plt.legend()\n",
        "    plt.title(r\"$|k| \\leq %d$\" % max_level, y=1.04)\n",
        "    plt.show()"
      ]
    },
    {
      "cell_type": "markdown",
      "source": [
        "Dans ce graphique, la courbe noire est le signal original et les courbes bleues correspondent à la multiplication de la fonction génératrice et de son coefficient pour chaque `k`. La courbe rouge est la somme de toutes les courbes bleues. Pour `k` = 0, la fonction génératrice correspond à $y = 1$ et le coefficient 0 est la moyenne du signal (*dc component*), ce qui explique qu’une ligne horizontale est obtenue en $y =$ mean(signal).\n",
        "À mesure que le nombre de niveau `k` augmente, l’approximation du signal original devient meilleure. Or, même avec `k` = 10, l’approximation n’est pas parfaite, surtout aux extrémités du signal.\n"
      ],
      "metadata": {
        "id": "-KVYfd01S0ni"
      }
    },
    {
      "cell_type": "code",
      "execution_count": 23,
      "metadata": {
        "colab": {
          "base_uri": "https://localhost:8080/",
          "height": 537,
          "referenced_widgets": [
            "6f8e902db6a640588111e94cb27ee5dc",
            "ff67781d2d61446d823a3d850aa84eca",
            "8579fee92d8d4b7390de3570259f803f",
            "224cd0ac5bdd457b85fa71cf10a179c2",
            "c29cf13acb1c4c598ed7f87abe9bcc67",
            "4a16bcfcf409426fbea09cc588670f33",
            "ec60bfcd59144f449c155e53ae0cef26"
          ]
        },
        "id": "5fB1w72V1z34",
        "outputId": "b9365d5b-37d2-4b5d-ef1a-228f880b388d"
      },
      "outputs": [
        {
          "output_type": "display_data",
          "data": {
            "text/plain": [
              "interactive(children=(IntSlider(value=0, description='max_level', max=10), Output()), _dom_classes=('widget-in…"
            ],
            "application/vnd.jupyter.widget-view+json": {
              "version_major": 2,
              "version_minor": 0,
              "model_id": "6f8e902db6a640588111e94cb27ee5dc"
            }
          },
          "metadata": {}
        }
      ],
      "source": [
        "interactive(plot_reconstruction_fourier, x = fixed(x), y=fixed(y), coeffs=fixed(coeffs), max_level=(0,nLevels))"
      ]
    },
    {
      "cell_type": "markdown",
      "source": [
        "# Wavelet transform"
      ],
      "metadata": {
        "id": "kOW9FoTraA-E"
      }
    },
    {
      "cell_type": "markdown",
      "metadata": {
        "id": "I6NfSWjM1z34"
      },
      "source": [
        "## Scaling Functions"
      ]
    },
    {
      "cell_type": "code",
      "execution_count": 54,
      "metadata": {
        "id": "-jEpmtMZ1z35"
      },
      "outputs": [],
      "source": [
        "def get_scalingFunction(a, b, wavelet='haar', nSupport=1):\n",
        "    phi_0, psi_0, x_0 = pywt.DiscreteContinuousWavelet(wavelet).wavefun(level=8)\n",
        "    f = interp1d(x_0, phi_0, kind='linear', fill_value=0, bounds_error=False)\n",
        "    w = x_0[-1] - x_0[0]\n",
        "    xmin = x_0[0] - nSupport*w\n",
        "    xmax = x_0[-1] + nSupport*w\n",
        "    nSteps = int((2*nSupport + 1) * len(x_0))\n",
        "    #x = np.linspace(xmin, xmax, nSteps)\n",
        "    x = np.linspace(-5, 5, nSteps)\n",
        "    phi = 2**(a/2.0)*f(2**a*x - b)\n",
        "    return phi, x\n",
        "\n",
        "def display_scalingFunction(j_scale=0,k_translate=0,wavelet='haar', show = True):\n",
        "    phi, x = get_scalingFunction(j_scale, k_translate, wavelet)\n",
        "    plt.fill_between(x, phi);\n",
        "    plt.plot(x, phi, color='k');\n",
        "    plt.axhline(0, color='k', alpha=0.5)\n",
        "    plt.axvline(0, color='k', alpha=0.5)\n",
        "    plt.xticks(np.linspace(-5, 5, 11))\n",
        "    plt.title(r'$\\varphi_{%d,%d}(x)$' % (j_scale, k_translate), y=1.05)\n",
        "    if show:\n",
        "      plt.show()"
      ]
    },
    {
      "cell_type": "markdown",
      "source": [
        "Les fonctions d’échelle sont utilisées pour créer une série d’approximation d’une fonction, chacune ayant une résolution différant par un facteur de 2. Pour tous les types d’ondelettes, l’augmentation de l’échelle `j` diminue la largeur de la fonction d’échelle. Avec l’ondelette de Haar on peut bien voir que la largeur est de 1 pour `j` = 0 et de 0.5 pour `j` = 1. Avec `j` =0, une translation de 1 entraîne un déplacement de +1, tandis qu’avec `j`=1, une translation de +1 entraîne un déplacement de + 0.5.\n"
      ],
      "metadata": {
        "id": "xl63wIQSTPzG"
      }
    },
    {
      "cell_type": "code",
      "execution_count": 55,
      "metadata": {
        "colab": {
          "base_uri": "https://localhost:8080/",
          "height": 600,
          "referenced_widgets": [
            "4efce65eefae4d35a72951c20a34ff76",
            "b91c5a80b396418090e52c97f6bdd2ca",
            "c0b8557cd17642b484454b91a01d646e",
            "05fd9ecb37334f419ea543ab5b931005",
            "4339017c48744d0d83fa546d8f605bfe",
            "e7eee7099e8f4aeaabb95806e874381b",
            "7f56dda4687b4d31a59dc3086485b84e",
            "3979a225c8614dc7b661e6959eaa9647",
            "c64ed3cbccc04e37bd0a600ac1e34358",
            "0739076beffa4ae785c9d41f92d1c511",
            "1006a894605f4ac08089a702c880b0eb",
            "fb6ca451155b4a3fac7876c0063d5e3b",
            "fa1778b472f8455f94afb91d646c8106",
            "6f02db719a7d4d98ac4f04b668edbc3a",
            "a622ad8bf8624ee3a40e175db13e4ae0",
            "cc8c91903aed4af69c9097a78465b652"
          ]
        },
        "id": "ig889Pax1z35",
        "outputId": "8b5254a6-6af6-4d9f-f4c0-5fbd6f2ad17e"
      },
      "outputs": [
        {
          "output_type": "display_data",
          "data": {
            "text/plain": [
              "interactive(children=(IntSlider(value=0, description='j_scale', max=4), IntSlider(value=0, description='k_tran…"
            ],
            "application/vnd.jupyter.widget-view+json": {
              "version_major": 2,
              "version_minor": 0,
              "model_id": "4efce65eefae4d35a72951c20a34ff76"
            }
          },
          "metadata": {}
        }
      ],
      "source": [
        "waveletList = ['haar', 'db2', 'db3', 'db4', 'sym2', 'sym3']\n",
        "interactive(display_scalingFunction, j_scale=(0,4), k_translate=(-5,4), wavelet=waveletList)"
      ]
    },
    {
      "cell_type": "markdown",
      "metadata": {
        "collapsed": true,
        "id": "MUKjIqWv1z35"
      },
      "source": [
        "## Wavelet functions"
      ]
    },
    {
      "cell_type": "code",
      "execution_count": 56,
      "metadata": {
        "id": "neHrUnrF1z35"
      },
      "outputs": [],
      "source": [
        "def get_waveletFunction(a, b, wavelet='haar', nSupport=1):\n",
        "    phi_0, psi_0, x_0 = pywt.DiscreteContinuousWavelet(wavelet).wavefun(level=8)\n",
        "    f = interp1d(x_0, psi_0, kind='linear', fill_value=0, bounds_error=False)\n",
        "    w = x_0[-1] - x_0[0]\n",
        "    xmin = x_0[0] - nSupport*w\n",
        "    xmax = x_0[-1] + nSupport*w\n",
        "    nSteps = int((2*nSupport + 1) * len(x_0))\n",
        "    #x = np.linspace(xmin, xmax, nSteps)\n",
        "    x = np.linspace(-5, 5, nSteps)\n",
        "    psi = 2**(a/2.0)*f(2**a*x - b)\n",
        "    return psi, x\n",
        "\n",
        "def display_waveletFunction(j_scale=0,k_translate=0,wavelet='haar'):\n",
        "    psi, x = get_waveletFunction(j_scale, k_translate, wavelet)\n",
        "    plt.fill_between(x, psi);\n",
        "    plt.plot(x, psi, color='k');\n",
        "    plt.axhline(0, color='k', alpha=0.5)\n",
        "    plt.axvline(0, color='k', alpha=0.5)\n",
        "    plt.xticks(np.linspace(-5, 5, 11))\n",
        "    plt.title(r'$\\psi_{%d,%d}(x)$' % (j_scale, k_translate), y=1.05)\n",
        "    plt.show()"
      ]
    },
    {
      "cell_type": "markdown",
      "source": [
        "Les fonctions d’ondelettes sont utilisées pour encoder la différence entre 2 approximations adjacentes des fonctions d’échelles. L’effet du changement d’échelle `j` et de la translation est le même que pour les fonctions d’échelle."
      ],
      "metadata": {
        "id": "iNAANECZTaDy"
      }
    },
    {
      "cell_type": "code",
      "execution_count": 57,
      "metadata": {
        "colab": {
          "base_uri": "https://localhost:8080/",
          "height": 568,
          "referenced_widgets": [
            "41738b32f59b4dc69f0afa8c437de54b",
            "9c0466eefba943fbbea0f5b0160d4667",
            "8f18cf6b1422461c96fe70d88edc8e2c",
            "502685d5226644fcad73bf6587f254e8",
            "dee0ef4d108c4aeaa3a86917b009aeb5",
            "fe5e080cbb5d4917886068b705ed2908",
            "24c4b0f32ddc4e568d823c3754866805",
            "3575a7f6dd4543a3b57c6dfbdaa797ef",
            "e90d957c82124887b921868d925f7044",
            "089090217a5c4075ad2d77285efd02b5",
            "4f3741e75b064073abb06bf1439635bf",
            "81af76a7ef3b42a08a42c424c5ffca30",
            "c4362e6afc4c4ceea7a0605bad284d3e"
          ]
        },
        "id": "OUV1JXGL1z35",
        "outputId": "8a1f8b65-cf97-452c-caf9-8254c40b55e0"
      },
      "outputs": [
        {
          "output_type": "display_data",
          "data": {
            "text/plain": [
              "interactive(children=(IntSlider(value=0, description='j_scale', max=4), IntSlider(value=0, description='k_tran…"
            ],
            "application/vnd.jupyter.widget-view+json": {
              "version_major": 2,
              "version_minor": 0,
              "model_id": "41738b32f59b4dc69f0afa8c437de54b"
            }
          },
          "metadata": {}
        }
      ],
      "source": [
        "waveletList = ['haar', 'db2', 'db3', 'db4', 'sym2', 'sym3']\n",
        "interactive(display_waveletFunction, j_scale=(0,4), k_translate=(-10,10), wavelet=waveletList)"
      ]
    },
    {
      "cell_type": "markdown",
      "metadata": {
        "id": "62YTbOsw1z35"
      },
      "source": [
        "## Example 2 : Decomposition using the Haar Wavelet Basis"
      ]
    },
    {
      "cell_type": "markdown",
      "metadata": {
        "id": "Fj7gGmiV1z36"
      },
      "source": [
        "\\begin{equation}\n",
        "f(x) = \\sum_{k} c_{j_0}(k) \\varphi_{j_0,k}(x) + \\sum_{j\\geq j_0}\\sum_{k} d_j(x)\\psi_{j,k}(x)\n",
        "\\end{equation}"
      ]
    },
    {
      "cell_type": "markdown",
      "metadata": {
        "id": "3nzsiC001z36"
      },
      "source": [
        "**Scaling coefficients**\n",
        "\\begin{equation}\n",
        "c_{j_0}(k) = \\langle f(x), \\varphi_{j_0,l}(x)\\rangle = \\int f(x) \\varphi^*_{j_0, k}(x) dx\n",
        "\\end{equation}\n",
        "\n",
        "**Wavelet coefficients**\n",
        "\\begin{equation}\n",
        "d_{j}(k) = \\langle f(x), \\psi_{j,l}(x)\\rangle = \\int f(x) \\psi^*_{j, k}(x) dx\n",
        "\\end{equation}"
      ]
    },
    {
      "cell_type": "markdown",
      "metadata": {
        "id": "_De5MdWH1z36"
      },
      "source": [
        "## Original signal, and Haar scaling and wavelet functions"
      ]
    },
    {
      "cell_type": "code",
      "execution_count": 58,
      "metadata": {
        "colab": {
          "base_uri": "https://localhost:8080/",
          "height": 394
        },
        "id": "RXZYbDyI1z36",
        "outputId": "6d38854a-b677-410a-937d-f21886adb71a"
      },
      "outputs": [
        {
          "output_type": "display_data",
          "data": {
            "text/plain": [
              "<Figure size 2000x500 with 3 Axes>"
            ],
            "image/png": "[encoded data removed]"
          },
          "metadata": {}
        }
      ],
      "source": [
        "plt.figure(figsize=(20,5))\n",
        "j = 0; k = 0;\n",
        "plt.subplot(131); plt.plot(x,y); plt.title('Signal original')\n",
        "plt.subplot(132); display_scalingFunction(j,k, show = False)\n",
        "plt.subplot(133); display_waveletFunction(j,k)"
      ]
    },
    {
      "cell_type": "code",
      "execution_count": 61,
      "metadata": {
        "id": "GsD4zeWD1z36"
      },
      "outputs": [],
      "source": [
        "## Wavelet decomposition and reconstruction\n",
        "def plot_reconstruction_haar(x, y, wavelet = 'haar', level=0):\n",
        "    coeffs = pywt.wavedec(y, wavelet)\n",
        "    signal = None\n",
        "    plt.figure(figsize=(8,5))\n",
        "    coeffs_recons = list()\n",
        "    for k in range(len(coeffs)):\n",
        "        if k > level+1:\n",
        "            coeffs_recons.append(np.zeros(len(coeffs[k])))\n",
        "        else:\n",
        "            coeffs_recons.append(coeffs[k])\n",
        "    signal = pywt.waverec(coeffs_recons, wavelet)\n",
        "    plt.plot(x, y, color='k', label=r'$f(x)$')\n",
        "    plt.plot(x, signal, color='r', label=r'$\\frac{1}{N}\\sum_k \\alpha_k \\phi_k(x)$')\n",
        "    plt.hlines(0, 0, 1, color='k', linewidth=2, linestyle='dashed')\n",
        "    plt.xlim([0, 1]); plt.xlabel('x')\n",
        "    plt.legend()\n",
        "    plt.title(r\"$|j| \\leq %d$\" % level, y=1.04)\n",
        "    plt.show()"
      ]
    },
    {
      "cell_type": "markdown",
      "source": [
        "La reconstruction avec les ondelettes donne un meilleur résultat qu’avec la série de Fourier (utilisation de sinus/cosinus). La reconstruction est presque parfaite avec les ondelette de Haar et 7 niveaux d’échelle. Tandis qu’avec les ondelettes Daubechies 2 (db2) et Symlets 2 (sym2), une très bonne reconstruction est obtenue avec seulement 2 niveaux d’échelle."
      ],
      "metadata": {
        "id": "oymRQzQqTnwP"
      }
    },
    {
      "cell_type": "code",
      "execution_count": 62,
      "metadata": {
        "colab": {
          "base_uri": "https://localhost:8080/",
          "height": 505,
          "referenced_widgets": [
            "4a12c827f93445e8ace0f4a2528b6df4",
            "1e34b0e29abc428da5f1f8e29f64d49e",
            "cf374798c76f4f8792269d8633a3c170",
            "7e3a4d32a59946b7a527909bca8e8a66",
            "90352b6853a14d249c52bbdb6ef8e979",
            "22913db68f814652bdf2555433bfebf9",
            "573f579714cd4646b4432be013157d83",
            "19296f3500514c208fbcf551396ef730",
            "2e994dd477d34496b2f16aa5f2a192d0",
            "76f81872b1e143c282647f44139c5115"
          ]
        },
        "id": "oR1uuzB51z36",
        "outputId": "889316dd-a829-44d5-aa89-071340a765e7"
      },
      "outputs": [
        {
          "output_type": "display_data",
          "data": {
            "text/plain": [
              "<Figure size 800x500 with 1 Axes>"
            ],
            "image/png": "[encoded data removed]"
          },
          "metadata": {}
        }
      ],
      "source": [
        "waveletList = ['haar', 'db2', 'sym2']\n",
        "interactive(plot_reconstruction_haar, x = fixed(x), y=fixed(y), level=(0,8), wavelet=waveletList)"
      ]
    },
    {
      "cell_type": "code",
      "source": [],
      "metadata": {
        "id": "vYhFD9uvbjCu"
      },
      "execution_count": null,
      "outputs": []
    }
  ],
  "metadata": {
    "celltoolbar": "Slideshow",
    "colab": {
      "provenance": []
    },
    "kernelspec": {
      "display_name": "Python 3",
      "language": "python",
      "name": "python3"
    },
    "language_info": {
      "codemirror_mode": {
        "name": "ipython",
        "version": 3
      },
      "file_extension": ".py",
      "mimetype": "text/x-python",
      "name": "python",
      "nbconvert_exporter": "python",
      "pygments_lexer": "ipython3",
      "version": "3.8.8"
    },
    "widgets": {
      "application/vnd.jupyter.widget-state+json": {
        "857300ff29d141e8a6a18d5b7634d07e": {
          "model_module": "@jupyter-widgets/controls",
          "model_name": "VBoxModel",
          "model_module_version": "1.5.0",
          "state": {
            "_dom_classes": [
              "widget-interact"
            ],
            "_model_module": "@jupyter-widgets/controls",
            "_model_module_version": "1.5.0",
            "_model_name": "VBoxModel",
            "_view_count": null,
            "_view_module": "@jupyter-widgets/controls",
            "_view_module_version": "1.5.0",
            "_view_name": "VBoxView",
            "box_style": "",
            "children": [
              "IPY_MODEL_0710a4f89cce40889beb75079449d77d",
              "IPY_MODEL_c47a5692eb78453c8aa17cc26e4184eb"
            ],
            "layout": "IPY_MODEL_8d440adc9f2e4cff89dfcb275a4b6bed"
          }
        },
        "0710a4f89cce40889beb75079449d77d": {
          "model_module": "@jupyter-widgets/controls",
          "model_name": "IntSliderModel",
          "model_module_version": "1.5.0",
          "state": {
            "_dom_classes": [],
            "_model_module": "@jupyter-widgets/controls",
            "_model_module_version": "1.5.0",
            "_model_name": "IntSliderModel",
            "_view_count": null,
            "_view_module": "@jupyter-widgets/controls",
            "_view_module_version": "1.5.0",
            "_view_name": "IntSliderView",
            "continuous_update": true,
            "description": "k",
            "description_tooltip": null,
            "disabled": false,
            "layout": "IPY_MODEL_cc350039ae524bf8858378373f984971",
            "max": 16,
            "min": 0,
            "orientation": "horizontal",
            "readout": true,
            "readout_format": "d",
            "step": 1,
            "style": "IPY_MODEL_4780d538fec74d29a33b6384e8df0142",
            "value": 8
          }
        },
        "c47a5692eb78453c8aa17cc26e4184eb": {
          "model_module": "@jupyter-widgets/output",
          "model_name": "OutputModel",
          "model_module_version": "1.0.0",
          "state": {
            "_dom_classes": [],
            "_model_module": "@jupyter-widgets/output",
            "_model_module_version": "1.0.0",
            "_model_name": "OutputModel",
            "_view_count": null,
            "_view_module": "@jupyter-widgets/output",
            "_view_module_version": "1.0.0",
            "_view_name": "OutputView",
            "layout": "IPY_MODEL_99cd86c9bb4b48bf8d56ab15de34b538",
            "msg_id": "",
            "outputs": [
              {
                "output_type": "display_data",
                "data": {
                  "text/plain": "<Figure size 800x500 with 1 Axes>",
                  "image/png": "iVBORw0KGgoAAAANSUhEUgAAAskAAAHrCAYAAAA9uQBNAAAAOXRFWHRTb2Z0d2FyZQBNYXRwbG90bGliIHZlcnNpb24zLjcuMSwgaHR0cHM6Ly9tYXRwbG90bGliLm9yZy/bCgiHAAAACXBIWXMAAA9hAAAPYQGoP6dpAAEAAElEQVR4nOydd5gb1fX3v6O6Rdre3dYN22CwTTclmEBiSOi9dxyKSQghEFIgwAsECJAESGg/eggl1NBtQgnYNBtTbYO7vd7eV9pVnfePmTsa7UqrGc0ZzWi5n+fxY63KzOjqzL3nnHuKIIqiCA6Hw+FwOBwOh6PgsPoCOBwOh8PhcDgcu8GVZA6Hw+FwOBwOZxhcSeZwOBwOh8PhcIbBlWQOh8PhcDgcDmcYXEnmcDgcDofD4XCGwZVkDofD4XA4HA5nGFxJ5nA4HA6Hw+FwhsGVZA6Hw+FwOBwOZxhcSeZwOBwOh8PhcIbBlWQOh8PhcDgcDmcYXEnmcDgcDofD4XCGwZVkDodDwsMPPwxBELBp0ybTz/XHP/4RgiCgo6PD9HMxqL/fJ598gn322QfFxcUQBAGrVq0iOS4lufxNtbDbbrvh6KOPzuqzt9xyC2bOnIl4PK7rc/fccw8mTpyIUCik+TO5/G2tuBc4nO8LXEnmcPIQpryk+veb3/zG6svjZCASieD4449HV1cX7rjjDjz22GOYNGmSZdezbNky/PGPf0RPT49l15AJURSxZs0a7Ljjjro/29fXh5tvvhlXXnklHA59y95ZZ52FcDiMe++9V9P77fbbUvDdd9/hpJNOwvjx41FUVISZM2fiuuuuQzAYtPrSOBxTcVl9ARwOJ3uuu+46TJ48Oem52bNnW3Itp59+Ok466SR4vV5Lzm82lN9v/fr12Lx5M+6//36cd955BFdnjGXLluHaa6/FWWedhbKyMuV5O/2mmzZtQjAYzEpJfvDBBxGNRnHyySfr/mxBQQHOPPNM3H777bjkkksgCMKo77fbb2uUrVu3Ys8990RpaSkWL16MiooKLF++HNdccw1WrFiBF1980epL5HBMgyvJHE4ec+ihh2L33Xe39BoCgQCKi4vhdDrhdDpJj2knKL9fW1sbACQppHaE8jsb5ZtvvgGArJTkhx56CEcccQQKCgqyOvcJJ5yAW265BW+//TZ++MMfjvpeM35bK++Hxx57DD09PXj//fex0047AQAWLVqEeDyORx99FN3d3SgvL7fk2jgcs+HhFhzOGOazzz7DoYceipKSEvh8Phx00EH48MMPk95z1llnobGxccRnWaxjque++eYbnHLKKSgvL8d+++0HIHX8alNTE8455xzU1tbC6/Vip512woMPPqj5mJno6OjACSecgJKSElRWVuIXv/gFhoaGlNc3b96Miy66CDNmzEBhYSEqKytx/PHHj4ix7e/vx6WXXorGxkZ4vV7U1NTgRz/6EVauXKm8J9X30/K54Zx11lk44IADAADHH388BEHAggULsvod1q1bp3h/S0tLcfbZZ4/YAm9qasK5556LhoYGeL1eTJ48GRdeeCHC4bByrF//+tcAgMmTJythO5s2bUobk6xFrvRc42g8//zzSbHI+++/P0499VT09vZq+vzGjRvxxRdf4OCDDx4xLgUFBTjnnHOSnl+6dCncbjd++ctfKs/ttttuqKioyOg1TffbMvSMWzb3A2Pz5s2YNm0aZs+ejdbWVl2fHU5fXx8AoLa2Nun5+vp6OBwOeDweQ8fncOwM9yRzOHlMb2/viISdqqoqAMDXX3+N/fffHyUlJbjiiivgdrtx7733YsGCBXj33Xex1157ZX3e448/HtOnT8eNN94IURRTvqe1tRV77703BEHA4sWLUV1djddeew3nnnsu+vr6cOmll+o+5nBOOOEENDY24qabbsKHH36Iv/3tb+ju7sajjz4KQEqgWrZsmRJPuWnTJvzjH//AggUL8M0336CoqAgAcMEFF+Df//43Fi9ejB133BGdnZ14//33sXr1auy6665pz5/N5372s59h3LhxuPHGG/Hzn/8ce+yxB2pra/HPf/5T03ce/v0nT56Mm266CStXrsQDDzyAmpoa3HzzzQCA7du3Y88990RPTw8WLVqEmTNnoqmpCf/+978RDAbh8XhwzDHH4Ntvv8W//vUv3HHHHYr8VFdXpzynXrnKdI2jceutt+KKK67AySefjEgkgr6+PhxyyCG49957IYoinnjiiYzHWLZsGQCM+D3GjRuH8847D/fddx+uueYaTJo0CWvWrMHxxx+PQw89FLfddlvS+3fddVd88MEHo54r3W+bzbhlcz8AUrjHD3/4Q1RUVGDJkiXK7xmJRDQbFhUVFUrs9oIFC3DzzTfj3HPPxbXXXovKykosW7YM//jHP/Dzn//cdjs+HA4pIofDyTseeughEUDKf4yjjjpK9Hg84vr165Xntm/fLvr9fvEHP/iB8tyZZ54pTpo0acQ5rrnmGnH4FMGeO/nkk9Ne08aNG0VRFMVzzz1XrK+vFzs6OpLed9JJJ4mlpaViMBjMeMx0sM8cccQRSc9fdNFFIgDx888/F0VRVM6hZvny5SIA8dFHH1WeKy0tFS+++OJRzzn8+2n9XCrefvttEYD4zDPPKM9l8zucc845Sc8fffTRYmVlpfL3GWecITocDvGTTz4Zcdx4PK48vvXWW0d8N1FM/Z21ypXWa0zHxx9/LAqCIF5++eWiKIriDjvsoMjIj370I9HlcomBQCDjcX7/+9+LAMT+/v4Rr23btk30er3ihRdeKHZ0dIhTp04V586dKw4MDIx476JFi8TCwsKM50v124qi/nHTej+w97e3t4urV68WGxoaxD322EPs6upKeV1a/g2Xg+uvv14sLCxMes/vfvc7TdfH4eQz3JPM4eQxd999N3bYYYcRz8diMbz55ps46qijMGXKFOX5+vp6nHLKKbj//vvR19eHkpKSrM57wQUXjPq6KIp49tlnccIJJ0AUxSRv98KFC/Hkk09i5cqV2HfffTUfMxUXX3xx0t+XXHIJ/v73v+PVV1/FLrvsgsLCQuU15omcNm0aysrKsHLlSpx++ukApPjRjz76CNu3b0dDQ4Pm82f7OSqGj9n++++P559/Hn19ffD5fHjhhRdw+OGHp4xbz5SAlops5Gq0axxN/m6++WZUV1fjuuuuw+DgINatW6eERuy7775YsmQJ2tra0NjYCFEU4ff7sWHDBtTU1CQdp7OzEy6XCz6fb8Q5xo0bh/PPPx/3338/Vq5cicHBQbz77rspvaPl5eUYHBxEMBhUdiC0QjFumfjqq69w4oknYtq0aXjttddGjO2cOXOwZMkSTceqq6tL+ruxsRE/+MEPcOyxx6KyshKvvPIKbrzxRtTV1WHx4sW6rpPDySe4kszh5DF77rlnSgWovb0dwWAQM2bMGPHarFmzEI/HsXXrViURRy/DK2qkOn9PTw/uu+8+3HfffSnfwxKctB4zFdOnT0/6e+rUqXA4HEoM7eDgIG666SY89NBDaGpqStq2Vm8933LLLTjzzDMxYcIE7LbbbvjJT36CM844I0mhSUW2n6Ni4sSJSX+zBKru7m4MDg6ir6+PtNpJNnI12jWmU5Kj0Shef/11HHfccSgsLMQnn3yCeDyOXXbZBYCUyKY+1saNG1FUVDRCQdbC5ZdfjrvuugtffPEF/ve//2HcuHEp38dkJxvjIptx03s/HH744aitrcUbb7yR0iAoLy8fEZethSeffBKLFi3Ct99+i/HjxwMAjjnmGMTjcVx55ZU4+eSTUVlZqfu4HE4+wBP3OJzvOekW/VgslvYzag9tKljDhtNOOw1LlixJ+U/tRdZyTC0M/y6XXHIJbrjhBpxwwgl4+umn8eabb2LJkiWorKxMaipxwgknYMOGDbjzzjvR0NCAW2+9FTvttBNee+21Uc+X7ee0XDtjtN8hXeUJUUcMq9lkc43r1q1DIBDAzjvvDAD44osvAEjeUABYtWoVJk2ahNLSUgCSFzWdwVdZWYloNIr+/v6Ur99www0AJMW8oqIi7TV1d3ejqKiIRE61oPc8xx57LNavX582tj0cDqOlpUXTP7XM/f3vf8e8efMUBZlxxBFHIBgM4rPPPtP/5TicPIF7kjmcMUh1dTWKioqwdu3aEa+tWbMGDocDEyZMACB5mFI1kdi8ebOh8/v9fsRisay8V1r57rvvkjxu69atQzweV6pE/Pvf/8aZZ56ZlIQ1NDSU8vvW19fjoosuwkUXXYS2tjbsuuuuuOGGG3DooYeOeg3Zfm441L9DdXU1SkpK8NVXX2V8r1bvqB65MkJ3dzcAKGEPn3/+OaqqqtDQ0ICOjg68++67SeEIaiW5ra0Nxx57LBYsWIDrrrsOM2fOBCB5m5knmnHrrbfigQcewF133YVf//rXuOGGG/DAAw+kvKaNGzdi1qxZWX2fXIzbrbfeCpfLhYsuugh+vx+nnHJK0uvLli3DgQceqOlYGzduVO6h1tbWlCXeIpEIAMm44HDGKtyTzOGMQZxOJ3784x/jxRdfTCrf1draiieeeAL77befstU9depU9Pb2Kt46AGhubsbzzz9v6PzHHnssnn322ZRKWnt7e9bHVnP33Xcn/X3nnXcCgKKgOp3OER7LO++8M8lTFovFRmT919TUoKGhYdRWxNl+Lh3Uv4PD4cBRRx2F//znP/j0009HvK4eF6aMZuq4p0eujMBCHpYvXw5A8iQzL/Ivf/lLOByOpOooTEn+7LPPsN9+++HCCy/E9ddfD0EQMH/+fAAYMQYvvPACfvOb3+D666/HxRdfjEWLFuHRRx/Fxo0bU17TypUrsc8++2T1fXIxboIg4L777sNxxx2HM888Ey+99FLS6ywmWcs/dUzyDjvsgM8++wzffvtt0vH+9a9/weFwjDA8OJyxBPckczhjlP/3//4flixZgv322w8XXXQRXC4X7r33XoRCIdxyyy3K+0466SRceeWVOProo/Hzn/8cwWAQ//jHP7DDDjuMWu83E3/605/w9ttvY6+99sL555+PHXfcEV1dXVi5ciWWLl2Krq4uw99x48aNOOKII3DIIYdg+fLlePzxx3HKKacoCtVhhx2Gxx57DKWlpdhxxx2xfPlyLF26NCmGsr+/H+PHj8dxxx2HOXPmwOfzYenSpfjkk09GlAFTk+3n0mHG73DjjTfizTffxAEHHIBFixZh1qxZaG5uxjPPPIP3339faXix2267AQB+97vf4aSTToLb7cbhhx+e8pha5coIEydOxIIFC/DYY4+htrYWn3/+OWbPno3DDz8cr732Gh555JGkHYSvvvoKFRUVuPXWW/HEE09g7733Vl6bMmUKZs+ejaVLlyqJfytWrMCpp56KU089Fb/73e8AAFdccQXuueeelN7kFStWoKurC0ceeWTW3ykX4+ZwOPD444/jqKOOwgknnIBXX31VaX6SbUzyr3/9a7z22mvYf//9sXjxYlRWVuLll1/Ga6+9hvPOO8+ShFUOJ2dYVleDw+FkDSvNlaq0l5qVK1eKCxcuFH0+n1hUVCQeeOCB4rJly0a878033xRnz54tejweccaMGeLjjz8+aumx9vb2tNekLh/V2toqXnzxxeKECRNEt9st1tXViQcddJB43333aTpmOthnvvnmG/G4444T/X6/WF5eLi5evFgcHBxU3tfd3S2effbZYlVVlejz+cSFCxeKa9asESdNmiSeeeaZoiiKYigUEn/961+Lc+bMEf1+v1hcXCzOmTNH/Pvf/z7q99P6uVSkKxNm9HdI9Rts3rxZPOOMM8Tq6mrR6/WKU6ZMES+++GIxFAolffb6668Xx40bJzocDuUYqY4nitrkSs81pqK5uVk87LDDxIKCAhGA6PF4xH333Vd86623kt4XiUREj8cjVldXJ5X1U3P77beLPp9PDAaD4tatW8X6+npx3333FYeGhpLed+GFF4put1vcsGFD0vNXXnmlOHHixKSyeelI99uKorFxS0eq9weDQfGAAw4QfT6f+OGHH2o6zmh89NFH4qGHHirW1dWJbrdb3GGHHcQbbrhBjEQiho/N4dgZQRRtlOHB4XA4HI6Kl19+GYcffjg+++wzzJ07d8Tr33zzDX70ox/h6aefxvHHH4/ly5dj0qRJSe/p7e3FlClTcMstt+Dcc8/Vdf5QKITGxkb85je/wS9+8QsjX4XD4eQZPCaZw+FwOLZlzZo1EAQhZfk0QAq12HnnnbHvvvvit7/9LY455pik1uQAUFpaiiuuuAK33nprUlUTLTz00ENwu91Z1fHmcDj5DfckczgcDse2nHfeeVi6dGlSwpuaq6++GkNDQ0pc75lnngkAeOSRR3J1iRwOZ4zClWQOh8Ph2Jb99tsPPp8Pr7/+utWXwuFwvmdwJZnD4XA4HA6HwxkGj0nmcDgcDofD4XCGwZVkDofD4XA4HA5nGFxJ5nA4HA6Hw+FwhsGVZA6Hw+FwOBwOZxhcSeZwOBwOh8PhcIbBlWQOh8PhcDgcDmcYXEnmcDgcDofD4XCGwZVkDofD4XA4HA5nGFxJ5nA4HA6Hw+FwhsGVZA6Hw+FwOBwOZxhcSeZwOBwOh8PhcIbBlWQOh8PhcDgcDmcYXEnmcDgcDofD4XCGwZVkDofD4XA4HA5nGFxJ5nA4HA6Hw+FwhsGVZA6Hw+FwOBwOZxhcSeZwOBwOh8PhcIbBlWQOh8PhcDgcDmcYeaUkv/feezj88MPR0NAAQRDwwgsvjPr+d955B4IgjPjX0tKSmwvmcDgcDofD4eQlLqsvQA+BQABz5szBOeecg2OOOUbz59auXYuSkhLl75qamoyfiUaj+O6775Keq6iogMORV3YFh8PhcDgczpglHo+jq6sr6bnp06fD5TKu4uaVknzooYfi0EMP1f25mpoalJWV6frMd999hx133FH3uTgcDofD4XA41vHNN99g1qxZho/zvXCLzp07F/X19fjRj36EDz74YNT3hkIh9PX1YWBgIEdXx+FwOBwOh8OxG2NaSa6vr8c999yDZ599Fs8++ywmTJiABQsWYOXKlWk/c9NNN6G0tBR77rlnDq+Uw+FwOBwOh2MnBFEURasvIhsEQcDzzz+Po446StfnDjjgAEycOBGPPfZYytdDoRBCoRDWrl3LFWUOh8PhcDicPIMq3CKvYpIp2HPPPfH++++nfd3r9cLr9WLixIkjXvvmm29QVVVl5uVxOBwOh8PhcDTS0dExIoesoqKC5NjfOyV51apVqK+vz/i+VFUsqqqqUF1dbcZlcTgcDofD4XAIoKpElldK8sDAANatW6f8vXHjRqxatQoVFRWYOHEirrrqKjQ1NeHRRx8FAPzlL3/B5MmTsdNOO2FoaAgPPPAA/vvf/+LNN9+06itwOBwOh8PhcPKAvFKSP/30Uxx44IHK35dddhkA4Mwzz8TDDz+M5uZmbNmyRXk9HA7jV7/6FZqamlBUVIRddtkFS5cuTToGh8PhcDgcDocznLxN3DOb9vb2EU1H2traeLgFh8PhcDijEIvFEIlErL4MzhjD6XTC5XJBEISk583U1/LKk8zhcDgcDse+DAwMYNu2beD+N44ZFBUVob6+Hh6PJyfn40oyh8PhcDgcw8RiMWzbtg1FRUWorq4e4fHjcLJFFEWEw2G0t7dj48aNmD59Olly3mhwJZnD4XA4HI5hIpEIRFFEdXU1CgsLrb4czhijsLAQbrcbmzdvRjgcRkFBgennHNMd9zgcDofD4eQW7kHmmEUuvMdJ58vp2TgcDofD4XA4nDyAK8kcDofD4XA4HM4wuJLM4XA4HA6HYzJnnXUWjjrqKKsvg6MDriRzOBwOh8P53nLWWWdBEAQIggC3243JkyfjiiuuwNDQkNWXRsamTZsgCAJWrVpl9aXkFby6BYfD4XA4nO81hxxyCB566CFEIhGsWLECZ555JgRBwM0332z1pRkmHA5bfQl5C/ckczgcDofDIUcURQTDUUv+6W1m4vV6UVdXhwkTJuCoo47CwQcfjCVLliivx+Nx3HTTTZg8eTIKCwsxZ84c/Pvf/1Zej8ViOPfcc5XXZ8yYgb/+9a+6ruHhhx9GWVkZXnjhBUyfPh0FBQVYuHAhtm7dqrxn/fr1OPLII1FbWwufz4c99tgDS5cuTTpOY2Mjrr/+epxxxhkoKSnBokWLMHnyZADAvHnzIAgCFixYoOvavq9wTzKHw+FwOBxyBiMx7Hj1G5ac+5vrFqLIk52K89VXX2HZsmWYNGmS8txNN92Exx9/HPfccw+mT5+O9957D6eddhqqq6txwAEHIB6PY/z48XjmmWdQWVmJZcuWYdGiRaivr8cJJ5yg+dzBYBA33HADHn30UXg8Hlx00UU46aST8MEHHwCQOhr+5Cc/wQ033ACv14tHH30Uhx9+ONauXYuJEycqx/nzn/+Mq6++Gtdccw0A4OKLL8aee+6JpUuXYqeddspZx7p8hyvJHA6Hw+Fwvte8/PLL8Pl8iEajCIVCcDgcuOuuuwAAoVAIN954I5YuXYr58+cDAKZMmYL3338f9957Lw444AC43W5ce+21yvEmT56M5cuX4+mnn9alJEciEdx1113Ya6+9AACPPPIIZs2ahY8//hh77rkn5syZgzlz5ijvv/766/H888/jpZdewuLFi5Xnf/jDH+JXv/qV8rfT6QQAVFZWoq6uLosR+n7ClWQOh8PhcDjkFLqd+Oa6hZadWw8HHngg/vGPfyAQCOCOO+6Ay+XCscceCwBYt24dgsEgfvSjHyV9JhwOY968ecrfd999Nx588EFs2bIFg4ODCIfDmDt3rq7rcLlc2GOPPZS/Z86cibKyMqxevRp77rknBgYG8Mc//hGvvPIKmpubEY1GMTg4iC1btiQdZ/fdd9d1Xk5quJLM4XA4HA6HHEEQsg55yDXFxcWYNm0aAODBBx/EnDlz8H//938499xzMTAwAAB45ZVXMG7cuKTPeb1eAMCTTz6Jyy+/HLfddhvmz58Pv9+PW2+9FR999BHpdV5++eVYsmQJ/vznP2PatGkoLCzEcccdNyI5r7i4mPS831fyQ3o5HA6Hw+FwcoDD4cBvf/tbXHbZZTjllFOw4447wuv1YsuWLTjggANSfuaDDz7APvvsg4suukh5bv369brPHY1G8emnn2LPPfcEAKxduxY9PT2YNWuWcp6zzjoLRx99NAApRnnTpk0Zj8tikGOxmO5r+j7Dq1twOBwOh8PhqDj++OPhdDpx9913w+/34/LLL8cvf/lLPPLII1i/fj1WrlyJO++8E4888ggAYPr06fj000/xxhtv4Ntvv8Uf/vAHfPLJJ7rP63a7cckll+Cjjz7CihUrcNZZZ2HvvfdWlObp06fjueeew6pVq/D555/jlFNOQTwez3jcmpoaFBYW4vXXX0drayt6e3t1X9v3Ea4kczgcDofD4ahwuVxYvHgxbrnlFgQCAVx//fX4wx/+gJtuugmzZs3CIYccgldeeUUprfazn/0MxxxzDE488UTstdde6OzsTPIqa6WoqAhXXnklTjnlFOy7777w+Xx46qmnlNdvv/12lJeXY5999sHhhx+OhQsXYtddd9X0ff72t7/h3nvvRUNDA4488kjd1/Z9RBD1FhP8ntDe3o6ampqk59ra2lBdXW3RFXE4HA6HY1+GhoawceNGTJ48GQUFBVZfTt7x8MMP49JLL0VPT4/Vl2JbUsmYmfoa9yRzOBwOh8PhcDjD4Eoyh8PhcDgcDoczDK4kczgcDofD4VjMWWedxUMtbAZXkjkcDofD4XA4nGFwJZnD4XA4HA6HwxkGV5I5HA6Hw+FwOJxhcCWZw+FwOBwOh8MZBleSORwOh8PhcDicYXAlmcPhcDgcDofDGQZXkjkcDofD4XBswIIFC3DppZdafRkcGa4kczgcDofD+d5y1lln4aijjrL6MgAAzz33HK6//nqrL8MSGhsb8Ze//MXqy0jCZfUFcDgcDofD4XCAiooK088RDofh8XhMP49W7HY9argnmcPhcDgcDj2iCIQD1vwTxawve8GCBbjkkktw6aWXory8HLW1tbj//vsRCARw9tlnw+/3Y9q0aXjttdeUz8RiMZx77rmYPHkyCgsLMWPGDPz1r39NOm40GsXPf/5zlJWVobKyEldeeSXOPPPMJC/28HCLxsZG3HjjjTjnnHPg9/sxceJE3HfffUnHvfLKK7HDDjugqKgIU6ZMwR/+8AdEIhHl9T/+8Y+YO3cuHnjgAUyePBkFBQV49NFHUVlZiVAolHSso446CqeffnrKcdm0aRMEQcCTTz6JffbZBwUFBZg9ezbeffddXePAPPc33HADGhoaMGPGDCxYsACbN2/GL3/5SwiCAEEQRv+RcgT3JHM4HA6Hw6EnEgRubLDm3L/dDniKs/74I488giuuuAIff/wxnnrqKVx44YV4/vnncfTRR+O3v/0t7rjjDpx++unYsmULioqKEI/HMX78eDzzzDOorKzEsmXLsGjRItTX1+OEE04AANx888345z//iYceegizZs3CX//6V7zwwgs48MADR72W2267Dddffz1++9vf4t///jcuvPBCHHDAAZgxYwYAwO/34+GHH0ZDQwO+/PJLnH/++fD7/bjiiiuUY6xbtw7PPvssnnvuOTidTkyfPh0///nP8dJLL+H4448HALS1teGVV17Bm2++Oer1/PrXv8Zf/vIX7Ljjjrj99ttx+OGHY+PGjaisrNQ0DgDw1ltvoaSkBEuWLAEA1NfXY86cOVi0aBHOP/98/T+YSXBPMofD4XA4HI6KOXPm4Pe//z2mT5+Oq666CgUFBaiqqsL555+P6dOn4+qrr0ZnZye++OILAIDb7ca1116L3XffHZMnT8app56Ks88+G08//bRyzDvvvBNXXXUVjj76aMycORN33XUXysrKMl7LT37yE1x00UWYNm0arrzySlRVVeHtt99WXv/973+PffbZB42NjTj88MNx+eWXJ50XkEIaHn30UcybNw+77LILCgsLccopp+Chhx5S3vP4449j4sSJWLBgwajXs3jxYhx77LGYNWsW/vGPf6C0tBT/93//p3kcAKC4uBgPPPAAdtppJ+y0006oqKiA0+mE3+9HXV0d6urqMo5LLuCeZA6Hw+FwOPS4iySPrlXnNsAuu+yiPHY6naisrMTOO++sPFdbWwtA8r4y7r77bjz44IPYsmULBgcHEQ6HMXfuXABAb28vWltbseeeeyYdd7fddkM8Htd8LYIgoK6uLum8Tz31FP72t79h/fr1GBgYQDQaRUlJSdIxJk2ahOrq6qTnzj//fOyxxx5oamrCuHHj8PDDD+Oss87KGOowf/585bHL5cLuu++O1atXaxoHxs4772zbOGQ1XEnmcDgcDodDjyAYCnmwErfbnfS3IAhJzzFFkim4Tz75JC6//HLcdtttmD9/Pvx+P2699VZ89NFHplwLO+/y5ctx6qmn4tprr8XChQtRWlqKJ598ErfddlvSZ4qLR/4O8+bNw5w5c/Doo4/ixz/+Mb7++mu88sorhq5V6zikuh47wpVkDofD4XA4HAN88MEH2GeffXDRRRcpz61fv155XFpaitraWnzyySf4wQ9+AEBKclu5cuUIL6seli1bhkmTJuF3v/ud8tzmzZs1f/68887DX/7yFzQ1NeHggw/GhAkTMn7mww8/VL5DNBrFihUrsHjxYgCZx2E0PB4PYrGY5mvPBTwmmcPhcDgcDscA06dPx6effoo33ngD3377Lf7whz/gk08+SXrPJZdcgptuugkvvvgi1q5di1/84hfo7u42VMlh+vTp2LJlC5588kmsX78ef/vb3/D8889r/vwpp5yCbdu24f7778c555yj6TN33303nn/+eaxZswYXX3wxuru7lc9qGYd0NDY24r333kNTUxM6Ojo0fwcz4Uoyh8PhcDgcjgF+9rOf4ZhjjsGJJ56IvfbaC52dnUneVEAq1XbyySfjjDPOwPz58+Hz+bBw4UIUFBRkfd4jjjgCv/zlL7F48WLMnTsXy5Ytwx/+8AfNny8tLcWxxx4Ln8+nuaHKn/70J/zpT3/CnDlz8P777+Oll15CVVUVAG3jkI7rrrsOmzZtwtSpU0fET1uFIIoGigmOYdrb21FTU5P0XFtbm21+OA6Hw+Fw7MTQ0BA2btyo1OLljE48HsesWbNwwgknWNpl76CDDsJOO+2Ev/3tb6O+b9OmTZg8eTI+++wzQyEiRkglY2bqazwmmcPhcDgcDsdkNm/ejDfffBMHHHAAQqEQ7rrrLmzcuBGnnHKKJdfT3d2Nd955B++88w7+/ve/W3INdocryRwOh8PhcDgm43A48PDDD+Pyyy+HKIqYPXs2li5dilmzZllyPfPmzUN3dzduvvlmpTEJJxmuJHM4HA6Hw+GYzIQJE/DBBx9YfRkKmzZt0vX+xsZGfN8idHniHofD4XA4HA6HMwyuJHM4HA6HwyHj++Zt5OSOXMsWV5I5HA6Hw+EYxul0AgDC4bDFV8IZqwSDQQAjuxCaBY9J5nA4HA6HYxiXy4WioiK0t7fD7XbD4eB+OA4NoigiGAyira0NZWVlikFmNlxJ5nA4HA6HYxhBEFBfX4+NGzfqao3M4WilrKwMdXV1OTsfV5I5HA6Hw+GQ4PF4MH36dB5ywSHH7XbnzIPM4Eoyh8PhcDgcMhwOB++4xxkT8IAhDofD4XA4HA5nGFxJ5nA4HA6Hw+FwhsGVZA6Hw+FwOBwOZxhcSeZwOBwOh8PhcIaRV0rye++9h8MPPxwNDQ0QBAEvvPBCxs+888472HXXXeH1ejFt2jQ8/PDDpl8nh8PhcDgcDie/ySslORAIYM6cObj77rs1vX/jxo346U9/igMPPBCrVq3CpZdeivPOOw9vvPGGyVfK4XA4HA6Hw8ln8qoE3KGHHopDDz1U8/vvueceTJ48GbfddhsAYNasWXj//fdxxx13YOHChWZdZnriMSDYBfiqc3/uHCKKIjoDYVQWeyAIgvEDRoYAlxegOJaNicTiEAC4nES2azQkjdsYJxKLw001ZvE4ABFw5LYWZ14jitL/Y/z+FEUR0bhIJ2vRMODy0BzLxoSiMbgdDjgcBPIhitK85h7b5eVicRF9gxGUFxPJR6ADKCzn81oW5JUnWS/Lly/HwQcfnPTcwoULsXz58rSfCYVC6OvrQ39//4jXRLYYZMPq/wB37gr8eRrwzNnAQHv2x7IxH27oxKF//R92/39Lcdr/fYRt3cHsDzbUK43VTeOBP08HvnmJ7kJtRDQWx1XPfYk5176JOde+iX99vMWgrL0M3LEz8P9qgadOB4b66C7WRqzc0o0D//wOpv/uNRx/zzK094eyP1hkEHjqNOD/VQO3TgPWvEJ3oTYiHhdxzYtfYdpvX8VOV7+OR5dvMnbAdUuBP+8AXFsO/PN4IDRy3hwLfL29Fwv+/A5m/P41HPP3D9DSO5T9wSKDwL/PBf5fDfDnGcCX/6a7UBsRicVx46ursdPVb2CPG5bivvfWGzvgureA22ZK68ETJ0kOpzHIZ1u6sfAv72He9Utw6gMfYnNnIPuDDfYAL1wM3DoV+Otc4POnqC7TVgxFYqYde0wryS0tLaitrU16rra2Fn19fRgcHEz5mZtuugmlpaWYOnXqiNde+6oluwtp/hx45iyge5P099fPAc+dl/DAjBG29wxi0aOfYk2LtFB+sK4Tp//fxwhFsxBgUQRe+rk0VvEIEGgHnj4dWP828VVbz61vrMW/Pt6CYDiGQDiGq577Ek9+sjW7gzWtBP59DtC7BYAIrH4J+Odxsod07LCpI4BzH/4EGzukBeSTTd04/p5lCISi+g8WjwPPnicZsvEoMNglGRffvkl81dbzx/98jUeWb0Y0LiIQjuHqF7/GU59sye5gmz4A/nUyEGgDIALfvQk8eQoQy+I3sDHr2wdw4r0fYnNnEHERWLmlB2c//AkGspE1UQSePBX46t8ARGCgBXj+Z8DG98iv22queelr3PfeBkTj0s7ija+uwYurmrI72JaPpHlsoEVaD759DXhu0Zib17Z1B3HK/R9hXdsAAGkN/dljK7JbQwHghQuBVY9Lj3u3AC9cAGz5kOhq7cPdb68z7dhjWknOhquuugq9vb1Yv36k1fvnN9agY0CntyoWBV64SFp8Z/wUOPs1wFUAbHgHWPVPmou2CVc++wX6hqKYM74U/1m8H6r9XmzsCOD+9zboP9hXzwLfvAA4XMBpzwG7nCg9/9qVQCxCet1WsmJzF+6Vx+f2E+bgwgWScXbrG2vRN6Tze8bj0oIbCwE7HAKc9Srg8QFbP5LGcwzxx/98je5gBLuML8WLF++L+tICbOoM4uFlm/QfbPVLwJqXAacXOO1ZYOcTADEGvPHbMaXwfdXUi0eXb4YgSLJ2wQGSrN3wymr9siaKwOtXArGwNK+d+TLg8UvK3pdPm3D11nHr62sxEIpi14llePHifVHl82J1cx/ufTcLz+i3bwDr35LWgNOeA3Y6RlobXrh4TMnaN9v78K+PJePrryfNxaIfTAEAXPXcl+gK6GxXHY9LsibGgZmHAWe9Io3fuiXAyoeJr9xarn/5GwxGYth1Yhn+s3g/VBZ7sKalH39d+p3+g615BVj7KuBwA6e/AOx8vDSGzy2SQhjHCJ9t6cYTH2dp6GtgTCvJdXV1aG1tTXqutbUVJSUlKCwsTPkZr9eLkpIS+P3+Ea/1DEbx2PLN+i5i7atA61dSPNDhfwUm7QMsuEp67Z2bx4wl/PX2Xvzvuw64HAL+ctI87Dy+FL//6SwAwF1vr0PvoI5FWBSBD/4iPd7/cmDaQcChtwBFVUDH2jFlXDzwv40AgON2G49jdh2PX/1oB0ytLkZXIKx/Ef7uTaDjW8BbChx9L9C4L7DfpdJrb103ZoyL1c19eGdtOxwC8LeT5mHOhDJcechMAMA9765Hb1CnrL1/h/R4318A0w4GfnqbdL92fgd8MXa2J+/8r7TQHjGnAcfsOh5XLJyB6TU+9A1F8ahe42Ltq0DLl5IRdsSdwOT9gR/8Snrtf7dL+RdjgC+29eD1r1sgCMCfjt0FcyaU4bojdwIAPLp8s76di3hcug8BYK+fSfPakXdL81rvFskpMEa4+fU1EEXgp7vU48i543DlITOxY30JguGYojxr5uvngO2fSUbYYXcAjfsBP/yD9Nryu8fMGvrZlm688XUrnA4BNx2zC3YeX4objp4NAHhMr6yJIrD0Wunxvj8Hph4ozWv+eqBnM/D18yZ8A2u467/rTN2UH9NK8vz58/HWW28lPbdkyRLMnz8/62M+/elWxOI6fpEVD0n/73ZWImFvr58BBaXSxLjxnayvxU48/qE08R0yuw6Tq4oBSIvxDrU+DEXieOWLZu0H2/qxtAC7CqSxAoDCMkmJAYDPHie8cuvY2hXEG19LITzM0+JyOnD5j2cAAJ7+dJs+WftQrvqy25nSeAHA3hcnFuH1/6W6dEu5/3+S5/3Q2fVoVMnajFo/+oeieO6zbdoPtvE9oHkV4CoE9rpAeq6gJCFrH/2D8MqtY2NHAG983QpBABYfOA0A4HAIWPxD6fH/vb8R4agOZWPZndL/ey4Ciiulx7ufCxSUScbF2lcJr9462M7EUXPHYYdayXGycCdpjusdjOApPWFRmz8A2r4GvCXAfr+UnvMUJea4D/46JkLwmnoG8e63Us7NFQuluczpEHDe/pMBAI8u36RP1lY+Kv0//yLAVyM93u1MaRw710me+THA059K89aRcxowo06StR/vKMlafyiKF1dt136wbZ9IDiV3EbDvpdJzBaXAHudKjz/9P8Irt47m3kG8vbbN1HPklZI8MDCAVatWYdWqVQCkEm+rVq3Cli2SgnbVVVfhjDPOUN5/wQUXYMOGDbjiiiuwZs0a/P3vf8fTTz+NX/7yl1mdv6zQhebeIbz7rcYfpXtTQjHZ9czE8+7CRPgAmwDymIFQFC98JsWanb73JOV5QRBw3G7jAQDPrNCxmHz6oPT/zscBRRWJ53c5ERCc8gSQxfaTzXhmxTbERWD/6VXKAgwAB82qRXmRG+39ISxb36HtYN2bJIVPcEiKC8NTJI0jAHyR/9vgQ5EYXvtSMizOlRddQFL4TtxjAgDgP5/rWEy+fEb6f85JCWUPAOadIYX6tHw5JmTtlS+kMdlvWhWmq2TtsF0aUOXzojsY0S5rvU3AFjn5ec/zE88XlAC7ni49/uo5isu2lKFIDG9+Le1EnrLXROV5p0PA2fs2AgBe0BNj+5WcoLfjEdJOBWOP86RQn5YvgLbVRi/bcljc8d5TKjCpslh5/rBdGlDt96K1L4R3tCo2vU2JeO25pySe9/qBebKsffoQxWVbylAkhpfleeu43ccrzzscAk6VZe/xD3XsYjNH0o5HSvclg81r2z6R5rY85+lPpDV014llpp0jr5TkTz/9FPPmzcO8efMAAJdddhnmzZuHq6++GgDQ3NysKMwAMHnyZLzyyitYsmQJ5syZg9tuuw0PPPBA1uXffrJzAwDgJa0W3dcvyBdyAFAxOfm1XWVlfs0rQGggq+uxC+99247BSAyNlUXYc3JF0mtHzRsHp0PAZ1t6sKFdw/eMyUkZADD3tOTX/LXSdjgAfP4vgiu3liXfSAvw0fPGJT3vcTlw2C6SrD3/mcZFeI3suZu0L1A2Ifm1nU+Q/l/76piRtXFlhZg3oSzptcN2qYcgSIlVW7s0VFWJRRNVLGYfk/xacSUwZYH0eAwofK/KhsVhu9QnPe90CDhkdq38Ho27PavlKjMT9gZKGpJf2+lo6f9v35CqOOQx76xtx0AoiobSAuw2sTzptUNnS7L2xbZeNPVo+J7RMPDNi9Lj2cclv1ZUIW2HA1JsfB4jiiKeXynNWannNUn+lq5uHfHZlHz5DAARmDgfKG9Mfm3uydL/6/+b97L25jet6A9FMb68EHtPrkx67bjdxsPpEPBNc5+2eS0aSsxZ81KsoTPkMrpjoFrUS5/LsrbruAzvzJ68UpIXLFgAURRH/GNd9B5++GG88847Iz7z2WefIRQKYf369TjrrLOyPv+BM6Rwife+60Bcyzb4d0uk/2ceNvK1up2B8slS4kueZzb/d43kFThoVu2Iusg1/gLsM1W66d9eq6Hs3daPpNJvhRXAhD1Hvr7z8dL/3+Z3Q5itXUGsbu6DQwAOnFEz4vWj5knKx5JvWhGNadiaZNvbM34y8rVxuwIVU4BIUEp2yWNel8NTfrxTClkrKVAWGE0K35ZlUiWLwgpg4j4jX99JVpy/zm8leVNHAN8098HpEPDjHetGvP6TnSXF5c1vWhHRImssnpEpxGoadgVKJwCRgFSyK495RZahw+Y0jKjxW+33YvdJkuL85tcaqh5tfA8Y7AaKa4DJPxj5Olsj8lxJ3tgRwHdtA/A4HTh05/oRr/9olmSQvbW6TVsoGTNi2byvpnY2UDIeiA4CG941ctmW87a8hh62y0hZKyvyKLLG1tpR2fIhEO4HfLWp57UdZCX5u/xfQ9e3B+B0CNh/mnm9J/JKSbaaXSaUwe91oSsQxhdNvaO/eagX2CqXWpn+o9TvYV7RdUvpLjLHxOOisnV20MyRyh4A/GC6bFx8q0FJ/vZ16f/pP05d+Jx5XFq/AvqzLMlnA96SPSm7N1akLBg/d0I5Sgvd6B+KZpa1YBeweZn0eGYKJVkQgOny7kkeLybRWBxvrZZk7ZCdRip7ALBwJ2kRfn+dhtABtgDP/AngTNFXaeZPpPCV9jXStm+ewrx286dUppS1PRsrUFnsQU8wghWbu0c/WLBLyhkAgFmHj3xdEIBZR0iP175m5LItJR4X8f530nzFZGo4C2UZfEOLkrxBLl25w8LU89qMQyVZa/4c6DEvU99sPpDvu90by1FS4B7x+h6TK+AvcKEzEMaqrRlkbagXaFohPU61hgpCwiv6bX7L2v9kWTtgh9TK3g/ltfUtLUoyi9Ge+kPAkULFY2PZ/Hler6HvyPrEbhPLUVI4Utao4EqyDtxOB/abXgUgYfmlZcM7UmmfymkjQy0YTFjXLcnbhI0vmnrRMRCGz+vC7o0VKd+z/w7SmH20sTNz0W/mIZ5xSOrXi6uA+jnS4w3vZHHF9oDd4AfPSm1YOB2C4oH/4LsMCt+Gd6SSZTU7jtySZLDQgTwes2+a+9A7GIG/IL2s7TtNkrVPNnVlri3KdnCmpTFiC8uB+rnS403/y+KK7cGHG6SmC/vLc9dwXE4H5suy9tGGDA0aNi8DIAJVM4DSNFuc034o/Z/HY7a6pQ/dwQiKPU7sMr4s5XsOkr2iKzf3ZJ7XmHHK7sPhFFcB4/dIfm8e8j95rmL34XDcToeyc/b2mgxOk43/k+a1iqlA2cTU71GU5Dfzdg1d3dKHjoEwijxO7DapPOV7DpLXiQ/XdyIYzlDlYp2cBzX1oNSv+2qkHR9AqoiUp7wj62AHzDC3gzFXknWyQP5BmOWXFpawl24BBqRSNk6P5DnoNNiNyCKWr+8EAOwztRIeV2pxmlHrR43fi6FIfHRP1UCbVMIMQvrFBJAsZCBvG4vE4iJWbJLGYZ+pqRcTILHQ/C+TV5QlUTXun/49jftKSY/dG4FunWUMbcLHGyUFbs/GCjjTtLidVuNDlU+Stc+29KQ/WKATaPtGejxp3/TvmyyPaZ6GRMXiIj7eKN2je0+pTPs+9tryDRlkjSm+jfulf8+EvSVZ69mct15RNq/tObkibRvqxsoi1Pi9CMfiWLW1J/3BAp1Aq5wklSrUQjmgPKZsVyjPiMbiWL5BGrf90ijJABTj/+NNGQwy5n1nu4epmLSPVAe4f7skb3kIMyzmT0m/hk6t9mFcWSHCsThWbu5Jf7D+VlnWhNHHjTno8nRei8TiWCbfowu4kmwv5k+Rbv4vm3pH9x6wLcnRFhNPccJ7wBSdPGPFZmmi2yONZw+QqlwwDzxbfFKy9SPp/5pZydnfw5ki3/wb89PjsqalD/2hKPxeF2bVl6R9H/P8fbale3TvwWZZdialiD9jeP3A+N2lx3nqTf6IKcmTR5c1tggvG03WtsiKSNWMRGnGVDClZuN7eempWt3ch74hSdZ2akgva8yTvHJLBq/oRllJnjyKQeb1AQ1ScjU2faD3km3BMsX4T6/sCYKgyCIz4FKySVZEanZMlDBLBbt/t+SnkvxlUy/6h6IoLXRj9rjStO/bQx6zz7f2jL7bo3jfR1H23IUJWducn2voh7Jhkc77DkiytnujtCZ+unkUWWOyU7eztDuRjol7S/+zNTfPWN3ch8FIDKWFbsyqSz+vUcCVZJ1MqChElc+DSEzE19vTxIoO9SZK+aRKPlPDlORtH9NdZI4QRVHxDO/WOIpSCyjbSKN6XFi7zAl7jX7i8btLnqr+5ryMFf1EXlB3nVSe1iMKABMrilBXUoBITMSX29LI2mCPFJ8NjK4kAwlP89b8k7V4XMQnmzIryUDCU8UWn5Qwb13jKF5kQMqqd7iB3q156aliY7DH5Aq40nhEAWBKVTGq/V6Eo6N4RQOdUp1fYPRdCyDhHNj0vs4rth7J+y7JGjMe0rGXLIsfbdQiaxnGbMJeUlxy96a8nNfYWrDHKDs9gCRrlcUehKJxfJUu3yLYJdXbBjLPa0zhy0NHkyiKyo7X7hnWUJa8N+pu7NZPpP8zrqF7SLLWswXo09HDwCaslMdg3sSyEYmO1HAlWSeCIGDXiRmEddunAEQpPnQ0zwGQUKKZcOcR69sD6A5G4HU5MLshvecAAOZNSCjJabOamZI8MUOzF08xUCt1vcK2/Bu3TzaxxWT0SVEQBMyVy5ylVVy2fgxAlOL2Mska8yQ3far9Ym3Ct2396AlGUORxjuqlAiTjA5DaMKeVtc2yh3O0UAtAkrW6naXH2/Jv3NgclcmwUHtF089r8r1WNWN0LxWQUJLz0Cu6oX0AA6EoCt1OzKwb2XlVzV5ymMqKzd3pK4Ow5LNMDhOvH6jbRXqchyEXn8uG/LwMNWvVXtGPN6aRtaaV0v8VU5Jr5aeCrRds/cgjNnYE0DsoraEzM3hEd5skjcNnW0ZZQ9k9ypxv6fD6E2vo1vwbtxWyYTG8NKMZcCU5C9ginDY2iHnqMllzADBenjjb10ge6DyChVrMGV+WNpaKsUOtD0UeJwZCUaxPVS85Mihl2wLARC3jlr8K36caQlQYc+UF5/NtPanfwLbLMhkWADBuN+n/9rXAUF/m99uIz2UjYc74srQxooyp1T4Ue5wIhmNY15ZK1oaAVtkjmklxAaQSeoDUGjfP+EJWXOakST5TM1d+T9pdC/b92XiMBksM6tog7XbkEUzZmz2uZFTvOwBMq/bBX+DCUCSOb1v7R74hGko0bdAybuw+Zop1HsGqVcwdVr88FWzuW5EudIDN6+N2z3xits52rJU80HkE8yLvPK404xo6o84Pn9eFgVAUa1pSzN/RUGINnZBBSQYS45aHO4vMk7xrmkRHSriSnAUsdGDFlm6IqeIUmeKiZQH2VcsVCcS881Qx76YWQXU5HdhlvOQB/GxLCu9By5dAPCLVES2bNPL14ShhKvk1Zm39Q2jtC0EQgJ3Hj+4RBRLKzap0SWjNq6T/x83LfHJfDVA6EYCY+Fye8KW8LatlzJwOQfE2f57KA9/2tVR5prBCqumbCabwMe9WntA5EFIaXcwelzluj43tF+kMsu3y92/QIGvFlYmKBGzhzhPY909X1UKNwyEou2gpQwdav5Jq4ReWS3XxM9EwV/o/z+7PzoEQtnYNap7XmCL9VVMaY53N6+M1KMnFlZLHGci7cftsayJsIBNOh6C8L+XOYsuXQCwEFFVqk7UJLC45v5Tktr4hNPUMwiEAczQYZEbhSnIW7DyuFE6HgPb+ENr6Q8kvimJiUWCeu0wwhW97fi3CX2+XJridM2x/M+bJWyMpqw6wMaufI9W/zIQyZp9JXfryBDZmU6t9KPKkqM07jF3Gl8IhANt7h9DWN5T8oigC21dJj1mpskyMl2Uyz4yLL+XFNFOoBYNNnik98Mwj2jBPm6wxD2Dz50A8Q6kvG8EMiynVxfCnqFk7nJ0aSiDIstaeal5Txk2DRxRIKNN5prgouxYaF2CmFH6ZSklmhtW43bTJGruPm7/IK1lj99nUal/K+sjDmVUvyVpLXxpZY550LZ5kIFEWNM8MMrYWztMYNrCTbJCxdSQJxbDYQ5usMYOs9eu8kjW2O7ZDreRZNxuuJGdBgduJKVVST/pvmocJa992qYuXwwVUz9J2QBaH1vIV4VWaSyQWx5oWaXtxtKx5NbuMG+UGV5TkXbRdQMVUwFsCRIfksnH5wdfyQqp1zIq9LkyvkeIiPx++Dd7fDAQ7pCRGFl+WCWa45dF2biQWx+pmfQYZ88CnVpJXSf+zRSITVTsA7mKpi1weyRoLm9hF45j5C9zKvDbCK9rXBATaJVmrm63tApiSnEdhKuFoHKubpXltjgaPKJAw3L5M5RVlSrJWw6JqOuAukmQtj8qCfr5Ve1gPIM1rTNZGJMD3bJbXULd2WWNraPMX2t5vA8LRRIiO1nmNrRsp11AW1qPVYVIxRZrXooNA5zptn7EBbC3YcZTKUJRwJTlLdpSF9ZvhwsoEtWoG4C7QdjCWGMQ+mwdsaA8gHI3D53VhYkWRps+wcmdrW/tHtlpukSe3Oo1KssMhlVQCEvGleQCb3DIlOqphE+Oa4QYZMyyqZ0qlkLTAPC6t+WOQrWsbQDgah9/rwiSNssZCe9Y09yMcHSZrzLOpdTFxOBMKdR4pfF8oISplmj/DQgy+GG6QMWWvZkftspaHSvK3rf0Ix+IoLXRrnteYgrO6uW9k8h67R7WEqACSrLH1II888Exx0Wr8AwnjYoTCx+bz6pmAy6vtYHnoSV7fPoBITITf68L4cm33lHotGLGGslrcWg0Lh8q5kke6B3NM7qhD1ozAleQsYVbMCE+youztrP1g7L1dG4BQikQjG8Ks/1n1fs0lWCZWFKHY40Q4GsfGjkDihVgkUTJPqycZSEwGeXSDfyWP204aYkQZM+slTzLz3CsooRZztF9AjTwpdm8CQikSjWwI28beaVyJZlkbX14Iv9eFaFzEhg7VPRUNJWRNqycZAGplWcsjg+wbxSDLRnEZpiQzo0qPrLH3dm/Km+Q9do/NrPND0LJlDWBSRRH8XhfC0Ti+a1XJWiyS2HnQutMDJIw3dn/nAcq41Y9eDURN2lhudo9pVfaAhKx1rc+bpGRmWMys1y5rjZXFKPI4EYrGsSFpDY0CbWukx7V6xo154PPHuPiGe5LzA2bFrB7hSc5CSS6uAvz1AMREFzCbw6z/nXR4RB0OATPkkkqr1Qpf+xopucVbApQ1ar+IPFNceoMRbO2SEqn0jBsrDbR6eEYzkzU9hkVxpSxrSEyqNmeNvP29Y732MRMEATvIsrZWLWsd30pJewWl2pL2GLXyrkWe3J/9QxElaS9TaSk1rOTZiEoN7HuzcdBCYTlQIreubs8PWVsr32OZSr+pcTgEzGIePvU92vGdlIzs8advq5wKZbcnP4z/gVAUW7qCAPTJGnMUfJXOINNjWBRXJWQtT3bJmGExWkOp4TgcgvL+JEO28zspac/j15b4zsizXez+oQg2d0qypmfcjMCV5CxhP9DGzkByNzQmbHqUZCCh8LXkR0wV81Lp3fJg47Za7YFXj5lDh0gqSnJ+TIrftkmT4riyQpQWZk5uYTDvzKaOAAbDqgQLRXHRsZgAqjCVPBk3WWGbUefT9TlmkCV54JkXuWZHbcktDOaBb80PJflb2aNZV1KA0iLtsrZDrTRmm7uCw2SNjZvGPAsGe3+eGBcJj6i+eW1GLTMuVJ5ktWGhS9Zmyp/PF8NCGrPaEi8qij2aP8c6pW3tGkQgpFpDmdND77yWZ04TtgbqVfZ2ShXq2aIyLPSsoUo+1Bd50VGU3Z/1pQUo1yFrRuBKcpZU+byo8XshiqpFONQvbS0C+rY8AJVFlx+Ky3dtiW1JPaRUkpmXKasFWAAGWoGBdn2ftQCm7E2v1afsVfu8qCz2IC4mxh3hINAtd4DTmiDKYItPniwmbNyYAqcVxSuaUknWK2uy4jLQkhe1WJUx03l/Vvk8qCj2QBSRqDEdGZRCwYCEsaAVRUlere9zFsEUvhk6x20H+Z5O8sCz+6tGh/cdkPJZACDQJnU5tDlrFO+7PmWvvNiDKp8Uc6zIWjiYSFjUu4ayezRPdi2yVZKZbH6nrgGvNx6ZwdbQYCcQ6ND3WQtYk+WYGYEryQZgi7Zyg7P4s+JqaVtbD2wibV9LdHXm0RUIo2MgDEAq+aOHWSy+tlkdbiF/5+qZ+i7E6wMq5HqQeeAVZfGK02v0jZkgCIm4ZDZuHd8CEKVav5m6nw2HKcl54N3rCYaVMovTdSrJzLuX0pOs17DwqrYx88C4WNuSnRErCIIybmuZwte+FhDjkqxl6uo4HDav5YGS3B1IyJpeg2yH2hRhKtnu9Hh9ifCMdvuPG5uT9MQjM9hcqCh87asBiNIaqlfW2D2dB2tox0AIHQNhCEJintIKq3aUFP/emqWsuQvlPg3IC+OCyYne+9MIXEk2wDT5BleU5HZZSdar7AFA9Q7S/x32v8HZ9x1XVohinXUKp8k3eEvfEAbYFhu7ObMaN3lizIPSXAlPsv4bfEYti3lkiovK+65nKxdQeZK/sv0WG9u+HldWqLsmJvNsNfUMon9IrqXdnqUnGcgr44IpydksJjOGxyUzBbd2J/2yxsa59Wvbyxq7tyZU6Jc1Ns7bulWhA9l6ktWfyQPjghlTepU9IOGB/06RtSx3FQFVmIr9x4ytoePLC1Hocer6LDMsmnpUssb0BrYLoYfq/PHAM8Ngmk5HkxG4kmyAEUqyIqg76D9Y5XTky7YH2/LXGzYAAKWFblT7pS229W0Dw8IGjBgX9leSjVjBTNaUSg2KRzSLMWOyNtQr1b61MWuVUIssZK3IjdoSSda+bR0AwoFEOFRWi3D+JO99a0hxGZbw2MaUvSzGrGoGAEGqe2tzWWPzWjZjVl7sUea179oGpCpFvVulF7MZtzxSXDa0sx2yLOa14R54No9no+yxdTfYYfs1lOkM03TuxAIsTEWKx13fLq+hPbKsVWejJMufyQMP/Lp2riTnFSM9yVmGDQCApwgom5B8HJuSbdgAY2q1VER+XduAlJWbbdgAkJgYbT5mPcGw0lkqmxucjdn69mGyls0C7C4AyuXQgY7v9H8+h3yXZTwyg4UDbWgfSIxZcY0xWeuwd+H9rkAYnQEpHCobWRvh3TOyQ+YpSoRE2dzDt6FdKqmlN4SMkRSXzJozFFUBRRX6D5Ynsdw9wUTo3RR5jtLDDsPDLRQlOQtHk6c4ERJlc+NCUZKzXEPZ575rHZBlzcAaqijJ9h6z3mBEWUOnZiFr2cKVZAMwQd3aHcRQJKZSkrO4wYGE9WzzkIv1BjwHQGLc1qsVl+qZ+rdyAdWY2VvZMxI2AABT5THb1j0oy5oBTzIge5Nhew+80cVEUZI7AgkZyWYBBoCqadL/nfaWNebZG1emfysXSIzZ9t4hqcIF+75V07O7ICZrNh83Nq9lqySz+VAy/mUlOdsxyxNP8nrZsKgvLdAdegckQs+UMBU2H2W7hubNuNHI2ndtA6oxy8KLrP6czR1N69olo72upAB+Da3PqeBKsgEqiz0oK3JDFIENLZ1A90bphWwVF0VY7a24KHFBWWyBA4mJYV3bgCoeOcsbnCkuAy1S+IBNUSbFLJW9ymIPSgslWdvU2pUIUcla4WNeUXsrLqzpzJQsFxPm3drQPqBS9qZldzFM2RtotbWsMY9oNp49QNrOLZPLxm1s7U7IWmWWCh9TFG3eZtnouLHPbexQtS/P2rCQZTTYCQx2Z3eMHGBU2aso9qBSLuW1qbUb6JLX0GzntTxR+NYbNP5ZqOO6tv7EdzW6FgTabF25hzlMsgnzNAJXkg0gCIISctCy4WspA9xbCvhqsztglf2T9wZCUbT0DQHIfmJM8iQb9e4VlAK+OumxjRW+TUzZq8puARYEQdliatkkZ4B7/PozwBlV9vckB8NRNPdKspbtuDHlen17IOHdy1bZKyhRyZp9Qy42GJQ19WfbNq8GxBjg8QH+uuwOxhQ+G9+fwXBUab6S7bw2uUqtJMvfNVtZ8/oSTX86N2R3jByQUJKzl7XJiqytUclafXYHywODLBCKYnuvwTVUCSMLGMuFAqTKPSXjpcc2vkeZkpztmGULV5INwn6wQDMT1GnZhQ0AeeHdY8oe82xmAxuzzZ1BxNlkVjk1+4uqtn9cMlNcJhtQXNi49TfJ37NyKoGs2VdJ3tQhdVYqL3JnXTieLd6bOwMQmWJbmaUnGVAtwva9R1m4hRFZY8bFQJO802NE1th4d9rXsGA7FkZkjY23JGsGYmsZeTBu69vkOG4DiVRs3ALb5RCyqunZy1qFvI7YeMzYjkVlsSdrWWuUx2xLVxBiu8FwCyCx/nbZ17hQcgZymLQHcCXZMExYRabsVRhQ9pig9m4DIkMGr8wc2GLSaGABri8tQKHbiWg8nmhSYGTc8kDh20ihJMuTQ4xE2ZPHrGeL1CzChlCMWUNpIQrcDkRjMYidBOOWB17RDQZDVKTPyvMau6ey9YgCCcOiZzMQDWV/HBNJhFpkP2YNpYXwuIbJWrbhFkBiPbC1wmfcu6esJZSGRe9WIBrO/jgmwioUZRvWA0hxuV6XA7F4DCILUTHiaFJkzb5K8sZOeT2ozF3SHsCVZMM0VhYBAAr7N0lPGBHU4mppCx1iolSVzWCe5EYDgioIAiZVFqEW3XBEBwHBmai2kA1MwWYx4TYjFhexRe43b8i7J3+2sE82LIwoe8VVUqgKxIShYjM2djCPaPYLsMMhYHKVLyFrDpcxWbO5Jzkai2Nzp7HYWkAtayxG1ICy56uVttDFuG3nNYqwAYdDwOTKYjSgE47oEOBwJ6otZIPNPcnRWBxbuujmtQK2hhpxmPhqbC9rm+W1wMga6nAIaKwsRh264YgNSfNa6cTsL6rC3p7kWFzEVlnWJsk6V67gSrJBmBVcPiTXKayYkv3BBCFRLsmuiguz5qqMCWpjZTEmO1qkP8onAU4D2apszG06Ztt7BhGOxeFxOtBQVpj1cZisVYZkWTNikAmCatzsaVwYTaRiTKkqxhRHs/RHeaMxWVOqgthTcWnqGUQkJsLrcqChNHtZYx7ViqEt0hNGDDJBsL0HfhPBDhkgyepER5v0R/kkwKm/4oOCzZXkpp5BROOSrNWVFGR9nMQauk16wui8ZnMP/KZOGllrrCpCI1tDywzKGlsLbOpJ3i7Pa0bX0GzgSrJBJlVIgj5elIXViBUM2D42iGoxmVRVhMmCrLgYHTO1smfDrl4sbGBSZRGcjixj7QBMrJAMkwmiPG5GFhPA9sYFRRw3AEysLMIUJmtGlD0gMWbdm2wpaxtUOz0OA7I2qbIIggBMAJGsKR54eyouW7ulkCM2n2fL5KpiTBSYkjzZ2EUpSvJ6W8oa84hOrCgyJGvMozqezWsVBsfN5l5RNm5GPaKNVcWYJLRKfxhxzgEqvWODLWWNGRYTDa6h2cCVZIMUepxo9AN1glymp9KgsNpccdlEsFXEPt8oyIaF0QW4fBIAAQgP2LKrF0VsLQAUuJ2Y4hdRK/RITxg1LtgibtMwFcXjYljWilSLicExK5sICA4gEgAG2owdywTYluREgwuw1+XEVL+IaqFPesKowmdzWWNhAxMqjHmpGquKMZHJmpGwHkDyDgpOSdb6W4wdywRYWM8kg/dnoceJKSVIzGtkxoU9DbLNRPPa5MpiNDJZM7yGNkrzWnjAlvMaRZhntnAlmYA9y3oAAGF3KVBYbuxgFSqLzmb0DkbQJXfyMuxJrizCZEVJNujdc3mBUrlboQ3HbVMnjZIMALuV9gAAQp5yoLDM2MFsbJD1DkbQE4wAMO5xmVih8u4Z9VK5PIlySTZU+BQvVYXxuL1dS6Va0NK8VmbsYEoYmf3GbDAcUzp5TTQ4bhPKizBBkA318kZjF+byAKXjpMc9m40dywQ2EXlEAWCPMskYC7tLsutQqMbGSWj9QxGlQ6HRcZtcVYxJbA016kl2eYFSeV6zoQc+4ZzLbTwywJVkEnYp7AQAdHonGD+YEhtkP8WFWcDVfm9WXePUTFZtFUXLGo1emq1juam8ewCwc6FU7L3LO87wseysuLAxq/J5surkpWZSZZHi3YsZSW5hVDRK/9tw3Ki2cgFgdqG0O0Yia0xhtGEy1bZuacz8Ba6sy1oyJlQUKgZZzEjSHoMdo9t+SvJmQsVlpwJpDe3yjjd8LEXWbGhYsDGr8nkMd42bXJXYjaVZQ+1rXFCFeWYDV5IJmOaSPAdNjiyL7atRysBttV25JLYlSeGlqvV5FY9Lq5Ng3GzsFVW2csuNj9tUdwcAoFnIsmGNGjZmNiyXlNj+Nj5mdX6vori0uRoMH8/OoQNbuljsnvHFZKpLGrPtFPMaG7PebUAsYvx4hGztTtyfQrb1eWXqSxNKcqcry4YYaljIhi0VPppwCwCY6pSM2O1OgvuTGRa9TUAsavx4hGwiHLNqn0cJt2h3EzpNerYYPxYxVKF32cCVZALqRUlQN8aqjR+suBpwFwEQpQXFRmztkpJbKBQXx2AHioQQ4qKA9WGD22uAbZVkURQVhc/oVi4AjJNlbQOFrPlqJVkT45KibCMoDTLHYAeKmaxFDIZDAbb1wKtljWLcxsnJyBtiWXZ1VOOrBVwFUkc1my3CWzrp7k9nZAAVQr903HiV4ePZ1ZMcj6tkjcCT3EAta06PJGt9TcaPRwhlOJQQaEOhEEZMFLApSrCGlsm7bDa7P+NxMZFYy8Mt8pOK0HYAwJohAkEVBJWw2mtipPTusUm/GRXY2kdg7SvbufYas/aBEIYicTgEkJSuqYxIGeBfBwmUPUFIePhsZlxQGhZsi387KrGpJ2b8eDY1yNr6iWUtLM1r3wxVGj4WHA7VPWov42KLYvwTlJaS558u0YfNAWPb6QASSrLN1oLW/iGEonG4HALGkciapMyuCRHJGstRsZnCx0J7SNZQ+bs1oxJb+wjmNZsqye0DIYSjcTgdAupLsy81mC1cSSagKCh5fL8erEAoOnaFVbnByykWk00AgK1iDZq6CTq+ldlzUmSxtfVyNy6jFA1I3291qBLBMKVxscn4sQhh3j2SxUT2+G6N1yjKtyFsGm7BvltDGZGsBaTdha+CFUSyxsZtk/FjEcLCLSgNsq1ijXJcQ9g03ILtKtaXFcDlJJC1oGSQfR0sQzQWN3w8u47bNnmtG0exhsprXZNYhW0U85pikNl1DaWRNb1wJdko8RgcfZKSvCVejeYegnbSNrWCzfDubYnXKBOHIdgNHmizVUtv0jGLx+DokxSXLfEabO8Zu8ZFYiuXIAZNlrXNYo0y4RqCGRbBTiDUb/x4RFAm7SEWhVMOwdki1ihKkSHYuNksTIXJxHhqJZlizGwaX9vUI49ZGcW8FoezX/Ikb4lVobmXYP62qaOJOYTGEyrJ28QqojVUHrP+7bbKUVHnDFgBV5KN0t8MIR5BBC60oIJWWHvsEycai4vKDU6zVbQJALBVrFY81IYoLAfcskJlo1juLZ3SmJEoyX1NEOJRc2TNRjHJ0VgcTT2E48YMMrFGOa4hCkrklt6wlaxtpTTI+rcDYgwRuNCKchoPfIX9PMmiKNKOm+y53ELlSfbVAk6vHF9rH1lrovSIDrRCiIURgwMtqKAZNxt6ReNxEdvk+YfEuFCU5GqataC4Ws4biNsqlputoSThUFnAlWSjyBN+l6sGcTgUC9sQNrSCm3ulFqQepwO1BlqQKnQnFhMSxcWmsdxbCMu/MVnrdNXKskYwbsquhX2U5ObeIcTiIjwuB2r8XuMHlOVhG1VoDwCU2s+QZfJAESPKvle3qwYiHDS7FkzWbGSQdQXCCISlEDmScVM8ydU0W+AOhy13e0hlTZaHbmcVYnBiG4kHXr4/bZSj0hGQYmsdAlBHEVsrj1uTWEXjaLLpGkoaDpUFXEk2inwT9hdKJVhIQwdsNCkyZW98eSFNW0jVtmRrX4goltt+i/BW1bgZRpa1AVnWSGO5bTRm6gXYSLtbBfm7bROr0BkIYzBMKWv2uUeZIkvi3ZPHLFBYn3RsQyhjZh+PKJvX6koKUOB2Gj+gateipW8I4ShBfK0NK1yYEVvbX9AgH3tsepLZmNWVFJDkDKg9yXSyZj8H3VbKggFZwJVko8gWV9gvLQC0sUHNtokNYtY9SdxeLKJs57S5pBqsJLHcNrzBmcI3niKeSlYuIj5Cg4x5RAdabRPLzRSyhjICb0s8BvRJSUE9bqm81PbesemBZ7LWUEqnJId9UnOHbSSeZLlRRLATCAeMH48AVlqKJmcgrsw9rc46xEVpB84wNkxCU2JrSXYtpDELy/PaVop5jY1ZX5Nt1lDSEBVRVOaedmcN4iLQMkZjubd1E66hWcCVZKPI1r0gJ6WQWMHFVYCrEIBomzi0hLJHcIP3N0txT04vCsskJZlG4bOX4hKLi2jpkyYumm1JSRYc5dJERhJuUVQh1+WGbeLQ2GJCouz1twDxKOBwwVNWn3R8Q9jMAx+Pi4qhSePdk76Xs0xSbEnGrKAM8Pilx732kLVE0h5NbC2iQ4DggFOWD9LkPZt4kkVRJDb+JVkTypijiWINleNrbbSGkip7gQ4gOghASMgaiQfeXkpyJBZXDE0ek5yvyIpLYZU0kZEoe4Jguzg0xbtHEkslT1ql49BQLiXbjcVY7rZ+KbbW5RBQTRFbKy8mBbKskSgugmC7airM00sTNiDLWkkD6st9AIiMC+YVtUnoQMdACOGYFO9IkjMgy5q3uhEAUbiFel6zSZgKadIeS0gsHY/6CskYoC0DZ48x6xgIIxSNQ6CKrZW/V0G1lNhJYlio42ttYlywNY4mZ0CWBX896ipKAFCFqdhrDW3pHUJcBDwuB6p9BGtoFnAl2SjyYlJaLzUYGKuxQUxxoWhSkFCSxyue6bFYqYEpFnWlBTRx3PK4ldZJi0lrP7Gs2WTcmmSPKI2syd+pdIKidJMYFzZL3GPhEHUlBXBT1BKVv1dJnTSvtfUT5Q3YzLigbBmvhEOUNyrHIyk5aLNkKmZk1vqpYmuT11CpUQlF3oC9jIttlOXfmJFZNoF4DW2U/rfJmKnzU4y2jM8WriQbIR5X4h3L6hrhdTkgjtHYoO1mKC4l42kVFzZmffao80iq7IlikpLMZI0k5tFmuxZN3YQeF7WSLJddIvEkszGzSd4AadKeStZKaqegwC0tEyTzms1CosyoPoOyScrWMKni0t9si7wB5rGkkzXZIKudgkK3E6KYWG8MYbM1lDQmmX2nsolK+Aapo8kmayhb36zotMfgSrIRAm1APAIIDgj+BpVFR+A9sNFioo5Bo4ytlTzJhDd4Uhya9TGP2ynHLNABxEIABAgl44i9ovaSNbZAUssa6ZjZTNaUOG6KMQt2yvGOgFA6TjkmjazZx5McjcWVxhUknmS2rV8+KeFJplgLiioAjxQqZIfdHtKGGMFOICKNkZC0szi2uhWKokgbk5ykJBOOmc3yoUidc1nClWQjsIne3wA4XeZYdDawgjsDYYTlGDSaeEeV4sIWYKqYR7YI22DcSKs0sO01fx3g8ijjRlJ1wEbhFt3BCAYj0lYrTbwj8ySbKGs2GDfaGsmyrPnqAJd3zMpaa38IsbgIt1OgqcfNlIrSCUq5Krr4Wvsk75kma+4C2nGz0RqqntdIvKI9iR0yUr0jqVay9eNGmguVJVxJNoIqAQ1IbKOMtTqPTFBr/F6aGDSVkjxBHrPm3kFEYmMrvlbZXqPorqQaMyDhxRlrnmQma9V+L03dWjZuqti9lr4hRClkzYbjRlkjmYWUsHGjaSjCjFjrx6yZxdaWFBDV45Z3FErGKZ7kjoEQUV1u+8Qlk4YNpJE10iQ0GxgW7PvUUM1rKk/yBNW8RhPLbUMlmXuS85Q0istY66NOvuXRm/C4VPm88DgddHUebaS4NJF6kpNlTfHuUZYz62sCYlHjxzNAE/WkqIpJrpZlTV2azxA2Ch3YRhluMUzWWCk+UoOsr0mqYW0hLNSCxLMnqsJuSsehtMgNv9cFgGjnwkahA0ojEUpPsiwXE0h3Yxul/wdaLI/lpq+RzJTkSago9iix3GOt3wDTPeq5kpynjFCSCW9wX41t+qgntjwIBHWoFwj1SY9Lx8HhEFQe+LG1xUYak5xG1khK5/nqAIcbEGNScpCFJLzvBIpLkqyNh8MhoF4+LmmiqA3KmTFZo2nukDAsgMTCTtKExV8HOFy2kLVEUhBFbG2XVCMZAEqknUUmazTGv2yQyYniVkFeI5nJmnwvJRIeiWK53VKJUat3FknjkQe7gYjcjKd0PARBMMdBZwMPvFIOlGI9yBKuJBuBxaCVDPckE/VRt0nMI21srTxmhRWAR5rATNlis3jM+oci6BuSvLIkVrDiEZW+n5KERuGlcjhsJ2ukhoVK1kjjkm2ya6GWNdLqM/K9RJq453ACJQ3yeaz1wCe8VATzGlsLiqsBlxTfXFdKaFwoY2atw6RvMIqBkCRrpNVn5N0sZrA0UxgWSWuotbLG1jaSZEe2m+CrBdwFSccdSw1F+oci6GdrKIUhmyVcSTZCmnCLlr4h2vhai4XVrBrJDFLFxSaxe2ySLy10wydvuxoiTbhFc4/UsMQwZfZQ+EjDLVRJe4xxlAqfTbrusTErK3KjmELWhm2BszHb3jOEOIWs2aTGNPMk07TxTsQjM1iyEYknmR3X4l3FbfLOVWWxB4UeitjaZOOfhb609YeI8gbYuFnrgadNdkze6QES8yWJcWETR5N6DSWZ17KEK8lGGKa4VJsWX2utkmxWcwcG6VaREvO43dL4WvrY2mRZqy0pgMshIBoX0dZPIWv2CB2g9SQne0QBlVeU0pPcu02qmW4RpGMGjJC1utICOAQgHIujIxAyfnyb7FqQxiQr8cgJg4xVZyGpZc6U5P5mS2WNNLYWSEpAA4BKnxcuh4BYXETHAEEuDvPAW6wkkzYSGTZmQEKGWyh3LfpbLM0bIF9Ds4QrydkSGQIC7dJjeWIUBAG1pdJWWytlYpDFN7iZsbUAaOvX+uX42njU0pjHxJgRLMCRwRGy5nQIyiJMmrw3Jg2yFLJGoSSXNACCA4iFpZrpFkFaIzkcAAa7pMeyTLidDqX041jywNM2SEq0P2c0UIYO+OsACJKsBTuMHy9LSJP2hnqBUK/0WJYJp0NQZI0mTMUeHvhEHLc5a2gdpaz5agHBKeUNDFg3r9mh/BvAleTsYTeduwgoLFeeri8hFFYbWMGhaAzt/ZL3iGYxSeFxkceMxLBwOIGSeumxheNGWrqGjZm7OEnWxloZuKFIDB0DkqzRGmSqXQvKcAunG/DXJ5/LAraZsZXrLQUKSpWnTYnltnDMQtGErJF6klXhFoonmaLigNMtK8qwVOEzpamUKmcAUHtFKddQ68ZsIBRVYmvrKEJ7+uV1TSVrpGPmcKpkzbo1tNkGjUSAPFSS7777bjQ2NqKgoAB77bUXPv7447TvffjhhyEIQtK/ggIiq0Rtzal6iteZcoNbJ6jsexS4HSgvchs/YAoruF7ZlhyCKBLEPNrAe9BE6XFRJ7eoZI3UU6UuA2cR7HsUeZwoM0nW1J5kElmzQUiUWR0K1TQoccljo1Zya6+kIHtdDlQUe4wfMIXxzxKdScItAFsk77H1gERx6Rup7AHqMBWKNdT63Vg2Zn6viyY/RRm3xK4F6Zipj23hesDmGpLEWgPklZL81FNP4bLLLsM111yDlStXYs6cOVi4cCHa2tJvCZSUlKC5uVn5t3kzUUJXCs8BkKzwGabE+qQDZUuytBCCQFFwP9VWkTRmg5EY+gYJ4oiZd8/ScAsTtnKHKS618riReOD9bFK0bszUYQMkspYiwYVlSYeicXQFCGIebRA60CRntNM0d2DxjhOSniYNiVInBlEYKlmwXSn/VkAja0qlI7UnWRqzvqEoAiGCec0OThN5riHphqmsoQ1JTytrKFVIlPpcFsCUZJIxA1IaF3VyiIrktY4YP4cNZI1018IAeaUk33777Tj//PNx9tlnY8cdd8Q999yDoqIiPPjgg2k/IwgC6urqlH+1tbU0F5NGcVE8yX2EN3ioFwgNGD9eFpCGDcRjKRNcCtwJzyFJkwcb3eBmKsn1pIlBsmER7geG+owfLwtIZS0WSRhJKoXP43Kgyid5DmllbawYZCPvT0AdbkFo/IcHgKEe48fLghYlaY9iXosnfv/ShOLi87rgL5A8h7ReUevCVEgVPjZmbO6RUcrAUd6fg91AmKA8WhaQGhaxqJRQByQZF8VeF0pkWRsr1VSaKe9RA+SNkhwOh7FixQocfPDBynMOhwMHH3wwli9fnvZzAwMDmDRpEiZMmIAjjzwSX3/99ajnCYVC6OvrQ39//+gXlKJKA0DsSfb6AY9femyRV5S0RnJ/i5QM4HBJyQEqmCVMmglu0Q2u7uhm5hY4G7OWPoKKA57iRAyqRbLWRJns2LcdgAg4PUBRVdJLLDGI1APfb41BFouLaKeMrWW/vT9ZcamjHDNPkRSHClhmyCqeZApZC7QB8QgAYcS40Rqy1hr/8bio/P5mxXGrj02i7BWUJhqKWDRurOIEu4cMEWiT1lDBKTUcU0FaBs4GsqaUaOThFtro6OhALBYb4Qmura1FS0tLys/MmDEDDz74IF588UU8/vjjiMfj2GeffbBtW3pL/KabbkJpaSmmTp06+gUpisvweCq5VvIYiQ0ypUZySYOUHKCCNlmDJe5Zo+y19Uu1i10OAdV+r/EDMoOsJM2uBVnMo7XGBal3j03u/nqpWYoK2pAoa2WtYyCEWFyE0yGgykcga2m2wBM7ZNTzmjXj1qwKIzMM877766QEOxWkzTHYWmNRTHJHIIRoXIRDkMqdGoYZZGlkjSTcQhBUtZKtGTfaUoPMiK0bsYaOpXyojkAIkZgka7UUxoUB8kZJzob58+fjjDPOwNy5c3HAAQfgueeeQ3V1Ne699960n7nqqqvQ29uL9evXj37wNNuS5MXQLRZWs2skMxTjgmSLzdpYbrb9XVtSAKeDIt6RyVrqBJd2KlnzW6vwKduSFJNiigxwhuJJHgN5A2wBrvF7iWRtdMWlYyBE0yhJyRuwatwIPckp4pEZifja/N8CZ8pXtd8Ll5NAdVAbsirYWtPaH6JplGTxGtqqhFtQGP+pjVjArHwoi5xzPWxeK4CbQtYMkDdKclVVFZxOJ1pbW5Oeb21tRV1dnaZjuN1uzJs3D+vWrUv7Hq/Xi5KSEvj9/vQHEsWU5aUAoMonLVZ0xdCtFlbCrlRpttcAVegApRXcv92SwvutlDFooqjyHiRPjFXFUuH9uAhly90QFi8m7LevNTHeEVCHqVCEW8jHH2ixpPC+MmZU3pb+1LJWUeSB2ylAFCUHgGEsLtOotKSmkLXe1EasdHxm/BOHW1gwrynxyFSylmY9SF5DKWTNHp7kulKKnZ6RlS0YrJQqjaxZ27yGNMzTIHmjJHs8Huy222546623lOfi8TjeeustzJ8/X9MxYrEYvvzyS9TXj1w4dTHUA0QC0uNhwup0CKiVt9jHQhxaaw4SNQBiK9hXKzV5iEctKbxPupiE+lSyljxuDlXhfdI4NIu8e7Se5NSxtQBxuSS1rLGGLzmklXLMQv2SvAEpZa3GT2nIWu2BZ9UtKI3/8SNeYvPadgpPsr8egCDFP1sxr1Ea/+GA1EwEGCFryWsoZeiAtR54psQaYhRHE+kamtS8ptP48XSSKP9mbdIekEdKMgBcdtlluP/++/HII49g9erVuPDCCxEIBHD22WcDAM444wxcddVVyvuvu+46vPnmm9iwYQNWrlyJ0047DZs3b8Z5551n7EKYsldYAbhH/ojmxAblfgs8EIqiP8SKoBNugftTWMGUY+Z0A8VyUoMFEyNTXEi8e+x395YmFdxn1JbIHR5JJkbrvHtDkRh6B6XSRSQK32geF8rSeU5VEqoF40ZbkkuWNY9fShoeBum4WVimcTAcQ3dQkjWamOTU+SlAIpyDbF5jsmZBIxZS41+RNR/gLRnxMmlcsoUGWSgaQ6dcapImJjl1iApgwhqqzGu5X0OV/BSL45EBgKCyde448cQT0d7ejquvvhotLS2YO3cuXn/9dSWZb8uWLXCoknS6u7tx/vnno6WlBeXl5dhtt92wbNky7LjjjsYupD+9oALESS4WbhWxxbDY4yQqgp7Zk0yaGDTQIk0qDfNojqmRhOJCkdzClL3UsiZ5wnryPg5N3bSmpJBA1kbxJJMmibJz9DdbovCRhlv0pzcsAHUFmvw2/pkXucjjpJE1Dd49khbLgKSIs3lt3K40x9RIovwbZde4hqQGSYz6skJgS/7Pa219iaY1JA2S0iQ7AupdC8LmNcoaOpfmmBohNf4NkldKMgAsXrwYixcvTvnaO++8k/T3HXfcgTvuuIP+IkZR9gBVbFCeZ5kyQSWJEQVGVVzYOXoHIwiGoyjyGBTNkgZg+0prxo1UcWmR/s9gkJF49yys1NCilJYiaiQyiieZ/S59Q9ExI2ukmfPp5jVTPMnWjhlNg6TUSdxAQqHsH4piIBQ17mwoaQCaVli6HpjtEQUSHsR8r5vfrApXpJnXRsnrKU3Ma4FQFMUUsrZ9paXGhdWVLYA8C7ewDRkUF9osU/kGD3YAESLPl0ZI4x3j8VHHze91odgjlbTJd+OCdNxGUfbU5yD1uAQ7gChBwowOEiEqBN53URzVIPMXuMecrJF6klOEQwEmJdcGO3M+r22nbK0ci0reNiCl4qJuKEJSqlHxiloXbkETRpa++gyQUPhIvKJJskbkZdVIM2WNZFEcdT3wF7gVIyzfq0S1UM5rBuFKcjZoDbegWEwKywGXLCg53s5t6ZUUJZIbPNipKrhfN+JlQRCIw1SsUVxEUaTdKhpF2VOfg2TMCssBpzf5vDmCNN4x2CklnAC5uUctiq8ll7W+0UN7aqllzbJ5jbq5Q1xK3hzW3IHRQFkr2SLFRS1rpJ7kNMY/M2DI1lB3UfJ5cwRp85Vcz2t2WEO5kpynZNiWVDzJFKVYBMEyYW2lDLdghkVx9YiC+4x6ykYsSgmb3I5Z31AUQxGpZA5p4l6GLXCSMbNQ1khDe/pUsubypHzLWMgbkMJFpLJzpMlUGXYtyGTNIuOClbAjDYcqrhnR3IGRSEIjVFxy3FAkSdZyYJCRVqCxcF5rpozjZvPLKPPaWKiV3DsYQTgqraE1FDuLBuFKcjakqSXKUGL3ekOIkxRDV9UszCGKkkzRNS6DsgeAtpyZRZUa2JiVFrpR4E69aOpC6xZ43xBEMX8L75OGqGTwvkvnoWxeY00st1rWCj3my5o6uTafZY3FO5IswANy3f4Uu2MMVuuVJHmPxT3nWHFhslZWRDyvpQm3qFfFv+dzQ5HEDhnlGpr6/pTOwwzZ/C0/20ItawbhSnI2KItw6omxxl8AQQDCsTi6ghQNRayp80gbNjD6AgwkT4yGUd/gFAu6RugL7o9uXDDDIhyNK2WtDGH5YmL+Vi6QqDxCE27x/ZA1plSGo3H0UMiaRYZsW780bjUUxr+SZ5FeSVY6PPYRN/zJoaw1k8va6CGLNX6pW2k0LqKTtKFIbmO5E2uouTWSGabkQ+VY1th9YodQC4AryfqJRYCBNulxmkXY43Kgyke4CFvl3SNN1BjdsACIt9jYmEWCiaL1OYA0bCAWlWIegbTGhSRr0tZbPsfXknbb0+RJpozdk88TCSSaceQA0jGLRVRe0dSy5nU5UVEsyRrNPWqNrLFFuNpPMG5szFhN2RQwWWujMP7ZeeIRINhl/HgaIW0qlbSGplb4nA5BMWJIQwdyHKZCW31Gi/FPGLLI5s/oIDDYbfx4GiHVOwjgSrJeBtoAiIDDDRRVpX1bvscGxeOiErtH6kke5QYnrV/rLpSavQA5NS5aKbfXBlqlpCCHS4pDS0OtEnJBmT1vkazlzJMsLSYkuxaeYqCgVD537hS+RHILVdiAqFnWaHZ7cp+EJooi2pWYZApPcmbjXxmzfoIxc3kT8xqrqpEDSD3J/S0ARMDpAYoq076thlLW2O/DjJocEI3FlXktV0pyoi43xRpakNBxcniPJipbWB+PDHAlWT/qSdGRfvjyPTaoMxBGNC5CEKB4xQ2RoWweQByTDFgybqa0VvaNLmu0Blnu42s7AiFF1qpJ4t9H38oFiEvnAaqQi9wZF7RbuSrvuwZZI4nltmDXoncwgnBMSgoikbX+zDHJLEyFJNwCsGTcmAFOmrSXYQ1lnmSmaBrCgjHrGAgjFhfhdAioJFlDM4cs1lLuWgCWrKGk+SkEcCVZL+obfBRIQwcsiN1jglrl88LtJBATDYl7bAHuDISU7FZDsBs8hxUuSCuCZMgAZyQSRfPTu9cqlxokk7X+zLLGxqx9IIRIjFLWcrcIt5J69zIbFoBq1yJPu+4xhausyA2viyApiHlzfZk9yR0DIUQpZI2tPczxkANIwwYyJO0xmCeRROFTxix3nuQWVeK702FugyQGG7POQJhmDVU88LmTNdI1lACuJOtFg0cUUFl0FFYwuykGWoF4zPjxNECeFKTBCq4o9sDjckAUTUjeyxGmeJIzyBqpV1TtccmVrFF7Dvoyy1plsQdupwBRhLL9bggLPPCJ8lKE3vdMBhmlkqzuuhcnWNA1wOYVkqQ9QOVJTh+TXFHkgcshyVrHAEEitwVKcjNpfoo2g6zGT7iGqpW9HMka20UmU/Y0KMnlsqwBklFmGCsMMsW44EpyfqIhthZIbOWR3ODF1VKxejEOBDqMH08DLH6OZFKMqAL/R1mEBUEg3mKzQEnuJazBqmFSBFTJGlSJQYIDEGNAoN348TRA2l0pMggM9UiPR5E1h0NQFmGa0IHch1uQdtvTYFgAqqogZN49AYhHpS6POYC03W08pkrcS+9JdqiS0Ejja3OouCSaYlCE9mib12pLCMdMSXiMSk05cgBplYbQABAekB6PsotNLms+K2SNMBeKAK4k60VDlQaAODbI4Uwk0+Ro26OV0kvFPKKuAqCgbNS3KkoyyWIiT4w5StaIxOLoDFAmO+rzJJNMik5XYkHJkcLXakYGuLsoo6zRhqnkNtwiFI2hMyB5JUkUFyVERZtBRiNr7kSXuhwZssz4JolHDnZKxiSEtN32GDVKcm3+xXIPRWJKeUmaZEdtu7GJxD0Ch4lTlWifozWUtNQgW8PcxYDXP+pbqyl3sXNskEViccUDzqtb5CsZGokwSD2iQM6FlXTLQ50UJIwem0UapqJYwblZTNr6QxBFwO0UUFGUuiOSLjR6XFhiEL2s5ca4MK2NdwZZIw1TyXEtc+YR9bgcKC9K3cFSFxoaFQDJzWtIyLHCl1BcKGRNnouLq9J2EWWYEl+bI+OfhSN5XA6UFhLImoYGLIAZayiTtRwpyUrTGkJZGyWsh1FL6mjKbUxyu7yGuhwCKosJ1lACuJKsFw1JQUBC2euiCqDP8bZHC9uWpFRcMizAgHpizL9kjUS8YwEcFIkaGj3JzJDpCUYwFCGII/bldmKkDRvQIWuUxkWOF2B1mSQhgzGgCabca9y1IJM1i4wLUu/eKKEWDNKGIjleC9j9UeMnkjWlas/oCh8bs84AVcKjfL4cjxvJroWGBFEG7byWW1lT5wyQrKEEcCVZL33aFJfyIjfcTulHbs/DAPo2CxLQAOItNjZmgbacJKGRFtwXRc0KX0mhCx6XdCuTJKHleteCtNueNmUPUCUGUXpcAh1SExiTIS2TJIqavXslhS4UuB1J12AIpXJPjj3JOaqRzCCtL62+P3PQCa2dMmwA0FQ2D8j/hEe1cWEYXZ5kQllTHCatOUl4VJRkm4RaAFxJ1kdoAAj3S48zLMJSEpoJE2OOvHukW+Aayr8xSLfYkhIezU9CI63SEOqTOrgBGmUtf70HCVkjXEw0yFotpcelqAoQnADERJdEE0l4RKlkLSg9zqC4qOc1Ug98zuJECeMdNVS2YCjJVCRhZLntupdQ9gjGLBxIrKEZPMkOh6B4YUkNshyF9rSbEdqTa0+yrwaJ5FrzEx7t1pIa4EqyPlgrTW8J4PVlfLtS4YLSK5oDxWUoEkOPkqhBcYNry5wHEhYkXcKjnFCTg3EjrdLADIuCUsBTlPHtpAmPbPHKQczjYDiG/iHJ80riPdCzLakoexSy5kiMWw4WYdKtXKbsefxS98AM0FZqYGNmvqyJokgcbqFd1kgTuV2qTnW5kDUltpbQiHUXZUxAA4hlLYfzWjQWVxJrScZtQIdBRp3wWJy7hEdS5xwRXEnWg7LlkXlSBBI3eDvFIpzDODQ2IRW4HSgpcBk/oMaKIACxdw/IaYWLRHkpyq3czB5R6ZyU3j0ma7lQ9hKy5vcSyJoe755ZspYDhY80bIAtfhrGDFArfITxtTlYgPtDUQzKcdSk3r1ch1sAOY2BN6VKg682Y2ItoHKa5FnXvY6BsJKARpLErceTTKl3ADl10LGQRZJ5jQiuJOuBeZJ1Ki408bW5U/bUWx6kiRqaEvekMaNPeMydwkfqOciwJcnI14RH9VYuiazp8iRLY5aPCY/tlFvg7HfWMGYAcQ34XBoW8rzm97pQ6CHotqdLSZbGrDsYQShKIGs5DL8jDbfQ6WjK16576o61JAloGnMGAHWHxzBNN9FcOuj6CUMWieBKsh7YhKRB2QOoFRcWu2d+AD1p8Lw6KUiDwqdOeKTtGJS7RZg2Bk2jkmxG9nwOEh5Jt78BzUlBAFBa6CZOeMy9wkcaNqB1h6yEcF5TZK3d9IRHUiMW0FXdQi1rpB74HIZbVJOGDWjdjTVhhywHXfcUw4JK1nQYFxV53HWPvNMvAVxJ1gNLyNGouJB6kotzF0BPmpU71AtE5cVUww2ezwmPpOOmIwZNfU6yhEcIOenwSKq4hPoTyY4a7lHyhMd83bXQHUYm3Z8khkVx7hIeSb3vSRVBtMlaLaVxkUPFhTTcQkfYAGBi171BcxMeSccsMpToIqphXktOeCQ2LkyGtLY0EVxJ1oMSbqFxW5Iy5tHpSnTdM3kRJi24zxYSbyngLtT0EdLtXCWZytwbfCgSQ++glOyY62xmgDjh0elKdBAzXdZMCBvw+DQl1krnJYzfy1GTh3A0rnRAI71H9Yb2UCzADqdK1sy9RxM7ZASKy2A3EJPLkml1mijGf/5495IS0ChlTbPxTzhm6q57Zs9rlMoeGzOnFygs1/QR2s61uZG1wXAM/SGWxM1jkvMTVkZM56RIIqhAzuKS29n2Wo7rOzJo49Byk+Ci7kpVUkiQgKZ7W5Ipe0RJaDnKBG+jlDUlHlm7rJmynWu2rMlbqG6nQNNtT68nmdIjCuRc1mg8orKSVVgBuLQdz7RaySbCEtCcVB3QdBv/1Mm1uVkPTNlV1JjsCKjC70h3yMweM+m+IEviJoIryXrQ6UlmN3hngCiAPkfZuWwRJr/BNUKruORoAabuSpWld6+TKuExR4swmxhpDTJt9yeQuEfzqcQUMx6rfdbIGjP+yZPQcqS40JS1NCJrlJUacnN/Vvk8xAlo+kIWOwMhojU0NzuLptRIzsLR1J5HjibyJG4iuJKsB52eZHUAPYmHTwkdyJHHxYJ4R4B4OzdHHYOs6krFKC/y0CY85kjhazfL46IRUllTwi3MTXhUaiRTxe3plLWyIjc8TsKEx1wZF5QGWRayRlor2Z+beY00GRnQ7UlO7rqXP7s9pnmSNUIapqJ2NOVE1uwTagFwJVkfGrtSMdQB9OTZuSZiSkxyFotJK0n2fG4SHq3qSsVwOARU+yhlLTe7FlaWlwKI67Cy5FoxZmrCI+kCHBkEQr3SY42yJggmzWu5ihO1SNaUJDSKeY01SYpHTE1CI5W1aDhxrdmsoZQeeLPXUIsdTaRJouoOj6bKGmHOACFcSdaLxq5UDNKEqhxYwclJQZTZzNqVZCXhMY86BlnZlYpRTRrzaP6uRTgaR5cZXamy8SRTJ9eaKGtsC5X0/nQVSN0dNWJON9EchURZpbhQevdcnpwkoZlS+93p0ZyABpjUdc/ENTQeFxWvN42jSZ/3XX1e+oRHE+c1tkPm40pyfqMjLghQ3eB5EkDP4pE9TgfKKJKCdCagAcSKC5CTcbOyKxXDlHJmJip7bCEh70qlS9ZMSq41UeEj9b4blDXSbqImylowHMWAnDlPEpOcjeLCjNheKlljuz3my1q1lbKWZ133uoJhROMiBEGK5TZMFjHJ+ZjwmDBiiUJ7iOBKsl50TIqAajHJkwB6JSnIogQ0IDlZI0qSrJELJdnarVwg/5I12JiRd6XS40mmTq7NgcJntUdUfe586brHPN5FHid8OW5/zmD3Z38oisEwRcIjGzcTPcmkFUH07yqqz50vXffYmFUWe+ByEqhYOjtiAol1iDzhMQfzGknOACFcSdaLTk+yaa2pTQqgJxdUnUlBwPBkjbDxa8jFDU5ayky/sgeYWBXELFmjrFsLZKXw0XenyoUnWRq3WotCVAB16AChJznQZpqstVKGqABZeZJ9XhcK3VI77HxpKEKakKyzsyODdg1VGbGmraHM0UTkEc1i3CqLPXCakvBopkFGfI8SwZVkvWTpSc6XAHqrk4KA4QmPhItwDryiVpUyA4hj95TEIPO6U5GWGtTZlYphWmJQTrx71u1akHqSc5BcS7rTI4pZjZsgCMQeePOT0Ei3wLP0JJuThGbevEa6hsaiiSRgHbKWlMhN2gbdPOOftCMmIVxJ1ouVnuQcBNC3U3r3skwKAtQKn/3L/khdqQi3wLP17lHG7rk8QFGl9NikcUt43wnjHXV0pWKYkhhkUjmzWFJSkA12LcjmNVnWTFL4SENUhnqBqCwrer2ipB54c5PQ4nGRtkRj1sa/WWuoOYYs6ZgF2gCIUut2dt0aIW3pbbInOaLu7MirW+Q5Oj3JpKWSANPLwCkeUZ91iRpAQnEi3ZY0SXHpDEhdqRwCUFls3WJCL2vmxiVb3ZWKUZ1HXfc6AyHEmaxRZIHbRtbMHTdTylp6SwF3oa6PklbuMXnXoltOQAOkvAHDZGuQmZaEZs56QNr+XPG+1wAOfeqaKfOaSWsoeRI3IVxJ1kuWnuR8SUKzQ1IQoLaC7V8VhC14VT4vnBYloAGJ36xjgEjWFK+oSbsWlOWlssgAZ9CGDpi7mChJQeSyll24Rd7Ma6bUrc1C1kjrS5ur7LFrrCj2wOOiSEAz5kmm77pnjnFBGg6V5VoAqMJU8iCRW72GkiRxE8KVZL3oXEySA+gJktDMVvjMKmWmEzbBkJSYUi/Aomj8eMMgL4Ke5WJSWeyFQ5C+Itu6MkSuDDKrF5M8kjXSrVwga4WPXNZMrgpCOq8ZMP5rTNkhMycJjXSnB8j6HjUvCc1cWSNJrCWRNeIxM2UNJTRiieFKsl50LibJndCIF2ETIA2eN3KDU25LqhMeg/TJGqTKnrorlU6DzEmehJYj757VikteyRqhsheLAEE5KciArOVD8xr221pVI5lRSypr5iY8qsuBGiYeAwLt0mOd96jDIRC3jzc34dG02tI6IY1JVnd4NGFes2sjEYAryfpweoGCMt0fq6EMHTAxJllKCrK2AxqDtIWrywMUVsjXRD9upMoeGzOHGyiq0P3xGjNKc5kwZkldqUhkLXvFJdHwx/6y1kq6ldsm/e9wJRLndECavGe6J5nSINNfI5lB6kk2uZsoqfEfaAfEOCA4El0pdZAvXfdEUSSWNQLjnyyR20xZI96NJYQryXrwVetOCgKIy8CZWAy9KxBGTO4UVFlM2CnIQLgFyQIMmBpTZYduewzamEfzvHvJXalsoriQyZp5HnjSxYRdX7H+pCAgf2RtKBJD72AEgHVtghn0SWjmyVq7GfkpxdWAw6n74+Z03aMfs77BKMJRKfTFypr5AHFVEMDUChek3ndiuJKsB7bloJMayjJwJsYkswW4sthL0ymIeaoMWMEdAyHE4gQxUH7zvAfKVhFpLdFsZc2E+tImet8rijxwk8iaccWFTNZMLANHu2uRfQIakD+yxu5Pj8uBkkKKbntG4kSlMesJRhCKEnTd85mpuNgjP0V9DbRd98xbQ0sL3Shw6zcGRmAo+V1aj+iTa20+rxHDlWQ9FOurU8hQWlOTeJJVFQeIA+jpEzWy9ySzxKC4CHRSJGuYqfCRljLLflKUriE/kjUSXamoEtCy9yRXFnsSshawd2kuUo+LsgDXZ/Vx00rnmSRrtSVeCFnszozAgOJSWuhWKkXQ5g2YqbhYm58C5E/XPfI1VHGa6B8384oG0M9rpJ0dieFKsh6y9O6R3uBM4YyFgcFu48dT0U5ZJinLTkEMp0NQtuFpF2H6xYS04gDzvmfrcaEs+2OirJF28opFE0lBWSwmLqdDqTlMo7iYFzpAugVO5t2z97xGquwBWZfNA+Sue6RhKmxe2278WMMgrThgUNbypeseaThUPC43E0FWxr9pRQPM2CGjXA+I4UqyHrINt6CMSXZ5E4lBxNtFpNtrBjoFMRId5Ci32GitYFFUdaWiDLewgyfZXZBIVCWeGGm7UrVDkjWH4d0eO4cOJMmaxUlBAPH9aaKsKc0dKMYs1A+EB6TH2YapkO4smmP8SwlohONGNK/ZveseqUEW7JQUecCw04S2cy3tmJF3diSGK8l68OnPygVUiwl5EhrxDa5s5RJOill0CmKQtqY2KU60JxhBWI73IilfQ+VxsXnCYxul4sKU0eKarJKC1NdhZ09ykqzZKk7U3kloplS28PgArz+rQ5AqfCYZZP2hKIYikqyR1jHPUkk2r8Mj7T1qSuhdUZWk2GeBKXW5iceMvLMjMVxJ1oNBTzJ5EhqxwmeXTkEM0vq1Zil78qRYXuS2tCsVQ2nCYvOER7uU5GKQeuBNUlzYtZUVueF1WZsUBCQnPMZtnPBIupVrIM+CQRo6YJayJ8+5fq8LhR5CWcsiRAUwocOjSd1EaR1NxgwLgNiTbFLRAPLOjsTY74rsTJae5EpfIgmNpmOQWQqffbbXpOuQPS6UCY/EiUGJMaOOd8xuEa7yeSAIUs3rLht3QjNHccle1sxRXMySNarEWqOy5oUgANG4iK6gfTs82qVuLaOGcmdRbViYIWtUdWsNepLN6yZKHW7Bxs0eBlk+FA2wcyMRgCvJ+sjSk5yUhEY5MZq1mNggUUN9HaTNCmIhYKjH+PFk2LWRdaUyUDYPkJPQ5BrXNAqfOaEDtAaZcU9ytRnZ89EhYKjX+PFkSHd6CGTN7XSgosiTdG2GMEtJJlVcjM9rpKEDJnV4JO28KoqGx418DTXJA2+nnAHpOkwwyIiTa+3ckhrgSrI+suhKxSCtKWpC173kTkHWJ6Cpr4PEClYnBhEuwqReqmAnIMYACFkbZNK1EE6MJsS/i6JIHNpj3JNMWnHAXQh4S6XHhKEDdpS16jxIeKT1JMv3QZZl89TXQdI9zqQOj22UlY4GuyXFCqBxmthY1kiTRCkcTZTzmssLFJZLj0nnNWnMyMqBEsOVZD1kmRQEJLYS2im9B4RWsJ06BTFIb3DAFE+VcoOTdqWqApzZNz2gXUzo40T7hqIIybJG082LIiZZvj8pFBf1tYxxWSNNSjZh1yIcjSthR3bZtWBjRrIWAKbOa6SGRWGFpNRnCWnCowmyFghFEQhLDWLsUOlIug7CtQAwpVYyeYlGYriSnCNMafJAaAW3D0g3UUmBi6ZTEGG4RXs/VWKQ7DFj28wEkHrfDdRfVUNbqYF+AWY7A34yWaOISU4kPJLImgk1RW0tazb17rEcELdTQHlR9gqaAuGuRWcgjAhpEppNZY1A2ZOuxd6yxsas2OOEz0vQ2ZHE0ST9fh0DYaJEbvowFTuXfwO4kpwzaL17srLXT5eskdheI7LmCDJz1YlB3RSJQSZMjEoDFtIYtOwnRelaCA0yExKDyFuQEskaAERixLJG6HGxpawp85o940TZ9ne1zwuHg6LbnnFPcnmRBy75WmgSuU3wJFOGWxAoewDxzqLak0w2rxHGvgMkxoU6kZumm6gZxgVxkigxXEnOEbTdqVhi0KBU3J4A0rg9gkQNYFhiEPXESATptiSBlwowKf49EjRB1uyRFAQAHpcDFcVc1vRiSmJQJEAua9Xkikv2MckOh6CEtNm1BjxpnCiVJ5m0Koh8LYSJ3KTl34jmNSmR24yiATbdtTABriTniGpK756nCPCWSI+JJkbSBTjYJWVbA4a9B7SZ4OZtsdHEoBn3UgHEHhdPMeCRmyZQyxqF54BQ1kjH7XsnawQGmdcnNekAyLyipMZ/ZBAIydVKjMqaovARGrJmeJJtUjNfuhbCcmbuAqBATq4lUvhIZW2oR6qOA5CFqZDEwBN7kpOTuLkn+XuNOr6WBOIycKSlzNgNZDBRAzBrMaGZFAdCUQRZooaNvHvVlN49gDwJjXRSJJQ1xSDjsqYZ0nALgFzhY4mYtZTJji6VgpUltAYZrSd5MBxDf0hqh0yTWEvsSSZbQ2kVPtKa+WzeKCiVquUYwJREbsJ5bTAizWu8usX3HLU1J1LEQBEnBtkxUQMwazGhUvakSafY40QxRaIGsXePTNZ83xdZMyOWe6zLWmLM7ChrrWZ5RAVj8c01phhktMpegdsBv00S0IDkeY0muZZW4WsnjeOmMWIBkxK5ieY15jQkm9dMIO+U5LvvvhuNjY0oKCjAXnvthY8//njU9z/zzDOYOXMmCgoKsPPOO+PVV1/N0ZUmw6ykcCyOnmDE+AGpPcmUW+BEkyJg0lYR9fYaVbwjmSc5IWu9gwSyRu1JtqusUe72fN9kLRpH32DU6FWZJ2s2qZHMsHNyrdqIFQwaAwDIDFmWXGvXRG7aetw0RixgkqzZdV4zAd1K8plnnon33nvPjGvJyFNPPYXLLrsM11xzDVauXIk5c+Zg4cKFaGtLXdJr2bJlOPnkk3Huuefis88+w1FHHYWjjjoKX331VY6vHPC6nCgrcgOQykwZhtiio+05b4YnmXCrKNwPhAOGD0eeqEE0MRa4nSgtlGTNjvG1XNb0Q55Ya4qsUYybSYqLTepxM2rNqApClFxLGg5FlIAG2D+5ljTcgtKTbEoiN01yLelaYBKCqHOP7KijjsKrr76KSZMm4eyzz8aZZ56JcePGmXV9Sey1117YY489cNdddwEA4vE4JkyYgEsuuQS/+c1vRrz/xBNPRCAQwMsvv6w8t/fee2Pu3Lm45557Up4jFAohFAqho6MDU6dOTXqtrq4OTmf6uq677rorXnrppaTnjjjiCKxcuRKAVO4nGhNRUeyBx5Vsn1x22WW47LLLlL/7+/sxa9astOdCeAAY6gPchXjxzfew2267KS+9/PLLuOCCC9J/Vsbn82HNmjUAgJ2veQP9oSgO7n8Tr7/4bMbP/vSnP8W9996b9Nzuu++OlpYWqRVvOCAl4rAEQxW33HILTjnlFOXvtWvX4qCDDkp5nqFIHD3BsDJBfvLJJ6ivT3hy7rvvPlx33XUZr3eHHXbAf996C7ixQVpMLlmJU39+Nd59992Mnz3//PNxzTXXJD03fvx4BMIx9A9GUOBOGEDDefzxx7FgwQLl73feeQennXbayDeK8YTCV1IPQMC2bduS3nLttdfi/vvvz3i9BxxwANp2W4Tv2gbw+Ll7Yb/pVfjhD3+Ib7/9NuNnr776aixatEj5u7m5GXvMmaXImtJxKQVvvfUWZsyYofz9xBNP4IorrhjxvtY+aWu+yu+FyyGgrq4On376adJ7fvazn+GVV17JeL0n792AW2evBfa9FPjRtQCAmTNnYmBgIONn77nnHhx22GHK33998g386vxTkxbjdKxevRp+v1/5+/bbb8ftt9+e/Kb+ZklJ8NUADmkrMdMckY5AOAZh9k9x6vkX486T50mHzzRHqHjxxRcTc8RgN14+dxwueHlIkbV0qOcIxq9//Wv861//Uv5ON6+NOkekQ57XbjnnAJzyl7eVp0ebI4ajniP2uGEpNvzvRbg+fw5u5+he0R122AH//e9/k5479dRTE3NEqA8IDUjJrMNiktPNEekIRePoDoThdjrw2gtPa5sjUqDMETeOB8L9uHbwTNz/z+cyfu6AAw7AP//5z6Tn2BwRDMfQN8q8lnKO2GOP1CcSxYQHvqQeb731X01zxHDYHHHIX97DmpZ+PHLOnnjitt9rmyNOPhm33npr0nMzZ87EQFertFaNMq8NnyNWrFiBI488MuV72+QwEDavaZojUrDrrrvipYtmAx/eDexzCfDj/6dpjgBS6xGTp81ATzAMt8uBylHmtaQ5AqPoEcPmNS1zRDqm7ro/Nu94Gg7bpR53nbIrAA1zhIxaj2hvb0dNTXLn0La2NlRXV2c8TiZ0B4G88MILaG9vx2OPPYZHHnkE11xzDQ4++GCce+65OPLII+F2p1YWjBIOh7FixQpcddVVynMOhwMHH3wwli9fnvIzy5cvTxIYAFi4cCFeeOGFtOe56aabcO2116Z8LdMPN2HChBHPtbe3o6mpKfm5FOt3X19f0t+iKI74XGqCCIeTt54GBwc1fZbdwOpEjXCwX9Nnu7q6RjzX0tKS/Nn+fgAjrc1gMJj0dzQazXjOQQBNPUAsFkt6fmBgQNP1lpaWSnGEvlqgeyMw0IqOjg5Nn+3t7R3xnPpzAQCBNK3sQ6HQiL8znrN/e9rr0HK9HR0dqCnx4ru2AcV70Nraqumzw5XLWCyGpnb2/YPyv9REo8nb7cFgcNRzto6ix3Z1dWm63u4uOalF5Unevn07+vszezkGBweT/vZ5gNhApyJrozHct9DX15f+elWeKq1zRCpKw8Ek7572OQLJc0R/KwYjQFO/mFbWGOpFntHd3Z3yvMPnNU1zRBqCfcmf1TJHMNgcEY3F0TEQghgeRFvL6N8TkOeIYaSeIwbkfwkyzRFprxVZzhHD8dcCnf3o7dB2n3d0dIx4bvgckW5eSzlHaLne/u2654jhVPu9WNPSj7a+Ie1zRPfIL5E8R6Sf14bPEeFwOOM52byma45QMWHChBGeZK1zRCo9orNNMlJiGH1e061HyPOanjliOOWN0n2u9r5rniOC6dciSrKKlK6urlYslpUrV+Khhx7C6aefDp/Ph9NOOw0XXXQRpk+fTnqhHR0diMViqK1N3rKpra0dYcUwWlpaUr5/NGX3qquuwmWXXZaVJzmV1VJdXa142nsHIxgMx+AvcI0IUi8pSfa4CoIwuoc+FgICnYDTBY8n2TosLCzU5N33+aRyS+pEjZrKCk2fraioGPFcXZ2sqAQ7gGhYss5TZOYWFRUl/e1yudKeMxYX0d4fgiBIXdGGj7/P59N0vYoc+OskJbm/BVVVVZo+m2rxHDdu3Ki/J8Pr9Y74O+U5Vb8nimtGvi5fh5brraqqGhGHVltbm3IhHw6TCYbT6cS4uqqM1wZIv6OaoqKiEdc7/PcEVHKjoqJCmxyWe+RFV7WV29DQoMmTXFiYLJu1pcVw+iqTri0dw2M1S0pKRl5vivsg0xyRjt7BCByeoiQlOeMcoSJpjuhvRqEbGFfmHvX3BEbKAwCUl5cnnTfdfTDqHJEO+T4oiif/fqPNEcNhc0RnIAxRBBxebfPh8LUCQPIcEewEoiGgsAxwJ89h6eaIdMRZ6SsBcLmT5++0c8Ro+OqAznUo9Y5+XkZVVdWI59gckWleSzlHpDtnLAwEOqSdFF+NpjkiFUxu1POa5jmifKSXuKGhAQO9XUnXlorhc4TH40l5zlTzmqY5IgXV1dUjGiRpmSPYOdQIgoC6+oYR15YKzXqEch9I85qWOSItBZKCrQ6HyjhHyAzXI0xDNMD27dvFP/3pT+KMGTPE4uJi8YwzzhAPOugg0eVyibfffruRQ4+gqalJBCAuW7Ys6flf//rX4p577pnyM263W3ziiSeSnrv77rvFmpqajOdra2sTAST9a2try/4LiKJ44yvfiJOufFm89qWvDR1HFEVRbF0titeUiOJNEwwf6uONneKkK18W97/5v8avSxRF8a9zpWvb+L7hQwVDUXHSlS+Lk658WewdDBu/tqfOkK5t+d8NH+qU+5eLk658WXx2xVbj1/X5U9J1PfRT48cSv4eytukDw4fKB1l7biWBrK36l3RdDx9m/FiifWXti6094qQrXxb3+H9LjF+XKIri3XtL1/bdUsOHisbi4uTfSLLW2jto/NqeOVu6tg/uNHyo0x74UJx05cvi059sMX5dXzwjXdeDPzF+LFEU//TaanHSlS+L17z4lfGDtX8rXdsN4wwfasXmLnHSlS+L+9z0lvHrEkVR/Nuu0rVteM/woQbDiXmtayBk/NqeOYdM1qjWUDP0NYbuxL1IJIJnn30Whx12GCZNmoRnnnkGl156KbZv345HHnkES5cuxdNPP60pTlQPVVVVcDqdaG1NDrJvbW1Na3nU1dXper/ZVFMmBrGkg6Feqci9Ach7pxO0CWYUepxKGSLSEjYE2fPtNi1lBthX1kxrSU1Q3cLOskba3IGga5wa28paP6uRTJQ5T3iPOh2CUq3Bbsm17ZQVB4janzNMS64NZd55Go1ES2r7raHq2HLSRFECWSOd10xCt5JcX1+P888/H5MmTcLHH3+MTz/9FBdccEGSm//AAw9EWVkZ5XXC4/Fgt912w1tvvaU8F4/H8dZbb2H+/PkpPzN//vyk9wPAkiVL0r7fbEiLoReUAU75hjRYU5T0Bg/1S5mvAIniAgDVZhRDJ6jDSpqZS1jKDLCxrFGWf1PLGpVxYXNZo2kk8v2QtVZKgywaAgblOGmCigNA4h5oJamVTFepgVbW6Ko0AMRt0L1+wF0sPTY8r8lhbRTKXjggKe4A3T1qhnFBIGus0heZcWECupXkO+64A9u3b8fdd9+NuXPnpnxPWVkZNm7caPTaRnDZZZfh/vvvxyOPPILVq1fjwgsvRCAQwNlnnw0AOOOMM5IS+37xi1/g9ddfx2233YY1a9bgj3/8Iz799FMsXryY/Nq0QFrzVxASE+NA6hJ4WlGUPR9hmSSPT6puQYA5bTWN3eChaEypd01TF5PWk2yarBmcGGkbiTBZ80sVBwgwpy63MY/LUCSm1Lu2466FfWXNhHrcDjdQNDLWOhto69fSePfC0Ti6AlICl93q/QLEHR6TZM3YuLVRNhJh1+IukhR5AkiNCyJPsnoNJdE9TEJ34t7pp59uxnVo4sQTT0R7ezuuvvpqtLS0YO7cuXj99deVhIstW7bA4Ujo/fvssw+eeOIJ/P73v8dvf/tbTJ8+HS+88AJmz55tyfWTdlkCpImxZ4vxG5xye03xHNBMikDiBidZhImsYHYtHqcjbfk3XSjePVrFhVzWDE6MprQ/J1qAAeLFhMiTrMiay4GSQvt0QGPYVtaUnR5Cg8xfZ7jbHkOplUyiuNDMax2yZ8/lEFBeZKzNOwATPMkJj6goisabnfjqgK4NBLLGaiQT7/QQyZopnWvttoaahD37AI7C4sWL03qC33nnnRHPHX/88Tj++ONNviptMMUgEI4hEIoab8Pop1mE7drcgUF6gxNZweoxo+1KRbsFTi5rRN49UlkjWoAB4m1JIk+yevvbTh3QGLaVNVn5rCVtE0xnkFUrnmSKLXD6ec3hoJA1Yk+yPGZDkTj6Q1GUFBhUrmy5QybXlSbKGQCIw8jsuoaaRN61pc5nfF4XCt1SeSIaryjRItxnkhVMhLLFRuGpYmMW7JTKc2UJqUcUIPck+7wuFHkkWbPTdi5pkugA7QIMEG/nsjEb7DIka+2UXirgeyNrpB3QTDT+Wyk9yQYTHknXAoA8SZQ8uZZK1th6YLPOjgxTWlMbljXiNdQkuJKcQwRBoF2EFU8yleJi18WE8AYvLFe6nyGQfSw3qeISDkrdvADiiZHQuCD2uJBUHDDB40IablFUIcWwAoZ2e0i9VKEBqasdMPZljTJxz0QluZ3Cu0eU8EgaohIZBEJybXZKDzyl04Tck2y/ZEdAJWsU81pBKeCS5cOAg452DQ0YP0YauJKcY+yWZRqJxdHJEjUoE1xIY5IJDQuHg2TcEnHchJOiqzBlG+9ssVtikGlJQabIGsH9yTo8AoYUl1bK6jPsOtzFZElBgP1kLR4Xlfha0nuUUHGppawKQpTwSDqvMQXKVTCijbcRaONrjctaNBZHZ8CEhGQzjFiqeY0gAZ5U1gLtxo+RBq4k5xjaxCDjNzhbSJwOARUUiRpmeFwoPQeASnHJftyY4kJS8kc9ZoSxWdVmxHIbWIBNSwoyQ9YoxgwgyZ5PxNbac6cHUMc82kPWuoJhROMiBAFKPWJDmKG4lCSqgsTjYoZ3a4BgPSD17pmQgAaoDTJ7eJJZZ0enQ0Blsf2SHQHiMo0ASagnaY3kAa4kjxloFRcCzwGLC/IRJWqY4Emu9kk3Ud9QFEORmPEDEiRUmeJxoVZczNi1IDAsaqiTgkxIpuqnkjUCxYU2sZaFqNDKmik7ZASyVlnsgdtJsMyZoLhU+bwQBCAaF9EVzD5mXYFwPbBr6B1AXBWE4v6Ur6PK57FlsiOQuD+D4RgGQlHjByQoGkBaEYR7kscONaTNCuQbPNAOxLIT/ESMqD0TNQCgpNAFj0sSVdIycEZucFIrmF7ZA1SeKsramIEOw7JWTd4BjVDWClzwyrJml9Jcdm4kwlDKNJLKWjsQi2R1CNLYWsAUhc/tdCieR9sofHkka6S7FoPdUsOYLCBNEAVMMciKvS4Uy8m1JM1rKDzJpM24jPWKGA2uJOcY0pq/xVWA4AAgZm1JsRuGLFFjqEd6TGgFC4Jgu9JcpI0KTFD2AOLFpKgKEJwwImukC7A6KYha1swwZEm2wO3r3SONE1VkDVkvfu2USXuxqGQcAibs9tgrdMCceY1Y1ijvz8JywCmHSGTpNCGd16IhSWEHTPDAE4Z6kniSCcPIDCThZ4IryTkmkQVOkYTmBIprpMdZLsK0CWjyDeP0StnWhJCOm0FPclSd7EiquFB7XAgXE4cD8BmTtXbK8lJKUhBtsiNA7akyprhEYnF0DNg7sRYgVlwIZI1dB8kOWaANgCgp7kVVxo+ngnZeM2aQxeJiQtZsvENGGrKoTq7N8h5NJNYSrgVOj6TAE0IbfmfM0RSNxdFJmljLleQxAxNU1rPcMAZbU7flQQIaYNIWW5Y3eMeA/RM1gOTEIBIMLyaEngN1jWRyWSNMFDWouKiTHWkTa2l3LUgrNQCGk/dazYit9dVICjwh5uyQZTdmXYEwYnKyY6XPnkncAHFoD2A4Bt6cEBUT1tASwl1sg57kzkAYcRFwCEBlMVeSOSrYjdQVCCMcjRs/oEGLLh8S0ADqWG5jN7gSokKV7GhCogaQWEy6gxEaWTPYaYk0UcOEGskM2g6PxgwLdcF90sRak3YteoIRhKLWJzzmQ9gAQGxcGFT2EsmOXppkR5PDLfpDUQyGrU/kVhxNpLXfTVhDzSidl/WYJeY1J8W8xhP3xg7lRR64ZKHooPAmG7ToSLcllQXYxBucMjFooA2I659kSQ0LwDSFr7zIDbdTkjWSnQuDnmRag8ycrVyAuFySklxrUNbIOqA1J18XEaWFbtrkWqPGhc2bOzBqKCs1GEyubadO4lZKNNLOa36vCwVuObmWtN+AMUcTybj152INJdy1CHZk1U00UemIKtkx+9joTHAlOcc4HAJtTJXBG5x2W9KcBRggDrcorgEgAGIMCHbp/jipRzQylEh2JFb4BEFAtc+EidHwtiRFuIV53j3S+7O4GpKsxRPJXzpgskaXWEuf7AgMkzUbNHlQqs+QePfM8b4DqtbUFMpeUnKt/u3nVsqcgWgICHZKj4nXAymR24TwO4MeeNI11NTdWIIxK6ww1LmW1LCIhhJrqAlwJdkCaGMes/ckx+JiIniesgOaCYsJabMCp0uqDAJkNTG2Ui7A6mRH4kQNIFFujdYg0y9r0VictgOamZ5kyvvT6TKUhJaQNXsn1gLUXtHsZU0URcUrandPcjVlcyl1wiNTtnRgSs6Awy21ZyfGlETuLGRNnexo/91YwrXA4VCFXOgfN9KqWgaqVGmBK8kWUG2TJLTOgVAieJ6kK5X5caJ0SWjZ3+CkXanUlS2IEzUA6vja7D0urCsVWaKGqbJGmOACGFqEaWXNvGRHQH2PWpvw2BOMIByTYvBpGrCYGZOcmNdEkaLrXvaylojjpvS+15sja5Q5KmwOyWpeCyEWF+nXUFN2YwmNf0AV6ql/3Eg9ySaGWgBcSbYE0m0PZTHJxpqTzl/lIwqeN6nkD5BQXDoDIURjFEloBm5w0kYi5nmpAJXiQlpAPosF2CxZM2MLXL4/OwNhREhkLXuFj7QltUkxogy7lM5j5y8rcsPrchq/FhOVZKbEh2Nx9ASza5yShAFZa6WsLa0YsfT3J2AjWaOe10yNSZbGjKxzrYHkvTYzQlRMgivJFkDqcVEn7un0RCSS9oiC501cTCqKPXA6BIgilBrFhjBwg7dSJjuaGKICmLSYGJA1umRH84yLCurkWkPePRPCoUwwYgFVfC2lQRZoA+L6DBXSnAHAVOPf63KirMgNwPqQKNL1wMSwAUCVN0BZXzqLzrX085p5McnqzrVWNxQxJdnRJLiSbAHVlKEDbFKMhROdejRC6jmIhoBBOQnOBE+Vuiax5Te4GcmOZnn3KHctWOOaeER3wqMS70gxZkmyRr+YOBwCqnyEi7ARTzJptz3zFmCAeodMTq6NRxMJYBohja2NxxI1WM0aNzNqJRvatbB32ABAPGYGOteaN6/RrwfknWuNOJq4J5kzGqTePZcq4UunsJLGoClJQfSdghimtAvWOWZSooYJyVQme/dIxszlAYoqpcc6F2FSj0tOZc26CjSxuCoBLS9kjTAJzek2LGsk8ciBDqkKDoSEkUgMabvgLD3JsbiolIm0c/tzBmljDAOda0mrqORgXiOty52lo0m9hvKYZE5KSDNzgayTXGi3clXb3yYkagAmhg7oICnZkaLbntmLCaXiAmRtXLDfjCabmSl7ZsqaGd49nbIWkGRNyBNZIy2dB2TdQc6UnIHiaqlSiQmwcSMpA5elJ5kloAkCUEXabc+s+HdqWcvOuGg1I7E2F/MaaY6KTlkzq2CASXAl2QKYV6hjIIR4nCCjOcsbXAmeJ+1KZY6XCjCr7E92yl6lzwuXjbtSMdSyFqOUNZ0KX6IrFWFJLhNljbQ0V5YJj+zclcVEsmZynGgi4ZEouTbLDnKk5d9MzhkAiA1Zg4ZFFfm8Zu4OGXnn2iw9ybTd9nKwhpImPGa3hpInO5oEV5ItoMrnhSAA0biIriBFElqWigsLnifxuJi7lQsQe/fUY6YjCY0+Kci8BDRA8kAKAhAXJeXFMAY9yaRbuTmRNcpdixZdskbeAc3EZEdAUuYdAuiSa7Msb9lK2SbY5PsTIC5vmWXCo2nzmkmeZHXnWpJuotk6mijHzWQjFrBHN1HTkh1NgivJFuB2OlBRRJiElqWS3ErqSTY3AQ0gbozBJqLoUKILmQZIk4Ki4URSkkkTo8vpUOoSW5nw2EZaXsrcBRhI3BM0NX+zS64lXYBjEamFLGCarDmpEx4NGv+0O2TmKS6JOFEKWcsu4ZF2Xgup5jVz7tGkzrWUoQM6PcmkBpnJyY6ACd1EBYfubqKkXX7VyY4mwZVki6g2I+ZRh8cluVMQYZxovmwVuQsBb6n0WMciTKrsqbtSFdJ3pWKY4qnSIWtxdVJQnoRbmJZcq0PWSBcTRdZc5soaaZMH/bImiiKtcZEDJZmNWauFCY+klS1ykIAGmBU6oP3+VK+hpF1EzZQ16m6ixdXSY6tlzeE2fqw0cCXZImi3PfR7XLoCYSVRgyQpyOTtNYC4MQaQVUyVKdtrvlqpzadJ0Cou+mWtUyVrVSSJGqoEF5MwLbk2G1mjbuNtpqxRGhdZ5A1IjRKkMAMa4z9381pb/xBN170s4pJblYog+ZFYC5gUOqBD2UvqtkeSWGv+bqwduomaI2vmVJ4BuJJsGaTevSw8LmybiCwpyOR4R0BV9meAuIVrNt490gXYPI8oQJ3wmL2yV1nsgZskAS133j3y5FrLdi3Mj+MGiGUti0oNzENWWuhGgZui217uFJehSBz9IX3NLFKSRcIjaWJtDhLQAGKnSRaGhZJYS5XsaGIXUYYduonSepLZvMaV5DEHbUMRJqjab3DTkoLMrDggeyEjMRHdpC1c9Ywb5Vau+TFoALV3j9UT1Z7wSFr+DcjJFjh9cm02xgVl2TzzPaKA2rtHGMvdr13WWikXYCAnslboccJfIJWXI9kGz8JpQppYm4MENMCkXYuBVs0Jj4kOhcQJaCbeo3boJkrbIEmWcRb2YQJcSbYI2jqssqCGB4DQgKaPkIYNRMOqpCDzbnCPy4FypYUr5SKcxWKSB61bGabEiUaCQKhf00faKT2isWgiScRE44I8uTYLTzKpIZsDLxVAHScq/76xEDDUo+kjpIlU8Zhq3Ew2Lswob6lrh8wMT7LZBhmhrLExi0c0J4IpHlGSBDRVEreJ85q6myhJDLzVnuQcVDriSrJFkNbG9PoBd7H0WOPESJrNHJDbtpqcFASYVFNU45jFVR3QSG9w0z0uhIuJpxjw+KXHmmWNcAEOtAEQJVljCUomQZpcq9OTnJSARhnaY/quhUnJtRo9VS2U7W5Ztz3BYaqnCqBulKRP1mJJ8xqlrOXKICO4P12exNqlcdwSoXfECWhFJq+hzLggqQqiz9FkWmdHH/ckjzlIrWBAdxIabQZ4bpKCAOISNjoVl65gGFHSBLTcLCakjTGALGTNhEmxuMZ0WSNNDNLpSe4ORhCJSSEG1ZSyZrYnmeUNUCfXavRUmRJbW1xjWrc9Buluj05PsnmdHc32vlPPa/q8oq1mhA34zU12BKw1yLqSkrgJCwaY1DIe4EqyZZBnNOtM1mBWcDVppyBzvVQAdcKjvsWETcYVRdQJaLnZym3vp0p41OeBp63SkBvvO2Bt6Tw2ZuVFbnhchLKWI08yWXKtzoQq0h2yHM5r7HpJt8C1yppp3fZyE0ZG101Un6y1kXqSczivkYap6FsLzCsYwMMtxhxsUhyKxNE3RJDRrPcGV7rtUWaYmn+DV5N6XHQuwJTb3+rzmuzdY973cCyO3kGKhEd9nuRWM6o05FBJJk2m0mmQkXipgJzUYAUSOyxkybU6S3O1UiZT5Si2FiAOU9HZTZQ0HArI2T1qWjdRrbsWTNbypIsoI2H8E+ZDaZQ10woG8MS9sUeB24nSQikJrZVkEZYn8v7tmt7e3keo8OXQu1dLGpMs3+ChXiAczPh2+gS0dumxycaFWtasqCnaTpnsqA7tMRlTFBeNybWkXePisUTegMn3qMflQIW8ZU+alKzbu5df8xpp9zid3URJw6Fy0G2PYVo3USs8yTkKUQGIw1R0dhNVuvxSFwzgnuSxCbOmSJXkvuaMb43HxYQnOc+2wJkHvoVizLwlgLtIeqxB4SON42YJaIITKK4yfrwM0Nav1b6YiGIiKSjvPMmUMcleH+DxSY81eJNbyRPQ4jlJQANMqsut4f6U5jXmFSUMtyhpMH6sDJA2edDZTZTUk5yjbnsMU0KiNMiaOgGNtmlNnhn/Lq+uhMc2ygTRpIIB5skaV5ItRFH4egkUPjaRaxDUbuoEtIHceffqSgkNC0HQZVzQxjuy7bUawEHQ9CADiZhHQoNMw2LSE4wgLBetryZJErUg3ILCIwroygRvp/QkK8kt1TmRNdLkWh1hZN3BsEnJjrkw/gnnNUBXSBRp+/McddtjmNJNVIOssQQ0sm57OcpPAYjHDNCV8GhKy3hfnalJ3FxJtpA6MxQXDeEWrdQJaDmM3WPKXlsfUWKQYlxkVpJJE9ByaFgAxB54PYaFPGZlRW54XRQd0HIX/04ua4rCp0PWSBeT3MhaInueIm9Ae0Jyq5KA5qFJdsxlTLIsa4FwDAHSrnuZFb520sTa3CU7AtbtWigJaNTJjjmY19j92TEQpkl41NFQJB871nIl2UJoFRf55uprzhhAT1p/FchZAhqQuMHDsTi6AgSd0BSFL7Nx0UYZNpDDBRgg9sDrMSwoC+4DOWuKASQ8oqEoVcIjU5I1eFxIvXu584gC6jqsufUkk5bkAnI6bj6vC0UeyYjMdWmuVsp7NIdhAwB1OTOVsqdxDc2nzo6MKp+U8BiLi0RrqB5Pcv6toVxJtpDaUuZJJrjBmeISHczYnYpUUNUJaDlQ+Dwuh1JfkdS40KHwkSag5WgxqaMM7WG/c3gAGOob9a3kCWgDchxaDjwuBW6nkoRGIms6jIuWPOyAxmAVc0gMMiXhsT9jwiNpjeRYJKfzGpCYj0nHTVdMMsG8lsOwAYC6vrQ8p0QHgVCGeY3SiM1Rx1qGlPAozWuksqbBkG0jlbXc7MZyJdlCSMMt3IVAQZn0OIP3gHQxUSegFZmfgAYkJiZSr2gGT7JpCWg5UPaAhGJPMmaeIqCAdUIbXeFj5yOJRw6056wDGoM0b8CvTdbicVFZhOtKCRYTdr6SccaPpYG60kIARIZFQUmiw2MGWWvpJcwZUHdAM7mLKIO2eY024z8WF9ExQGjI5nrXgrSbaJGUzA1kVPgS+SlUayhy0m2PUU2ZKKrRk6zuWEsb2sM9yWMWUu8eoDl0wJQOaD7zO6AxmOLAFkVDKLHcoy8m5iWg5diTTJYYpE3hY0pyPaWy56szvQMao06ezGmSa7Xdn13BsCJrJPeooiTnKrRHNsio5jVl3JpGfRtpHXO1spejeY22Ljeb10ZXXDoHpG57ZAloOYytBUzoJqoxBp55rqvzrNsegzQpWWNCMn3H2tzsxnIl2UJqVR2DovKiaIgSbQqfOfUdczMpAsSx3IonOYOXSj5XRbGHJgEt5969hOcgl7LWLCtKdRSKS46VPUBlkJEoLizcYnQlmSnk9Alo5pcyA1Q7ZP1UndC0JYqa0pI6h/MaaRk4ZV4b3bBgDpN867bHYPdnW/8Q4pRd9zLIGqknOceJtUDiumnzBjLtYEvnqiymKhiQm9AeriRbSKXPC6dDQFyUMk0N49em8NH2nJcX/BzFoAGJRZjW49IMxNMrjy2Uyh6gUvhyo7hUmSZrGbx78m/EtuANkcO6tQzS0nklKu/eKIlBiTGjlrXc3KPVfknWYnERnQMUCp9sSGYwLsxJQMuhkkxZBk5t/GuQNRKHCZDz+PcavxeCIHV47KRIQtMoa+2ka6h1BlkrSek8Fm4xesIjeWLtQG6MC64kW4jTISjbHjReUW3ePabw0WyB515xYZUa6BL3BCAeSXSKSoHiEaUYs2hIlaiRm3FzOgSldiyprGUwyGg9ybJCnqMxA4hDotgWdCysTdYoxiwyBAx2SY9zdI+aJ2vaQntIG4nk0PhXvHskcaLydcdCQLAr7dtIDYtoKCFrOVL43E6HsnVPGxKVQ0+yUrEnd0qyKSGLkeCoHR7bKXewYxGpSRJg+rhxJdliaBODMidrRGNxZRImjRO1wLtHMmZOdyIJbJRxa6H07rHzOL05S9QAEtVUSCtcjDJmkVhcSQqiSUCzwJOshFtQdKfyAMU10uNRFD5aZU8+j0uV2JsD2Lg1UzZKGkVxiapkLd+6iDJIy5m5vIlE6lG8oqTlQHPcbY9RTxkSxTzJo+yQ0Xfbk+U6R3HcgHrMBo0fzF2YSG4dZV5T1lCyMRMlWTO5YABXki2mlrRjUOZkKlZA3OUQUEkRPM8mkxzF1gKqxCCqJDQNHviWXmkyqSeNrW3IWaIGkEhCy1VVkLb+EEQRcDsFmqQgRdZypyTXmyVroy0mpuz01OevrGmI5e4MhBMJaCRJQbmN4waIE/cATfdootseYSJVjrrtMRK7PQQKn4Yx6wyEaLvtWbIbS+gwAVTGRfpxI92N7VOFeZqcWMuVZIsh3c7VoOw1yxNJbUkBnA6CicwCTzIbs+5gBEORmPEDaqgKwm7w2jz1vgPEFS40eJKZTNf4C+CgkDULtsDZmHUFwkSyllnhazElbCC3slbPysDlqCqIutQgybxmSUyy9Hv3DUVpZE2LIUsZk6zkp+RuzADq5Fp98xpJsqMF6wG7PzsGwghFKWQtcwUapnvQ7mCb75zjSrLF1JqRPT/QJjX5SEErZQa4KKosutzd4KWFbiXrnyY7N/PEaEopsxwrybWUpblK1LKWuhtdC6XnQBQt8biUFrrhpZQ1DTGPpONmgfcdIA6JYgvhKLKWiBElTnbMocJXUuAilrXMSnIz6a6FfJ7S3O0qAon7hCa0hyXutaSVNVKPKJDzSkcAUF5EvIZqkLXEvEaQxJ3DNZQryRZD2lCkuEpq6gExbaelxKRIIKihPiASkB7nsCyXIAi0XlGrFpN89iQXVUnF70eRNdI47qFelazlbtwEQch5GbgWUoNMFW6RQ0iTa7XImmqHzDDhYKJraY5ljbSDnC5Zo1Bcch96B6jiaymU5OJqwOHCqGtoD6FHNNQPhORkt1zPa6RraOaqIOasoebPa1xJtphEiSkCa87hzJi8R+ulkgW1oAzwFBs/ng5IjYsMnuRAKIr+IckzT5pMleMtcNJJ0eHIWFOUKS50iRqQEoLcBAu6Dmjrco/uSR47skbYdS9J1lIvwmwBbqD0vnv8ic6SOSLRTdR8795QJIYuuWwaieLSa/GuBZmsjZ4o2kxp/CtraCng9Rk/ng5oPfCjy1owHEXvYCTpvIbIoUHGlWSLUZTkHHXdo7XmrPEcAKrQgRwoLmzy9Xld8Be4jZ9vLIRbACrjIrWssYoQpLKWY2UPUBlkOVhMmKwVe5xEsmaVJznh3RNHqZ2qmQzj1ky6lWuNsgcQJ3JnmtfkMSt0O1FamL/zmjr+nUbWRo+vbVEMsvz1vgNqD7z5CY9szIo9Tvi9BN1SebjF9we2mPSHogiEUscR60LdsCAFpniSLVhMSNsFZ9iWJB0zwJLYWiCh7AXCMfQPpY6300XGRZhwC9wiZQ/Ibde91jEQ7wgkZC0YjqGfYl7LsNvDkoIaygg9ojmOrQUSnmTSWO40ist2VSKVQFGNQpG18caPpQO1rPUNUayhWg2yPF9DzYjlzmBY1JHLGvckj3l8Xhd8smVFGzqQ5gbvo8wwtU5xMWULfLAbiIy0qkm77cVjlnSOA4Bir0ux4nNRmos2tta6xcQUWRvqlWJfh0Eaxx2PJ7pS5bAiCAAUepwoKZBlLQeLsDntz3Mva0zJ305ZyzzUC4QGRrxMavzHY4l5IMfjVuhJeMJpdhZHj6+lLdFonazVUybX+lXzWgpZI82FyvEaypVkG8CSNUhL2KTw7omiiNZewixwC7eKSGslF5QBLnk8UnjgSRWXgTZAjEkJlia300xFoqGIuZUayGXNothagDgxyFsCuOX4/RReUaXUIMWYBdqBeBQQHJbIGlsQaTxVo8uaEpNcRrEFvk0+Z249ooBqzHoItsALSqS4amBUWSNRXCyXNUKv6Cghi/G4aFL1GevWUBK9I4Os5fMaypVkG0CahFaS3rvXFQgjHItDEIj6p1sabkF4gwvCqNu5pPUd2e/iq5USLXMMba1kJmsjx4zJGkAdbmGhJ5liARaEUev+kpYaZLJWXAM4CeIAdUJb3jL9mHUFwghHKWXNek8yibIHjCprpPMaC1Hx11sia3U5iq/tChKvoRYlOwKJ+H26hiJs3Ebu9phSI9lfl5M1NG+U5K6uLpx66qkoKSlBWVkZzj33XAwMjHTrq1mwYAEEQUj6d8EFF+ToirVDGhs0iieZHb/K51VqJBrCBlvgrX0h0xODWki979aNGaAeN0rvXoox62Oy5sl7WWP3Z1v/EOJxs2VtbIQNAKque6T1a1Mpe8TzmoUxyUoSWt8QYjmStXqKOG4Lkx0BdVMuih2y9LHcLaatodYl7rX1hxCVHRqGGKV9fD7Xfs8bJfnUU0/F119/jSVLluDll1/Ge++9h0WLFmX83Pnnn4/m5mbl3y233JKDq9VHg7LFRrCYlMpbhH1NUgMGFaSxVIAqBs2CBBd5AQ5H4+gOEiShjeJJbiGN47ZYcWH1aykNsv7mtLJGloCmhFvkPv69xu+FIACRmIiuYNj4AUeJ5Sbttme5rMnzGnUFmmGylgi1oEp2tG4LvMbvhUMAYnER7f0UjZLSy9r2nrERWwuoQwcIPckp5jXSUoOApbJW5ZO6U8biIjoGCOa1UfIG8rnPQF4oyatXr8brr7+OBx54AHvttRf2228/3HnnnXjyySexfXv64tUAUFRUhLq6OuVfSUnJqO8PhULo6+tDf38/5VcYFRZHt50iDo0JTiQoJaKpUOo7UhXcZ8e3QHHxupyo8kkKH8m4Ma9R78gbfKxUBAESvz1pbcxIUErYUNFCKWuRISDYmXzOHOJ2OlBZTGhcjBJf20IZJ2pBG281pKXz2HeIhYBgV9JLzZT1uMMBVSOR3CsuLqdDMZC2mxw6kLhH8zuOG6COSa4DIACxcGLekVFqv1OsBUmylvt5zekQUOuX5rVms2Wtl1LWcmtY5IWSvHz5cpSVlWH33XdXnjv44IPhcDjw0UcfjfrZf/7zn6iqqsLs2bNx1VVXIRgcmVGu5qabbkJpaSmmTp1Kcu1aYB6QJgplz10odQ0CgN6tSS+1kMbWyguwuzjnBfcZ41gmOImSPEH6f9iYhaNxxcoeC1vgie1cIlkrLJceD/MekBoWTNZcBYnz5RjmgTezKkgkFkf7gBzaU0rQNj6HXalSQdp1z+WVOu8BI8aNNmlPPrbHLyUjWQD7HjQGWeotcHUjERIPvE3CyEjGzOkGfDXS42Hz2nZKI5b9JhbKWh1lUnIaJXkoEkMnZdOaHFeHygsluaWlBTU1NUnPuVwuVFRUoKVlZDUCximnnILHH38cb7/9Nq666io89thjOO2000Y911VXXYXe3l6sX7+e5Nq1QOpJBhIhF73DFRe2ABPHBVHUPcwC0nFTxmxb0tNMKfI4Hago9hg/j+Lds2YxSYwZUbJGWlkzKbbWIlljHhCS0lxpYrnb+0MQRcDlEFBVTKkk594jChArLkBaDzxpm2B2/1sQj8xg34N0ZzGNEVvgduR1IxGGOpabhDQKXz7H1qaCtMJFGllrk5tKeV0OlBXln6xZqiT/5je/GZFYN/zfmjVrsj7+okWLsHDhQuy888449dRT8eijj+L5558fVQH2er0oKSmB3+/P+rx6YZNi31AUAyQNRVjoQLLCN5ZiawGVwkexCKdRktWla2iKoFs7MY4rl8asKxBGMEwga4oHfkvS04lxowwbsE7WaHctRpe1Gr8XDgdhwX2Lwi2Y4tIZCCMUjRk/YJqYR9rmDtYrLmxeM7NdcCK2tpBmXlOSHa0Jt2C/fU8wgqEIgaz5043b2FpDlfbxpsoaddOa3IZb5L5Wi4pf/epXOOuss0Z9z5QpU1BXV4e2trak56PRKLq6ulBXV6f5fHvttRcAYN26dTkNp8iEv8CNkgIX+oaiaO4ZxPRagwp6mtCBZtK4IGu9VEBiMSEJU2GTe7BDaijiTp48SDyiomj5xFhSIDWvGQhFsb1nCNNqfMYOqMjaMIWP1JPMJkVrlD0gYVw0dVPI2kTp/4FWIBqSQglUx2bnMoQoJn6TsgnGj5cF5UVuFLgdGIrE0dwzhMaqYmMHTOOpMiXcwsJ5LRFfSyBrTNkLtAPRMODyJB2brGmNRY1EGCUFLhS6nRiMxNDSSylraTzJJPOafXYtSLvuBTukPBJ3speaRNYsWEMt9SRXV1dj5syZo/7zeDyYP38+enp6sGLFCuWz//3vfxGPxxXFVwurVq0CANTXW7fYpsMUhU+luIiiSFvdwuJ4R4DYu1dQBnhkhVEVOkC6vTbYDUTlycgi754gCImuXibKGjs2SXmpnq3J57IA0tCeogrAJSt0qnFjxyZR9gIdQHQQgGCZwifJGmVIlKzs9ySM/6TmDhSKC/s9LFWSCUOiiioBpweAmFS5x7xGItqdVpQIgkCs8I1Ukumb1lhvkJHGJBeWq5pymSRrwU4poRJCzmQtL2KSZ82ahUMOOQTnn38+Pv74Y3zwwQdYvHgxTjrpJDQ0SMLc1NSEmTNn4uOPPwYArF+/Htdffz1WrFiBTZs24aWXXsIZZ5yBH/zgB9hll12s/DopIY0VVZeBk+kbiiIYlrahxkKVBoBYcREElcKXWIS3kxbclxfgoirFyrYCU2K5VYpL72AEAVnWxlEsJuz3KLXGIwokvgeJESsICe+uStbYsUnHzFereKqtgH2XbRTjViZ74FVjpm7uQDqvWejdSzQUIRgzhyPlvEbrMJHnNV+dJY1EGHWUHvgUoT3dwQhCctMaVoLUEDZYQxXDgiKRWxCSy+fJmBLH7atRdkXMJi+UZECqUjFz5kwcdNBB+MlPfoL99tsP9913n/J6JBLB2rVrleoVHo8HS5cuxY9//GPMnDkTv/rVr3DsscfiP//5j1VfYVRIJ8YUW+BMUMuK3ChwE3Sp6bPe48KUvbb+kNJxyxApvKKkW+BskbJo+5sxjlJJVhSXxJhtk8esyuehkTWmgLNzWQAbs9a+IUQoCu9/T2RtPGmYykhPMqstX+3zwu2kaO5gfUwy87i19YeIZC3FuFGGW9hA2QNUhiyJrI00LNiYVfk88Loo1lDraiQz2O/f2hsiapQ0spRqvsdxWxqTrIeKigo88cQTaV9vbGxM6rw2YcIEvPvuu7m4NBJowy1Yd6pmIBYBnG409UjGA4mXCgB65ESt/9/emYfZVZXp/j1zzfNcqUpSlaEyQUJiYgIIChrEAdQrtHoR7tOKrfS9rdKoV7pBWkHk+th0e1GvE6ByxRbB5kpEJRKmJARCiiRkIlWpVFWSmufpjPv+sfba+9Sp6ZyzV9XZJ3l/z5NnV86wa9Xa31rrXd/61rdSKFyKs8VpboFQBJ1DE6gpyrJ2w+mEi0rvng3qDDBtTYl3T9bZ8FkgHAJcbrV1BtjCk1yS44PX5UQgHEHHoApbmypc1Npa6usMUOyBl4J/6Ixha0oHYHlvIGX5fgG9X9NtrXNoAosKLdraNKsWSg9gsYtILpwHWxtsFzHXTqf6A5JsUG/leRlwOoBAOIKeET/KrIYsGSJ56qqF0nCoBdzEnTae5POdqnyF3r3sMsDpAbSIsewhvXuLVHip/MPmQSIpHIQdDofaQXgakWzWm8WBCrCdcFFmay7vJFtT6hEdHwD8Q+LnFHpFnU7FsdwFU1d7zqhsoynetCdRuuExpxxwugEtbNia0nhH/4h5KE4KhYvT6YgKHVARfqdPygfMDDRKN3HbII4bMPvodhW2llsFOFwi/nWkE4DiOkvxAUkSj8tptJ02FfU2TUjUmQGFcdyDC7+qSJFsE5TGJDudU06Qkx1HdYFCsZdRkLIk6BK1m9AmN/ARfwiD4+LIazVL4PbyJCuztRjvwbzE1mYWAV6LO9Ytona1Z3LqvKGJIIb19I9KB5MUT8iMyb+S+FrXFFszRLJKj6gvL+X9mtJcyTGe5Hk7SCSFcdyA4lULl3uKrRmbkVXuT/HmiHE0hczLao8+IZsIhtGjH5BUo8TRtPBjKEWyTZCdVcfghJrYoJi4ZLVeKnvEOwKKPfAxnmRZZ/mZHuT4FEQm2STcQgr+c4Pjimxt+npTGjZgA1tT6oGfoX0WZnmQ5VVoa6letZC2NqCoX4uJgVcb7yg9oqkNGwAU50qOCe1RfpDIoD3qbVFUuIUaW5ss+KSjqaZIRb/Wov+O2pQdkCSR9dbeP/tpxHFRMHnVQtZZrs+NvMz0HEMpkm1CeV4GHDI2aNRv/YYxGw9kA1Aikg1DXWz9XhYxvXuKDxSJRNTWGWCbcIvyXB+cDiAY1oxZviVi8nJLj4SSEBWbeESBeUzTGImoDVEBbDORrcjLgMvpQCDqyG1L5E8WLnLjnpJDawZTv5FKYmQdUO1JjkQmhZApOdxh4LT+e5ZYv5cFKvL1+NpQRE2/FiP42ozxQKVHNPVjqCmSFYZbDLQCmmaModWFig6tMept4fo1imSb4HE5UZ4rl9gUJvbWZ/ntKgdhm3hEAcXevbwqAA4g7AfGetSGDfhHgPE+8XOKhYvb5TQ2USjdvDcQE25xvtlaocIJWV6VyCsbDgCjXfNga3LPQOo2oAExtqZkEJ48IVM7+ZdiL/W2VqnyNNG86km21qayzkJ+M91XYWoFn0d5vzaDJzlNwwZmQum+gbxFABziPIDRbrV7eoLjIic3QE/yhYqRBk6lcBk6g/FAGL16DJrSWbANvHuVKmOSXR7zkI/BtvlJyZWRL/6lGKW5kqM2oY0FQka8o9J6s4GtmSmmFCxLTrK19iiRrML7ri9/++xha2o315qhA4FQBOf007yUCJd+XSSnWOwBQJXKnL8uj5kNYKANbX3CftWIPb19erLEwSUpRo5vSgRf1Ca0iWAY3cN+/XecX5N/c8Ojgn7N7TX7tYE2tQkDpK358hY0jpsi2UZUzsvGoHYj/VtuhltNDJqNGni02ItOAZg0Ucvg85PZIvV1BpgCVnUstxyccjPcyMtQYWv2CBsAolctJhTZmumpkm1eyUYqm4RaSOYnK0ib3uaBTI8LJTkKDhYwPMk2EMkqc/4CUfXWOk+xtYtTHlsLmP2a0lWLKLGX7XWhIEtBv9Zvn1WL6FhuJf2aEXJxep7CPBc2jpsi2UZUq8w6EBWT3KZyI5V+TwC2aOBy495oIIyh8ZD1G0aLZKVZGhY+lmo21J7waAoXIwbtPMqRLJFpucaDYfSPBa3fMMoDr3RjrY1WegDFy7lRnuS2vlEAos6UxDvayJMs7aB/LIjhCQW2Fl1v8xFba4M6A6JXLRR4RaMmse26rdUUqYrjto+jqTI/Ew4HMBGMGCvOloiKS1braErNxIIi2UZUqUz7I9PxTAyis7sHgCJDDYxFxQWlfhDO9LpQlC28SKo3VJ3PwmVeNqEFRtDd3QVAUZ2lKAZtJjI8LpTmiuNo1Xrg2+Yn3CLF8cgS+TcpsTW51yI0jq4OkXrM8sEugLC1kQ7xc4o3oAFAbobH6Nfa+tR64OX9lIao2KB9AqpPeJTxtePo7jo76f6WCI4Do6KftMPkwus290Op3rynNtwiNRMLimQbYXj3VMSh+XKNeMThzhYAig8pWOC4oNlQmytZDCbh/lZjh7TSeCqbDCbVep0pGUw8mUBWCQBgpOuUfn+FtubJBjILrd9PAcZphQq9ouH+ViPe8Xw6klqi1JPsyRCHigAY1m2tRmX79OYAWUXW76cAKf5b+9R5RaP7NTXhFvbJ0gAoDrdw+4DcCgDAaGczAMWhdzYaQ+cjDdwkW0vjzY4UyTZCeRya3jEGe1sAzINH1AYxaIDiAwt071uwX3Rk2V6XolyiNhMuundPSZ0BRr2F+oR9KM9sYRNbWzQPuZLD/eLvzPS4UKgi3tEmqQYlSjPQAFH9mvBiKvEkR8cj28TWaosUbqjS+51Qn/g7c3yq9qfYzZNsrlqojK+V/ZryLCo2sTWlE9kYW0vnHMkARbKtqC0WDbx3NIBRv4L42sIlAADXkMIGbpNT46JR690TYs+pi1rl+R1tIlyk931gLKjG1vSO0akfyKAmbMBeEwvArDeVp1PJOqsqyFBja8aR1PZoo7LOhqNOsLRETL0pjXe0wfK3RHrI1XiShS24htoBaOdlHDdg5pceC4QxoGLfgN5fu4ZEX5TOsbWzoTZXsrAF91AbAG0eciRTJF+w5GV4jNl9mxLvgTDW7DGRJF/NkdT2E8nS49KmYjDRO3uvvw9ZmFCU33ECGOkUP9tkWTI3w4PcDDG7V5lNJWNUxO6p8STbyyMKqD51T0zI3IEh5GAM1SpsLRwEhuUxwfaISc7yus19AwrDVDLHZEyyAlvrt09mC0mt0nAL3dZCo8jHqBrve2AUGBP7XewyHkTvG1CZ4ULaWjrH1s6G1AZKVi10W3OFx1GEYYU5kvU47gUeDyiSbYbs8JVs1tAFX0lQJHtXG1trH+GidDDJyDfiX2scXWpia4f0k7w8WbaJdwQUTy50cVGs25qamGT72ZrSVQtfrhGTWOXoVWRrZwEtAri8QHaZ9fspQmmuZF1cFIfExFNtuIV9hIvSfs2bZewbWOToUSv2fPm22TMARKc0UxdfWxISmzqV2JoNJ2TRaeAs4/YZuZIXObrV6g5v7oLbGkWyzVDaMerhFjWOLnX5HW04C5ZhKkrqDDDqrdbRpTa21kZx3MD82ZrP7VSUt9Z+nmRpa0pWegCjHdU4uhSFQ8k6WwQ47dO9Kz2IRbeHakcP8jM9avJx2yxsADAFWXvfOCIRdfG11Y5utRupCu0zFgCmrakJv5N11nNenjMgiQ63UJkDvlr1hCwFcdz26UUJAHMXqErvnvCIKop3tFlsLWA28OGJEAZVxKEZgk/VLNh+nSIwPyK51tGpztZslI9bItvnwFhQTXxt0VIAwGJVIrlPZHyQz8MuyBWyViXpzMyJhZJQC8BWB4lIKvMz4HI6EAhH0KVnP7FEgSlczlePKBB9gpw6W1vk6DE27VrGhuOBXCFTFstt1Ft32sdxUyTbjEVKdzQLg8pzjGNlftj6/UL+qFyi9ukYs7xulOSIODQlgm/S5OL8DBsATE+VyljuPMc4GlTZmtyAZiPBl+0zbU1NvQmRXOvoxOLibOv365ciean1eymkVv/bWvVDGSyh20O+Ywwr8xRsOp0YAsb79Xvbp19zu5xG/6OmX5OTi25F6d/sKZKrVYYO6PG1uarGUBvGcQPzEcsdLZLT29FEkWwzVMehjXiKAQBrsvqs3y86b62NYmsBoLZI3WAS1JfYah1dambBNvXuKbU1TyaGPaUAgIuy+63fb6AVgCZsLbvU+v0UIm3tdK8CW8szbW2xCu+eTW1N/m0q6gzeLAx7RHzt2kwF/ZoUe5lFIk7cRqhsoxO50tY60967NxsyK4iSSaw3CyNuEQO7OmvA+v0mxXEXWL+fQlTmSg7kisnFIkdPWudIBiiSbYfZwNXEBnW5RAD9MneP5XsZXiob5XeUGF5RBQ1c1tkSZ5ea2Fq7eveiBmAVttbpFon3V3gV2JoUe0VLbWdriw2vqHVb63BXAQCWurrU7BnobxHXInvZ2uKofQMq4ms7XMLWlrm7LN/LjvHIEpUHinS6xWmFda4u5PgU5K21ab3J9nm6V1W/JtqoEluzaRw3YIapqLC1bpc48GexszutcyQDFMm2Q+QUBMaDYXSPWI9DOx0RHpdaZ7flexnCpbje+r0Uo9Lj0hIRnstFjm44VGxi6BOnNaGozvq9FFJdmAmnA5gIRowT36xwWq+3WoeCwUTWmc08okC0cLEeOtASERkoFqFLja3ZdEJWVZAJl9MBf0hNfG1LWNRbNTot38uuYQOA2gw0rZppa4hELN/PrvVWrdvaeDCspF9r0cSErAYdlu9ltxMKo1miT2RbFKz2tGpCJNc4VPVrLeJKkUx8bpdxgpzVpUlN03A0IERyefCM5bKht0lcbealAqKEi4IGfnw8HyHNCR8CZgx2soz3m/GONqs3j8tpbNiwOrnQNA3H/CK0pzR0znLZDLFns4kFYIYOqJiQnRjLRVBzwYOQmd84WcYHomJrl1gtmlKErYmDHk73WptcaJqGY3q/VhKwWGeAbT2iQPSGR+u2dnKiAAHNBS+CamxtYlD8bLNwC6/bjOVWIfiO+YWtlQYUjKHS0WRLkSw98NYn/8fGCxDUXGIMtWprE4NmHHcKHHQUyTZkaYkw1lM91oy1fyyI4wHhPcgda7VcLtMjaj9Psqo6A4CW/gDOaKJjNP7mZJGdYk4F4FWwMUsxtYpiRfvHgjipC5ecsXbL5ZoUbmEzZBo4FfG1pwcCaDds7ZS1m8mJRXYZ4Muxdq95YHGRPghbFHz9Y0G8HRSrFjljbZbLZVePKKDWk3x6IIA23ZtsuV+TdZZVbE9bM7yiFsfQ0QCOB4St5aqwtT7d0VRsv8n/khJ1/dqpfj/aNH0viVVbk8657LKU7BmgSLYh0lhbLAq+Uz2jxlKR06qhArYNGwDMWfDZwXFMBK3tQm7pHcMpTcQlGw00WYw6s5/YA4Al+uTC6mByute0NVe/AluzadgAYHqSzw6MIxCytmx9unfMFC79FkWyjScWQFQ+c4uDcFvfmLGc65TLsFaQ97ChJ1mK5K5hP8YDVvu1USPkwrpwOSmuxcus3WeeUOUVPdU7ihbd1lwDFtsnELUaaz9H02KFY+ipnlGc1utN2RiaojBPimQbIhu4CuFyShcuGOkA/CPJ3ywSjtoUZD+RXJLjRa7PDU2zvjQ5qd7kYJAsNg4bAIA6XSQ3W5yQtfaNoVlOLIbOiFRHyTLJ1uwn+Epzfcj2uhBRYGutfWNRtqZoMLHhxAKIynBhsc7EAKyLveGz4sjaZImEowZh+wm+/Ezz+HirWQeinSaWVy2krdqwzoBoT7K1OmvpMUUyhs9Z69fCIbNfs+G+nuJscwy1unLR0htta1ZXY1O7gk2RbEPM0AGrhjqGIeRgzJUnXrBirINtQCQIuHxAXrWlcs0HDofD8IpaCbkIhiNo7x83hYuqcAsbij0gyta6rYnklp4xDCIHo6588YKVehs6A4QDgNMD5C2yVK75wOFwYGmpGltr64tetbA4IbO5cDH7NQuTdYgJXT9yMe7Sl/mt9mvhgOjXbHRAksThcCgJiQqEIroHXpUnWdqa/cQeEJ3hwvpq7KQx1MrKxWBr1Bhqz35tcYn1yUUgFMGZ/nF1IjnFe6Eokm2IFHune0ctpbCR4RrD2frGij4LnqrobAM2Ou42GiN0wIJwOdM/jnBEw1mnSPujTLjY1LsXHcttxdaadeEznK0vWVupt563xbWoDnApSB80DywtEQKtuTt5wdfaN4ZQRMMZlz7ptGxrer2V2FMk15XKOrNoa90jABwYyl4iXpD2kgw9ep0X1QFOV/L3mUdUTP5b+8YQ0YBzhq1ZXLWwfbiFPrHosZYGTtb5iBxDrdRbb1S4ol3H0GLrY2hbv7Q1fQy17GhK7YTMnk/qAqemMAtOhzgi0koKGxmuESrQl/otNXA5m7Nn2ACgZvOeFHuhQr1B9p0SS7LJYgiXFcnfYx6pKcoy0iV1DiVva826Jzos602FSC5Znvw95hkVttbUJWzNqLO+5uRtTdPMeiu2Z73V6rY2FgijY2gi6fvIOg8X6gKt14JINsSePT2iAFBvhEQlPyGToico66yvyWK/Zm+RXFssxtBhf8hSKlVzDNWdHFb6tRSLvXiQIvmUBQ+8tDWjzvqaraUcZLgFicXrdhqJvZONFdU0zRAuGeX6oGllRpcWwkXUmRXhclIXLrnlSwCXFwhHHY+cKKO9wFiv+Nmmg4nH5TSWc5OtN03T0KR7VDMq9MmApQmZ/W2tXg+3aLYQpiLbdk75UrEEGw6YeVQTZawXmBgQP9t0EPa6TVtLtt40TTPs1FexUrzYY0G42FzsAUB9mfDAN3Ulb2uyzrLKlghbC02IUJNkGOszbc2mK2Q+t8uwNdmnJ4qmaWjRQx59FavEiz0nki+UzUNUAKBO79eakqwzINrWloqQudAEMJTkGDreb46hKXLQUSTbFMNYk1zO7RzyY8QfgsvpQP6i1eJFS8uSx8W1dGXy95hn5BK4Ne+e+G5dWb45ACTrPZAdan4t4FVwNOc8YdUr2jE0gbFAGG6nA/mL9MHEkidZrzebekQBs86sbHiUoRpLS/PMgTNpW9Pbdn4N4MlMukzzjbFR1EK/NhYIw+V0IE/2a5Y8yfafkNXJ0B4LnmRpp8LW9AlBsuOBtNG8Rbbu1+r18J6mJCdk3SNiDHU4gLwaOYZaEckyjMy+InlZmbU6E98VdrqkNN/s17qTrDf5vbzqlKUapEi2Kct1Y012Fiy/t7goC245C+4+LpZlk0Eaq03DBgBzYtE17MfgeDCpe8gGXl+WYw6cyQ4mskO18QAMRAm+JIWL9ArWFmfBXRpVZ8namvQM2rjeZJ31jPgxNJGcrcl6qyvNti6S5QBsY48oED35T24QljZaW5QFT5neF1mxNZtvdgTMOusZCWBwLFlb04VLSbYZs56s4DPCeuwr9oBoD7y1MbS2KAue8gbxohVbk2OojR1Nct9Az4g/aVuT9ba8PMfUC9LJlig2cM5RJNuUZZZF8jAAvaMoXgY4nIB/EBhO4gS5iSHz1Bwbi+S8DA8q8sSpXsnWmyGSS7PNhtl9LLkC9dh/YgGYHpe3LdZZXUmOPnA6xHLsaBJHofuHTVuzsXDJzfCgNNcHIPnQAendqy/NMb3mSU/I7O8RBaI27yXpgW/Sv7ekOEtffnUA/iFgJImj0AOjZsiBjW0t2+c2+rWmJL3Jsj9cVhYtXJL17un9YWlDct9fIOotrsYaYq8sR9iawyVsLdkxVIYc2Hg8yPG5UZmvj6Hdwwl/X9M0YxxZVpZjfQzt1kVyCUUyiWFZmThZ5u3OJBt4d5Shun1mPE8yMzo5AOeUA5kFSZVnoVheLicXiTfw3hE/+seCcDh0wVcqPfDJiuT0EC4r9Dp7uzPxOgNMT019WbZY6pdHIncdTfxm0pOaVQJkFSVVnoVCrvacSKLeBsYC6BsNANC90nLg7E7W42LvTXsSGW6RtHdPr+sV5bmAJ8M8ACSZkAtZ11klQHZJUuVZKOrLkq+33hE/enVbmyySk5yQGSLZvh5RICp0IElbk+16eXmuGENlv5bM5CJ6DLV5v2bFQdc7GsCAPobWl+aY4jbpcAvpSU7dxIIi2aZIQ+0YmsBwEsu5hudA99yYxpqMSE4PjygALLcwuZBLwNUFmcj0usxBoOtocktsaVJvy8tFnZ0dTM7WZL3V67GTKNPj95IRyYbnwN51BuhCDclNLo53iO9UF2Qi2+cGymWdHUnO1rqOiGvZqsS/u4BIWzszMI4Rfyjh7x+PFsmA2a8lY2vyOzavM8Bc7TmZhFf0RKcZNpDldUeFkSUpXLp0kWzzepOx3GcHJzCahK3JMUROhi154NPE+w5E2VoSIlnWWU1hFjI8LlPc9iQZ6mmI5NTVG0WyTcnP9KBMX85NxlhP6hvQpNi2tOzRkz7CRXqSTyTTwGWIijGxWC7CVCYGEl/ODYwBA6f1+9i73vIzPSjPE7aWTMjFMV3wrajQhUuZ3qF1JyFcOt8SVykabcxK/e89nsSETIo9eQ+UrBC2Nt6XuK35R0xbK7N3vRVle40wlUQ98JqmGZMLo96iJxeJ0p0+IllOCk50JD4hk/2aXDES/ZFDhEONJBgS5R8Rh2IAthd8hdleFGd7ASQXcmGGW+i2VmphtSeNRLIVT7KcxBkTi+LlABwiS8VoT2I3C4yatsZwCzId0lgTFS79owH06Lkh6w2RLIVLErNg6XFJgwZubHhMwrt37Jz4ToMcgKNDBxIVfN1HAS0CZJcCueUJl2WhSXYQ7h72o2fED4cjahCWYSpdSUzIDI+ovcUeYP69yQiXKWLPk2mGRCUq+OQAnFMOZBcnXJaFRravROutZyRghEMZE9myNeLamYRITiNPsqyzYxZsTXrx4c02Ty/reiuxm0mBmAZhA4DZvmTfHi8yRMXhiHI0yT6pM8E6A6I8ovYOUQHMv/dEEpN/Oe4adebNAgr0g1gSddBJj31WcUr7NYpkGyOFy/EEO8aj54YAiOW1HJ9+YpkROpDEcm7HYXGtWJvY91KAnPUnEzpwrEPU26rKPPPF0qjMIIlgeETXJPa9FCHrLdGOUdrmkuJssZQLTPYkJ2prUuykQb1J0dExNJHwTnBDJEvhAphiLdHQgTQJtZDIfi1RwSfDWhYXZYlwKCDKk5yErRkiOQ0mZLrYOzeYuK3JJXBjEguY7SvRyYV0FqSB2APMvvyo3rfHi3RMLSrMjLI1WWdvJW5r3enjaFpVIerszMB4wlmijseKZCCq3g4nVhBpm6Wp7dcokm3MatnAzyXWwI+ck2IvagAubRC7c8f7gKGz8d9srM/clZsGwiU/ywwdSGQ5V9M005McXW9S8CXcwKVItv/EAojavJfghkc5sZgk9oqXC1ubGASGz8V/s7E+M7NFGgi+vAwPqvSd4CcSqDdN06aGWwBRsdwJChc5mJTZv30C5t+caLjFlHhkQNia0y0y9yRy6M/EIDB0RvycBsIlL8OD6gKR//pYAoJP0zTDNo2wASDKA5+gV9RYVbR/+wSiPPAJepKPnZumXytZKQ7H8A8mdhDLxKB5SFAa9Gv5WVG2loD20DQNR86Kz6+pyjffqFgnrh0JjqEdh8S18qLEvqcYimQbs7pKiOQj54YSOn/eFMlRHlFPhjkYdByMvxCyEy2oBTLyZ/+sTZAN9PCZ+Bt4e/84hv0heFwOY8MHAKBCb6DnEqgzwOwQ0mBiAQANuq0cOZuYrUlv4KSJhSfDTKmVSMcoxWF++tjaiiSWwc8NTmB4IgS302GGDQBRnuQERXKaeZKlcEl0hWxKiAoAuL1mzH8i9SbFXm6l7TP2SKTTI1FbGxgLwuV0qPHuybEjDVYVgcme5ET6tcO62FsdLfbcXtODnsjkQoq9/Jq0CFEBTFs7koBIPjMwjqEJMYZOtjXdVhLRHYBZb1JkpwiKZBuzrCwHbqcDA2NBnB2ciPt7R/VZ8+pokQxEzegOxV8I2YmWp9ZQE2GNPrl46+xg3N+RA8+yslx43VHNQs5iu44A4TiXnjQtqt7SRCRX5MLldKB3NICOofhtTQqXhmjhAgCVF4vruTfjL4QRamH/5W+JbGNvnUnE1sTAs7Qke7KtycGk8wgQjnM3/iRbS496W16WC4dDpIvqGo7f1g7r7XlVbL8mJweJCL6zjeIq7TQNWJnEhOywbpfLy3JEtgGJ7Je6jwGRcHw30zSzPadJvS0ry4FLH0M7h/xxf+8twyMaY2uy3hKZ/EsHS0VqPaKJkMwqtqyz5bFjqNQd3ccSG0MpkslcZHhcxoxMLmPMRSAUMXIETxlMpOBLRLikUTyyxBTJ8Tdwuay0KlbsFS4FfPlAOBD/xoOhsyIjhsOV0l25iZDhcRmbHg+1xyf4guGIsQTeUBFra1IkN8ZfiA7dLtNkYgEA66qFp+lQAiL5oF6/8rsGRfWANxcIjcefz3ywDRjrFSEHaRJukel1Gakp47U1fyhsTMim1JsUH1L4xoO0y8r18X8nxcg2diSByb8UyWtj66xwKeDJAkIT8Z/yOHBahA64vGkTbpHhcRm5ueONS/aHwkb8+1SRLCeyCYhk6UFNcdhAIhge+ATCVI4Y3veYOitYDPjyxBgab/q8gVYR1uL0pHwMpUi2OUbIRZyCr6l7BMGwhtwMNxYVZk5+MxlPsmzgaRJbC5jhFic6hxEIReL6jhQ5UyYWDodZb/GGXJx9Q1xLG0ToQZogB9LDcdra8Q5Rv3kZbiwuzpr8ZtV6cU1kQnbmgLhWb4z/Oylm3SLT1iaC8XnkDJG8KEa4OJ1mvZ09EF8Bzui2Vr4mrWxN/u1vximSj3cMIxjWUJDlmdqvVV8irvHWGWAK6qoN8X8nxVy8qACAEC7+UHy2JtvylImF02lOZKUNzYVsy2WrRehBmiDH0HgnZCc6RhCKCFuTsbkG0lmUSL+Whp5kOQ4e7xxGMBzfGCpDM6ZMLJzOKA98nNpDfq6sIeW2RpFsc+Syx+E4vQeNbQMAhKE6HI7Jb0qxN3Ba5C2ci8CYGeeXRoPJosJM5Gd6EAxrcW0O0jQNB/R6W19bMPUDiYYOtL+uFyR9xB5gDqSH4/SKSlu7uKZgZlsbbANGe+e+mX/E3AGeRiK5uiAThVnC1uKJsdU0DQfbBwAAF+miZxLS1uIVfPJzadQ+AVPwybqYCzmJXVedP9XWKtcDcAhbiyfvb2DU9NTLSUkaUFMkbC0QjsS9Ee2Q4UnOm/qmbGdnXo+vAGkYogKYtib7q7mQYXrTjqFV+oSs/1R8/VpwwlyBTCNPcm1RFnIz3AiEInHvHXhrJkcTkHi/Jld6bBDmSZFsc9bXFAAADrQOxLXx4ECrEL+X1BZOfTOzUCyzAUD7/rl/+blGIBISm1vyF8VZ4tTjcDiM2ezBOLwHZwcn0D3sh9vpwNqq/KkfSLSBn9HrtnpTfJ+3CXIgjTd04E05sdBtdBIZ+SJ8AIgv5OLcmyKvdG4VkFsR1++3Aw6HA+v0QTieejs3OIGekQDcTsdUjwtgit24RbLuBZSDd5pwke5JPtQ+GFe/dmimEBUAyMgzT5E7G4dXtOOwsLWcirSztYv1tvZmHJOLriHRrzkdMwgXQyTHMRYAaRePLNmgOz4a2+IbQw/KicV0Y0FmgblRNJ7JRcdBQAuLo8/zquMscepxOh1R2mNuh1rH4ATODk7A6ZihjS56h7i27YuvAPJzi1I/hlIk25y11fnwuBzoGfGjrW98zs+/0ToAYAaRDAC17xTXtlfn/uXRhho7o7Y5GxeLv//1031zfrZRr7OGylwzJ2Y0sqGeaxSegdmIhE2BY4MGngirK/PhdjrQPexHe//YnJ+XA/XF03lEAVPwtccxmEhxU51eYg8ALtIHhXi8ovIzK8pzJ2+kksg66zgMhAKz3ywSAc6+Ofl7acKqyjy49Y2iZwbm7tdkWMZFsSEqEjlJiCd0wJhYrI+jpPYiEa/oG7q4WVaWY+Ywj0aK5I7D8fVrsh2nWRtdXZUHr8uJvtEAWvvm7tdebxFjxiWLZxhDpeBrf23uX966V1xrtqTdGCo1hNQUs7H/tLC1VZV5yPZNY2uyzjoOAsE52ns4ZE7carbEW9x5gyLZ5mR4XEas6FyCb3AsaBwluWG6sAEAqNksrm175/7lshOQBp5GbFoiUu283jL3LLixTXxmWo8oIE5Cyy4TGw/m8lR1HwMCI4A3Jy3yr0aT6XVhjW5rr7XMbmsj/pCRcP+imhmEi5yQte6e+5cb3vf0CbWQyLb2Why2dkAfcGYUe0V1QGYREPbP7YHvOSE2t7gz0yb9myTD4zLSBs41CA+OB42MIBtmmvwnEjpw+hVxtcEAnCiyj4pHJO87JezxHUtmSDtWUCs8nJHg3LGiXUeErXlzbLEEngg+twur9FWbueptcCxoHKi0aSaRLG0tnsm/FMmyL0wj5CThjTg8yVIkb5ypzgpqxSmNkdDcq2RdR/QxNNcW/RpFchogG6s0xJk4oIu9xcVZKM7xTf+hGr2xtu+fPc2UpkWJ5M0JldcObKgtgMMBtPaNoXOOlGZykN5QM0MDdziAxVvFz617Zv/F0vtetQFwTuMptDlblooBdd+p2UXy/tP90DQRk1uWO8OGscWXimvbvtlT/2gacFoX0mk6IXM4gFM9o+iaw9b2NIs4xs1LZxAuDgeweJv4ueWl2X+xfL9mM+DyJFJkWyDF297m2WM7X2/pg6aJlHnleTPYmjEh2xu/rUn7TCNkuEVz9yh6RmZPabavJQ5bk+1trn7ttP5+zWbANY2n0OZs0OvtjTnG0P2tot+rK8meeQyVdXZm/+zp8zTNdEaloUiWE7LTvWNz2tp+3YE3o0iOtrW5Qi7kKveiTbYYQymS04CNcYpk6f2bMdQCEN5NXz4QHAU6Z/Ee9DYBI50iBUuaxaAB4oQqmTJpNm/y8ETQiK2dcTABgFopkufwwJ96QVzTcAAGTOEyl0h+5WQPAODSZcUzf6i0QcTBB8dm3/TYfUzYmjvTXOlII/IzPcYG272z1NvQRNDYFLm1fpZ6W3K5uLa8PPsvPvWiuC69PO6y2omtdaIO9jbNLpJf1et0y2zts3ytsLXAyOyp4LqPiZR57sy0C1EBgKJsrxFfvHuWehueCBoZkWbt16TtyH5rJuRqUO22uMtqJ2QdvDKHrcnVoE1LZhlDy1aLlGb+odn7td6TwtZcvrQcQ/MzPcZJrK/PsrI4Hggb6VZnFMmA2bfPNYZKEW2TlR6K5DRAhg4c6xieNfn+iyeEcLlsWcnMN3M6zVlt8ywdY9NOca19J+DNmvlzNuYdekc3m6dqb3MfQhENS4qzUFM0y99peKpendkDH4mYdVr/7mSKnHJknTXN4akyRfJctqYPqnKJezpkndW+E3DP4L2xOe+Ugm8WW9vX3IeIBiwpzkJlfuaMn8OSy8S19dWZvaKRiCmil6SnSN6ytBgOB9DcMzrrao+s0y11s4g9p9Ost9kEnxFqsTnlqaWS5VJ9grVbb4PT8UbrACKayIgxq63VXSmup3cDoRnau6aZnmS5opZmbKsvhtMBnOwawbnBmWNiX9VtbdPiWWzN5QaWvkv83PTXmT8nV3qqN6Ztvyb79xdOzGxre0/1IhTRUF2QOTVlXjRLrxDXUy/OvN8iEjHrdIk9HE0UyWlASY4PF+sxjLuOT5/iqGfEb+yuv3zFLMIFAJa/V1zf/vPMnzmpi+RlVydUVjtx+fJSAMBfj3XNuKv55bdFfV62fI46q7hIxIr6B2eO5+54ExjvE7FUaRhbCwAFWaan6qW3p7e1/tGAkRNzVo8oYHZ00p6mQ4oaOfCkIdLLuaepd0Zbk6EWc9ZZ2WrdAz8680a0riPC1jxZaZfZQpKf5TEyfOyZwcM3OGZ637csncvWdPuRHvbpkBMyKajTEClcXmmaWbi8oI8Tc9ZZ2Wogu1Ss9sy0Ea3jEDDSIbzvadyvySw0L789fb31jviNVKBzjqH17xHXpudn/syJP4nrsqsSKKm9eNcKMYa+eKJ7xn7t+WNdAIArV5ZOTZkXTcVFYm9PcHTm8J5zjcBYjxhDa+wRokKRnCZcubIMALDreNe070tBs7oyb+YYUYkUya17p8+XHPKbs+A0buCXLSuBz+3EmYFx42S4WF7SvTFSUM+I0wWs2C5+Pv7H6T8jO8yll6dljKjkvauErf35rc5p33/5ZA80DVhRnjO3ra24RlxbXp7F1nSPaN0VyRY55WytL4bX5cSpnlFj82w0mqYZg8m2+jkGYKcTqNNXIo79YfrPnNBtcPG2tPWIAsClel3sPDZ9v7bzWCciuq1VzealAkz7ad0DTExzIE5wHDj5nPh5+fuSLXLK2by0CG6nA21942jpGZ3yvqZp+PORDgDAe1eXz34zh8P08M3kFT2+Q1zr3wN45ngGNuZduiPkpRlE8vPHu6FpIj/yrN53wBTJba8C/mnGlsAY0LxL/Cz7wDTknUuL4dXH0Kbu6fu1v+pt9926RpkRp9PUE7IdxvL2X8S17grb9GsUyWnCuxuEAb50omfaE3D+ekyI5CtWziH2AKBwiTjqUQtPPxM+9aLwLOSUp9VJe7Fkel2G12Xn0amD8InOYTR3j8LtdMzt3QPMzm4mkXzkP8U1jScWAPDe1SJ37Asnuqc9Re4PB88CAN7TMMcADADF9cJbpYWBE9OsXJx8TsT25Vam1RHBseRmeIzViD8e7pjy/pFzQ2juGYXP7TTa8qysvk7/4n+K5e5Y3vrPyZ9LU65ZK2xt59FOjAem2pqsy2vWVs59s5IVQPFykYVGCrtoTu4U/Vp+bVrGiEqyfW6jv5JtMZqj54bR3j+ODI8T75pr8g+Yk/+3npre1uREreHaZItsC6RX9PnjXdP2azuPCqfAVavi6NeKloozByLB6VdkW14SR37nLTJPm0tDMr0uY5VsujG0qXsE7f3j8Lqc2Dbb/hSJXJl++8/T25qsS+nIswEUyWnCRdX5KM31YdgfmmKsg2NB/OktfTBZE2dy/JW64Dv0xNT3Gh8T11UfTrvcjrG8Rxckzxw8N2W56HdvtAMQE5C8jDg8v8uuAlxeoK8J6Hxr8ntdx8RSkdMNrP6IiqKnjLXVeajMz8BYIDzF6zI4HsTz+oTs+g1V8d2w4QPievTpqe9J+1vzUVvsZLaCFHzTieRnDp4DILwtOdPlEY1l+XvF8vbAafNoeEnPSbHp1ukGGj5oudypZH1NAaoLMjEWCOP5mFWyUX8IL54Qtvb+tXH0aw4HsPZj4ufDv5v6/tH/J66rPpT2/dqHLxZt7/eNZ6f0a3IsuHx56fR532NZea0I2+lrnhre098iwi0czrT2iALAxtpCVBdkYngihOeOTl4lG4mytavimcQCpq01/nrqe289Ja4rtqe9rcl+7Yn97VNs7fcHxCRta33x9Lm4Y1l2ldjI2H1saiq4npMihaPDCSzfrqTsKqBIThOcTgc+vlGcevfYq6cnvfefb55BIBRBQ0XuzPlXY1n/KXE98UdgsN18fawPOPaM+HnDf7Va7JRz7bpKeN1OHDk3NCnfYzii4fcHzgAAPnZJnKcJ+nLNgWLfjye/d/BxcV32XiA7jhm1jXE4HLh2nfDc/WrvZFt79vA5BMIRrCzPNbKHzIn0dp54Fhg8Y74+MWR65df9F6vFTjnvW10Ot9OBo+eGjBPiACAUjuDpN8Vg8oGL4vCIAoA3G1iue10OPDb5PWlrS68AsmbZYJQGOBwOfFCvkyffODPpvaffPAt/KIIlxVloqMiN74ZrPyquTX8FRqJE91jfZJGc5mxfWwGv24mTXSNGZgEACIQiePy1VgDAtevidJj4coRQBoCDv5n83ms/Fdel7wKy5wgTsjlOpwMf2SBOvYu1td/tb8doIIy60uz4x9CLPyGuTTuB4aiJ8WgPcPhJ8fP6T1otdsr50MVVyPA48XbXiBGzDQDBcASPv9YGALjxHTXx3SyzEFj9YfHzG7+Y/N7+h8V1+fuAvDj7yQUgbUTyvffei23btiErKwsFBQVxfUfTNNx1112orKxEZmYmrr76arz99tvzW9B55BOba+FwiJiqZj0+KBSO4LG9olO8YVPN7IHz0ZSuFLvitQjw+s/N1994VCxXlq9L6yVJSVG2F9fpXpdHdpuC7w8Hz6JzyI/8TA/e3RDHkqRky9+J65u/EQMvAIwPmA3+4hsVlDr1fHrrYjgdIuTihB7PHQxH8KMXmgEA129I4IjVinXA4stEIvlXf2i+vveHQGhcLJOnYTquWAqyvIaH7we7ThqvP3XgDNr7x1GU7cVVq+L0UgHApr8V1zceNQXf+ADwqj5Bu+TTCkqdev7LxkVwOIDnjnYaactC4Qh+9EITAOCmrUsS69eqNwpbe+XfzNf3/VhsGKq4KC1z1saSl+Ex4o2jbU32a2W5PmOiGxcX/424Nj5m2pp/GNiv92tbPq+i2CnnI5eIfmvX8S6jX4tENDy6pwUAcMu2BGytZJk4Q0CLAK/+H/P1N34hDgOq2pC2Gx2jycvw4Fo93OkXu1uM1//0Vgd6RvwozfXNHfsejey3Dj1hjqGBUaDx/4qfN95ivdAKSRuRHAgE8PGPfxyf/3z8jfWBBx7Av//7v+NHP/oRXn31VWRnZ2P79u2YmJjjCE6bUlOUZQTH3/nUYb1xn8bxzmHkZbiNWXLcvOMz4rrnIaD7uPAov/C/xGvv/Lu0XyaS3LxtCQDgmYNnsaepF2OBEO7/4zEAwGcuWwqfO4Fl/sXbxAQiNA785Z/Fay/+L5EPs2Rl2i9/SxYXZ2O7Hrpz7zNHEY5o+PW+VpzqGUVxthc3bV2c2A0v/R/i+vrDQM/bwvOy+/vitSv/53lja5+/sh4A8OxbHdh/ug8j/hD+/a9iYv65d9XFtyQpqbsSqN4kYhufv0/E8L30XZFhpWy1CIc6D1henosP6ILugT8dQ0S3tdO9YyjM8uATm+P0Ukmu/Lq4vvZTES4w0Aa8+iPx2mVfOm9s7b+/ZxkcDmDHIWFrg2NB/NtOYWs3b1uSWL+27Goh6AIjwPP3itd23S9srXhZWm90jKa+NAfvW12OiAb8y/87Ak3T8PDuFjR3jyLH58ZH411VlFz6D+K653+LswX6W4CX/1W89o7Pnje2JsfQ3zeexd7mXgxNBHHvM0cBAJ94Rw08rgSk5OLLRP8VGAb+rI+hz90jsvUU1IrVWBvh0GbK62FTHnnkEXzxi1/EwMDArJ/TNA1VVVW4/fbb8Y//+I8AgMHBQZSXl+ORRx7B3/zN38z6/e7ubpSVTfb6dHV1obQ0Aa/jPNDSM4r3/9tLGA+GsWlxIQ62DyIQjuDbH12HT2yuTexmkQjw2MfE0mR+jYhx7D8lUq/8tz+K3ajnCXf89k38dn87CrM8KM314UTnCBYVZuK5L1+BDE+CsbDNLwC/uA6AJg4NkblXP/U7c4n8POBYxxCu+9+vwB+KYOPiQjS2DSAc0XDPh9cYnWbcRCLAw+8X6fPyFgnbGmgVqxWf3XVe2dr/+PUBPP3mWeRnelCeJ2ytNNeHF+64MjGRDIiNjb/SYx9rt5mHOtzwi7TftBfNya5hbH/wJYQj2iRb+/q1Dbj1XfWJ3UzThK217gFyq0SmmYHTYnL7uRfSPvY9mn/87Zt4Yn87cjPcqC7IxLGOYVQXZGLHP1yO/MwEM+yc3i3qDZjcr934q/MiREXS2juGq//1BQT0fu1g+wCC4ST7NU0DfvVRMYbmVYs9K/2nhIf5v/0xLU8nnImvP3UI//fVVhRkeVCZn4mj54awuDgLf/yHyxPv19r2AT97HwBNrGjLbFr/9cmkNr7Pp147f0amGE6dOoWOjg5cfbUpWvLz87Flyxbs2TPzEZx+vx9DQ0MYHp4+ZViqWVKSjXuuWwOHA3j9dD8C4Qjev7YCN25K0NsCCGFy3Q/EQDLYJhp3biXw4e+fV6IFAO65bg1WVeahfyyIE50jKMzy4Hs3rE9cIAMiPc1V+gxYDiSX/sN5JZABoKEiD9/9uAi52X+6H+GIho9eUo1PbUlwMgYIe7rxV8JTMNQuBHLBYuBjPz/vbO3+j63DhtoCDI4LWyvI8uDnN78j8YEEEB6+7feJn6VAvvJ/nlcCGQCWleXiwRvXw+10GLb28Y2L8NnL6xK/mcMBfOxnIoxn+KwQyLlVwCcfP68EMgD80wdWYdPiQgxPhHCsYxhZXhd+/OmNiQtkQKySXXWX+Fn2a5fffl4JZACoLc7Ct65bC49L2FowrOGDF1Xi04mujgHC1j74ryLTxdAZMYZmlQAf++l5JZAB4KvXNGBVZR4GxoI4em4ImR4XvnfD+uT6tZrNwBVfET9LgfzO22yZGeq89STv3r0bl156Kc6ePYvKSjM264YbboDD4cBvfvObab/3jW98A/fcc8+079nBkyxp6h7Bk2+0Y0NNIa5aVRZ/HNV0+IeBQ78V8UFbPic2qJ2HjAfC+MvRTpwdGMdHNlSjPG+OHL9z0bZP5Pit3pjWOX7n4vCZQexp6sWiwkxcs7bCmq2N9YmUUoFRYN0Nab/JcSbGAiHsONSBwfEg3re6fPbTHOOh+QWg87AI6TnPJmPRHGofxN7mXtQUZeK9qyvgclq0tcO/E8K44YNATgLx4GmEPxTGk2+cQTAcwbtXllm3tdO7Rf7f6o3Cy3eehAzEcqxjCDuPdmF1VR7etbzUmq0FRsUGW6cLWPORtN9QOxPBcAS/fb0d/WMB3LCpBqW5Fk8SPLMfeOv3on3WJn8M9Xx6klMqkr/2ta/hO9/5zqyfOXr0KBoaGoz/z7dI9vv98Pv96OnpQX395GU+O4lkQgghhJALnfkUySldD7j99ttxyy23zPqZurokltsAVFSITUednZ2TRHJnZyfWr18/4/d8Ph98Ph/8/hnOsSeEEEIIIec9KRXJpaWl8+aZXbp0KSoqKrBz505DFA8NDeHVV19NKEMGIYQQQgi58EibHTOtra1obGxEa2srwuEwGhsb0djYiJER8zzxhoYGPPWUOOnG4XDgi1/8Ir71rW/h6aefxqFDh/DpT38aVVVVuP7661P0VxBCCCGEkHQgbbZf3nXXXXj00UeN/2/YIA4feP7553HllVcCAI4fP47BQfOkq6985SsYHR3FrbfeioGBAVx22WV49tlnkZFhccMWIYQQQgg5r0m77BYLhV3zJBNCCCGEEAHzJBNCCCGEELKAUCQTQgghhBASA0UyIYQQQgghMVAkE0IIIYQQEgNFMiGEEEIIITFQJBNCCCGEEBIDRTIhhBBCCCExUCQTQgghhBASA0UyIYQQQgghMVAkE0IIIYQQEgNFMiGEEEIIITFQJBNCCCGEEBIDRTIhhBBCCCExUCQTQgghhBASA0UyIYQQQgghMVAkE0IIIYQQEgNFMiGEEEIIITFQJBNCCCGEEBIDRTIhhBBCCCExUCQTQgghhBASA0UyIYQQQgghMVAkE0IIIYQQEgNFMiGEEEIIITFQJBNCCCGEEBIDRTIhhBBCCCExUCQTQgghhBASA0UyIYQQQgghMVAkE0IIIYQQEgNFMiGEEEIIITFQJBNCCCGEEBIDRTIhhBBCCCExUCQTQgghhBASA0UyIYQQQgghMVAkE0IIIYQQEgNFMiGEEEIIITFQJBNCCCGEEBIDRTIhhBBCCCExUCQTQgghhBASA0UyIYQQQgghMVAkE0IIIYQQEgNFMiGEEEIIITFQJBNCCCGEEBIDRTIhhBBCCCExUCQTQgghhBASA0UyIYQQQgghMVAkE0IIIYQQEgNFMiGEEEIIITFQJBNCCCGEEBIDRTIhhBBCCCExUCQTQgghhBASA0UyIYQQQgghMVAkE0IIIYQQEgNFMiGEEEIIITGkjUi+9957sW3bNmRlZaGgoCCu79xyyy1wOByT/l1zzTXzW1BCCCGEEJL2uFNdgHgJBAL4+Mc/jq1bt+JnP/tZ3N+75ppr8PDDDxv/9/l8cX0vEolMea2npyfu30sIIYQQQuaX6bTZdBouGdJGJN9zzz0AgEceeSSh7/l8PlRUVCT8+/r6+qa8tnr16oTvQwghhBBCFo6+vj6Ul5dbvk/ahFsky65du1BWVoaVK1fi85//PHp7e2f9vN/vx9DQEEZGRhaohIQQQgghxG6c1yL5mmuuwS9+8Qvs3LkT3/nOd/DCCy/g/e9/P8Lh8Izf+fa3v438/Hxs3rx5AUtKCCGEEEJshZZCvvrVr2oAZv139OjRSd95+OGHtfz8/KR+X1NTkwZAe+6552b8zMTEhDY4OKjt27dvzrLxH//xH//xH//xH//xn73+HTlyJCmdGEtKY5Jvv/123HLLLbN+pq6uTtnvq6urQ0lJCU6ePImrrrpq2s/4fD74fD5s2LABR44cwcjICDZv3ox9+/ahtrYWTud57Xy/4BkeHkZ9fT2ampqQm5ub6uKQeYbP+8KCz/vCgs/7wiASiaCvr2+SXlu+fLmSe6dUJJeWlqK0tHTBfl97ezt6e3tRWVk552fdbjdWrVqFoaEhAMDKlSuRl5c330UkKUZmPykpKeHzvgDg876w4PO+sODzvnAoLy+fpNfcbjXyNm3coq2trWhsbERrayvC4TAaGxvR2Ng4aYNdQ0MDnnrqKQDAyMgI7rjjDuzduxctLS3YuXMnrrvuOixbtgzbt29P1Z9BCCGEEELSgLRJAXfXXXfh0UcfNf6/YcMGAMDzzz+PK6+8EgBw/PhxDA4OAgBcLhcOHjyIRx99FAMDA6iqqsL73vc+fPOb34w7VzIgZqJ33313Qt8h6Quf94UFn/eFBZ/3hQWf94XFfDxvh6ZpmrK7EUIIIYQQch6QNuEWhBBCCCGELBQUyYQQQgghhMRAkUwIIYQQQkgMFMmEEEIIIYTEQJEM4KGHHsKSJUuQkZGBLVu2YN++fbN+/re//S0aGhqQkZGBdevWYceOHQtUUqKCRJ73T37yE1x++eUoLCxEYWEhrr766jntg9iLRNu35PHHH4fD4cD1118/vwUkSkn0eQ8MDOC2225DZWUlfD4fVqxYwT49jUj0eT/44INYuXIlMjMzUVNTgy996UuYmJhYoNKSZHnxxRfxoQ99CFVVVXA4HPj9738/53d27dqFSy65BD6fD8uWLcMjjzyS+C9Wcm5fGvP4449rXq9X+/nPf6699dZb2mc/+1mtoKBA6+zsnPbzr7zyiuZyubQHHnhAO3LkiPZP//RPmsfj0Q4dOrTAJSfJkOjz/uQnP6k99NBD2oEDB7SjR49qt9xyi5afn6+1t7cvcMlJMiT6vCWnTp3Sqqurtcsvv1y77rrrFqawxDKJPm+/369t2rRJu/baa7WXX35ZO3XqlLZr1y6tsbFxgUtOkiHR5/3YY49pPp9Pe+yxx7RTp05pf/rTn7TKykrtS1/60gKXnCTKjh07tDvvvFN78sknNQDaU089Nevnm5ubtaysLO3LX/6yduTIEe373/++5nK5tGeffTah33vBi+TNmzdrt912m/H/cDisVVVVad/+9ren/fwNN9ygfeADH5j02pYtW7TPfe5z81pOooZEn3csoVBIy83N1R599NH5KiJRSDLPOxQKadu2bdN++tOfajfffDNFchqR6PP+4Q9/qNXV1WmBQGChikgUkujzvu2227T3vOc9k1778pe/rF166aXzWk6ilnhE8le+8hVtzZo1k1678cYbte3btyf0uy7ocItAIID9+/fj6quvNl5zOp24+uqrsWfPnmm/s2fPnkmfB4Dt27fP+HliH5J53rGMjY0hGAyiqKhovopJFJHs8/6Xf/kXlJWV4W//9m8XophEEck876effhpbt27FbbfdhvLycqxduxb33XcfwuHwQhWbJEkyz3vbtm3Yv3+/EZLR3NyMHTt24Nprr12QMpOFQ5VWS5sT9+aDnp4ehMNhlJeXT3q9vLwcx44dm/Y7HR0d036+o6Nj3spJ1JDM847lq1/9KqqqqqY0PmI/knneL7/8Mn72s5+hsbFxAUpIVJLM825ubsZf//pXfOpTn8KOHTtw8uRJfOELX0AwGMTdd9+9EMUmSZLM8/7kJz+Jnp4eXHbZZdA0DaFQCH/3d3+Hr3/96wtRZLKAzKTVhoaGMD4+jszMzLjuc0F7kglJhPvvvx+PP/44nnrqKWRkZKS6OEQxw8PDuOmmm/CTn/wEJSUlqS4OWQAikQjKysrw4x//GBs3bsSNN96IO++8Ez/60Y9SXTQyD+zatQv33XcffvCDH+CNN97Ak08+iWeeeQbf/OY3U100YlMuaE9ySUkJXC4XOjs7J73e2dmJioqKab9TUVGR0OeJfUjmeUu++93v4v7778dzzz2Hiy66aD6LSRSR6PNuampCS0sLPvShDxmvRSIRAIDb7cbx48dRX18/v4UmSZNM+66srITH44HL5TJeW7VqFTo6OhAIBOD1eue1zCR5knne//zP/4ybbroJn/nMZwAA69atw+joKG699VbceeedcDrpNzxfmEmr5eXlxe1FBi5wT7LX68XGjRuxc+dO47VIJIKdO3di69at035n69atkz4PAH/5y19m/DyxD8k8bwB44IEH8M1vfhPPPvssNm3atBBFJQpI9Hk3NDTg0KFDaGxsNP59+MMfxrvf/W40NjaipqZmIYtPEiSZ9n3ppZfi5MmTxmQIAE6cOIHKykoKZJuTzPMeGxubIoTlBEnsByPnC8q0WmJ7Cs8/Hn/8cc3n82mPPPKIduTIEe3WW2/VCgoKtI6ODk3TNO2mm27Svva1rxmff+WVVzS3261997vf1Y4ePardfffdTAGXRiT6vO+//37N6/VqTzzxhHbu3Dnj3/DwcKr+BJIAiT7vWJjdIr1I9Hm3trZqubm52t///d9rx48f1/7whz9oZWVl2re+9a1U/QkkARJ93nfffbeWm5ur/frXv9aam5u1P//5z1p9fb12ww03pOpPIHEyPDysHThwQDtw4IAGQPve976nHThwQDt9+rSmaZr2ta99TbvpppuMz8sUcHfccYd29OhR7aGHHmIKuGT5/ve/r9XW1mper1fbvHmztnfvXuO9K664Qrv55psnff4//uM/tBUrVmher1dbs2aN9swzzyxwiYkVEnneixcv1gBM+Xf33XcvfMFJUiTavqOhSE4/En3eu3fv1rZs2aL5fD6trq5Ou/fee7VQKLTApSbJksjzDgaD2je+8Q2tvr5ey8jI0GpqarQvfOELWn9//8IXnCTE888/P+1YLJ/vzTffrF1xxRVTvrN+/XrN6/VqdXV12sMPP5zw73VoGtcYCCGEEEIIieaCjkkmhBBCCCFkOiiSCSGEEEIIiYEimRBCCCGEkBgokgkhhBBCCImBIpkQQgghhJAYKJIJIYQQQgiJgSKZEEIIIYSQGCiSCSGEEEIIiYEimRBCCCGEkBgokgkhhBBCCImBIpkQQgghhJAYKJIJIeQCoLu7GxUVFbjvvvuM13bv3g2v14udO3emsGSEEGJPHJqmaakuBCGEkPlnx44duP7667F7926sXLkS69evx3XXXYfvfe97qS4aIYTYDopkQgi5gLjtttvw3HPPYdOmTTh06BBee+01+Hy+VBeLEEJsB0UyIYRcQIyPj2Pt2rVoa2vD/v37sW7dulQXiRBCbAljkgkh5AKiqakJZ8+eRSQSQUtLS6qLQwghtoWeZEIIuUAIBALYvHkz1q9fj5UrV+LBBx/EoUOHUFZWluqiEUKI7aBIJoSQC4Q77rgDTzzxBN58803k5OTgiiuuQH5+Pv7whz+kumiEEGI7GG5BCCEXALt27cKDDz6IX/7yl8jLy4PT6cQvf/lLvPTSS/jhD3+Y6uIRQojtoCeZEEIIIYSQGOhJJoQQQgghJAaKZEIIIYQQQmKgSCaEEEIIISQGimRCCCGEEEJioEgmhBBCCCEkBopkQgghhBBCdOMZ3AAAADdJREFUYqBIJoQQQgghJAaKZEIIIYQQQmKgSCaEEEIIISQGimRCCCGEEEJioEgmhBBCCCEkhv8P1e62H+QmPDMAAAAASUVORK5CYII=\n"
                },
                "metadata": {}
              }
            ]
          }
        },
        "8d440adc9f2e4cff89dfcb275a4b6bed": {
          "model_module": "@jupyter-widgets/base",
          "model_name": "LayoutModel",
          "model_module_version": "1.2.0",
          "state": {
            "_model_module": "@jupyter-widgets/base",
            "_model_module_version": "1.2.0",
            "_model_name": "LayoutModel",
            "_view_count": null,
            "_view_module": "@jupyter-widgets/base",
            "_view_module_version": "1.2.0",
            "_view_name": "LayoutView",
            "align_content": null,
            "align_items": null,
            "align_self": null,
            "border": null,
            "bottom": null,
            "display": null,
            "flex": null,
            "flex_flow": null,
            "grid_area": null,
            "grid_auto_columns": null,
            "grid_auto_flow": null,
            "grid_auto_rows": null,
            "grid_column": null,
            "grid_gap": null,
            "grid_row": null,
            "grid_template_areas": null,
            "grid_template_columns": null,
            "grid_template_rows": null,
            "height": null,
            "justify_content": null,
            "justify_items": null,
            "left": null,
            "margin": null,
            "max_height": null,
            "max_width": null,
            "min_height": null,
            "min_width": null,
            "object_fit": null,
            "object_position": null,
            "order": null,
            "overflow": null,
            "overflow_x": null,
            "overflow_y": null,
            "padding": null,
            "right": null,
            "top": null,
            "visibility": null,
            "width": null
          }
        },
        "cc350039ae524bf8858378373f984971": {
          "model_module": "@jupyter-widgets/base",
          "model_name": "LayoutModel",
          "model_module_version": "1.2.0",
          "state": {
            "_model_module": "@jupyter-widgets/base",
            "_model_module_version": "1.2.0",
            "_model_name": "LayoutModel",
            "_view_count": null,
            "_view_module": "@jupyter-widgets/base",
            "_view_module_version": "1.2.0",
            "_view_name": "LayoutView",
            "align_content": null,
            "align_items": null,
            "align_self": null,
            "border": null,
            "bottom": null,
            "display": null,
            "flex": null,
            "flex_flow": null,
            "grid_area": null,
            "grid_auto_columns": null,
            "grid_auto_flow": null,
            "grid_auto_rows": null,
            "grid_column": null,
            "grid_gap": null,
            "grid_row": null,
            "grid_template_areas": null,
            "grid_template_columns": null,
            "grid_template_rows": null,
            "height": null,
            "justify_content": null,
            "justify_items": null,
            "left": null,
            "margin": null,
            "max_height": null,
            "max_width": null,
            "min_height": null,
            "min_width": null,
            "object_fit": null,
            "object_position": null,
            "order": null,
            "overflow": null,
            "overflow_x": null,
            "overflow_y": null,
            "padding": null,
            "right": null,
            "top": null,
            "visibility": null,
            "width": null
          }
        },
        "4780d538fec74d29a33b6384e8df0142": {
          "model_module": "@jupyter-widgets/controls",
          "model_name": "SliderStyleModel",
          "model_module_version": "1.5.0",
          "state": {
            "_model_module": "@jupyter-widgets/controls",
            "_model_module_version": "1.5.0",
            "_model_name": "SliderStyleModel",
            "_view_count": null,
            "_view_module": "@jupyter-widgets/base",
            "_view_module_version": "1.2.0",
            "_view_name": "StyleView",
            "description_width": "",
            "handle_color": null
          }
        },
        "99cd86c9bb4b48bf8d56ab15de34b538": {
          "model_module": "@jupyter-widgets/base",
          "model_name": "LayoutModel",
          "model_module_version": "1.2.0",
          "state": {
            "_model_module": "@jupyter-widgets/base",
            "_model_module_version": "1.2.0",
            "_model_name": "LayoutModel",
            "_view_count": null,
            "_view_module": "@jupyter-widgets/base",
            "_view_module_version": "1.2.0",
            "_view_name": "LayoutView",
            "align_content": null,
            "align_items": null,
            "align_self": null,
            "border": null,
            "bottom": null,
            "display": null,
            "flex": null,
            "flex_flow": null,
            "grid_area": null,
            "grid_auto_columns": null,
            "grid_auto_flow": null,
            "grid_auto_rows": null,
            "grid_column": null,
            "grid_gap": null,
            "grid_row": null,
            "grid_template_areas": null,
            "grid_template_columns": null,
            "grid_template_rows": null,
            "height": null,
            "justify_content": null,
            "justify_items": null,
            "left": null,
            "margin": null,
            "max_height": null,
            "max_width": null,
            "min_height": null,
            "min_width": null,
            "object_fit": null,
            "object_position": null,
            "order": null,
            "overflow": null,
            "overflow_x": null,
            "overflow_y": null,
            "padding": null,
            "right": null,
            "top": null,
            "visibility": null,
            "width": null
          }
        },
        "6f8e902db6a640588111e94cb27ee5dc": {
          "model_module": "@jupyter-widgets/controls",
          "model_name": "VBoxModel",
          "model_module_version": "1.5.0",
          "state": {
            "_dom_classes": [
              "widget-interact"
            ],
            "_model_module": "@jupyter-widgets/controls",
            "_model_module_version": "1.5.0",
            "_model_name": "VBoxModel",
            "_view_count": null,
            "_view_module": "@jupyter-widgets/controls",
            "_view_module_version": "1.5.0",
            "_view_name": "VBoxView",
            "box_style": "",
            "children": [
              "IPY_MODEL_ff67781d2d61446d823a3d850aa84eca",
              "IPY_MODEL_8579fee92d8d4b7390de3570259f803f"
            ],
            "layout": "IPY_MODEL_224cd0ac5bdd457b85fa71cf10a179c2"
          }
        },
        "ff67781d2d61446d823a3d850aa84eca": {
          "model_module": "@jupyter-widgets/controls",
          "model_name": "IntSliderModel",
          "model_module_version": "1.5.0",
          "state": {
            "_dom_classes": [],
            "_model_module": "@jupyter-widgets/controls",
            "_model_module_version": "1.5.0",
            "_model_name": "IntSliderModel",
            "_view_count": null,
            "_view_module": "@jupyter-widgets/controls",
            "_view_module_version": "1.5.0",
            "_view_name": "IntSliderView",
            "continuous_update": true,
            "description": "max_level",
            "description_tooltip": null,
            "disabled": false,
            "layout": "IPY_MODEL_c29cf13acb1c4c598ed7f87abe9bcc67",
            "max": 10,
            "min": 0,
            "orientation": "horizontal",
            "readout": true,
            "readout_format": "d",
            "step": 1,
            "style": "IPY_MODEL_4a16bcfcf409426fbea09cc588670f33",
            "value": 10
          }
        },
        "8579fee92d8d4b7390de3570259f803f": {
          "model_module": "@jupyter-widgets/output",
          "model_name": "OutputModel",
          "model_module_version": "1.0.0",
          "state": {
            "_dom_classes": [],
            "_model_module": "@jupyter-widgets/output",
            "_model_module_version": "1.0.0",
            "_model_name": "OutputModel",
            "_view_count": null,
            "_view_module": "@jupyter-widgets/output",
            "_view_module_version": "1.0.0",
            "_view_name": "OutputView",
            "layout": "IPY_MODEL_ec60bfcd59144f449c155e53ae0cef26",
            "msg_id": "",
            "outputs": [
              {
                "output_type": "display_data",
                "data": {
                  "text/plain": "<Figure size 800x500 with 1 Axes>",
                  "image/png": "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\n"
                },
                "metadata": {}
              }
            ]
          }
        },
        "224cd0ac5bdd457b85fa71cf10a179c2": {
          "model_module": "@jupyter-widgets/base",
          "model_name": "LayoutModel",
          "model_module_version": "1.2.0",
          "state": {
            "_model_module": "@jupyter-widgets/base",
            "_model_module_version": "1.2.0",
            "_model_name": "LayoutModel",
            "_view_count": null,
            "_view_module": "@jupyter-widgets/base",
            "_view_module_version": "1.2.0",
            "_view_name": "LayoutView",
            "align_content": null,
            "align_items": null,
            "align_self": null,
            "border": null,
            "bottom": null,
            "display": null,
            "flex": null,
            "flex_flow": null,
            "grid_area": null,
            "grid_auto_columns": null,
            "grid_auto_flow": null,
            "grid_auto_rows": null,
            "grid_column": null,
            "grid_gap": null,
            "grid_row": null,
            "grid_template_areas": null,
            "grid_template_columns": null,
            "grid_template_rows": null,
            "height": null,
            "justify_content": null,
            "justify_items": null,
            "left": null,
            "margin": null,
            "max_height": null,
            "max_width": null,
            "min_height": null,
            "min_width": null,
            "object_fit": null,
            "object_position": null,
            "order": null,
            "overflow": null,
            "overflow_x": null,
            "overflow_y": null,
            "padding": null,
            "right": null,
            "top": null,
            "visibility": null,
            "width": null
          }
        },
        "c29cf13acb1c4c598ed7f87abe9bcc67": {
          "model_module": "@jupyter-widgets/base",
          "model_name": "LayoutModel",
          "model_module_version": "1.2.0",
          "state": {
            "_model_module": "@jupyter-widgets/base",
            "_model_module_version": "1.2.0",
            "_model_name": "LayoutModel",
            "_view_count": null,
            "_view_module": "@jupyter-widgets/base",
            "_view_module_version": "1.2.0",
            "_view_name": "LayoutView",
            "align_content": null,
            "align_items": null,
            "align_self": null,
            "border": null,
            "bottom": null,
            "display": null,
            "flex": null,
            "flex_flow": null,
            "grid_area": null,
            "grid_auto_columns": null,
            "grid_auto_flow": null,
            "grid_auto_rows": null,
            "grid_column": null,
            "grid_gap": null,
            "grid_row": null,
            "grid_template_areas": null,
            "grid_template_columns": null,
            "grid_template_rows": null,
            "height": null,
            "justify_content": null,
            "justify_items": null,
            "left": null,
            "margin": null,
            "max_height": null,
            "max_width": null,
            "min_height": null,
            "min_width": null,
            "object_fit": null,
            "object_position": null,
            "order": null,
            "overflow": null,
            "overflow_x": null,
            "overflow_y": null,
            "padding": null,
            "right": null,
            "top": null,
            "visibility": null,
            "width": null
          }
        },
        "4a16bcfcf409426fbea09cc588670f33": {
          "model_module": "@jupyter-widgets/controls",
          "model_name": "SliderStyleModel",
          "model_module_version": "1.5.0",
          "state": {
            "_model_module": "@jupyter-widgets/controls",
            "_model_module_version": "1.5.0",
            "_model_name": "SliderStyleModel",
            "_view_count": null,
            "_view_module": "@jupyter-widgets/base",
            "_view_module_version": "1.2.0",
            "_view_name": "StyleView",
            "description_width": "",
            "handle_color": null
          }
        },
        "ec60bfcd59144f449c155e53ae0cef26": {
          "model_module": "@jupyter-widgets/base",
          "model_name": "LayoutModel",
          "model_module_version": "1.2.0",
          "state": {
            "_model_module": "@jupyter-widgets/base",
            "_model_module_version": "1.2.0",
            "_model_name": "LayoutModel",
            "_view_count": null,
            "_view_module": "@jupyter-widgets/base",
            "_view_module_version": "1.2.0",
            "_view_name": "LayoutView",
            "align_content": null,
            "align_items": null,
            "align_self": null,
            "border": null,
            "bottom": null,
            "display": null,
            "flex": null,
            "flex_flow": null,
            "grid_area": null,
            "grid_auto_columns": null,
            "grid_auto_flow": null,
            "grid_auto_rows": null,
            "grid_column": null,
            "grid_gap": null,
            "grid_row": null,
            "grid_template_areas": null,
            "grid_template_columns": null,
            "grid_template_rows": null,
            "height": null,
            "justify_content": null,
            "justify_items": null,
            "left": null,
            "margin": null,
            "max_height": null,
            "max_width": null,
            "min_height": null,
            "min_width": null,
            "object_fit": null,
            "object_position": null,
            "order": null,
            "overflow": null,
            "overflow_x": null,
            "overflow_y": null,
            "padding": null,
            "right": null,
            "top": null,
            "visibility": null,
            "width": null
          }
        },
        "4efce65eefae4d35a72951c20a34ff76": {
          "model_module": "@jupyter-widgets/controls",
          "model_name": "VBoxModel",
          "model_module_version": "1.5.0",
          "state": {
            "_dom_classes": [
              "widget-interact"
            ],
            "_model_module": "@jupyter-widgets/controls",
            "_model_module_version": "1.5.0",
            "_model_name": "VBoxModel",
            "_view_count": null,
            "_view_module": "@jupyter-widgets/controls",
            "_view_module_version": "1.5.0",
            "_view_name": "VBoxView",
            "box_style": "",
            "children": [
              "IPY_MODEL_b91c5a80b396418090e52c97f6bdd2ca",
              "IPY_MODEL_c0b8557cd17642b484454b91a01d646e",
              "IPY_MODEL_05fd9ecb37334f419ea543ab5b931005",
              "IPY_MODEL_4339017c48744d0d83fa546d8f605bfe",
              "IPY_MODEL_e7eee7099e8f4aeaabb95806e874381b"
            ],
            "layout": "IPY_MODEL_7f56dda4687b4d31a59dc3086485b84e"
          }
        },
        "b91c5a80b396418090e52c97f6bdd2ca": {
          "model_module": "@jupyter-widgets/controls",
          "model_name": "IntSliderModel",
          "model_module_version": "1.5.0",
          "state": {
            "_dom_classes": [],
            "_model_module": "@jupyter-widgets/controls",
            "_model_module_version": "1.5.0",
            "_model_name": "IntSliderModel",
            "_view_count": null,
            "_view_module": "@jupyter-widgets/controls",
            "_view_module_version": "1.5.0",
            "_view_name": "IntSliderView",
            "continuous_update": true,
            "description": "j_scale",
            "description_tooltip": null,
            "disabled": false,
            "layout": "IPY_MODEL_3979a225c8614dc7b661e6959eaa9647",
            "max": 4,
            "min": 0,
            "orientation": "horizontal",
            "readout": true,
            "readout_format": "d",
            "step": 1,
            "style": "IPY_MODEL_c64ed3cbccc04e37bd0a600ac1e34358",
            "value": 0
          }
        },
        "c0b8557cd17642b484454b91a01d646e": {
          "model_module": "@jupyter-widgets/controls",
          "model_name": "IntSliderModel",
          "model_module_version": "1.5.0",
          "state": {
            "_dom_classes": [],
            "_model_module": "@jupyter-widgets/controls",
            "_model_module_version": "1.5.0",
            "_model_name": "IntSliderModel",
            "_view_count": null,
            "_view_module": "@jupyter-widgets/controls",
            "_view_module_version": "1.5.0",
            "_view_name": "IntSliderView",
            "continuous_update": true,
            "description": "k_translate",
            "description_tooltip": null,
            "disabled": false,
            "layout": "IPY_MODEL_0739076beffa4ae785c9d41f92d1c511",
            "max": 4,
            "min": -5,
            "orientation": "horizontal",
            "readout": true,
            "readout_format": "d",
            "step": 1,
            "style": "IPY_MODEL_1006a894605f4ac08089a702c880b0eb",
            "value": 0
          }
        },
        "05fd9ecb37334f419ea543ab5b931005": {
          "model_module": "@jupyter-widgets/controls",
          "model_name": "DropdownModel",
          "model_module_version": "1.5.0",
          "state": {
            "_dom_classes": [],
            "_model_module": "@jupyter-widgets/controls",
            "_model_module_version": "1.5.0",
            "_model_name": "DropdownModel",
            "_options_labels": [
              "haar",
              "db2",
              "db3",
              "db4",
              "sym2",
              "sym3"
            ],
            "_view_count": null,
            "_view_module": "@jupyter-widgets/controls",
            "_view_module_version": "1.5.0",
            "_view_name": "DropdownView",
            "description": "wavelet",
            "description_tooltip": null,
            "disabled": false,
            "index": 0,
            "layout": "IPY_MODEL_fb6ca451155b4a3fac7876c0063d5e3b",
            "style": "IPY_MODEL_fa1778b472f8455f94afb91d646c8106"
          }
        },
        "4339017c48744d0d83fa546d8f605bfe": {
          "model_module": "@jupyter-widgets/controls",
          "model_name": "CheckboxModel",
          "model_module_version": "1.5.0",
          "state": {
            "_dom_classes": [],
            "_model_module": "@jupyter-widgets/controls",
            "_model_module_version": "1.5.0",
            "_model_name": "CheckboxModel",
            "_view_count": null,
            "_view_module": "@jupyter-widgets/controls",
            "_view_module_version": "1.5.0",
            "_view_name": "CheckboxView",
            "description": "show",
            "description_tooltip": null,
            "disabled": false,
            "indent": true,
            "layout": "IPY_MODEL_6f02db719a7d4d98ac4f04b668edbc3a",
            "style": "IPY_MODEL_a622ad8bf8624ee3a40e175db13e4ae0",
            "value": true
          }
        },
        "e7eee7099e8f4aeaabb95806e874381b": {
          "model_module": "@jupyter-widgets/output",
          "model_name": "OutputModel",
          "model_module_version": "1.0.0",
          "state": {
            "_dom_classes": [],
            "_model_module": "@jupyter-widgets/output",
            "_model_module_version": "1.0.0",
            "_model_name": "OutputModel",
            "_view_count": null,
            "_view_module": "@jupyter-widgets/output",
            "_view_module_version": "1.0.0",
            "_view_name": "OutputView",
            "layout": "IPY_MODEL_cc8c91903aed4af69c9097a78465b652",
            "msg_id": "",
            "outputs": [
              {
                "output_type": "display_data",
                "data": {
                  "text/plain": "<Figure size 640x480 with 1 Axes>",
                  "image/png": "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\n"
                },
                "metadata": {}
              }
            ]
          }
        },
        "7f56dda4687b4d31a59dc3086485b84e": {
          "model_module": "@jupyter-widgets/base",
          "model_name": "LayoutModel",
          "model_module_version": "1.2.0",
          "state": {
            "_model_module": "@jupyter-widgets/base",
            "_model_module_version": "1.2.0",
            "_model_name": "LayoutModel",
            "_view_count": null,
            "_view_module": "@jupyter-widgets/base",
            "_view_module_version": "1.2.0",
            "_view_name": "LayoutView",
            "align_content": null,
            "align_items": null,
            "align_self": null,
            "border": null,
            "bottom": null,
            "display": null,
            "flex": null,
            "flex_flow": null,
            "grid_area": null,
            "grid_auto_columns": null,
            "grid_auto_flow": null,
            "grid_auto_rows": null,
            "grid_column": null,
            "grid_gap": null,
            "grid_row": null,
            "grid_template_areas": null,
            "grid_template_columns": null,
            "grid_template_rows": null,
            "height": null,
            "justify_content": null,
            "justify_items": null,
            "left": null,
            "margin": null,
            "max_height": null,
            "max_width": null,
            "min_height": null,
            "min_width": null,
            "object_fit": null,
            "object_position": null,
            "order": null,
            "overflow": null,
            "overflow_x": null,
            "overflow_y": null,
            "padding": null,
            "right": null,
            "top": null,
            "visibility": null,
            "width": null
          }
        },
        "3979a225c8614dc7b661e6959eaa9647": {
          "model_module": "@jupyter-widgets/base",
          "model_name": "LayoutModel",
          "model_module_version": "1.2.0",
          "state": {
            "_model_module": "@jupyter-widgets/base",
            "_model_module_version": "1.2.0",
            "_model_name": "LayoutModel",
            "_view_count": null,
            "_view_module": "@jupyter-widgets/base",
            "_view_module_version": "1.2.0",
            "_view_name": "LayoutView",
            "align_content": null,
            "align_items": null,
            "align_self": null,
            "border": null,
            "bottom": null,
            "display": null,
            "flex": null,
            "flex_flow": null,
            "grid_area": null,
            "grid_auto_columns": null,
            "grid_auto_flow": null,
            "grid_auto_rows": null,
            "grid_column": null,
            "grid_gap": null,
            "grid_row": null,
            "grid_template_areas": null,
            "grid_template_columns": null,
            "grid_template_rows": null,
            "height": null,
            "justify_content": null,
            "justify_items": null,
            "left": null,
            "margin": null,
            "max_height": null,
            "max_width": null,
            "min_height": null,
            "min_width": null,
            "object_fit": null,
            "object_position": null,
            "order": null,
            "overflow": null,
            "overflow_x": null,
            "overflow_y": null,
            "padding": null,
            "right": null,
            "top": null,
            "visibility": null,
            "width": null
          }
        },
        "c64ed3cbccc04e37bd0a600ac1e34358": {
          "model_module": "@jupyter-widgets/controls",
          "model_name": "SliderStyleModel",
          "model_module_version": "1.5.0",
          "state": {
            "_model_module": "@jupyter-widgets/controls",
            "_model_module_version": "1.5.0",
            "_model_name": "SliderStyleModel",
            "_view_count": null,
            "_view_module": "@jupyter-widgets/base",
            "_view_module_version": "1.2.0",
            "_view_name": "StyleView",
            "description_width": "",
            "handle_color": null
          }
        },
        "0739076beffa4ae785c9d41f92d1c511": {
          "model_module": "@jupyter-widgets/base",
          "model_name": "LayoutModel",
          "model_module_version": "1.2.0",
          "state": {
            "_model_module": "@jupyter-widgets/base",
            "_model_module_version": "1.2.0",
            "_model_name": "LayoutModel",
            "_view_count": null,
            "_view_module": "@jupyter-widgets/base",
            "_view_module_version": "1.2.0",
            "_view_name": "LayoutView",
            "align_content": null,
            "align_items": null,
            "align_self": null,
            "border": null,
            "bottom": null,
            "display": null,
            "flex": null,
            "flex_flow": null,
            "grid_area": null,
            "grid_auto_columns": null,
            "grid_auto_flow": null,
            "grid_auto_rows": null,
            "grid_column": null,
            "grid_gap": null,
            "grid_row": null,
            "grid_template_areas": null,
            "grid_template_columns": null,
            "grid_template_rows": null,
            "height": null,
            "justify_content": null,
            "justify_items": null,
            "left": null,
            "margin": null,
            "max_height": null,
            "max_width": null,
            "min_height": null,
            "min_width": null,
            "object_fit": null,
            "object_position": null,
            "order": null,
            "overflow": null,
            "overflow_x": null,
            "overflow_y": null,
            "padding": null,
            "right": null,
            "top": null,
            "visibility": null,
            "width": null
          }
        },
        "1006a894605f4ac08089a702c880b0eb": {
          "model_module": "@jupyter-widgets/controls",
          "model_name": "SliderStyleModel",
          "model_module_version": "1.5.0",
          "state": {
            "_model_module": "@jupyter-widgets/controls",
            "_model_module_version": "1.5.0",
            "_model_name": "SliderStyleModel",
            "_view_count": null,
            "_view_module": "@jupyter-widgets/base",
            "_view_module_version": "1.2.0",
            "_view_name": "StyleView",
            "description_width": "",
            "handle_color": null
          }
        },
        "fb6ca451155b4a3fac7876c0063d5e3b": {
          "model_module": "@jupyter-widgets/base",
          "model_name": "LayoutModel",
          "model_module_version": "1.2.0",
          "state": {
            "_model_module": "@jupyter-widgets/base",
            "_model_module_version": "1.2.0",
            "_model_name": "LayoutModel",
            "_view_count": null,
            "_view_module": "@jupyter-widgets/base",
            "_view_module_version": "1.2.0",
            "_view_name": "LayoutView",
            "align_content": null,
            "align_items": null,
            "align_self": null,
            "border": null,
            "bottom": null,
            "display": null,
            "flex": null,
            "flex_flow": null,
            "grid_area": null,
            "grid_auto_columns": null,
            "grid_auto_flow": null,
            "grid_auto_rows": null,
            "grid_column": null,
            "grid_gap": null,
            "grid_row": null,
            "grid_template_areas": null,
            "grid_template_columns": null,
            "grid_template_rows": null,
            "height": null,
            "justify_content": null,
            "justify_items": null,
            "left": null,
            "margin": null,
            "max_height": null,
            "max_width": null,
            "min_height": null,
            "min_width": null,
            "object_fit": null,
            "object_position": null,
            "order": null,
            "overflow": null,
            "overflow_x": null,
            "overflow_y": null,
            "padding": null,
            "right": null,
            "top": null,
            "visibility": null,
            "width": null
          }
        },
        "fa1778b472f8455f94afb91d646c8106": {
          "model_module": "@jupyter-widgets/controls",
          "model_name": "DescriptionStyleModel",
          "model_module_version": "1.5.0",
          "state": {
            "_model_module": "@jupyter-widgets/controls",
            "_model_module_version": "1.5.0",
            "_model_name": "DescriptionStyleModel",
            "_view_count": null,
            "_view_module": "@jupyter-widgets/base",
            "_view_module_version": "1.2.0",
            "_view_name": "StyleView",
            "description_width": ""
          }
        },
        "6f02db719a7d4d98ac4f04b668edbc3a": {
          "model_module": "@jupyter-widgets/base",
          "model_name": "LayoutModel",
          "model_module_version": "1.2.0",
          "state": {
            "_model_module": "@jupyter-widgets/base",
            "_model_module_version": "1.2.0",
            "_model_name": "LayoutModel",
            "_view_count": null,
            "_view_module": "@jupyter-widgets/base",
            "_view_module_version": "1.2.0",
            "_view_name": "LayoutView",
            "align_content": null,
            "align_items": null,
            "align_self": null,
            "border": null,
            "bottom": null,
            "display": null,
            "flex": null,
            "flex_flow": null,
            "grid_area": null,
            "grid_auto_columns": null,
            "grid_auto_flow": null,
            "grid_auto_rows": null,
            "grid_column": null,
            "grid_gap": null,
            "grid_row": null,
            "grid_template_areas": null,
            "grid_template_columns": null,
            "grid_template_rows": null,
            "height": null,
            "justify_content": null,
            "justify_items": null,
            "left": null,
            "margin": null,
            "max_height": null,
            "max_width": null,
            "min_height": null,
            "min_width": null,
            "object_fit": null,
            "object_position": null,
            "order": null,
            "overflow": null,
            "overflow_x": null,
            "overflow_y": null,
            "padding": null,
            "right": null,
            "top": null,
            "visibility": null,
            "width": null
          }
        },
        "a622ad8bf8624ee3a40e175db13e4ae0": {
          "model_module": "@jupyter-widgets/controls",
          "model_name": "DescriptionStyleModel",
          "model_module_version": "1.5.0",
          "state": {
            "_model_module": "@jupyter-widgets/controls",
            "_model_module_version": "1.5.0",
            "_model_name": "DescriptionStyleModel",
            "_view_count": null,
            "_view_module": "@jupyter-widgets/base",
            "_view_module_version": "1.2.0",
            "_view_name": "StyleView",
            "description_width": ""
          }
        },
        "cc8c91903aed4af69c9097a78465b652": {
          "model_module": "@jupyter-widgets/base",
          "model_name": "LayoutModel",
          "model_module_version": "1.2.0",
          "state": {
            "_model_module": "@jupyter-widgets/base",
            "_model_module_version": "1.2.0",
            "_model_name": "LayoutModel",
            "_view_count": null,
            "_view_module": "@jupyter-widgets/base",
            "_view_module_version": "1.2.0",
            "_view_name": "LayoutView",
            "align_content": null,
            "align_items": null,
            "align_self": null,
            "border": null,
            "bottom": null,
            "display": null,
            "flex": null,
            "flex_flow": null,
            "grid_area": null,
            "grid_auto_columns": null,
            "grid_auto_flow": null,
            "grid_auto_rows": null,
            "grid_column": null,
            "grid_gap": null,
            "grid_row": null,
            "grid_template_areas": null,
            "grid_template_columns": null,
            "grid_template_rows": null,
            "height": null,
            "justify_content": null,
            "justify_items": null,
            "left": null,
            "margin": null,
            "max_height": null,
            "max_width": null,
            "min_height": null,
            "min_width": null,
            "object_fit": null,
            "object_position": null,
            "order": null,
            "overflow": null,
            "overflow_x": null,
            "overflow_y": null,
            "padding": null,
            "right": null,
            "top": null,
            "visibility": null,
            "width": null
          }
        },
        "41738b32f59b4dc69f0afa8c437de54b": {
          "model_module": "@jupyter-widgets/controls",
          "model_name": "VBoxModel",
          "model_module_version": "1.5.0",
          "state": {
            "_dom_classes": [
              "widget-interact"
            ],
            "_model_module": "@jupyter-widgets/controls",
            "_model_module_version": "1.5.0",
            "_model_name": "VBoxModel",
            "_view_count": null,
            "_view_module": "@jupyter-widgets/controls",
            "_view_module_version": "1.5.0",
            "_view_name": "VBoxView",
            "box_style": "",
            "children": [
              "IPY_MODEL_9c0466eefba943fbbea0f5b0160d4667",
              "IPY_MODEL_8f18cf6b1422461c96fe70d88edc8e2c",
              "IPY_MODEL_502685d5226644fcad73bf6587f254e8",
              "IPY_MODEL_dee0ef4d108c4aeaa3a86917b009aeb5"
            ],
            "layout": "IPY_MODEL_fe5e080cbb5d4917886068b705ed2908"
          }
        },
        "9c0466eefba943fbbea0f5b0160d4667": {
          "model_module": "@jupyter-widgets/controls",
          "model_name": "IntSliderModel",
          "model_module_version": "1.5.0",
          "state": {
            "_dom_classes": [],
            "_model_module": "@jupyter-widgets/controls",
            "_model_module_version": "1.5.0",
            "_model_name": "IntSliderModel",
            "_view_count": null,
            "_view_module": "@jupyter-widgets/controls",
            "_view_module_version": "1.5.0",
            "_view_name": "IntSliderView",
            "continuous_update": true,
            "description": "j_scale",
            "description_tooltip": null,
            "disabled": false,
            "layout": "IPY_MODEL_24c4b0f32ddc4e568d823c3754866805",
            "max": 4,
            "min": 0,
            "orientation": "horizontal",
            "readout": true,
            "readout_format": "d",
            "step": 1,
            "style": "IPY_MODEL_3575a7f6dd4543a3b57c6dfbdaa797ef",
            "value": 0
          }
        },
        "8f18cf6b1422461c96fe70d88edc8e2c": {
          "model_module": "@jupyter-widgets/controls",
          "model_name": "IntSliderModel",
          "model_module_version": "1.5.0",
          "state": {
            "_dom_classes": [],
            "_model_module": "@jupyter-widgets/controls",
            "_model_module_version": "1.5.0",
            "_model_name": "IntSliderModel",
            "_view_count": null,
            "_view_module": "@jupyter-widgets/controls",
            "_view_module_version": "1.5.0",
            "_view_name": "IntSliderView",
            "continuous_update": true,
            "description": "k_translate",
            "description_tooltip": null,
            "disabled": false,
            "layout": "IPY_MODEL_e90d957c82124887b921868d925f7044",
            "max": 10,
            "min": -10,
            "orientation": "horizontal",
            "readout": true,
            "readout_format": "d",
            "step": 1,
            "style": "IPY_MODEL_089090217a5c4075ad2d77285efd02b5",
            "value": 0
          }
        },
        "502685d5226644fcad73bf6587f254e8": {
          "model_module": "@jupyter-widgets/controls",
          "model_name": "DropdownModel",
          "model_module_version": "1.5.0",
          "state": {
            "_dom_classes": [],
            "_model_module": "@jupyter-widgets/controls",
            "_model_module_version": "1.5.0",
            "_model_name": "DropdownModel",
            "_options_labels": [
              "haar",
              "db2",
              "db3",
              "db4",
              "sym2",
              "sym3"
            ],
            "_view_count": null,
            "_view_module": "@jupyter-widgets/controls",
            "_view_module_version": "1.5.0",
            "_view_name": "DropdownView",
            "description": "wavelet",
            "description_tooltip": null,
            "disabled": false,
            "index": 0,
            "layout": "IPY_MODEL_4f3741e75b064073abb06bf1439635bf",
            "style": "IPY_MODEL_81af76a7ef3b42a08a42c424c5ffca30"
          }
        },
        "dee0ef4d108c4aeaa3a86917b009aeb5": {
          "model_module": "@jupyter-widgets/output",
          "model_name": "OutputModel",
          "model_module_version": "1.0.0",
          "state": {
            "_dom_classes": [],
            "_model_module": "@jupyter-widgets/output",
            "_model_module_version": "1.0.0",
            "_model_name": "OutputModel",
            "_view_count": null,
            "_view_module": "@jupyter-widgets/output",
            "_view_module_version": "1.0.0",
            "_view_name": "OutputView",
            "layout": "IPY_MODEL_c4362e6afc4c4ceea7a0605bad284d3e",
            "msg_id": "",
            "outputs": [
              {
                "output_type": "display_data",
                "data": {
                  "text/plain": "<Figure size 640x480 with 1 Axes>",
                  "image/png": "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\n"
                },
                "metadata": {}
              }
            ]
          }
        },
        "fe5e080cbb5d4917886068b705ed2908": {
          "model_module": "@jupyter-widgets/base",
          "model_name": "LayoutModel",
          "model_module_version": "1.2.0",
          "state": {
            "_model_module": "@jupyter-widgets/base",
            "_model_module_version": "1.2.0",
            "_model_name": "LayoutModel",
            "_view_count": null,
            "_view_module": "@jupyter-widgets/base",
            "_view_module_version": "1.2.0",
            "_view_name": "LayoutView",
            "align_content": null,
            "align_items": null,
            "align_self": null,
            "border": null,
            "bottom": null,
            "display": null,
            "flex": null,
            "flex_flow": null,
            "grid_area": null,
            "grid_auto_columns": null,
            "grid_auto_flow": null,
            "grid_auto_rows": null,
            "grid_column": null,
            "grid_gap": null,
            "grid_row": null,
            "grid_template_areas": null,
            "grid_template_columns": null,
            "grid_template_rows": null,
            "height": null,
            "justify_content": null,
            "justify_items": null,
            "left": null,
            "margin": null,
            "max_height": null,
            "max_width": null,
            "min_height": null,
            "min_width": null,
            "object_fit": null,
            "object_position": null,
            "order": null,
            "overflow": null,
            "overflow_x": null,
            "overflow_y": null,
            "padding": null,
            "right": null,
            "top": null,
            "visibility": null,
            "width": null
          }
        },
        "24c4b0f32ddc4e568d823c3754866805": {
          "model_module": "@jupyter-widgets/base",
          "model_name": "LayoutModel",
          "model_module_version": "1.2.0",
          "state": {
            "_model_module": "@jupyter-widgets/base",
            "_model_module_version": "1.2.0",
            "_model_name": "LayoutModel",
            "_view_count": null,
            "_view_module": "@jupyter-widgets/base",
            "_view_module_version": "1.2.0",
            "_view_name": "LayoutView",
            "align_content": null,
            "align_items": null,
            "align_self": null,
            "border": null,
            "bottom": null,
            "display": null,
            "flex": null,
            "flex_flow": null,
            "grid_area": null,
            "grid_auto_columns": null,
            "grid_auto_flow": null,
            "grid_auto_rows": null,
            "grid_column": null,
            "grid_gap": null,
            "grid_row": null,
            "grid_template_areas": null,
            "grid_template_columns": null,
            "grid_template_rows": null,
            "height": null,
            "justify_content": null,
            "justify_items": null,
            "left": null,
            "margin": null,
            "max_height": null,
            "max_width": null,
            "min_height": null,
            "min_width": null,
            "object_fit": null,
            "object_position": null,
            "order": null,
            "overflow": null,
            "overflow_x": null,
            "overflow_y": null,
            "padding": null,
            "right": null,
            "top": null,
            "visibility": null,
            "width": null
          }
        },
        "3575a7f6dd4543a3b57c6dfbdaa797ef": {
          "model_module": "@jupyter-widgets/controls",
          "model_name": "SliderStyleModel",
          "model_module_version": "1.5.0",
          "state": {
            "_model_module": "@jupyter-widgets/controls",
            "_model_module_version": "1.5.0",
            "_model_name": "SliderStyleModel",
            "_view_count": null,
            "_view_module": "@jupyter-widgets/base",
            "_view_module_version": "1.2.0",
            "_view_name": "StyleView",
            "description_width": "",
            "handle_color": null
          }
        },
        "e90d957c82124887b921868d925f7044": {
          "model_module": "@jupyter-widgets/base",
          "model_name": "LayoutModel",
          "model_module_version": "1.2.0",
          "state": {
            "_model_module": "@jupyter-widgets/base",
            "_model_module_version": "1.2.0",
            "_model_name": "LayoutModel",
            "_view_count": null,
            "_view_module": "@jupyter-widgets/base",
            "_view_module_version": "1.2.0",
            "_view_name": "LayoutView",
            "align_content": null,
            "align_items": null,
            "align_self": null,
            "border": null,
            "bottom": null,
            "display": null,
            "flex": null,
            "flex_flow": null,
            "grid_area": null,
            "grid_auto_columns": null,
            "grid_auto_flow": null,
            "grid_auto_rows": null,
            "grid_column": null,
            "grid_gap": null,
            "grid_row": null,
            "grid_template_areas": null,
            "grid_template_columns": null,
            "grid_template_rows": null,
            "height": null,
            "justify_content": null,
            "justify_items": null,
            "left": null,
            "margin": null,
            "max_height": null,
            "max_width": null,
            "min_height": null,
            "min_width": null,
            "object_fit": null,
            "object_position": null,
            "order": null,
            "overflow": null,
            "overflow_x": null,
            "overflow_y": null,
            "padding": null,
            "right": null,
            "top": null,
            "visibility": null,
            "width": null
          }
        },
        "089090217a5c4075ad2d77285efd02b5": {
          "model_module": "@jupyter-widgets/controls",
          "model_name": "SliderStyleModel",
          "model_module_version": "1.5.0",
          "state": {
            "_model_module": "@jupyter-widgets/controls",
            "_model_module_version": "1.5.0",
            "_model_name": "SliderStyleModel",
            "_view_count": null,
            "_view_module": "@jupyter-widgets/base",
            "_view_module_version": "1.2.0",
            "_view_name": "StyleView",
            "description_width": "",
            "handle_color": null
          }
        },
        "4f3741e75b064073abb06bf1439635bf": {
          "model_module": "@jupyter-widgets/base",
          "model_name": "LayoutModel",
          "model_module_version": "1.2.0",
          "state": {
            "_model_module": "@jupyter-widgets/base",
            "_model_module_version": "1.2.0",
            "_model_name": "LayoutModel",
            "_view_count": null,
            "_view_module": "@jupyter-widgets/base",
            "_view_module_version": "1.2.0",
            "_view_name": "LayoutView",
            "align_content": null,
            "align_items": null,
            "align_self": null,
            "border": null,
            "bottom": null,
            "display": null,
            "flex": null,
            "flex_flow": null,
            "grid_area": null,
            "grid_auto_columns": null,
            "grid_auto_flow": null,
            "grid_auto_rows": null,
            "grid_column": null,
            "grid_gap": null,
            "grid_row": null,
            "grid_template_areas": null,
            "grid_template_columns": null,
            "grid_template_rows": null,
            "height": null,
            "justify_content": null,
            "justify_items": null,
            "left": null,
            "margin": null,
            "max_height": null,
            "max_width": null,
            "min_height": null,
            "min_width": null,
            "object_fit": null,
            "object_position": null,
            "order": null,
            "overflow": null,
            "overflow_x": null,
            "overflow_y": null,
            "padding": null,
            "right": null,
            "top": null,
            "visibility": null,
            "width": null
          }
        },
        "81af76a7ef3b42a08a42c424c5ffca30": {
          "model_module": "@jupyter-widgets/controls",
          "model_name": "DescriptionStyleModel",
          "model_module_version": "1.5.0",
          "state": {
            "_model_module": "@jupyter-widgets/controls",
            "_model_module_version": "1.5.0",
            "_model_name": "DescriptionStyleModel",
            "_view_count": null,
            "_view_module": "@jupyter-widgets/base",
            "_view_module_version": "1.2.0",
            "_view_name": "StyleView",
            "description_width": ""
          }
        },
        "c4362e6afc4c4ceea7a0605bad284d3e": {
          "model_module": "@jupyter-widgets/base",
          "model_name": "LayoutModel",
          "model_module_version": "1.2.0",
          "state": {
            "_model_module": "@jupyter-widgets/base",
            "_model_module_version": "1.2.0",
            "_model_name": "LayoutModel",
            "_view_count": null,
            "_view_module": "@jupyter-widgets/base",
            "_view_module_version": "1.2.0",
            "_view_name": "LayoutView",
            "align_content": null,
            "align_items": null,
            "align_self": null,
            "border": null,
            "bottom": null,
            "display": null,
            "flex": null,
            "flex_flow": null,
            "grid_area": null,
            "grid_auto_columns": null,
            "grid_auto_flow": null,
            "grid_auto_rows": null,
            "grid_column": null,
            "grid_gap": null,
            "grid_row": null,
            "grid_template_areas": null,
            "grid_template_columns": null,
            "grid_template_rows": null,
            "height": null,
            "justify_content": null,
            "justify_items": null,
            "left": null,
            "margin": null,
            "max_height": null,
            "max_width": null,
            "min_height": null,
            "min_width": null,
            "object_fit": null,
            "object_position": null,
            "order": null,
            "overflow": null,
            "overflow_x": null,
            "overflow_y": null,
            "padding": null,
            "right": null,
            "top": null,
            "visibility": null,
            "width": null
          }
        },
        "4a12c827f93445e8ace0f4a2528b6df4": {
          "model_module": "@jupyter-widgets/controls",
          "model_name": "VBoxModel",
          "model_module_version": "1.5.0",
          "state": {
            "_dom_classes": [
              "widget-interact"
            ],
            "_model_module": "@jupyter-widgets/controls",
            "_model_module_version": "1.5.0",
            "_model_name": "VBoxModel",
            "_view_count": null,
            "_view_module": "@jupyter-widgets/controls",
            "_view_module_version": "1.5.0",
            "_view_name": "VBoxView",
            "box_style": "",
            "children": [
              "IPY_MODEL_1e34b0e29abc428da5f1f8e29f64d49e",
              "IPY_MODEL_cf374798c76f4f8792269d8633a3c170",
              "IPY_MODEL_7e3a4d32a59946b7a527909bca8e8a66"
            ],
            "layout": "IPY_MODEL_90352b6853a14d249c52bbdb6ef8e979"
          }
        },
        "1e34b0e29abc428da5f1f8e29f64d49e": {
          "model_module": "@jupyter-widgets/controls",
          "model_name": "DropdownModel",
          "model_module_version": "1.5.0",
          "state": {
            "_dom_classes": [],
            "_model_module": "@jupyter-widgets/controls",
            "_model_module_version": "1.5.0",
            "_model_name": "DropdownModel",
            "_options_labels": [
              "haar",
              "db2",
              "sym2"
            ],
            "_view_count": null,
            "_view_module": "@jupyter-widgets/controls",
            "_view_module_version": "1.5.0",
            "_view_name": "DropdownView",
            "description": "wavelet",
            "description_tooltip": null,
            "disabled": false,
            "index": 0,
            "layout": "IPY_MODEL_22913db68f814652bdf2555433bfebf9",
            "style": "IPY_MODEL_573f579714cd4646b4432be013157d83"
          }
        },
        "cf374798c76f4f8792269d8633a3c170": {
          "model_module": "@jupyter-widgets/controls",
          "model_name": "IntSliderModel",
          "model_module_version": "1.5.0",
          "state": {
            "_dom_classes": [],
            "_model_module": "@jupyter-widgets/controls",
            "_model_module_version": "1.5.0",
            "_model_name": "IntSliderModel",
            "_view_count": null,
            "_view_module": "@jupyter-widgets/controls",
            "_view_module_version": "1.5.0",
            "_view_name": "IntSliderView",
            "continuous_update": true,
            "description": "level",
            "description_tooltip": null,
            "disabled": false,
            "layout": "IPY_MODEL_19296f3500514c208fbcf551396ef730",
            "max": 8,
            "min": 0,
            "orientation": "horizontal",
            "readout": true,
            "readout_format": "d",
            "step": 1,
            "style": "IPY_MODEL_2e994dd477d34496b2f16aa5f2a192d0",
            "value": 1
          }
        },
        "7e3a4d32a59946b7a527909bca8e8a66": {
          "model_module": "@jupyter-widgets/output",
          "model_name": "OutputModel",
          "model_module_version": "1.0.0",
          "state": {
            "_dom_classes": [],
            "_model_module": "@jupyter-widgets/output",
            "_model_module_version": "1.0.0",
            "_model_name": "OutputModel",
            "_view_count": null,
            "_view_module": "@jupyter-widgets/output",
            "_view_module_version": "1.0.0",
            "_view_name": "OutputView",
            "layout": "IPY_MODEL_76f81872b1e143c282647f44139c5115",
            "msg_id": "",
            "outputs": [
              {
                "output_type": "display_data",
                "data": {
                  "text/plain": "<Figure size 800x500 with 1 Axes>",
                  "image/png": "iVBORw0KGgoAAAANSUhEUgAAAqoAAAHoCAYAAACB/c2QAAAAOXRFWHRTb2Z0d2FyZQBNYXRwbG90bGliIHZlcnNpb24zLjcuMSwgaHR0cHM6Ly9tYXRwbG90bGliLm9yZy/bCgiHAAAACXBIWXMAAA9hAAAPYQGoP6dpAABdWklEQVR4nO3dd1yVdePG8c9hgzhQlgP3wokLQzPNSEtzVD6uTDPThpVJ05GWPWrDyh4bltke2jCzNDU1S3Pl3iMUBRUEUdnrnPv3R8YvEpWDwH2A6/168Xqe8z3399zX8c7jxb2OxTAMAxERERERB+NkdgARERERkfyoqIqIiIiIQ1JRFRERERGHpKIqIiIiIg5JRVVEREREHJKKqoiIiIg4JBVVEREREXFIKqoiIiIi4pBUVEVERETEIamoioiIiIhDUlEVEREREYekoioiUgB169blueeeyzNmtVrx9PRk8uTJV1xOREQKR0VVRKSQjhw5QkZGBiEhISW63pSUFKZOncott9xC1apVsVgsfPTRRyWaQUSkJLiYHUBEpLRq0qQJ6enpuLu7l+h6ExISmDZtGrVr16Z169asXbu2RNcvIlJSVFRFRArJYrHg4eFR4uutXr06p0+fJjAwkK1bt9KhQ4cSzyAiUhJ06F9EpJDuuOMOWrduXaSvGR0dzbvvvkvfvn05evRovsu4u7sTGBhYpOsVEXFE2qMqIlJIe/bsoWPHjtf0GlarlU2bNrF06VKWLl3K7t27cXZ2plOnTlSoUKGIkoqIlE4qqiIihZCens7Ro0cZNWqU3XPPnj3LihUrWLp0KcuXLycxMZFq1apxyy23MGHCBHr27ImPj08xpBYRKV1UVEVECmH//v3YbDZatmxp17xNmzZx/fXXY7VaCQoK4v7776d3796EhYXh5KSzsURE/klFVUSkEPbu3Qtgd1GtWrUq7dq1448//iA6Oprly5fj7OyMs7MzoaGhKqsiIv+gT0QRkULYu3cvlSpVonbt2nbNa9y4MZs3byY2NpYPP/yQBg0a8L///Y+wsDACAgIYPnw4Cxcu5Pz588UTXESkFFFRFREphL1799KiRYtCz/f39+eee+7h66+/JiEhgTVr1jB8+HC2bNnC4MGD8fPzIzIysggTi4iUPiqqIiKFcK1F9Z9cXV258cYbefXVVzl48CB//vkns2bN0lX/IlLu6RxVERE7XbhwgZiYGLvPTwU4deoUS5Ysuepy7u7uV/wygTfffJPz589z6tQpAH744QdiYmIAeOSRR6hcubLd2UREHI2KqoiInQp7IRXA4cOHefDBBwu0bLdu3ahSpUq+z82aNYvjx4/nPl60aBGLFi0CYNiwYSqqIlImqKiKiNhpz549AIU69N+tWzcMw7jmDFFRUdf8GiIijk7nqIqI2GnNmjU0bNiQatWqmR1FRKRMU1EVESmgdevWMWnSJBYtWsSwYcPMjiMiUuapqIqIFFBaWhoffPAB48aNY+LEiWbHEREp8yxGUZwsJSIiIiJSxLRHVUREREQckoqqiIiIiDgkFVURERERcUgqqiIiIiLikFRURURERMQhqaiKiIiIiENSURURERERh6SiKiIiIiIOSUVVRERERBySiqqIiIiIOCQVVRERERFxSCqqIiIiIuKQVFRFRERExCGpqIqIiIiIQ1JRFRERERGHpKIqIiIiIg7JxewAV5KTk8ORI0fyjFWtWhUnJ/VrEREREUdgs9lITEzMM9aoUSNcXK69Zjp0UT1y5AjNmjUzO4aIiIiI2GH//v0EBwdf8+to16SIiIiIOCQVVRERERFxSCqqIiIiIuKQHPoc1apVq14ytn//fnx9fU1IIyIiIiL/lpCQcMk1Rfl1uMJw6KKa39X9vr6++Pn5mZBGRERERAqiqO7QpEP/IiIiIuKQVFRFRERExCE59KF/e1itVrKzs82OIcXA1dUVZ2dns2OIiIhICSsTRTUlJYWYmBgMwzA7ihQDi8VCrVq18Pb2NjuKiIiIlKBSX1StVisxMTF4eXnh5+eHxWIxO5IUIcMwiI+PJyYmhkaNGmnPqoiISDlS6otqdnY2hmHg5+eHp6en2XGkGPj5+REVFUV2draKqoiISDlSZi6m0p7UskvbVkREpHwqM0VVRERERMoWFVURERERcUgqqiIiIiLikFRUHcCcOXOoU6cOLi4ujBw5En9/f6Kiogo8f/Dgwbz66qvFF1BERETEBCqqJtu1axcRERG88847REdH4+PjQ79+/ahbt26BX2Py5MlMnz6dCxcuFF9QERERkRJmd1H97bff6NOnDzVq1MBisbB48eKrzlm7di1t27bF3d2dhg0b8tFHHxUiatn0448/EhoaSq9evahcuTLz589n1KhRdr1GixYtaNCgAZ999lkxpRQREREpeXYX1dTUVFq3bs1bb71VoOWPHTtG7969ufHGG9m5cyePPfYY9913HytWrLA7bFnTsGFDJk+ezIYNG7BYLPj6+uLu7s51112XZ7kvv/wST09PTp8+nTs2cuRIWrVqlbsXtU+fPixYsKBE84uIiIhw/nyxvbTdN/y/9dZbufXWWwu8/Ny5c6lXr17uOZTBwcGsX7+e119/nZ49e9q7+qsyDIO0tLQif92C8PLysuuenxs2bCAsLIwHH3yQYcOGMWnSJE6dOnXJcoMHD+bFF19kxowZzJkzh6lTp7Jq1So2bdpE5cqVAQgNDWX69OlkZmbi7u5eZO9JRERE5LIyM2HEiGJ7+WL/ZqqNGzcSHh6eZ6xnz5489thjxbK+tLQ0074TPiUlhQoVKhR4eW9vb6Kiorj++usJDAzk7Nmz1KhR45LlLBYL06dPZ8CAAQQGBjJnzhzWrVtHzZo1c5epUaMGWVlZxMbGUqdOnSJ5PyIiIiKXZRgwejRs3Fhsqyj2ohobG0tAQECesYCAAJKSkkhPT8/3a08zMzPJzMwkOTm5uOOZavfu3QC0bNkSgPT0dDw8PPJd9rbbbqNZs2ZMmzaNlStX0rx58zzP//3naNbeZBERESlnnn8ePv0UnJzAZiuWVRR7US2MmTNn8vzzzxdqrpeXFykpKUWcqODrtsfOnTtp2LBh7l5YX19fzp07l++yy5cv5+DBg1it1kuKP0BiYiIAfn5+dqYWERERsdMnn/xVVIETjzwCb7xRLKsp9qIaGBhIXFxcnrG4uDgqVaqU795UgAkTJhAREUFCQgINGjSwa30Wi8Wuw+9m2rlzJ61bt8593KZNm3yv3N++fTsDBw5k/vz5fPTRRzz77LN8/fXXeZbZu3cvtWrVwtfXt9hzi4iISDm2di3cdx8AiaNH07MY7zpU7PdRDQsLY/Xq1XnGfv75Z8LCwi47x93dnUqVKlGxYsXijmeqnTt3EhISkvu4Z8+e7Nu3L89e1aioKHr37s3EiRMZMmQI06ZN49tvv2X79u15XmvdunX06NGjpKKLiIhIeXTwINx+O2Rnk96nDx1+/pmzZ88W2+rsLqopKSns3LmTnTt3An/dfmrnzp2cOHEC+Gtv6PDhw3OXf+CBBzh69ChPPfUUBw8e5O233+arr75i/PjxRfMOSimbzcaePXvy7FFt2bIlbdu25auvvgL+Opx/yy230K9fP5555hkAOnbsyK233srEiRNz52VkZLB48WJGjx5dsm9CREREyo8zZ6BXLzh/npzQULpFRXE0KsquLymyl92H/rdu3cqNN96Y+zgiIgKAESNG8NFHH3H69Onc0gpQr149li5dyvjx43njjTeoVasW77//frHcmqo0cXJyIjU19ZLxKVOm8OSTTzJ69GiqVq3KwYMHL1lm6dKleR5/+OGHhIaGXnL/VREREZEikZoKffrAsWPY6tVjgIsLW/bswd/fn4ULF9KxY8diWa3dRbVbt24YhnHZ5/P71qlu3bqxY8cOe1dVLvXu3ZsjR45w8uRJgoKCCjTH1dWVOXPmFHMyERERKZdycmDQINiyBaNqVcY3bsz3K1ZQsWJFli9fTq1atYpt1Q551X95Z+89Zu+7eEKziIiISJEyDHjoIVi6FMPDg1e7deN/ixbh5ubG4sWLadOmDfHx8cW2+mK/mEpERERESqkXXoB588DJia9vv50nFy3CYrHw6aef0r1792JfvYqqiIiIiFxq/nyYOhWA9YMHM+jLLwH43//+x8CBA0skgoqqiIiIiOS1bBncfz8Ah+68k64LFgAwadIkHn744RKLoaIqIiIiIv/vjz/gP/8Bq5W4nj0J+fFHbDYbo0aN4oUXXijRKCqqIiIiIvKXyEjo3RvS0kju1IkWmzaRkZlJ3759mTt3LhaLpUTjqKiKiIiICMTEQI8eEB9PZvPmtDt6lIQLF+jcuTMLFizAxaXkbxaloioiIiJS3sXGwk03wdGjWOvW5aaMDI7ExtK8eXOWLFmCp6enKbFUVEVERETKs8TEv0rq4cPYgoK4o3Jlfo+MJCgoiOXLl1O1alXToqmoioiIiJRX2dl/XTi1fz9GzZqMqFWLJbt2Ua1aNVasWFGs3zpVECqqJrv99tvx8fFhwIABlzw3a9YsLBZLgX8eeOABE96BiIiIlFrjx8OaNRje3jweHMxnGzfi7e3NTz/9RHBwsNnp9BWqZhs3bhz33nsvH3/88SXPVahQIff/V6tWjSpVqlzxtfz9/Ys6noiIiJRV774Lb72FYbHw1nXX8fqqVblfjdqhQwez0wEqqqbr1q0ba9euzfe50aNHs2LFCr7//nu8vLxYs2YNtWvXLtmAIiIiUvb8+itcvHH/iuuv55FVq3BycmLBggXcdNNNJof7fzr078BcXFxYuHAh4eHhREdHEx4eTlxcXImtPzg4mPfff7/Ay589exZ/f3+ioqIKPGfw4MG8+uqrhUgnIiIihXLsGNx5J+TkcKB1a25dtw6AefPmcfvtt5scLi8VVQfn7u7O4sWLCQsL48iRI/To0YNz584V+3rT09M5cuQIrVu3LvCc6dOn069fP+rWrVvgOZMnT2b69OlcuHChEClFRETELsnJ0K8fnD1LfJ06tNu1C4CXX36Ze++91+Rwl1JRLQUqVKjAsmXLaN26Nbt376ZXr16kpKQU6zr37t2LYRi0aNGiQMunpaUxf/58Ro0aZdd6WrRoQYMGDfjss88KE1NEREQKKicHBg2CPXtIr1KFdidOkA48/fTTPPnkk2any5eKailRpUoVVq5cSZMmTdi0aRP9+vUjMzMz32W3bNlCt27d8PT0pGnTpmzdupX33nuPvn37XnU9O3fupHv37lx//fXYbDZq167N7Nmzrzpv2bJluLu7c9111+UZ//LLL/H09OT06dO5YyNHjqRVq1a5e1H79OnDggULrroOERERKSTDgHHj4KefsLq70z0lhWjDYPTo0cycOdPsdJelomqy8PBw/vOf/7Bs2TJq1arFxo0bL7usv78/P//8M3Xq1GHNmjUMGjSInJycPMts2rSJrl270rt3b3bv3k1wcDDTpk3jpZde4vnnn79ilsjISLp27Ur37t3p27cvd9xxB48//jjjx49n586dV5y7bt062rVrd8n44MGDady4MTNmzABg6tSprFq1ip9++onKlSsDEBoaypYtWy5bvEVEROQavfEGvP02hsXCMGBTTg4DBgzgnXfewWKxmJ3ussreVf+GAWlp5qzbywvs3NirVq2ya/mgoCBWrVpFSEgI33//PY8//jhvvPFG7vMRERH85z//yd2FP2TIEIYMGUK/fv1o06bNFV/7gQce4I477mDy5Ml07NiRQYMG8dhjjzFz5kzWrVtHSEjIZeceP36cGjVqXDJusViYPn06AwYMIDAwkDlz5rBu3Tpq1qyZu0yNGjXIysoiNjaWOnXq2PXnISIiIlexZAlERAAw1cODBenp3HzzzXz22Wc4OzubHO7Kyl5RTUsDb29z1p2SAv+492lx+fbbb0lNTaVKlSrcd999ueMxMTFs3LiRWbNm5Y65uLhgGEaevanff/89v/zyS55D+rGxsaxZs4YNGzZgtVrZs2cPM2fOxMnJCWdnZ9zc3C47F/66+MrDwyPfvLfddhvNmjVj2rRprFy5kubNm+d5/u/vD04z6xcMERGRsmrPHhg6FAyDz7y8eCEtjY4dO7Jo0SLc3d3NTndVZa+olhIF2c1uGMYlYx999BHPPPMMHh4eLFmyhJYtW+Y+d+DAAQDatm2bO3bo0CFCQ0PzLLd79+5LrubftGkTNpuNkJAQDh06RHp6OiEhIURFRXHu3Dk6dep02bkAvr6+l70bwfLlyzl48CBWq5WAgIBLnk9MTATAz8/vsn8WIiIiYqezZ/+6wj81lY2enoxMS6NZs2YsXboUb7N26tmp7J2j6uX1155NM368vAoc0zAMXn31VSwWC3FxcRiGQXZ2Nn5+fhiGkW9J/fHHHxk9ejTOzs4sWLCALl265Hn+woULODs755bgxMREZs2ahde/cv1dNpOSkujXrx/vvfceWVlZAGRkZLBjxw7q1KlD1apVmTt3Li1atMgtuvnNBWjTpg379++/JPP27dsZOHAg8+fP56abbuLZZ5+9ZJm9e/dSq1YtfH19C/znJyIiIlfw9xX+x44R4+bGbenp1Kpbl5UrV1KtWjWz0xVY2dujarGUyOH3orB3715atWrFihUruPvuuzl06BCNGjXKd9kNGzYwcOBAcnJyeP/99+nXr98ly4SEhGC1Wnn55Zf5z3/+w7hx46hbty779+/n+PHjued/HjhwAE9PT2699Vaee+45br75ZqKjo3FxcWHatGmkpKRQv3593nzzTebMmcNvv/2Wu4785gL07NmTCRMmcO7cOXx8fACIioqid+/eTJw4kSFDhlC/fn3CwsLYvn17nr2+69ato0ePHkX25yoiIlLuPfEErF5NmpMTt2Zl4eLvz8qVK/NcI1IqGA7szJkzBpDn58yZM3mWSU9PN/bv32+kp6eblLLwOnToYHz66afG4MGDDcMwjAULFhj333//Jcvt27fP8PHxMQBjxowZV3zNadOmGdWqVTM8PDyMe+65x0hISDDatm1rNG3a1DAMw0hLSzOqVKlihISEGHv37s0z95NPPjGqV69uAIaLi4vRsWNH47fffst9/kpzDcMwQkNDjblz5xqGYRhnz541mjRpcsn76dWrl9GzZ8/cx+np6UblypWNjRs3XvY9leZtLCIiUuI++MAw/rq83LgdjEqVKhk7duwottUVpK8VloqqSWw2m+Hr62tkZWUZjRs3NqxWqzF58mRjzpw5eZY7ceKEUatWLQMwxo0bd83r3bJli3HrrbcarVq1Mg4ePJjvMj4+Psb3339v99wff/zRCA4ONqxWa4HzvP3228bNN998xWVK6zYWEREpcRs3GjY3N8MAYyoYXl5exvr164t1lcVZVMveOaqlxLFjxwgKCsLV1ZV27dqxadMm9uzZk+eip8TERHr27ElMTAxDhgzh9ddfv+b17t69my5duvDhhx8ydOjQS77hKiYmhnPnzuX7jVRXm9u7d2/GjBnDyZMnC5zH1dWVOXPmFO7NiIiIyP+Lj8f4z3+wZGWxCHjR1ZXFixfTuXNns5MVmoqqSfbu3ZtbBm+99VZ++ukn9u3bl6cg3n///blX8n/55Zc4OTlhsVgu+9O0adOrrnf37t20aNGCtm3b8tBDD13yvb579uyhQoUK1KtXz+65AI899hhBQUEF/nO47777aNKkSYGXFxERkXxYrRjDhmGJieEgcK+TEwu//jr3WpLSymIY+Vxe7iDi4+Px9/fPM3bmzJk8tzHKyMjg2LFj1KtX77L38XREM2bMwMXFhaeeeoozZ87QvXt3zp8/T0xMTO4yd911F5s3by7wazZo0IAVK1YUR1xTldZtLCIiUmKefx6ee440oCPwzGefcdddd5XIqgvS1wqr7F31X0rs3buXYcOGAX99NaqHhwfNmjXLs8znn39uRjQREREpTX7+GeP557EA9wOPvPtuiZXU4qaiapIvvvgiz+OtW7ealERERERKrVOnSL/jDjwNg/eAkFmzGDNmjNmpiozOUS1Fvv/+ex577DGzY4iIiIgjMAxO3HYbnikp7ADiJk7k8ccfNztVkVJRLUUu9/WlIiIiUv5sfPJJau/YQTbw87BhTP7vf82OVORUVEuRy319qYiIiJQvKxYvpsarr/71/0NCePKTT3K/Qr0sUVEtRf759aUPP/xwmToHRURERArm119/ZfeAAdQBEry8uPW338pkSQVdTFVqpKenc/LkSYYOHcpnn31G8+bNzY4kIiIiJeyPP/7glx49eM5qBaDKu+/iXLGiyamKj/aolhJ79+4lLCwMm82Gi4t+vxARESlv9u7dy89du/JcVhYA2VOm4HLxVpdllYpqKXG1ry8VERGRsuvIkSP8dN11TExPByBzyhRcn3/e5FTFT0W1lCjI15eKiIhI2XPs6FF+bNeOJ1NTAUibOhX3clBSQeeolhpvvPFG7v8fNWoUo0aNMjGNiIiIlIToEyf4sW1bxicnA5A8dSoVn3vO3FAlSHtURURERBzQ6VOn+DEkhEcuXAAgqZyVVFBRFREREXE4Z+LiWNqqFQ+eOwfAuSlTqFTOSiqoqIqIiIg4lMSzZ1nWogX3nT0LwNmpU/EpJ+ek/puKqoiIiIiDuHD+PD81a8Y9CQkAnJk6lWrlcE/q31RURURERBxAclISy4ODuevMGQBOT5mCfzkuqaCiKiIiImK6tNRUfg4OZlBsLADRkydTvZwe7v+nMlNUDcMwO4IUE21bEREpyzLS0ljVtCl3nDqFDYiaPJmgF14wO5ZDKPX3UXV1dcVisRAfH4+fnx8Wi8XsSFKEDMMgPj4ei8WCq6ur2XFERESKVFZGBmubNqVvTAw24OjEiTRUSc1V6ouqs7MztWrVIiYmhqioKLPjSDGwWCzUqlULZ2dns6OIiIgUmeyMDH5v3JhboqOxAocnTiR4+nSzYzmUUl9UAby9vWnUqBHZ2dlmR5Fi4OrqqpIqIiJlijUjgy1NmnBjdDQ5wIFJk2j53/+aHcvhlImiCn/tWVWZEREREUdny8hge5MmdD5xgixgz8SJtFNJzVeZuZhKRERExNHZ0tPZ3aQJHU6cIBPYNnEi7XS4/7JUVEVERERKgC0tjf1NmhBy4gTpwMZnniFMJfWKVFRFREREipmRns6Bpk1pER1NKvD7hAl0mznT7FgOT0VVREREpBgZ6ensb9qU5v8oqeEzZpgdq1RQURUREREpJn/vSW1+4gSpwLqnn6aHSmqBqaiKiIiIFAMjPZ0DwcE0u1hSf3vqKW558UWzY5UqKqoiIiIiRcxIT+dgcDDNjh8nFVj7xBPc+tJLZscqdVRURURERIqQkZ7OwWbNCL5YUn95/HF6v/KK2bFKJRVVERERkSJipKVxJDiY4KgoUoE1ERHcNmuW2bFKrUIV1bfeeou6devi4eFBx44d2bJlyxWXnz17Nk2aNMHT05OgoCDGjx9PRkZGoQKLiIiIOCIjNZU/mzWj8fHjpACrIiLo8+qrZscq1ewuqgsXLiQiIoKpU6eyfft2WrduTc+ePTlz5ky+y3/xxRc888wzTJ06lQMHDjB//nwWLlzIxIkTrzm8iIiIiCMwUlI42qwZjY4fJxlYOX48/VRSr5ndRfW1115j9OjRjBw5kmbNmjF37ly8vLz44IMP8l1+w4YNdO7cmaFDh1K3bl169OjBkCFDrroXVkRERKQ0MJKTOda8OQ1OnCAJWDF+PHe89prZscoEu4pqVlYW27ZtIzw8/P9fwMmJ8PBwNm7cmO+cTp06sW3bttxievToUZYtW0avXr0uu57MzEySkpJITk62J56IiIhIiTJSU4lq0YL6J05wAfjpsccYoJJaZFzsWTghIQGr1UpAQECe8YCAAA4ePJjvnKFDh5KQkMD111+PYRjk5OTwwAMPXPHQ/8yZM3n++eftiSYiIiJSooyMDP5s3ZpGF0vqsnHjGPL662bHKlOK/ar/tWvXMmPGDN5++222b9/OokWLWLp0KS+88MJl50yYMIELFy4QGRlZ3PFERERE7GZkZ3MgJIRGkZGkAj89/DBDZs82O1aZY9ceVV9fX5ydnYmLi8szHhcXR2BgYL5znn32We6++27uu+8+AFq2bElqaipjxoxh0qRJODld2pXd3d1xd3cnMzPTnngiIiIixc6wWtnZpg1tDh0iE1g2ZgyD58wxO1aZZNceVTc3N9q1a8fq1atzx2w2G6tXryYsLCzfOWlpaZeUUWdnZwAMw7A3r4iIiIhpDJuNTe3a0WbfPnKAFffdx3/efdfsWGWWXXtUASIiIhgxYgTt27cnNDSU2bNnk5qaysiRIwEYPnw4NWvWZObMmQD06dOH1157jTZt2tCxY0f+/PNPnn32Wfr06ZNbWEVEREQcnWGzsbZDB27ctQsbsPqee+g7b57Zsco0u4vqoEGDiI+PZ8qUKcTGxhISEsLy5ctzL7A6ceJEnj2okydPxmKxMHnyZE6ePImfnx99+vRh+vTpRfcuRERERIqRYRj8FBZGr+3bAfht2DB6fvihyanKPovhwMff4+Pj8ff3zzN25swZ/Pz8TEokIiIi5Y3NZuO766/nzou34tw4aBBhCxaYnMpxFGdfK/ar/kVERERKK5vNxvs335xbUrfdfrtKaglSURURERHJh9Vq5b/9+nH3mjUAHOjZk3bffmtyqvJFRVVERETkX6xWK48PGsR9P/6IJ3AyJITgpUvBYjE7Wrli98VUIiIiImVZTk4OT91xB4/+8AM1gAu1alHz119BdysqcSqqIiIiIhfl5OQwsXdvnlq5kkAgJTCQyuvWQaVKZkcrl1RURURERIDs7Gym3XwzE3/9lSrAhbp1qbxxI1zm2zel+KmoioiISLmXlZXFK127MnHTJjyBs82aUe3336FKFbOjlWsqqiIiIlKuZWRk8PZ11/H0rl24AHGhoQT88gt4eZkdrdzTVf8iIiJSbqWmpvJB69ZEXCypp266iYD161VSHYSKqoiIiJRLSRcu8E1wMA8dPgxAzIAB1Fi5ElxdTU4mf1NRFRERkXInMT6eVY0aMSI6GoAT999Pra++AidVI0eirSEiIiLlypnoaP5o1Ig74uOxAScmTqT23Lm6mb8D0sVUIiIiUm6cPnKEoyEh9ExLIwuImzWL2o8/bnYsuQwVVRERESkXonfu5Ox119E5M5NUi4Vz8+cTNHKk2bHkClRURUREpMw7tm4dOd27E5KTwzknJ9K/+YZat99udiy5ChVVERERKdP+XLoUj379qGe1EuvigmXlSmrceKPZsaQAdDGViIiIlFmHP/2UKn36UMtqJcrNDeeNGwlQSS01VFRFRESkTDo0axa1hg/H1zDY7+VFpd278Wvf3uxYYgcd+hcREZEy58gTT9Dw1VdxBjZWqUKzvXupXLOm2bHETiqqIiIiUnYYBkfvuotGX34JwE/Vq9Nl3z68fXxMDiaFoaIqIiIiZUNODsd79qT+mjUAfN6wIXfs2oWnl5fJwaSwdI6qiIiIlH5ZWUSFhVFnzRpygHfatmXA3r0qqaWciqqIiIiUbunpRIWEUHfrVjKBuTfdxOjNm3F3dzc7mVwjFVUREREptYykJKKCg6l74ABpwId33MHYn3/GxUVnN5YFKqoiIiJSKtnOnuV4kybUPX6cC8BXo0Zx/zffYLFYzI4mRURFVUREREqdnOhoYho1om5sLGeBn554gnvef18ltYxRURUREZFSJXP/fhKCg6l97hyngd+nT2fwK6+YHUuKgU7gEBERkVIjfdMm0rt2JTAri0gg8p136PvAA2bHkmKioioiIiKlQtJPP2Hp04eqViu7nZw4/+WX9Bg40OxYUoxUVEVERMThnfviCzyHDcPDMNjo7IzLTz9xw803mx1LipnOURURERGHdmb+fCrcdRcehsFKNze8f/+dDiqp5YKKqoiIiDismDlzqHLffbgBP3p5UX/nTlp27Gh2LCkhKqoiIiLikCJfeomARx/FDVhasSIh+/bRMDjY7FhSglRURURExOHsmTyZOs88gyuwrGpVQg8dolbdumbHkhKmi6lERETEoWx69FE6zJmDM7CienW67N9PxSpVzI4lJlBRFREREYfx84gRdP/kE5yB1fXq0W3fPtw9Pc2OJSZRURURERHTGYbBd7ffTv/vv8cJWN+sGd127sTZ1dXsaGIinaMqIiIiprJarbzTqxf9LpbUPzp0oPPu3SqpoqIqIiIi5snMzGRSjx6MWL4cZ+BAWBgdNm/G4uxsdjRxACqqIiIiYoqkpCQeuOEGxq9ZQwUgtnVrgn/9FSwWs6OJg9A5qiIiIlLi4uLieK5zZ2ZHRlIZSG7YkMB160CH++UfVFRFRESkRB07dowPOnZkTnw8LkBySAgVf/4ZKlY0O5o4GB36FxERkRKze8cOVrRowQsXS2pS375U3LQJfH3NjiYOSEVVRERESsT65cuJCQ3lgbQ0AJKeeIJKixeDu7u5wcRhqaiKiIhIsVs+fz4VevWiV04OmRYLqe+/T6VXXtGFU3JFOkdVREREitXCZ57h+pdeoiZw3s0NzxUrqNCtm9mxpBRQURUREZFiYRgGn/7nP9z57bdUAE5VqYL/li24NGpkdjQpJVRURUREpMhlZWbydefODNu2DSfgaIMG1PvjDyw+PmZHk1JE56iKiIhIkUpKTGRFgwbcdbGkHuzWjfoHDqikit1UVEVERKTInD54kL116tDn5ElswMHRo2m6Zo1u5C+FoqIqIiIiReLPVatIbtWKTikppAFHZ82i6Xvv6cp+KTSdoyoiIiLXbNe771L9wQfxNwzinJ3JXrSIhn37mh1LSjkVVREREbkmWx99lBZz5uABHPLywm/TJgJatjQ7lpQBKqoiIiJSODk57OjRg/a//ALApsBAWu3ahZe/v8nBpKxQURURERG72c6e5UiHDrQ5dgyApW3b0nPjRlzc3ExOJmWJLqYSERERu2Tt3k1cvXo0OXaMVODbwYPptXWrSqoUORVVERERKbDkpUvJbNeO6snJHAdWP/88d375JRZd2S/FQIf+RUREpEDOvPkmVR59FDfDYJOTE2mff07fwYPNjiVlWKH2qL711lvUrVsXDw8POnbsyJYtW664/Pnz5xk7dizVq1fH3d2dxo0bs2zZskIFFhERkRJmGESPG4f/I4/gZhgs8/DA8/ff6a6SKsXM7j2qCxcuJCIigrlz59KxY0dmz55Nz549OXToEP75XOWXlZXFzTffjL+/P9988w01a9bk+PHjVKlSpSjyi4iISHGyWons148GS5cC8Hm1anTdto1adeqYHEzKA4thGIY9Ezp27EiHDh148803AbDZbAQFBfHII4/wzDPPXLL83LlzeeWVVzh48CCudn59Wnx8/CXl98yZM/j5+dn1OiIiImI/IyWFo2FhNNi7F4D3mjRh8ObNVKpc2eRk4kiKs6/Zdeg/KyuLbdu2ER4e/v8v4OREeHg4GzduzHfOkiVLCAsLY+zYsQQEBNCiRQtmzJiB1Wq97HoyMzNJSkoiOTnZnngiIiJSRKwnThBTvz4N9u4lA5gXHs69e/eqpEqJsquoJiQkYLVaCQgIyDMeEBBAbGxsvnOOHj3KN998g9VqZdmyZTz77LO8+uqr/Pe//73sembOnEnlypVp0KCBPfFERESkCKT9/jvnGzcmKD6eM8C3Y8dy38qVuLjoGmwpWcV+eyqbzYa/vz/vvfce7dq1Y9CgQUyaNIm5c+deds6ECRO4cOECkZGRxR1PRERE/iHx44/hhhuolpnJAYuFP958k7vefFO3nxJT2PWrka+vL87OzsTFxeUZj4uLIzAwMN851atXx9XVFWdn59yx4OBgYmNjycrKwi2fmwO7u7vj7u5OZmamPfFERETkGpycNInqM2bgBPzi6kqFH3+kd48eZseScsyuPapubm60a9eO1atX547ZbDZWr15NWFhYvnM6d+7Mn3/+ic1myx07fPgw1atXz7ekioiISAkzDCKHDaPmxZK6oHJlau/eTahKqpjM7kP/ERERzJs3j48//pgDBw7w4IMPkpqaysiRIwEYPnw4EyZMyF3+wQcfJDExkXHjxnH48GGWLl3KjBkzGDt2bNG9CxERESkcq5X93bvT4PPPAZhfuzY9IiNp0LSpycFECnEf1UGDBhEfH8+UKVOIjY0lJCSE5cuX515gdeLECZyc/r//BgUFsWLFCsaPH0+rVq2oWbMm48aN4+mnny66dyEiIiJ2s6Wns69tW1oePIgN+KhDB4atW4e7u7vZ0USAQtxHtSTpPqoiIiLFIy0ujj9btaLVmTNkAd/dcQcDv/lGF02J3RzmPqoiIiJS+sXu2UNU/fq0OnOGFGDtk08y6NtvVVLF4aioioiIlCN7ly4ltU0bmqWlkWCxcOTdd+nx8stmxxLJl4qqiIhIObFs3jwq9ulDA6uVUy4upK1YQZsxY8yOJXJZKqoiIiJlnGEYvPHss9QdM4Y6hsFJLy+8d+2i9s03mx1N5Ir0XWgiIiJlWGZmJk/cfTcjvv6aZsC5ChUI2LULF31NuZQCKqoiIiJlVHx8PFPCw5m8ezc1gXRvb3y2bAGVVCklVFRFRETKoP379rGwa1f+d/YsrkBK7dp4r1gBupG/lCI6R1VERKSM+XnxYva0acPzF0vqhZ498d67VyVVSh0VVRERkTLCMAw+nTqVgNtvZ1B2NjlAyrRpVP7pJ6hY0ex4InbToX8REZEyICsri3l9+3LXihVUAS54eOC5ZAneurJfSjEVVRERkVIuPjaWn0JDGRsdDUBMnTrUXL8eS61aJicTuTY69C8iIlKK7f31Vw7Uq8fwiyX12G23UevwYZVUKRNUVEVEREqp1S+9RMUbb+SGjAzSLRZOvvQS9X74AdzczI4mUiR06F9ERKSUsdls/NC/Pz1/+AEP4KSnJ94rVlCzSxezo4kUKRVVERGRUiQlIYGNHTrQLyoKgD316xO8eTMuvr7mBhMpBjr0LyIiUkrE/Por0UFB3BwVhRXYescdtDxyRCVVyiwVVRERkVJg3/TpVLzxRoIzMjhrsXDw9ddp/+234KR/yqXs0qF/ERERR5adza7evWn9888A7KpQAb81a2geGmpyMJHip6IqIiLioLKPH+dEWBitT58GYGnjxty4ZQtelSubnEykZOh4gYiIiANKXLyYpEaNaHD6NBeAb4cOpdfBgyqpUq6oqIqIiDgSw+BERASVbr+datnZ7HNyYus773Dn559jsVjMTidSonToX0RExFGkphJ500002LwZgB8qVqTx2rXc1LatycFEzKGiKiIi4gCy9u8nvksXGiQmkg181KIFg9avp5IO9Us5pkP/IiIiJkv8/HMyW7WiZmIip4HP7r2XUbt2qaRKuac9qiIiImYxDE48+CC13n0XJ2CzszNJ8+czcsQIs5OJOAQVVRERETMkJ3OsWzfqbd8OwMIqVWi7bh0dW7QwOZiI41BRFRERKWFZe/eScMMN1Dt3jkxgfkgId//2GxUrVjQ7mohD0TmqIiIiJejsxx+TFRJCjXPnOAV8ef/9PLBtm0qqSD60R1VERKQkGAZRDz5I7Yvno250dib1o4+4Z9gws5OJOCwVVRERkWJmZGRw4IYbaPbHHwAs8PGh/fr1hDVrZnIyEcemoioiIlKMUqKiiO7QgWYJCeQAH7dty6Bff8Xb29vsaCIOT+eoioiIFJPIpUtJbNyY4IQELgA/PvAA927dqpIqUkAqqiIiIsVg7bPPUvW226idnc0JZ2ciP/mE/u+8g8ViMTuaSKmhQ/8iIiJFKDs7m6/69GHQihW4AHsrVcJ/wwbaNm9udjSRUkdFVUREpIicOnWKD7p1Y+KRIzgBO5o1o+XmzbjoUL9IoejQv4iISBH49ddfeTk4OLekHr3lFtrs2aOSKnINVFRFRESugWEYvDF9On/eeCOzk5JwAs4PHUr9pUvBSf/MilwLHfoXEREppKSkJP7brx/3rV1LY8AG5DzxBFVeekklVaQIqKiKiIgUws5t21jVowfTExNxBVKqVKHCt9/i1r272dFEygz9uiciImIHwzD4fOZMkjt04ImLJfVs9+54R0ZiUUkVKVLaoyoiIlJAKSkpfHjLLdz9++9UAdKdnbG+/jrVHn4YdH9UkSKnoioiIlIA+zZt4kjPnjySlATAqaAgAletwqlxY5OTiZRdOvQvIiJyBYZh8MOkSXh26kT/pCSsQPSIEdSIjFRJFSlm2qMqIiJyGakXLrCia1f67tqFCxDn4YH7V18R1KeP2dFEygUVVRERkXwcWbmSlP79uSM9HYB9rVoR/MsvOFWtanIykfJDh/5FRET+yTBYP2YM/j170iY9nWSLhQMTJ9J81y6VVJESpj2qIiIiF6WdOMGBG27g+uPHAdhXuTIBP/9McIcOJicTKZ+0R1VERAQ4/vbbpDVoQLvjx8kG1tx0E03j4vBVSRUxjfaoiohIuWakpHCwVy+C160D4JCzMxfefJPuDzxgcjIRUVEVEZFyK3ntWpL79CE4JQWARXXq0PnXX2lSp47JyUQEdOhfRETKI5uN4w8/jPuNN1IjJYUYYOH999P/6FECVFJFHIb2qIqISLlii47m+I03Ui8yEoDlXl74L17MoJtvNjmZiPyb9qiKiEi5ce6TT0hu0IB6kZGkAu916ECnU6doq5Iq4pBUVEVEpOzLyOB43774jBhB5exsdlos/DR9OqM3b6ZS5cpmpxORy9ChfxERKdOydu0i4eabqRMfD8Anvr6ErlrFgNatTU4mIlejPaoiIlI2GQZnZszA1rYtNeLjOQO83bs3A6OjaaqSKlIqaI+qiIiUOca5cxy/5RbqbtkCwFoXF9LmzuWhUaNMTiYi9lBRFRGRMiVp9Woy+vWjbmoq2cD7devS+5dfqF23rtnRRMROhTr0/9Zbb1G3bl08PDzo2LEjWy7+xno1CxYswGKx0L9//8KsVkRE5PIMg0MREbiHh+Ofmkok8NkDDzDmzz9VUkVKKbuL6sKFC4mIiGDq1Kls376d1q1b07NnT86cOXPFeVFRUTzxxBN06dKl0GFFRETyk3X+PNtbtaLJ66/jDqysUIHzq1cz8p13cHZ2NjueiBSS3UX1tddeY/To0YwcOZJmzZoxd+5cvLy8+OCDDy47x2q1ctddd/H8889Tv379awosIiLyT0dXriSqRg3a7t2LFfimQwc6nT5Nu+7dzY4mItfIrqKalZXFtm3bCA8P//8XcHIiPDycjRs3XnbetGnT8Pf3Z5ROYhcRkSJiGAYrx46las+eNE5P54zFwvrnnmPAli14V6xodjwRKQJ2XUyVkJCA1WolICAgz3hAQAAHDx7Md8769euZP38+O3fuLPB6MjMzyczMJDk52Z54IiJSTiQkJPBDt26M3LcPgL2VK1Nt1Sq6tm9vcjIRKUrFeh/V5ORk7r77bubNm4evr2+B582cOZPKlSvToEGDYkwnIiKl0coVK/iibt3ckrqjc2eaxcZSXSVVpMyxq6j6+vri7OxMXFxcnvG4uDgCAwMvWT4yMpKoqCj69OmDi4sLLi4ufPLJJyxZsgQXFxciIyPzXc+ECRO4cOHCZZ8XEZHyJyMjg4kPPkjcLbfwaGoqAKcefZQ269fj5OFhcjoRKQ52Hfp3c3OjXbt2rF69OvcWUzabjdWrV/Pwww9fsnzTpk3Zs2dPnrHJkyeTnJzMG2+8QVBQUL7rcXd3x93dnczMTHviiYhIGbVt61Y+vf12no6JoTpgA7LffJMaY8eaHU1EipHdN/yPiIhgxIgRtG/fntDQUGbPnk1qaiojR44EYPjw4dSsWZOZM2fi4eFBixYt8syvUqUKwCXjIiIi/5aTk8ObEyZQ99VXmW0YAKTUqoX3l1/ifv31JqcTkeJmd1EdNGgQ8fHxTJkyhdjYWEJCQli+fHnuBVYnTpzAyalYT30VEZFy4NCBA3zXqxcPRkVRGcixWMiKiMD7v/8FHeoXKRcshnHxV1QHFB8fj7+/f56xM2fO4OfnZ1IiEREpbjabjc+nTKHezJlcb7MBkNCgAdUWLcLSqpXJ6UTk34qzr9m9R1VERKS4RB89yqoePRgSGYkHkO7sTOazz+I7eTLoG6ZEyh0doxcREdMZhsFP06aR1KgRIy+W1OPBwbgfPkyVqVNVUkXKKe1RFRERUyUcP87G8HB6/fknzsB5FxfSZ86kzuOPg8VidjwRMZH2qIqIiGk2TZtGWv369LlYUve0bo33iRNUf+IJlVQR0R5VEREpeecPHeLArbcSduwYAKdcXUl79VVaPvKIyclExJFoj6qIiJQcm43djzwCwcGEHTuGFVjXpg1VT52ioUqqiPyL9qiKiEiJuPD775y5/XZaxccDsNfdHetbb9Fl1CiTk4mIo1JRFRGR4pWZyZF77qHuggU0ApKB1d260XPJEjwrVjQ7nYg4MBVVEREpNknLl5M8eDCNLlwA4OcKFfD57DP69+9vbjARKRVUVEVEpOilpHBs6FDq/PADlYBYYEWfPgxcuBBPT0+z04lIKaGiKiIiRSp50SIyhw+nXmoqAN9WqkTQwoWMuOUWk5OJSGmjoioiIkXj/HlODBpE7ZUrqQgcA1beeSfDP/1Ue1FFpFBUVEVE5Jpd+OILrPfdR+30dAA+qVKFxl9/zf3h4SYnE5HSTEVVREQKzUhIIKp/f+r9/jsAh4GfBw3i3g8/1F5UEblmuuG/iIgUSsJ773G+Zk3q/f47VuAjX1+Sfv2VsQsWqKSKSJHQHlUREbGL7fx5Dt1yC8GbNwOw32Jh0+jRDJszBzc3N5PTiUhZoj2qIiJSYMe//JLYwECCN2/GCnxSqxZOO3Zw77vvqqSKSJHTHlUREbmqrNRUNt92G53WrsUZiLJY2P7YYwybNQsnJ+3zEJHioaIqIiJXtHvRIizDhtHl4hX9q2vWpPHy5dzRooXJyUSkrNOvwSIikq/U1FTm9+9P/TvvpGV6OuctFtY//DDdo6MJUkkVkRKgPaoiInKJpUuX8sfdd/PsuXM4Awf8/fFfsYLrQ0LMjiYi5Yj2qIqISK6TJ09yf69eJN12G89dLKknevYkOCaGaiqpIlLCtEdVRESwWq289/rrXJg0idezsvACbEDOCy9Qe9IksFjMjigi5ZCKqohIObd961YWDxzImGPHqHVxLKVtW7znzcOtbVtTs4lI+aZD/yIi5VRycjKzBw8mq0MHpl0sqUnVqmFbuBDvrVtBJVVETKY9qiIi5dCK998n7dFHeeziLafSXVzIeeopKj37LHh4mJxOROQvKqoiIuVIzKFDrO/Xj76HDuWeh3qqRw9qffQRVK9ucjoRkbx06F9EpBzIzsxk2dChWIKDGXyxpB4LCiJz/XpqrVihkioiDklFVUSkjNv25pvs9/Gh15dfUtMwOOXuTvRrr1Hv+HE8O3c2O56IyGXp0L+ISBkVt2EDxwYP5rroaABSLBYO3nEHbT/5BCcvL5PTiYhcnYqqiEgZkx0by+6BA2m5bh0B/HUe6qamTWm2aBHtg4PNjiciUmA69C8iUlZkZfHnQw+RVrMm7datww3YVLkyhxYsoNOBA1RRSRWRUkZ7VEVESjvD4Ownn5D1yCM0TE4GYK+zMzGPPkqPWbNwctI+CREpnVRURURKsexduzg5cCB1Dx8GIA74uVs3en31FS38/MwNJyJyjfRrtohIaXT+PDF33oklJIS6hw+TCXxavTqn1q5l2C+/UFUlVUTKAO1RFREpTaxWEl55BbepU6mVlQXAUldXUp9/nrueflqH+UWkTFFRFREpJdJ/+YXEu+6i5unTAOwHVt12G8M+/piqVauaG05EpBjoV28REQdnnDrF0RtuwLN7d2qePs0F4K2GDbFu28ajP/ygkioiZZaKqoiIo8rJIfqxx0irXZv669YB8JW3N+vnz+ehw4dp2batyQFFRIqXDv2LiDighJUrSR0yhDqJiQBsdXJiz5gxDHn9dTw8PExOJyJSMlRURUQcSGZiIrv696fdunX4AonAd9ddxy1ffUX7oCCz44mIlCgd+hcRcQCGYbDx+ec5ExBA6Lp1OAMrq1bl6I8/MmrjRmqqpIpIOaQ9qiIiJtuxfj1xAwZwS1wcACednDjw6KOEv/qqbjclIuWaPgFFREwSHR3NE/3749KlC7fExWEDfm/XjkrR0YS//rpKqoiUe9qjKiJSwpKTk5n13/+S9NprTMnJwQc47+FB5qef0nnAALPjiYg4DBVVEZESkpOTwwfvvEPkxIk8kpJCrYvjKa1aUeWnn6BGDVPziYg4GhVVEZFiZhgGy5csYfODD3Lv6dPUvjieVq0antOm4X3ffeDmZmpGERFHpKIqIlKMdm3dyurhw7njwAFuvTiWUrkyntOm4XX//eDubmo+ERFHpqIqIlIMoo8eZdXw4XT7/XciLo4lVaiAy7PP4j1uHOim/SIiV6WiKiJShM6ePs3qe+6h/cqVjLw4dt7DA+sTT1Bt4kTw9DQ1n4hIaaKiKiJSBFITE/nt3ntptmQJAw0DgHOuriQ9+CB1Zs4ELy+TE4qIlD4qqiIi1yA7OZlNY8ZQ/6uvuNVmAyDBxYWEkSNp8tpr+Hh7m5xQRKT0UlEVESkE48IFdo8dS+CCBXSxWgGIc3YmZuhQ2rzzDr4VKpicUESk9FNRFRGxR2wsUePHU+3rr2l9saCedHLizzvvJOz99wmoVMnkgCIiZYeKqohIQZw7R2xEBFU++YS6Fw/xH7JYONivH93nzaOrr6/JAUVEyh4VVRGRK0lNJXbSJLzffpvA7GwANlss7O7dm37z5tEvMNDkgCIiZZeKqohIfjIyiHvhBdxfe43AjAwAdgOrunXj9vnzGV2/vrn5RETKARVVEZF/ys4m/pVXcJo+nYC0NAAigaWhoYS//z4RLVuam09EpBxxKsykt956i7p16+Lh4UHHjh3ZsmXLZZedN28eXbp0wcfHBx8fH8LDw6+4vIiIKaxWzr7xBmd8ffGbNIlqaWlEA2+1akXyli08unkzzVRSRURKlN1FdeHChURERDB16lS2b99O69at6dmzJ2fOnMl3+bVr1zJkyBB++eUXNm7cSFBQED169ODkyZPXHF5E5JoZBokffshpf3+qPfYY/klJxAHvNG1K7G+/MXbXLkI6dDA7pYhIuWQxjItfoVJAHTt2pEOHDrz55psA2Gw2goKCeOSRR3jmmWeuOt9qteLj48Obb77J8OHDr7hsfHw8/v7+ecbOnDmDn5+fPZFFRPJ1bs0azt5zDw2jo/96DHxdrx4t5s6lU48e5oYTESklirOv2bVHNSsri23bthEeHv7/L+DkRHh4OBs3bizQa6SlpZGdnU3VqlXtSyoiUkQS9uzhj1atqHzTTTSMjiYD+LhmTXYvXszoyEiVVBERB2HXxVQJCQlYrVYCAgLyjAcEBHDw4MECvcbTTz9NjRo18pTdf8vMzCQzM5Pk5GR74omIXNHpo0fZeffddNmwgb8P5i/38cH9tdcYPmIEFovF1HwiIpJXoS6mKqwXX3yRBQsW8N133+Hh4XHZ5WbOnEnlypVp0KBBCaYTkbIqJiaGWYMGkdqwIbdu2IA3sKdCBda/8go9z57lxnvuUUkVEXFAdhVVX19fnJ2diYuLyzMeFxdH4FVuej1r1ixefPFFVq5cSatWra647IQJE7hw4QKRkZH2xBMRyePEiRM8OmYM79Sty7ivvqKhYXDGzY1dTz9Ni6Qkrn/iCRVUEREHZldRdXNzo127dqxevTp3zGazsXr1asLCwi477+WXX+aFF15g+fLltG/f/qrrcXd3p1KlSlSsWNGeeCIiABw7downhw3j03r1mDxvHtOtVlyBuBtuwO/0aVq/+CIWpxI9oCQiIoVg9w3/IyIiGDFiBO3btyc0NJTZs2eTmprKyJEjARg+fDg1a9Zk5syZALz00ktMmTKFL774grp16xIbGwuAt7c33t7eRfhWRKS8O3LkCF9GRNBg6VKmGwZuF8cz/P3xePFFAu65B7QHVUSk1LC7qA4aNIj4+HimTJlCbGwsISEhLF++PPcCqxMnTuD0jz0V77zzDllZWQwYMCDP60ydOpXnnnvu2tKLiAC7tm1j7aOP0n7DBqb8YzypZUsqTZmCR//+4KIv4hMRKW3svo9qSdJ9VEXkcgzDYOPSpRx8/HFuPnyYoIvj2RYL52+5Bb8XXoB27UzNKCJSHhRnX9MuBhEpVWw2G+vmzCFpxgzCz5yh08XxC+7upI8YQeBzz+FXvbqpGUVEpGioqIpIqZCdlsamp57C68MP6ZqWljseXa0a7k89hf+jj1L5Cre9ExGR0kdFVUQcWvrhw+x+7DHqrlxJF6sVgGxgf9Om1HzxRYL69tUFUiIiZZSKqog4nuxskr/4grgZM6h/+DAdLw7HOTlx5MYbaTlnDq2Dg02NKCIixU9FVUQcR3Iy8S++iPP//kfVlBT+vpPyRg8PUoYM4frXX+f6ypVNjSgiIiVHRVVETGecOkXM00/js3AhftnZAMQBS/398Xv6aW599FFcdHspEZFyR5/8ImKanO3biR4/nlrr1hF08U55h4AVLVrQ6pVXGNmzp77iVESkHFNRFZGSZRikfvcdCRMmUOfwYepdHP7dYmFneDjdX3+dR5s3NzWiiIg4BhVVESkZmZmcfeMNsl9+mcCzZ6kA5AA/uLmRMHw4/aZPp/O/bhgtIiLlm4qqiBQrIz2doxMmUOW996iWng5AErDIxwf3p56i/7hxeHp6mhtSREQckoqqiBSL9MREdo4dS4Nvv6XBxQukYoAfGjSg/owZDB8wACcnJ3NDioiIQ1NRFZEiFX34MDsffJAOv/xC2MULpKKBXzt1otXs2TzYoYO5AUVEpNRQURWRa2YYBmvXrmXNlCmMWL+ePhfHY5yd2de3L+3ffJNhNWqYmlFEREofFVURKbTU1FQ++/RTfnnlFXocPcoLF8cT3NyIHjWKVq++Si2dfyoiIoWkoioidjt48CALX3kFpy++YEBGBvf/47nEgQPxfe89fPUNUiIico1UVEWkQDIzM/nh88+JfOklQg8fZuo/nst2dcXo1w+3xx6jaufOpmUUEZGyRUVVRK4o8tAhfp08mSpLltA7K4u/D+TbgMRWrag6bhyuAwZApUpmxhQRkTJIRVVELpGdlcX6V1/lwjvvEBYdzb3/eC7e1xfXe++lytix+NaubVpGEREp+1RURSTXydWrOTJ1KvU2beJGqzV3/IKrK2d79KD25Mn4dewIFouJKUVEpLxQURUpzwyD7J07OfLii3j+9BP1kpOpefGpVIuFw82aUf3xxwkcNozKrq6mRhURkfJHRVWkPIqJIe7FF7F88QX+587R7OJwNvCHry+WYcNoN3UqbapUMTGkiIiUdyqqIuVFVhapCxZw9uWXqblvHwEXhzOA39zduRAeTtupU+mkb44SEREHoaIqUsbZtm/n5H//S5Vly6iYmUmFi+O/WizsateOJk8/zU39++Pioo8DERFxLPqXSaQsSkgg4Y03yJk3j8C4OIIuDp8Clvn64jx6NLeNH09XPz8zU4qIiFyRiqpIWWEYJH33HQkvvEDQrl34GgYAmcAyFxdO9uhBx8mTGXXddVh01b6IiJQCKqoipVzm2bMcmDCBagsWEJSczN+33d8KbG7aFL9HH+W2ESPw8vIyM6aIiIjdVFRFSiHDMNj5zTece+EF2u/dS8jFvafJwNJq1cgcMYIeTzzB2OrVzQ0qIiJyDVRURUqRAwcO8OO8eTR4/336JyfjdHE80tmZPV270vCFFxjcqZOpGUVERIqKiqqIgzt69CgLv/ySfR99RPM//+RhoOLF53bWrIntoYdo/eSTNNAN+UVEpIxRURVxQCdPnmTxJ58Q88EHNPnzT+6F3PueAsQ3aECF998npFs3kxKKiIgUPxVVEQcRHx/Pqrff5uwnnxB89ChjgH/uI83y9ISbb8Zt2DD87rwTnJwu91IiIiJlgoqqiIlijx1j22uvkfn997SIjmbIv54/5++P2+23U2HgQNyuvx7c3EzJKSIiYgYVVZGSZBic/vVXDv/vf7ivXUvrc+fo/Y+nsy0WTjZsSOWhQ/EZNgyfhg1NiyoiImI2FVWR4paRwakvv+T0++8TsG0btTIz+edNo+JcXTndpg0Bw4dTffhw6laseNmXEhERKU9UVEWKgRETw6l580j56itqHz5MDZuNGhefywJ2V65MWteuNHrkEarfdBMB+qYoERGRS6ioihQFq5Wc338n5t13cV25kpoJCdT8x9MngV01amC57TbaPPkk7XVIX0RE5KpUVEUKKyGBtEWLiP/4Y6pu3UrFrCzqXnzKBmyxWDjcqBGVBg/m+ocfppefn4lhRURESh8VVRF7pKYSP28eqfPmEXTgAF6GQZ2LT50D1rq7kxAaSs1Ro+g6YADXVahgZloREZFSTUVV5CoyU1M58L//Yf30U4IPHsTPMPh73+hOYEu1alhvuYXWY8bQt3NnnJ2dTUwrIiJSdqioiuTj+PHjrP/sMyrNn891x44R8o/nIoH1tWtjGzKE60eNYkyjRialFBERKdtUVEWAzMxM1q1bx4qlSzn6/feEHzvGKODv2+snODmxs3FjuOsu2j30ECOqVjUzroiISLmgoirlks1mY+/evaxfsoTYxYvx3r2bdtnZTAW8/7Hc0YYNMcaNo97o0YS7u5sVV0REpFxSUZVy4/ixY2z7/HMSfvgB7927aZORwUP5LJft6Qk33IDrxInUv+GGEs8pIiIif1FRlTLr3IEDHPjoI5J+/pmKBw/SIj2dO/JZLtHPD8LC8OnVC0vnzrgGB4MuiBIRETGdiqqUDVlZnP/lF44vXIh1/XqqR0VRPTubTv9aLN3JidigIJyvv57qd96Ja5cuVPX1NSWyiIiIXJmKqpROp09zbtky4r77Dtdt26gVF0cVw6DKPxaxAX+6u3O2QQO8unWjwdCheHfsSD0X/WcvIiJSGuhfbHF8mZkY27eTuHw5yStX4r13L74pKfgAPv9YLAHY6+1NUvPmVOzRg2bDh9NYX1UqIiJSaqmoiuMxDLK2biX2gw9wWrmSgKgoXG02qgHVLi5iBfYCh6tVI7NtW/z69qXtwIF08/c3L7eIiIgUKRVVcQhnDh8m6v33Yfly6h06hF9WFrX/8Xw8sNliIaZGDYzrrqP2gAGE9ehBa93PVEREpMxSUZUSl5yczPbt29m6eTPG99/Taft2QjMy+Oe+0FRgvasrx5o2xalnT4L79OGmDh3w9PQ0K7aIiIiUMBVVKVYZGRns2rWLrZs2cXztWtK2bcMrOpomwB1AvX8se9TdnaONG2Pccgv1R4ygR7NmWCwWk5KLiIiI2VRUpcikJCezf/16Yn75hQt//AEHDuBz5gxNDIPR/P/Xkf5TuqcnsbffTrWnnqJ+69bUL+nQIiIi4rBUVMVuxoULxK9fz6lffiF5+3aIjKRyXBxBmZmEAqGXmZft4kJa7dq4t2qFR0gING+OZ69e1PPyKsH0IiIiUlqoqEr+rFY4fpy0HTs4s24dGTt34hIZic+ZM1TLysIfuNz19QkeHlwICMBo2pSq112HT1gYluBgXGvVorKTU0m+CxERESnFVFTLu+xs2LOH9E2bOLdpE9n79uF24gTVEhNxs9nwAurmMy0WiPbyIqV6dZyaNKFK+/bUuvFGqoWG4uvlhb7rSURERK6Vimo5Ys3J4eTmzSQuW4axaROVDhygZlwcHjYbnsC/r6fPAI4Axz08SAoMxNa4MRXbt6d2eDhNr7uOQF2BLyIiIsVIRbWMsdlsnDp1isjISI4cOcKRgwfx+v132u3fT9ukJGpDnvuTApwDtgEnvLxIr1ULp6ZNqRIaSu0uXWjWsiUtfXwuXZGIiIhIMVNRLWUMwyA+Pp6ow4c5vWcPZw8cICkykowTJ7DFxuKSmEhVmw1/oAXQl7znkuYAhzw8iK5enaRmzXAKCyOwSxfatmhBuG6eLyIiIg5ERdURpKTAyZMYMTGkHTlCUmQkKbGxpMfHk3n2LEZiIi4XLuCemop3ZiY+hnHZK+vzk16hAvHh4bgNHYrfrbfSvGJFmhfbmxEREREpGoUqqm+99RavvPIKsbGxtG7dmjlz5hAaevnq9PXXX/Pss88SFRVFo0aNeOmll+jVq1ehQ5cahgGxseQcPEjKnj2kHT1K9okTGKdO4Rwfj8e5c3gnJ+OZkwOABahw8acgcoAUT08yKlbE5uuLc2AgnnXqUKFePZwDA8HfHwIC8Gzbltpu+d3FVERERMRx2V1UFy5cSEREBHPnzqVjx47Mnj2bnj17cujQIfz9L71h0YYNGxgyZAgzZ87ktttu44svvqB///5s376dFi1aFMmbKEkZGRmcO3eOxMREEhMTc/9/ysmTVNuxg2pHj1I5Ph7fc+eonpaGl2HgAlS5+HM5yUDMxZ8Lbm4YFSviXKkSbj4+uPn741GzJt516uDXtCkBzZrhVr06LlWqUEW3exIREZEyymIYhmHPhI4dO9KhQwfefPNN4K+Ld4KCgnjkkUd45plnLll+0KBBpKam8uOPP+aOXXfddYSEhDB37twrris+Pv6S8nvmzBn8qlWDpCRIS4OMDIy0NIy0NGypqdhSU8lJSyMrLY2c1FRy0tNzf2zp6eRkZGDNyMCWmYk1K4vsjAyyMzLIufhjzcoiJzMTW2YmtqwsjKwsjOzsv/43KwuLzYYr4MpfLd8V8AJakn/rtwJRwDHgnIcHKd7eZPj4YPX3x1KjBm516lCpcWMCGzemVq1a1KhRQ99nLyIiIqXGZfuan981v7Zde1SzsrLYtm0bEyZMyB1zcnIiPDycjRs35jtn48aNRERE5Bnr2bMnixcvvux6MjMzyczMJDk5+ZLnWvj743qFjG2BJfxVHv/WF9h+hTl/i7j487dkILgA8wC+B2r6+HCifn3SgoLY6OTE67/8gpOrK07Ozjj9c89nWhpERUFUFN67d3Pw4ME8r/Xkk0/y5ZdfXnWdvXv35t13380z1r59e2JjY6869+WXX2bo0KG5jw8dOsRNN9101XkAf/zxB9WrV899/N577zFt2rSrzmvcuDFr1qzJM3bXXXfx66+/XnXu6NGjmTp1ap6xWrVqFSjvZ599Rrdu3XIfr127lmHDhhVobkxMTJ7Hzz//PPPmzbvqvK5du/L555/nGevevTuHDx++6twpU6YwZsyY3MenT5+mQ4cOBcq7evVqmjRpkvv4iy++4KmnnrrqvMDAQLZu3Zpn7P7772fp0qVXnTtkyBBeeeWVPGNNmzYlJSXlqnPnzp3Lbbfdlvt427Zt9OvX76rzAA4cOEDFihVzH7/22mu89tprV53Xtm1blixZkmesb9++bN9+9U+JiIiIPJ9nycnJBAcX7FPi+++/p127drmPf/zxRx544IGrzvP29tZnhD4j8tBnhD4j/slRPiOKi11FNSEhAavVSkBAQJ7xgICAS/6Q/hYbG5vv8lf6Q5g5cybPP/98vs+duUrGasAWIBvIsViwOjnxp83GyQLsON5dowbr69fH1cMDF09PMl1dOblo0VXnAWR98w2Bd95J4MXH8V9/TXwB5v7zL9Hfzp07x8mTJ686NzEx8ZKx2NjYAs1NS0vL8zgnJ6dA8wCsVmuexykpKQWaW7ly5UvGEhISCjT3woULl4wVNG9mZuYljws6N78cBZmbkJBwyVhcXFyB5v77w9tqtRY4b87F853/lpaWVuj3mpiYWKC5586du2Ts1KlT+f6i+W/p6el5HmdlZRU4778PBiUlJRVoblBQ0CVj8fHxBZqblJR0SYaC5s3KysrzOD09vUBz9Rmhz4h/02eEPiP+yVE+I4qLQ171P2HCBCIiIkhISKBBgwZ5nvOvWhUnFxewWMBiwWKx5Hm+ZkgIrb/7Djc3t9znGvbtS1IBfhNqFRHB9f/6Tajm5s0FyuxWt26ex56entSsWfOq87y9vS8Z8/HxKdDcqvncTiowMDCfJS/l5eWV57GLi0uB1gng7Oyc57G3t3eB5v77FxYAX1/fAs3N7x+wguZ1d3e/5HFB5+aXoyBzfX0v/W6ugICAfP8x/bd//zfh7Oxc4LwuLnn/Snt5eRVobn7/3VStWrVAc33yuc9ujRo1CrS35N+nubi5uRX4vf77736lSpUKNDe/Q1F+fn4FmlupUqVLMhQ0r9u/LmjUZ8Sl9Bmhz4h/02dE6fmMKC52naOalZWFl5cX33zzDf37988dHzFiBOfPn+f777+/ZE7t2rWJiIjgscceyx2bOnUqixcvZteuXVdcX3Ge8yAiIiIi1644+5pdl4y7ubnRrl07Vq9enTtms9lYvXo1YWFh+c4JCwvLszzAzz//fNnlRURERESgEIf+IyIiGDFiBO3btyc0NJTZs2eTmprKyJEjARg+fDg1a9Zk5syZAIwbN46uXbvy6quv0rt3bxYsWMDWrVt57733ivadiIiIiEiZYndRHTRoEPHx8UyZMoXY2FhCQkJYvnx57rlFJ06cyHOFe6dOnfjiiy+YPHkyEydOpFGjRixevLhU3kNVREREREqO3fdRLUk6R1VERETEsTnMOaoiIiIiIiVFRVVEREREHJKKqoiIiIg4JBVVEREREXFIKqoiIiIi4pBUVEVERETEIamoioiIiIhDUlEVEREREYdk9zdTlSSbzXbJWEJCgglJRERERCQ/+XWz/DpcYTh0UU1MTLxkrFmzZiYkEREREZGCSkxMJCAg4JpfR4f+RURERMQhqaiKiIiIiENSURURERERh2QxDMMwO8Tl5OTkcOTIEVJSUggNDWXLli3Url0bJyf167IsOTmZBg0aEBkZScWKFc2OI8VM27t80fYuX7S9ywebzUZiYmKevtamTRtcXK79UiiHLqp/S0pKonLlyly4cIFKlSqZHUeKmbZ3+aLtXb5oe5cv2t7lS3Fsb+2aFBERERGHVCqKqru7O1OnTsXd3d3sKFICtL3LF23v8kXbu3zR9i5fimN7l4pD/yIiIiJS/pSKPaoiIiIiUv6oqIqIiIiIQ1JRFRERERGH5DBF9a233qJu3bp4eHjQsWNHtmzZcsXlv/76a5o2bYqHhwctW7Zk2bJlJZRUioI923vevHl06dIFHx8ffHx8CA8Pv+p/H+JY7P37/bcFCxZgsVjo379/8QaUImXv9j5//jxjx46levXquLu707hxY32mlyL2bu/Zs2fTpEkTPD09CQoKYvz48WRkZJRQWims3377jT59+lCjRg0sFguLFy++6py1a9fStm1b3N3dadiwIR999JH9KzYcwIIFCww3Nzfjgw8+MPbt22eMHj3aqFKlihEXF5fv8r///rvh7OxsvPzyy8b+/fuNyZMnG66ursaePXtKOLkUhr3be+jQocZbb71l7Nixwzhw4IBxzz33GJUrVzZiYmJKOLkUhr3b+2/Hjh0zatasaXTp0sXo169fyYSVa2bv9s7MzDTat29v9OrVy1i/fr1x7NgxY+3atcbOnTtLOLkUhr3b+/PPPzfc3d2Nzz//3Dh27JixYsUKo3r16sb48eNLOLnYa9myZcakSZOMRYsWGYDx3XffXXH5o0ePGl5eXkZERISxf/9+Y86cOYazs7OxfPlyu9brEEU1NDTUGDt2bO5jq9Vq1KhRw5g5c2a+yw8cONDo3bt3nrGOHTsa999/f7HmlKJh7/b+t5ycHKNixYrGxx9/XFwRpQgVZnvn5OQYnTp1Mt5//31jxIgRKqqliL3b+5133jHq169vZGVllVREKUL2bu+xY8ca3bt3zzMWERFhdO7cuVhzStEqSFF96qmnjObNm+cZGzRokNGzZ0+71mX6of+srCy2bdtGeHh47piTkxPh4eFs3Lgx3zkbN27MszxAz549L7u8OI7CbO9/S0tLIzs7m6pVqxZXTCkihd3e06ZNw9/fn1GjRpVETCkihdneS5YsISwsjLFjxxIQEECLFi2YMWMGVqu1pGJLIRVme3fq1Ilt27blnh5w9OhRli1bRq9evUoks5Scoupq1/4lrNcoISEBq9VKQEBAnvGAgAAOHjyY75zY2Nh8l4+NjS22nFI0CrO9/+3pp5+mRo0al/wFEMdTmO29fv165s+fz86dO0sgoRSlwmzvo0ePsmbNGu666y6WLVvGn3/+yUMPPUR2djZTp04tidhSSIXZ3kOHDiUhIYHrr78ewzDIycnhgQceYOLEiSURWUrQ5bpaUlIS6enpeHp6Fuh1TN+jKmKPF198kQULFvDdd9/h4eFhdhwpYsnJydx9993MmzcPX19fs+NICbDZbPj7+/Pee+/Rrl07Bg0axKRJk5g7d67Z0aQYrF27lhkzZvD222+zfft2Fi1axNKlS3nhhRfMjiYOyvQ9qr6+vjg7OxMXF5dnPC4ujsDAwHznBAYG2rW8OI7CbO+/zZo1ixdffJFVq1bRqlWr4owpRcTe7R0ZGUlUVBR9+vTJHbPZbAC4uLhw6NAhGjRoULyhpdAK8/e7evXquLq64uzsnDsWHBxMbGwsWVlZuLm5FWtmKbzCbO9nn32Wu+++m/vuuw+Ali1bkpqaypgxY5g0aRJOTtp/VlZcrqtVqlSpwHtTwQH2qLq5udGuXTtWr16dO2az2Vi9ejVhYWH5zgkLC8uzPMDPP/982eXFcRRmewO8/PLLvPDCCyxfvpz27duXRFQpAvZu76ZNm7Jnzx527tyZ+9O3b19uvPFGdu7cSVBQUEnGFzsV5u93586d+fPPP3N/IQE4fPgw1atXV0l1cIXZ3mlpaZeU0b9/STH0je5lSpF1Nfuu8yoeCxYsMNzd3Y2PPvrI2L9/vzFmzBijSpUqRmxsrGEYhnH33XcbzzzzTO7yv//+u+Hi4mLMmjXLOHDggDF16lTdnqoUsXd7v/jii4abm5vxzTffGKdPn879SU5ONustiB3s3d7/pqv+Sxd7t/eJEyeMihUrGg8//LBx6NAh48cffzT8/f2N//73v2a9BbGDvdt76tSpRsWKFY0vv/zSOHr0qLFy5UqjQYMGxsCBA816C1JAycnJxo4dO4wdO3YYgPHaa68ZO3bsMI4fP24YhmE888wzxt133527/N+3p3ryySeNAwcOGG+99VbpvT2VYRjGnDlzjNq1axtubm5GaGiosWnTptznunbtaowYMSLP8l999ZXRuHFjw83NzWjevLmxdOnSEk4s18Ke7V2nTh0DuORn6tSpJR9cCsXev9//pKJa+ti7vTds2GB07NjRcHd3N+rXr29Mnz7dyMnJKeHUUlj2bO/s7GzjueeeMxo0aGB4eHgYQUFBxkMPPWScO3eu5IOLXX755Zd8/y3+e/uOGDHC6Nq16yVzQkJCDDc3N6N+/frGhx9+aPd6LYahfe0iIiIi4nhMP0dVRERERCQ/KqoiIiIi4pBUVEVERETEIamoioiIiIhDUlEVEREREYekoioiIiIiDklFVUREREQckoqqiIiIiDgkFVURERERcUgqqiIiIiLikFRURURERMQhqaiKiJSQ+Ph4AgMDmTFjRu7Yhg0bcHNzY/Xq1SYmExFxTBbDMAyzQ4iIlBfLli2jf//+bNiwgSZNmhASEkK/fv147bXXzI4mIuJwVFRFRErY2LFjWbVqFe3bt2fPnj388ccfuLu7mx1LRMThqKiKiJSw9PR0WrRoQXR0NNu2baNly5ZmRxIRcUg6R1VEpIRFRkZy6tQpbDYbUVFRZscREXFY2qMqIlKCsrKyCA0NJSQkhCZNmjB79mz27NmDv7+/2dFERByOiqqISAl68skn+eabb9i1axfe3t507dqVypUr8+OPP5odTUTE4ejQv4hICVm7di2zZ8/m008/pVKlSjg5OfHpp5+ybt063nnnHbPjiYg4HO1RFRERERGHpD2qIiIiIuKQVFRFRERExCGpqIqIiIiIQ1JRFRERERGHpKIqIiIiIg5JRVVEREREHJKKqoiIiIg4JBVVEREREXFIKqoiIiIi4pBUVEVERETEIamoioiIiIhDUlEVEREREYf0f0zyAhd7s42/AAAAAElFTkSuQmCC\n"
                },
                "metadata": {}
              }
            ]
          }
        },
        "90352b6853a14d249c52bbdb6ef8e979": {
          "model_module": "@jupyter-widgets/base",
          "model_name": "LayoutModel",
          "model_module_version": "1.2.0",
          "state": {
            "_model_module": "@jupyter-widgets/base",
            "_model_module_version": "1.2.0",
            "_model_name": "LayoutModel",
            "_view_count": null,
            "_view_module": "@jupyter-widgets/base",
            "_view_module_version": "1.2.0",
            "_view_name": "LayoutView",
            "align_content": null,
            "align_items": null,
            "align_self": null,
            "border": null,
            "bottom": null,
            "display": null,
            "flex": null,
            "flex_flow": null,
            "grid_area": null,
            "grid_auto_columns": null,
            "grid_auto_flow": null,
            "grid_auto_rows": null,
            "grid_column": null,
            "grid_gap": null,
            "grid_row": null,
            "grid_template_areas": null,
            "grid_template_columns": null,
            "grid_template_rows": null,
            "height": null,
            "justify_content": null,
            "justify_items": null,
            "left": null,
            "margin": null,
            "max_height": null,
            "max_width": null,
            "min_height": null,
            "min_width": null,
            "object_fit": null,
            "object_position": null,
            "order": null,
            "overflow": null,
            "overflow_x": null,
            "overflow_y": null,
            "padding": null,
            "right": null,
            "top": null,
            "visibility": null,
            "width": null
          }
        },
        "22913db68f814652bdf2555433bfebf9": {
          "model_module": "@jupyter-widgets/base",
          "model_name": "LayoutModel",
          "model_module_version": "1.2.0",
          "state": {
            "_model_module": "@jupyter-widgets/base",
            "_model_module_version": "1.2.0",
            "_model_name": "LayoutModel",
            "_view_count": null,
            "_view_module": "@jupyter-widgets/base",
            "_view_module_version": "1.2.0",
            "_view_name": "LayoutView",
            "align_content": null,
            "align_items": null,
            "align_self": null,
            "border": null,
            "bottom": null,
            "display": null,
            "flex": null,
            "flex_flow": null,
            "grid_area": null,
            "grid_auto_columns": null,
            "grid_auto_flow": null,
            "grid_auto_rows": null,
            "grid_column": null,
            "grid_gap": null,
            "grid_row": null,
            "grid_template_areas": null,
            "grid_template_columns": null,
            "grid_template_rows": null,
            "height": null,
            "justify_content": null,
            "justify_items": null,
            "left": null,
            "margin": null,
            "max_height": null,
            "max_width": null,
            "min_height": null,
            "min_width": null,
            "object_fit": null,
            "object_position": null,
            "order": null,
            "overflow": null,
            "overflow_x": null,
            "overflow_y": null,
            "padding": null,
            "right": null,
            "top": null,
            "visibility": null,
            "width": null
          }
        },
        "573f579714cd4646b4432be013157d83": {
          "model_module": "@jupyter-widgets/controls",
          "model_name": "DescriptionStyleModel",
          "model_module_version": "1.5.0",
          "state": {
            "_model_module": "@jupyter-widgets/controls",
            "_model_module_version": "1.5.0",
            "_model_name": "DescriptionStyleModel",
            "_view_count": null,
            "_view_module": "@jupyter-widgets/base",
            "_view_module_version": "1.2.0",
            "_view_name": "StyleView",
            "description_width": ""
          }
        },
        "19296f3500514c208fbcf551396ef730": {
          "model_module": "@jupyter-widgets/base",
          "model_name": "LayoutModel",
          "model_module_version": "1.2.0",
          "state": {
            "_model_module": "@jupyter-widgets/base",
            "_model_module_version": "1.2.0",
            "_model_name": "LayoutModel",
            "_view_count": null,
            "_view_module": "@jupyter-widgets/base",
            "_view_module_version": "1.2.0",
            "_view_name": "LayoutView",
            "align_content": null,
            "align_items": null,
            "align_self": null,
            "border": null,
            "bottom": null,
            "display": null,
            "flex": null,
            "flex_flow": null,
            "grid_area": null,
            "grid_auto_columns": null,
            "grid_auto_flow": null,
            "grid_auto_rows": null,
            "grid_column": null,
            "grid_gap": null,
            "grid_row": null,
            "grid_template_areas": null,
            "grid_template_columns": null,
            "grid_template_rows": null,
            "height": null,
            "justify_content": null,
            "justify_items": null,
            "left": null,
            "margin": null,
            "max_height": null,
            "max_width": null,
            "min_height": null,
            "min_width": null,
            "object_fit": null,
            "object_position": null,
            "order": null,
            "overflow": null,
            "overflow_x": null,
            "overflow_y": null,
            "padding": null,
            "right": null,
            "top": null,
            "visibility": null,
            "width": null
          }
        },
        "2e994dd477d34496b2f16aa5f2a192d0": {
          "model_module": "@jupyter-widgets/controls",
          "model_name": "SliderStyleModel",
          "model_module_version": "1.5.0",
          "state": {
            "_model_module": "@jupyter-widgets/controls",
            "_model_module_version": "1.5.0",
            "_model_name": "SliderStyleModel",
            "_view_count": null,
            "_view_module": "@jupyter-widgets/base",
            "_view_module_version": "1.2.0",
            "_view_name": "StyleView",
            "description_width": "",
            "handle_color": null
          }
        },
        "76f81872b1e143c282647f44139c5115": {
          "model_module": "@jupyter-widgets/base",
          "model_name": "LayoutModel",
          "model_module_version": "1.2.0",
          "state": {
            "_model_module": "@jupyter-widgets/base",
            "_model_module_version": "1.2.0",
            "_model_name": "LayoutModel",
            "_view_count": null,
            "_view_module": "@jupyter-widgets/base",
            "_view_module_version": "1.2.0",
            "_view_name": "LayoutView",
            "align_content": null,
            "align_items": null,
            "align_self": null,
            "border": null,
            "bottom": null,
            "display": null,
            "flex": null,
            "flex_flow": null,
            "grid_area": null,
            "grid_auto_columns": null,
            "grid_auto_flow": null,
            "grid_auto_rows": null,
            "grid_column": null,
            "grid_gap": null,
            "grid_row": null,
            "grid_template_areas": null,
            "grid_template_columns": null,
            "grid_template_rows": null,
            "height": null,
            "justify_content": null,
            "justify_items": null,
            "left": null,
            "margin": null,
            "max_height": null,
            "max_width": null,
            "min_height": null,
            "min_width": null,
            "object_fit": null,
            "object_position": null,
            "order": null,
            "overflow": null,
            "overflow_x": null,
            "overflow_y": null,
            "padding": null,
            "right": null,
            "top": null,
            "visibility": null,
            "width": null
          }
        }
      }
    }
  },
  "nbformat": 4,
  "nbformat_minor": 0
}