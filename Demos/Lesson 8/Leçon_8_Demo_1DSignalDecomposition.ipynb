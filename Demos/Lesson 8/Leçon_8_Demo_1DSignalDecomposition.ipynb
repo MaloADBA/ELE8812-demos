{
 "cells": [
  {
   "cell_type": "markdown",
   "metadata": {},
   "source": [
    "[![Open In Colab](https://colab.research.google.com/assets/colab-badge.svg)](https://colab.research.google.com/github/MaloADBA/ELE8812-demos/blob/main/Demos/Lesson%208/Leçon_8_Demo_1DSignalDecomposition.ipynb)"
   ]
  },
  {
   "cell_type": "code",
   "execution_count": 15,
   "metadata": {
    "executionInfo": {
     "elapsed": 137,
     "status": "ok",
     "timestamp": 1647546048892,
     "user": {
      "displayName": "Eva Alonso",
      "photoUrl": "https://lh3.googleusercontent.com/a-/AOh14GhLM2zWWbwTtD8-EJqYjy1S1EDUu2-SgI4x2H-sOw=s64",
      "userId": "01143959102600730072"
     },
     "user_tz": 240
    },
    "id": "MDpsc8Dt1z3y"
   },
   "outputs": [],
   "source": [
    "import numpy as np\n",
    "import matplotlib.pyplot as plt\n",
    "plt.style.use('seaborn-poster')\n",
    "plt.rcParams['axes.linewidth'] = 3\n",
    "\n",
    "from ipywidgets import interactive, fixed\n",
    "from scipy.interpolate import interp1d\n",
    "import pywt"
   ]
  },
  {
   "cell_type": "markdown",
   "metadata": {
    "id": "LHXyOT2Y1z30"
   },
   "source": [
    "Pour une version interactive de ce notebook: [![Binder](https://mybinder.org/badge.svg)](https://mybinder.org/v2/gh/joe-from-mtl/ele8812_Cours_AnalyseMultiresolution/master?filepath=notebooks%2FDemo_1DSignalDecomposition.ipynb)"
   ]
  },
  {
   "cell_type": "markdown",
   "metadata": {
    "id": "n96rJ7P-1z30"
   },
   "source": [
    "## Signal to decompose\n",
    "\n",
    "\\begin{equation}\n",
    "f(x) = x^2, \\text{ for } x \\in [0, 1]\n",
    "\\end{equation}"
   ]
  },
  {
   "cell_type": "code",
   "execution_count": 16,
   "metadata": {
    "colab": {
     "base_uri": "https://localhost:8080/",
     "height": 560
    },
    "executionInfo": {
     "elapsed": 228,
     "status": "ok",
     "timestamp": 1647546049239,
     "user": {
      "displayName": "Eva Alonso",
      "photoUrl": "https://lh3.googleusercontent.com/a-/AOh14GhLM2zWWbwTtD8-EJqYjy1S1EDUu2-SgI4x2H-sOw=s64",
      "userId": "01143959102600730072"
     },
     "user_tz": 240
    },
    "id": "jpa4ATf91z31",
    "outputId": "a792321f-97b9-4704-e328-84a8983b2eb6"
   },
   "outputs": [
    {
     "data": {
      "image/png": "[encoded data removed]",
      "text/plain": [
       "<Figure size 921.6x633.6 with 1 Axes>"
      ]
     },
     "metadata": {
      "needs_background": "light"
     },
     "output_type": "display_data"
    }
   ],
   "source": [
    "x = np.linspace(0, 1, 512); \n",
    "y = x**2 #* np.cos(x*6.0*np.pi)\n",
    "plt.plot(x,y); plt.title('Original Signal')\n",
    "plt.show()    "
   ]
  },
  {
   "cell_type": "markdown",
   "metadata": {
    "id": "YHm6VPq01z31"
   },
   "source": [
    "## Signal series expansions\n",
    "\n",
    "\\begin{equation}\n",
    "f(x) = \\sum_k \\alpha_k \\phi_k(x)\n",
    "\\end{equation}\n",
    "\n",
    "where $\\alpha_k$ are *expansion coefficients*, $\\phi_k(x)$ are *expansion functions*. "
   ]
  },
  {
   "cell_type": "markdown",
   "metadata": {
    "id": "32Mq8dNC1z32"
   },
   "source": [
    "### Expansion coefficients\n",
    "If $\\{\\phi_k(x)\\}$ forms an orthonormal basis, the $\\alpha_k$ are computed by taking the *integral inner product* of the basis $\\phi_k(x)$ and function $f(x)$\n",
    "\n",
    "\\begin{equation}\n",
    "\\alpha_k = \\langle\\phi_k(x), f(x)\\rangle = \\int\\phi^*_k(x) f(x) dx\n",
    "\\end{equation}"
   ]
  },
  {
   "cell_type": "markdown",
   "metadata": {
    "id": "5HUWWuwA1z32"
   },
   "source": [
    "## Example 1: Fourier Transform 1D"
   ]
  },
  {
   "cell_type": "markdown",
   "metadata": {
    "id": "W_bmDVC91z32"
   },
   "source": [
    "For the Fourier series expansion, the expansion functions are given by\n",
    "\n",
    "\\begin{equation}\n",
    "\\phi_k(x) = e^{2 i \\pi k x / T}\n",
    "\\end{equation}"
   ]
  },
  {
   "cell_type": "code",
   "execution_count": 17,
   "metadata": {
    "executionInfo": {
     "elapsed": 164,
     "status": "ok",
     "timestamp": 1647546049399,
     "user": {
      "displayName": "Eva Alonso",
      "photoUrl": "https://lh3.googleusercontent.com/a-/AOh14GhLM2zWWbwTtD8-EJqYjy1S1EDUu2-SgI4x2H-sOw=s64",
      "userId": "01143959102600730072"
     },
     "user_tz": 240
    },
    "id": "37xVunQe1z33"
   },
   "outputs": [],
   "source": [
    "k = 4\n",
    "def phi_fourier(x, k):\n",
    "    phi = np.exp(2.0j * np.pi * k * x)\n",
    "    return phi\n",
    "\n",
    "def plot_fourier_functions(k):\n",
    "    plt.figure(figsize=(8,5))\n",
    "    plt.plot(x, phi_fourier(x, k).real, label='Real part')\n",
    "    plt.plot(x, phi_fourier(x, k).imag, label='Imaginary part')\n",
    "    plt.title('Fourier basis function $\\phi_k(x)$ for k={}'.format(k), y=1.05)\n",
    "    plt.hlines(0, 0, 1, color='k', linewidth=2, linestyle='dashed')\n",
    "    plt.xlim([0, 1]); plt.xlabel('x')\n",
    "    plt.ylim([-1.5, 1.5]); plt.ylabel('y')\n",
    "    plt.legend(loc=1)\n",
    "    plt.show() "
   ]
  },
  {
   "cell_type": "code",
   "execution_count": 18,
   "metadata": {
    "colab": {
     "base_uri": "https://localhost:8080/",
     "height": 423,
     "referenced_widgets": [
      "bc454082e1ce404d95590ffafde62e5a",
      "c0d90252b4de4f75b0037305ad6dfa51",
      "a2c01bb34c2f4ecc898a205387efb1c8",
      "b5bd4f6b61c2436a8b2f328abaecc02d",
      "781cd8f525f641e4be4a75bbf2dca4e3",
      "9f7a5b38ef1b4b5fb69b9e3f77469a4f",
      "9524046d4fa441fb983ac17602aabd38"
     ]
    },
    "executionInfo": {
     "elapsed": 223,
     "status": "ok",
     "timestamp": 1647546049613,
     "user": {
      "displayName": "Eva Alonso",
      "photoUrl": "https://lh3.googleusercontent.com/a-/AOh14GhLM2zWWbwTtD8-EJqYjy1S1EDUu2-SgI4x2H-sOw=s64",
      "userId": "01143959102600730072"
     },
     "user_tz": 240
    },
    "id": "ugdWXQRA1z33",
    "outputId": "f9cce403-54a7-4a5f-a9b0-bd75463179b8"
   },
   "outputs": [
    {
     "data": {
      "application/vnd.jupyter.widget-view+json": {
       "model_id": "bc454082e1ce404d95590ffafde62e5a",
       "version_major": 2,
       "version_minor": 0
      },
      "text/plain": [
       "interactive(children=(IntSlider(value=8, description='k', max=16), Output()), _dom_classes=('widget-interact',…"
      ]
     },
     "metadata": {},
     "output_type": "display_data"
    }
   ],
   "source": [
    "interactive(plot_fourier_functions, k=(0,16))"
   ]
  },
  {
   "cell_type": "markdown",
   "metadata": {
    "id": "Sok0Psb71z33"
   },
   "source": [
    "## Compute the expansion coefficients"
   ]
  },
  {
   "cell_type": "code",
   "execution_count": 19,
   "metadata": {
    "executionInfo": {
     "elapsed": 206,
     "status": "ok",
     "timestamp": 1647546049816,
     "user": {
      "displayName": "Eva Alonso",
      "photoUrl": "https://lh3.googleusercontent.com/a-/AOh14GhLM2zWWbwTtD8-EJqYjy1S1EDUu2-SgI4x2H-sOw=s64",
      "userId": "01143959102600730072"
     },
     "user_tz": 240
    },
    "id": "3jw2m0Wz1z34"
   },
   "outputs": [],
   "source": [
    "coeffs = dict()\n",
    "nLevels = 10\n",
    "for k in range(-nLevels, nLevels + 1):\n",
    "    alpha = np.sum(y * np.conj(phi_fourier(x, k)))\n",
    "    coeffs['a_{}'.format(k)] = alpha"
   ]
  },
  {
   "cell_type": "code",
   "execution_count": 20,
   "metadata": {
    "executionInfo": {
     "elapsed": 9,
     "status": "ok",
     "timestamp": 1647546049817,
     "user": {
      "displayName": "Eva Alonso",
      "photoUrl": "https://lh3.googleusercontent.com/a-/AOh14GhLM2zWWbwTtD8-EJqYjy1S1EDUu2-SgI4x2H-sOw=s64",
      "userId": "01143959102600730072"
     },
     "user_tz": 240
    },
    "id": "V7nJWfw21z34"
   },
   "outputs": [],
   "source": [
    "def plot_reconstruction_fourier(x, y, coeffs, max_level=-1):\n",
    "    if max_level == -1:\n",
    "        max_level = (len(coeffs) - 1) / 2\n",
    "    \n",
    "    signal = None\n",
    "    plt.figure(figsize=(8,5))\n",
    "    for k in range(-max_level, max_level+1):\n",
    "        alpha = coeffs['a_{}'.format(k)]\n",
    "        phi = alpha * phi_fourier(x, k) / float(len(x))\n",
    "        if signal is None:\n",
    "            signal = phi\n",
    "        else:\n",
    "            signal += phi\n",
    "        if k == max_level:\n",
    "            label=r\"$\\alpha_k \\phi_k(x)$\"\n",
    "        else:\n",
    "            label = None\n",
    "        plt.plot(x, phi.real, color=[0.2, 0.2, 1.0], alpha=0.5, label=label)\n",
    "    \n",
    "    plt.plot(x, y, color='k', label=r'$f(x)$')\n",
    "    plt.plot(x, signal.real, color='r', label=r'$\\frac{1}{N}\\sum_k \\alpha_k \\phi_k(x)$')\n",
    "    plt.hlines(0, 0, 1, color='k', linewidth=2, linestyle='dashed')\n",
    "    plt.xlim([0, 1]); plt.xlabel('x')\n",
    "    plt.legend()\n",
    "    plt.title(r\"$|k| \\leq %d$\" % max_level, y=1.04)\n",
    "    plt.show() "
   ]
  },
  {
   "cell_type": "code",
   "execution_count": 21,
   "metadata": {
    "colab": {
     "base_uri": "https://localhost:8080/",
     "height": 420,
     "referenced_widgets": [
      "b4c9eb89ac79484b913dc859f4ee6aa0",
      "eb8388aebf084998bb63ce582e28b377",
      "47190ce2f4ab437ab457f0f00b7c0081",
      "f491950b193b45caa2b9b09da47c84ff",
      "7cac15aec871439e93b09905022ee6f7",
      "3e16cd7b862d4003ba74aea644fd18c2",
      "b4d596119fcc441cbc92836553d97f43"
     ]
    },
    "executionInfo": {
     "elapsed": 216,
     "status": "ok",
     "timestamp": 1647546050025,
     "user": {
      "displayName": "Eva Alonso",
      "photoUrl": "https://lh3.googleusercontent.com/a-/AOh14GhLM2zWWbwTtD8-EJqYjy1S1EDUu2-SgI4x2H-sOw=s64",
      "userId": "01143959102600730072"
     },
     "user_tz": 240
    },
    "id": "5fB1w72V1z34",
    "outputId": "29a1fbf5-1f42-4ba4-ea9d-9b1062c08f29"
   },
   "outputs": [
    {
     "data": {
      "application/vnd.jupyter.widget-view+json": {
       "model_id": "b4c9eb89ac79484b913dc859f4ee6aa0",
       "version_major": 2,
       "version_minor": 0
      },
      "text/plain": [
       "interactive(children=(IntSlider(value=0, description='max_level', max=10), Output()), _dom_classes=('widget-in…"
      ]
     },
     "metadata": {},
     "output_type": "display_data"
    }
   ],
   "source": [
    "interactive(plot_reconstruction_fourier, x = fixed(x), y=fixed(y), coeffs=fixed(coeffs), max_level=(0,nLevels))"
   ]
  },
  {
   "cell_type": "markdown",
   "metadata": {
    "id": "I6NfSWjM1z34"
   },
   "source": [
    "## Scaling Functions"
   ]
  },
  {
   "cell_type": "code",
   "execution_count": 22,
   "metadata": {
    "executionInfo": {
     "elapsed": 138,
     "status": "ok",
     "timestamp": 1647546050161,
     "user": {
      "displayName": "Eva Alonso",
      "photoUrl": "https://lh3.googleusercontent.com/a-/AOh14GhLM2zWWbwTtD8-EJqYjy1S1EDUu2-SgI4x2H-sOw=s64",
      "userId": "01143959102600730072"
     },
     "user_tz": 240
    },
    "id": "-jEpmtMZ1z35"
   },
   "outputs": [],
   "source": [
    "def get_scalingFunction(a, b, wavelet='haar', nSupport=1):\n",
    "    phi_0, psi_0, x_0 = pywt.DiscreteContinuousWavelet(wavelet).wavefun(level=8)\n",
    "    f = interp1d(x_0, phi_0, kind='linear', fill_value=0, bounds_error=False)\n",
    "    w = x_0[-1] - x_0[0]\n",
    "    xmin = x_0[0] - nSupport*w\n",
    "    xmax = x_0[-1] + nSupport*w\n",
    "    nSteps = int((2*nSupport + 1) * len(x_0))\n",
    "    x = np.linspace(xmin, xmax, nSteps)\n",
    "    phi = 2**(a/2.0)*f(2**a*x - b)\n",
    "    return phi, x \n",
    "\n",
    "def display_scalingFunction(j_scale=0,k_translate=0,wavelet='haar'):\n",
    "    phi, x = get_scalingFunction(j_scale, k_translate, wavelet)\n",
    "    #plt.figure(figsize=(8,5))\n",
    "    plt.fill_between(x, phi);\n",
    "    plt.plot(x, phi, color='k');\n",
    "    plt.axhline(0, color='k', alpha=0.5)\n",
    "    plt.axvline(0, color='k', alpha=0.5)\n",
    "    plt.title(r'$\\varphi_{%d,%d}(x)$' % (j_scale, k_translate), y=1.05)\n",
    "    #plt.show()"
   ]
  },
  {
   "cell_type": "code",
   "execution_count": 23,
   "metadata": {
    "colab": {
     "base_uri": "https://localhost:8080/",
     "height": 681,
     "referenced_widgets": [
      "a02f69fe888447fd92a884461fc5bc6a",
      "122ef93ae1f94cfc9cbb604f8ff47210",
      "355807cf96de4f49b82ffb62ed940f51",
      "91e75a92fb7f4b54a0a7736d14587ce5",
      "d7bc3ae25077485395dddbc27f4f1a09",
      "16b87451eb334e00bef2a94c6aed6b85",
      "d649ce4e0b9b45759c4382bfafda0d9d",
      "fca20e62ca25410ea154e8d6b438d706",
      "4c8d31e853a7472690d13ed8ab40bef5",
      "7789b38ac47241edb9394824f6a6ddf7",
      "189d1732385148b090b0a83b57ba8ba9",
      "e1f381f831334903b060d86ebe11b0dc",
      "70303fe32c394e90857e9f5bad0fa5d3"
     ]
    },
    "executionInfo": {
     "elapsed": 312,
     "status": "ok",
     "timestamp": 1647546050462,
     "user": {
      "displayName": "Eva Alonso",
      "photoUrl": "https://lh3.googleusercontent.com/a-/AOh14GhLM2zWWbwTtD8-EJqYjy1S1EDUu2-SgI4x2H-sOw=s64",
      "userId": "01143959102600730072"
     },
     "user_tz": 240
    },
    "id": "ig889Pax1z35",
    "outputId": "d6c3ebff-f7a9-45c3-8d0d-2d5593123ea8"
   },
   "outputs": [
    {
     "data": {
      "application/vnd.jupyter.widget-view+json": {
       "model_id": "a02f69fe888447fd92a884461fc5bc6a",
       "version_major": 2,
       "version_minor": 0
      },
      "text/plain": [
       "interactive(children=(IntSlider(value=0, description='j_scale', max=4), IntSlider(value=0, description='k_tran…"
      ]
     },
     "metadata": {},
     "output_type": "display_data"
    }
   ],
   "source": [
    "waveletList = ['haar', 'db2', 'db3', 'db4', 'sym2', 'sym3']\n",
    "interactive(display_scalingFunction, j_scale=(0,4), k_translate=(-10,10), wavelet=waveletList)"
   ]
  },
  {
   "cell_type": "markdown",
   "metadata": {
    "collapsed": true,
    "id": "MUKjIqWv1z35"
   },
   "source": [
    "## Wavelet functions"
   ]
  },
  {
   "cell_type": "code",
   "execution_count": 24,
   "metadata": {
    "executionInfo": {
     "elapsed": 4,
     "status": "ok",
     "timestamp": 1647546050463,
     "user": {
      "displayName": "Eva Alonso",
      "photoUrl": "https://lh3.googleusercontent.com/a-/AOh14GhLM2zWWbwTtD8-EJqYjy1S1EDUu2-SgI4x2H-sOw=s64",
      "userId": "01143959102600730072"
     },
     "user_tz": 240
    },
    "id": "neHrUnrF1z35"
   },
   "outputs": [],
   "source": [
    "def get_waveletFunction(a, b, wavelet='haar', nSupport=1):\n",
    "    phi_0, psi_0, x_0 = pywt.DiscreteContinuousWavelet(wavelet).wavefun(level=8)\n",
    "    f = interp1d(x_0, psi_0, kind='linear', fill_value=0, bounds_error=False)\n",
    "    w = x_0[-1] - x_0[0]\n",
    "    xmin = x_0[0] - nSupport*w\n",
    "    xmax = x_0[-1] + nSupport*w\n",
    "    nSteps = int((2*nSupport + 1) * len(x_0))\n",
    "    x = np.linspace(xmin, xmax, nSteps)\n",
    "    psi = 2**(a/2.0)*f(2**a*x - b)\n",
    "    return psi, x \n",
    "\n",
    "def display_waveletFunction(j_scale=0,k_translate=0,wavelet='haar'):\n",
    "    psi, x = get_waveletFunction(j_scale, k_translate, wavelet)\n",
    "    #plt.figure(figsize=(8,5))\n",
    "    plt.fill_between(x, psi);\n",
    "    plt.plot(x, psi, color='k');\n",
    "    plt.axhline(0, color='k', alpha=0.5)\n",
    "    plt.axvline(0, color='k', alpha=0.5)\n",
    "    plt.title(r'$\\psi_{%d,%d}(x)$' % (j_scale, k_translate), y=1.05)\n",
    "    #plt.show()"
   ]
  },
  {
   "cell_type": "code",
   "execution_count": 25,
   "metadata": {
    "colab": {
     "base_uri": "https://localhost:8080/",
     "height": 681,
     "referenced_widgets": [
      "5bcb923b5da342e0b5ea06c03fa5e384",
      "e4ded65334004a93ab9d4fd0b6498a1b",
      "028751d415264d538882bf7fcd414c77",
      "ed5fbb90758c41b9b1a51bbd916f3b9f",
      "5fe097a421fa4090ab7389c605dd7ce5",
      "4276e452ac784e8ba2449b5f6e247d59",
      "ae1424e1c6ad434bbe7491e285c054fe",
      "9f9dc64228d247e9939f333093d273ba",
      "1cd284665ea848558b2adbf4b3c26af6",
      "252f36c3ab3a49b092a390fcc93ab8f2",
      "04ed4ab755cd4c0fae3b6d14ef3e6a95",
      "a4136bc01f784fdc83124d07e00cf92e",
      "8b94f31240944d7bac365d30149ba818"
     ]
    },
    "executionInfo": {
     "elapsed": 547,
     "status": "ok",
     "timestamp": 1647546051218,
     "user": {
      "displayName": "Eva Alonso",
      "photoUrl": "https://lh3.googleusercontent.com/a-/AOh14GhLM2zWWbwTtD8-EJqYjy1S1EDUu2-SgI4x2H-sOw=s64",
      "userId": "01143959102600730072"
     },
     "user_tz": 240
    },
    "id": "OUV1JXGL1z35",
    "outputId": "c72d4fae-bd3a-4398-daee-bd0e4a964d98"
   },
   "outputs": [
    {
     "data": {
      "application/vnd.jupyter.widget-view+json": {
       "model_id": "5bcb923b5da342e0b5ea06c03fa5e384",
       "version_major": 2,
       "version_minor": 0
      },
      "text/plain": [
       "interactive(children=(IntSlider(value=0, description='j_scale', max=4), IntSlider(value=0, description='k_tran…"
      ]
     },
     "metadata": {},
     "output_type": "display_data"
    }
   ],
   "source": [
    "waveletList = ['haar', 'db2', 'db3', 'db4', 'sym2', 'sym3']\n",
    "interactive(display_waveletFunction, j_scale=(0,4), k_translate=(-10,10), wavelet=waveletList)"
   ]
  },
  {
   "cell_type": "markdown",
   "metadata": {
    "id": "62YTbOsw1z35"
   },
   "source": [
    "## Example : Decomposition using the Haar Wavelet Basis"
   ]
  },
  {
   "cell_type": "markdown",
   "metadata": {
    "id": "Fj7gGmiV1z36"
   },
   "source": [
    "\\begin{equation}\n",
    "f(x) = \\sum_{k} c_{j_0}(k) \\varphi_{j_0,k}(x) + \\sum_{j\\geq j_0}\\sum_{k} d_j(x)\\psi_{j,k}(x)\n",
    "\\end{equation}"
   ]
  },
  {
   "cell_type": "markdown",
   "metadata": {
    "id": "3nzsiC001z36"
   },
   "source": [
    "** Scaling coefficients **\n",
    "\\begin{equation}\n",
    "c_{j_0}(k) = \\langle f(x), \\varphi_{j_0,l}(x)\\rangle = \\int f(x) \\varphi^*_{j_0, k}(x) dx\n",
    "\\end{equation}\n",
    "\n",
    "** Wavelet coefficients **\n",
    "\\begin{equation}\n",
    "d_{j}(k) = \\langle f(x), \\psi_{j,l}(x)\\rangle = \\int f(x) \\psi^*_{j, k}(x) dx\n",
    "\\end{equation}"
   ]
  },
  {
   "cell_type": "markdown",
   "metadata": {
    "id": "_De5MdWH1z36"
   },
   "source": [
    "## Original signal, and Haar scaling and wavelet functions"
   ]
  },
  {
   "cell_type": "code",
   "execution_count": 26,
   "metadata": {
    "colab": {
     "base_uri": "https://localhost:8080/",
     "height": 369
    },
    "executionInfo": {
     "elapsed": 842,
     "status": "ok",
     "timestamp": 1647546052057,
     "user": {
      "displayName": "Eva Alonso",
      "photoUrl": "https://lh3.googleusercontent.com/a-/AOh14GhLM2zWWbwTtD8-EJqYjy1S1EDUu2-SgI4x2H-sOw=s64",
      "userId": "01143959102600730072"
     },
     "user_tz": 240
    },
    "id": "RXZYbDyI1z36",
    "outputId": "15137018-3424-4017-d613-1d820d55d973"
   },
   "outputs": [
    {
     "data": {
      "image/png": "[encoded data removed]",
      "text/plain": [
       "<Figure size 1152x360 with 3 Axes>"
      ]
     },
     "metadata": {
      "needs_background": "light"
     },
     "output_type": "display_data"
    }
   ],
   "source": [
    "plt.figure(figsize=(16,5))\n",
    "j = 0; k = 0;\n",
    "plt.subplot(131); plt.plot(x,y); plt.title('Original Signal')\n",
    "plt.subplot(132); display_scalingFunction(j,k)\n",
    "plt.subplot(133); display_waveletFunction(j,k)\n",
    "plt.show()"
   ]
  },
  {
   "cell_type": "code",
   "execution_count": 27,
   "metadata": {
    "executionInfo": {
     "elapsed": 9,
     "status": "ok",
     "timestamp": 1647546052058,
     "user": {
      "displayName": "Eva Alonso",
      "photoUrl": "https://lh3.googleusercontent.com/a-/AOh14GhLM2zWWbwTtD8-EJqYjy1S1EDUu2-SgI4x2H-sOw=s64",
      "userId": "01143959102600730072"
     },
     "user_tz": 240
    },
    "id": "GsD4zeWD1z36"
   },
   "outputs": [],
   "source": [
    "## Wavelet decomposition and reconstruction\n",
    "def plot_reconstruction_haar(x, y, wavelet = 'haar', level=0):\n",
    "    coeffs = pywt.wavedec(y, wavelet)\n",
    "    signal = None\n",
    "    plt.figure(figsize=(8,5))\n",
    "    coeffs_recons = list()\n",
    "    for k in range(len(coeffs)):\n",
    "        if k > level+1:\n",
    "            coeffs_recons.append(np.zeros(len(coeffs[k])))\n",
    "        else:\n",
    "            coeffs_recons.append(coeffs[k])\n",
    "    signal = pywt.waverec(coeffs_recons, wavelet)\n",
    "    plt.plot(x, y, color='b', label=r'$f(x)$')\n",
    "    plt.plot(x, signal, color='r', label=r'$\\frac{1}{N}\\sum_k \\alpha_k \\phi_k(x)$')\n",
    "    plt.hlines(0, 0, 1, color='k', linewidth=2, linestyle='dashed')\n",
    "    plt.xlim([0, 1]); plt.xlabel('x')\n",
    "    plt.legend()\n",
    "    plt.title(r\"$|j| \\leq %d$\" % level, y=1.04)\n",
    "    plt.show() "
   ]
  },
  {
   "cell_type": "code",
   "execution_count": 28,
   "metadata": {
    "colab": {
     "base_uri": "https://localhost:8080/",
     "height": 452,
     "referenced_widgets": [
      "bc3113c0b637435ca79161adf6b9ac92",
      "a9a3948bde444bfaa44ddad3263e5c6e",
      "c6604789f0d04accbdde72a85c6ab73e",
      "afc050727e674bf6b4dac74c920016a9",
      "ac3596592ee042baa91354269d1b6679",
      "d2b3bac04bd24e5b804d9ae58bb86f2f",
      "4ce85256cfbe4e03bd902a192b3facaa",
      "78364c1fb88d4d8ab5ed04328d7d9c73",
      "5fbc99c9f1264ded8d971eae08ee9e63",
      "e2ce3be096f24d4c858550ad87b7e45b"
     ]
    },
    "executionInfo": {
     "elapsed": 816,
     "status": "ok",
     "timestamp": 1647546052866,
     "user": {
      "displayName": "Eva Alonso",
      "photoUrl": "https://lh3.googleusercontent.com/a-/AOh14GhLM2zWWbwTtD8-EJqYjy1S1EDUu2-SgI4x2H-sOw=s64",
      "userId": "01143959102600730072"
     },
     "user_tz": 240
    },
    "id": "oR1uuzB51z36",
    "outputId": "14ea2950-9bea-47b0-e315-8c2ffe39e75b"
   },
   "outputs": [
    {
     "data": {
      "application/vnd.jupyter.widget-view+json": {
       "model_id": "bc3113c0b637435ca79161adf6b9ac92",
       "version_major": 2,
       "version_minor": 0
      },
      "text/plain": [
       "interactive(children=(Dropdown(description='wavelet', options=('haar', 'db2', 'sym2'), value='haar'), IntSlide…"
      ]
     },
     "metadata": {},
     "output_type": "display_data"
    }
   ],
   "source": [
    "waveletList = ['haar', 'db2', 'sym2']\n",
    "interactive(plot_reconstruction_haar, x = fixed(x), y=fixed(y), level=(0,8), wavelet=waveletList)"
   ]
  }
 ],
 "metadata": {
  "celltoolbar": "Slideshow",
  "colab": {
   "collapsed_sections": [],
   "name": "Demo_1DSignalDecomposition.ipynb",
   "provenance": []
  },
  "kernelspec": {
   "display_name": "Python 3",
   "language": "python",
   "name": "python3"
  },
  "language_info": {
   "codemirror_mode": {
    "name": "ipython",
    "version": 3
   },
   "file_extension": ".py",
   "mimetype": "text/x-python",
   "name": "python",
   "nbconvert_exporter": "python",
   "pygments_lexer": "ipython3",
   "version": "3.8.8"
  },
  "widgets": {
   "application/vnd.jupyter.widget-state+json": {
    "028751d415264d538882bf7fcd414c77": {
     "model_module": "@jupyter-widgets/controls",
     "model_module_version": "1.5.0",
     "model_name": "IntSliderModel",
     "state": {
      "_dom_classes": [],
      "_model_module": "@jupyter-widgets/controls",
      "_model_module_version": "1.5.0",
      "_model_name": "IntSliderModel",
      "_view_count": null,
      "_view_module": "@jupyter-widgets/controls",
      "_view_module_version": "1.5.0",
      "_view_name": "IntSliderView",
      "continuous_update": true,
      "description": "k_translate",
      "description_tooltip": null,
      "disabled": false,
      "layout": "IPY_MODEL_1cd284665ea848558b2adbf4b3c26af6",
      "max": 10,
      "min": -10,
      "orientation": "horizontal",
      "readout": true,
      "readout_format": "d",
      "step": 1,
      "style": "IPY_MODEL_252f36c3ab3a49b092a390fcc93ab8f2",
      "value": 0
     }
    },
    "04ed4ab755cd4c0fae3b6d14ef3e6a95": {
     "model_module": "@jupyter-widgets/base",
     "model_module_version": "1.2.0",
     "model_name": "LayoutModel",
     "state": {
      "_model_module": "@jupyter-widgets/base",
      "_model_module_version": "1.2.0",
      "_model_name": "LayoutModel",
      "_view_count": null,
      "_view_module": "@jupyter-widgets/base",
      "_view_module_version": "1.2.0",
      "_view_name": "LayoutView",
      "align_content": null,
      "align_items": null,
      "align_self": null,
      "border": null,
      "bottom": null,
      "display": null,
      "flex": null,
      "flex_flow": null,
      "grid_area": null,
      "grid_auto_columns": null,
      "grid_auto_flow": null,
      "grid_auto_rows": null,
      "grid_column": null,
      "grid_gap": null,
      "grid_row": null,
      "grid_template_areas": null,
      "grid_template_columns": null,
      "grid_template_rows": null,
      "height": null,
      "justify_content": null,
      "justify_items": null,
      "left": null,
      "margin": null,
      "max_height": null,
      "max_width": null,
      "min_height": null,
      "min_width": null,
      "object_fit": null,
      "object_position": null,
      "order": null,
      "overflow": null,
      "overflow_x": null,
      "overflow_y": null,
      "padding": null,
      "right": null,
      "top": null,
      "visibility": null,
      "width": null
     }
    },
    "122ef93ae1f94cfc9cbb604f8ff47210": {
     "model_module": "@jupyter-widgets/controls",
     "model_module_version": "1.5.0",
     "model_name": "IntSliderModel",
     "state": {
      "_dom_classes": [],
      "_model_module": "@jupyter-widgets/controls",
      "_model_module_version": "1.5.0",
      "_model_name": "IntSliderModel",
      "_view_count": null,
      "_view_module": "@jupyter-widgets/controls",
      "_view_module_version": "1.5.0",
      "_view_name": "IntSliderView",
      "continuous_update": true,
      "description": "j_scale",
      "description_tooltip": null,
      "disabled": false,
      "layout": "IPY_MODEL_d649ce4e0b9b45759c4382bfafda0d9d",
      "max": 4,
      "min": 0,
      "orientation": "horizontal",
      "readout": true,
      "readout_format": "d",
      "step": 1,
      "style": "IPY_MODEL_fca20e62ca25410ea154e8d6b438d706",
      "value": 0
     }
    },
    "16b87451eb334e00bef2a94c6aed6b85": {
     "model_module": "@jupyter-widgets/base",
     "model_module_version": "1.2.0",
     "model_name": "LayoutModel",
     "state": {
      "_model_module": "@jupyter-widgets/base",
      "_model_module_version": "1.2.0",
      "_model_name": "LayoutModel",
      "_view_count": null,
      "_view_module": "@jupyter-widgets/base",
      "_view_module_version": "1.2.0",
      "_view_name": "LayoutView",
      "align_content": null,
      "align_items": null,
      "align_self": null,
      "border": null,
      "bottom": null,
      "display": null,
      "flex": null,
      "flex_flow": null,
      "grid_area": null,
      "grid_auto_columns": null,
      "grid_auto_flow": null,
      "grid_auto_rows": null,
      "grid_column": null,
      "grid_gap": null,
      "grid_row": null,
      "grid_template_areas": null,
      "grid_template_columns": null,
      "grid_template_rows": null,
      "height": null,
      "justify_content": null,
      "justify_items": null,
      "left": null,
      "margin": null,
      "max_height": null,
      "max_width": null,
      "min_height": null,
      "min_width": null,
      "object_fit": null,
      "object_position": null,
      "order": null,
      "overflow": null,
      "overflow_x": null,
      "overflow_y": null,
      "padding": null,
      "right": null,
      "top": null,
      "visibility": null,
      "width": null
     }
    },
    "189d1732385148b090b0a83b57ba8ba9": {
     "model_module": "@jupyter-widgets/base",
     "model_module_version": "1.2.0",
     "model_name": "LayoutModel",
     "state": {
      "_model_module": "@jupyter-widgets/base",
      "_model_module_version": "1.2.0",
      "_model_name": "LayoutModel",
      "_view_count": null,
      "_view_module": "@jupyter-widgets/base",
      "_view_module_version": "1.2.0",
      "_view_name": "LayoutView",
      "align_content": null,
      "align_items": null,
      "align_self": null,
      "border": null,
      "bottom": null,
      "display": null,
      "flex": null,
      "flex_flow": null,
      "grid_area": null,
      "grid_auto_columns": null,
      "grid_auto_flow": null,
      "grid_auto_rows": null,
      "grid_column": null,
      "grid_gap": null,
      "grid_row": null,
      "grid_template_areas": null,
      "grid_template_columns": null,
      "grid_template_rows": null,
      "height": null,
      "justify_content": null,
      "justify_items": null,
      "left": null,
      "margin": null,
      "max_height": null,
      "max_width": null,
      "min_height": null,
      "min_width": null,
      "object_fit": null,
      "object_position": null,
      "order": null,
      "overflow": null,
      "overflow_x": null,
      "overflow_y": null,
      "padding": null,
      "right": null,
      "top": null,
      "visibility": null,
      "width": null
     }
    },
    "1cd284665ea848558b2adbf4b3c26af6": {
     "model_module": "@jupyter-widgets/base",
     "model_module_version": "1.2.0",
     "model_name": "LayoutModel",
     "state": {
      "_model_module": "@jupyter-widgets/base",
      "_model_module_version": "1.2.0",
      "_model_name": "LayoutModel",
      "_view_count": null,
      "_view_module": "@jupyter-widgets/base",
      "_view_module_version": "1.2.0",
      "_view_name": "LayoutView",
      "align_content": null,
      "align_items": null,
      "align_self": null,
      "border": null,
      "bottom": null,
      "display": null,
      "flex": null,
      "flex_flow": null,
      "grid_area": null,
      "grid_auto_columns": null,
      "grid_auto_flow": null,
      "grid_auto_rows": null,
      "grid_column": null,
      "grid_gap": null,
      "grid_row": null,
      "grid_template_areas": null,
      "grid_template_columns": null,
      "grid_template_rows": null,
      "height": null,
      "justify_content": null,
      "justify_items": null,
      "left": null,
      "margin": null,
      "max_height": null,
      "max_width": null,
      "min_height": null,
      "min_width": null,
      "object_fit": null,
      "object_position": null,
      "order": null,
      "overflow": null,
      "overflow_x": null,
      "overflow_y": null,
      "padding": null,
      "right": null,
      "top": null,
      "visibility": null,
      "width": null
     }
    },
    "252f36c3ab3a49b092a390fcc93ab8f2": {
     "model_module": "@jupyter-widgets/controls",
     "model_module_version": "1.5.0",
     "model_name": "SliderStyleModel",
     "state": {
      "_model_module": "@jupyter-widgets/controls",
      "_model_module_version": "1.5.0",
      "_model_name": "SliderStyleModel",
      "_view_count": null,
      "_view_module": "@jupyter-widgets/base",
      "_view_module_version": "1.2.0",
      "_view_name": "StyleView",
      "description_width": "",
      "handle_color": null
     }
    },
    "355807cf96de4f49b82ffb62ed940f51": {
     "model_module": "@jupyter-widgets/controls",
     "model_module_version": "1.5.0",
     "model_name": "IntSliderModel",
     "state": {
      "_dom_classes": [],
      "_model_module": "@jupyter-widgets/controls",
      "_model_module_version": "1.5.0",
      "_model_name": "IntSliderModel",
      "_view_count": null,
      "_view_module": "@jupyter-widgets/controls",
      "_view_module_version": "1.5.0",
      "_view_name": "IntSliderView",
      "continuous_update": true,
      "description": "k_translate",
      "description_tooltip": null,
      "disabled": false,
      "layout": "IPY_MODEL_4c8d31e853a7472690d13ed8ab40bef5",
      "max": 10,
      "min": -10,
      "orientation": "horizontal",
      "readout": true,
      "readout_format": "d",
      "step": 1,
      "style": "IPY_MODEL_7789b38ac47241edb9394824f6a6ddf7",
      "value": 0
     }
    },
    "3e16cd7b862d4003ba74aea644fd18c2": {
     "model_module": "@jupyter-widgets/controls",
     "model_module_version": "1.5.0",
     "model_name": "SliderStyleModel",
     "state": {
      "_model_module": "@jupyter-widgets/controls",
      "_model_module_version": "1.5.0",
      "_model_name": "SliderStyleModel",
      "_view_count": null,
      "_view_module": "@jupyter-widgets/base",
      "_view_module_version": "1.2.0",
      "_view_name": "StyleView",
      "description_width": "",
      "handle_color": null
     }
    },
    "4276e452ac784e8ba2449b5f6e247d59": {
     "model_module": "@jupyter-widgets/base",
     "model_module_version": "1.2.0",
     "model_name": "LayoutModel",
     "state": {
      "_model_module": "@jupyter-widgets/base",
      "_model_module_version": "1.2.0",
      "_model_name": "LayoutModel",
      "_view_count": null,
      "_view_module": "@jupyter-widgets/base",
      "_view_module_version": "1.2.0",
      "_view_name": "LayoutView",
      "align_content": null,
      "align_items": null,
      "align_self": null,
      "border": null,
      "bottom": null,
      "display": null,
      "flex": null,
      "flex_flow": null,
      "grid_area": null,
      "grid_auto_columns": null,
      "grid_auto_flow": null,
      "grid_auto_rows": null,
      "grid_column": null,
      "grid_gap": null,
      "grid_row": null,
      "grid_template_areas": null,
      "grid_template_columns": null,
      "grid_template_rows": null,
      "height": null,
      "justify_content": null,
      "justify_items": null,
      "left": null,
      "margin": null,
      "max_height": null,
      "max_width": null,
      "min_height": null,
      "min_width": null,
      "object_fit": null,
      "object_position": null,
      "order": null,
      "overflow": null,
      "overflow_x": null,
      "overflow_y": null,
      "padding": null,
      "right": null,
      "top": null,
      "visibility": null,
      "width": null
     }
    },
    "47190ce2f4ab437ab457f0f00b7c0081": {
     "model_module": "@jupyter-widgets/output",
     "model_module_version": "1.0.0",
     "model_name": "OutputModel",
     "state": {
      "_dom_classes": [],
      "_model_module": "@jupyter-widgets/output",
      "_model_module_version": "1.0.0",
      "_model_name": "OutputModel",
      "_view_count": null,
      "_view_module": "@jupyter-widgets/output",
      "_view_module_version": "1.0.0",
      "_view_name": "OutputView",
      "layout": "IPY_MODEL_b4d596119fcc441cbc92836553d97f43",
      "msg_id": "",
      "outputs": [
       {
        "data": {
         "image/png": "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\n",
         "text/plain": "<Figure size 576x360 with 1 Axes>"
        },
        "metadata": {
         "needs_background": "light"
        },
        "output_type": "display_data"
       }
      ]
     }
    },
    "4c8d31e853a7472690d13ed8ab40bef5": {
     "model_module": "@jupyter-widgets/base",
     "model_module_version": "1.2.0",
     "model_name": "LayoutModel",
     "state": {
      "_model_module": "@jupyter-widgets/base",
      "_model_module_version": "1.2.0",
      "_model_name": "LayoutModel",
      "_view_count": null,
      "_view_module": "@jupyter-widgets/base",
      "_view_module_version": "1.2.0",
      "_view_name": "LayoutView",
      "align_content": null,
      "align_items": null,
      "align_self": null,
      "border": null,
      "bottom": null,
      "display": null,
      "flex": null,
      "flex_flow": null,
      "grid_area": null,
      "grid_auto_columns": null,
      "grid_auto_flow": null,
      "grid_auto_rows": null,
      "grid_column": null,
      "grid_gap": null,
      "grid_row": null,
      "grid_template_areas": null,
      "grid_template_columns": null,
      "grid_template_rows": null,
      "height": null,
      "justify_content": null,
      "justify_items": null,
      "left": null,
      "margin": null,
      "max_height": null,
      "max_width": null,
      "min_height": null,
      "min_width": null,
      "object_fit": null,
      "object_position": null,
      "order": null,
      "overflow": null,
      "overflow_x": null,
      "overflow_y": null,
      "padding": null,
      "right": null,
      "top": null,
      "visibility": null,
      "width": null
     }
    },
    "4ce85256cfbe4e03bd902a192b3facaa": {
     "model_module": "@jupyter-widgets/controls",
     "model_module_version": "1.5.0",
     "model_name": "DescriptionStyleModel",
     "state": {
      "_model_module": "@jupyter-widgets/controls",
      "_model_module_version": "1.5.0",
      "_model_name": "DescriptionStyleModel",
      "_view_count": null,
      "_view_module": "@jupyter-widgets/base",
      "_view_module_version": "1.2.0",
      "_view_name": "StyleView",
      "description_width": ""
     }
    },
    "5bcb923b5da342e0b5ea06c03fa5e384": {
     "model_module": "@jupyter-widgets/controls",
     "model_module_version": "1.5.0",
     "model_name": "VBoxModel",
     "state": {
      "_dom_classes": [
       "widget-interact"
      ],
      "_model_module": "@jupyter-widgets/controls",
      "_model_module_version": "1.5.0",
      "_model_name": "VBoxModel",
      "_view_count": null,
      "_view_module": "@jupyter-widgets/controls",
      "_view_module_version": "1.5.0",
      "_view_name": "VBoxView",
      "box_style": "",
      "children": [
       "IPY_MODEL_e4ded65334004a93ab9d4fd0b6498a1b",
       "IPY_MODEL_028751d415264d538882bf7fcd414c77",
       "IPY_MODEL_ed5fbb90758c41b9b1a51bbd916f3b9f",
       "IPY_MODEL_5fe097a421fa4090ab7389c605dd7ce5"
      ],
      "layout": "IPY_MODEL_4276e452ac784e8ba2449b5f6e247d59"
     }
    },
    "5fbc99c9f1264ded8d971eae08ee9e63": {
     "model_module": "@jupyter-widgets/controls",
     "model_module_version": "1.5.0",
     "model_name": "SliderStyleModel",
     "state": {
      "_model_module": "@jupyter-widgets/controls",
      "_model_module_version": "1.5.0",
      "_model_name": "SliderStyleModel",
      "_view_count": null,
      "_view_module": "@jupyter-widgets/base",
      "_view_module_version": "1.2.0",
      "_view_name": "StyleView",
      "description_width": "",
      "handle_color": null
     }
    },
    "5fe097a421fa4090ab7389c605dd7ce5": {
     "model_module": "@jupyter-widgets/output",
     "model_module_version": "1.0.0",
     "model_name": "OutputModel",
     "state": {
      "_dom_classes": [],
      "_model_module": "@jupyter-widgets/output",
      "_model_module_version": "1.0.0",
      "_model_name": "OutputModel",
      "_view_count": null,
      "_view_module": "@jupyter-widgets/output",
      "_view_module_version": "1.0.0",
      "_view_name": "OutputView",
      "layout": "IPY_MODEL_8b94f31240944d7bac365d30149ba818",
      "msg_id": "",
      "outputs": [
       {
        "data": {
         "image/png": "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\n",
         "text/plain": "<Figure size 921.6x633.6 with 1 Axes>"
        },
        "metadata": {
         "needs_background": "light"
        },
        "output_type": "display_data"
       }
      ]
     }
    },
    "70303fe32c394e90857e9f5bad0fa5d3": {
     "model_module": "@jupyter-widgets/base",
     "model_module_version": "1.2.0",
     "model_name": "LayoutModel",
     "state": {
      "_model_module": "@jupyter-widgets/base",
      "_model_module_version": "1.2.0",
      "_model_name": "LayoutModel",
      "_view_count": null,
      "_view_module": "@jupyter-widgets/base",
      "_view_module_version": "1.2.0",
      "_view_name": "LayoutView",
      "align_content": null,
      "align_items": null,
      "align_self": null,
      "border": null,
      "bottom": null,
      "display": null,
      "flex": null,
      "flex_flow": null,
      "grid_area": null,
      "grid_auto_columns": null,
      "grid_auto_flow": null,
      "grid_auto_rows": null,
      "grid_column": null,
      "grid_gap": null,
      "grid_row": null,
      "grid_template_areas": null,
      "grid_template_columns": null,
      "grid_template_rows": null,
      "height": null,
      "justify_content": null,
      "justify_items": null,
      "left": null,
      "margin": null,
      "max_height": null,
      "max_width": null,
      "min_height": null,
      "min_width": null,
      "object_fit": null,
      "object_position": null,
      "order": null,
      "overflow": null,
      "overflow_x": null,
      "overflow_y": null,
      "padding": null,
      "right": null,
      "top": null,
      "visibility": null,
      "width": null
     }
    },
    "7789b38ac47241edb9394824f6a6ddf7": {
     "model_module": "@jupyter-widgets/controls",
     "model_module_version": "1.5.0",
     "model_name": "SliderStyleModel",
     "state": {
      "_model_module": "@jupyter-widgets/controls",
      "_model_module_version": "1.5.0",
      "_model_name": "SliderStyleModel",
      "_view_count": null,
      "_view_module": "@jupyter-widgets/base",
      "_view_module_version": "1.2.0",
      "_view_name": "StyleView",
      "description_width": "",
      "handle_color": null
     }
    },
    "781cd8f525f641e4be4a75bbf2dca4e3": {
     "model_module": "@jupyter-widgets/base",
     "model_module_version": "1.2.0",
     "model_name": "LayoutModel",
     "state": {
      "_model_module": "@jupyter-widgets/base",
      "_model_module_version": "1.2.0",
      "_model_name": "LayoutModel",
      "_view_count": null,
      "_view_module": "@jupyter-widgets/base",
      "_view_module_version": "1.2.0",
      "_view_name": "LayoutView",
      "align_content": null,
      "align_items": null,
      "align_self": null,
      "border": null,
      "bottom": null,
      "display": null,
      "flex": null,
      "flex_flow": null,
      "grid_area": null,
      "grid_auto_columns": null,
      "grid_auto_flow": null,
      "grid_auto_rows": null,
      "grid_column": null,
      "grid_gap": null,
      "grid_row": null,
      "grid_template_areas": null,
      "grid_template_columns": null,
      "grid_template_rows": null,
      "height": null,
      "justify_content": null,
      "justify_items": null,
      "left": null,
      "margin": null,
      "max_height": null,
      "max_width": null,
      "min_height": null,
      "min_width": null,
      "object_fit": null,
      "object_position": null,
      "order": null,
      "overflow": null,
      "overflow_x": null,
      "overflow_y": null,
      "padding": null,
      "right": null,
      "top": null,
      "visibility": null,
      "width": null
     }
    },
    "78364c1fb88d4d8ab5ed04328d7d9c73": {
     "model_module": "@jupyter-widgets/base",
     "model_module_version": "1.2.0",
     "model_name": "LayoutModel",
     "state": {
      "_model_module": "@jupyter-widgets/base",
      "_model_module_version": "1.2.0",
      "_model_name": "LayoutModel",
      "_view_count": null,
      "_view_module": "@jupyter-widgets/base",
      "_view_module_version": "1.2.0",
      "_view_name": "LayoutView",
      "align_content": null,
      "align_items": null,
      "align_self": null,
      "border": null,
      "bottom": null,
      "display": null,
      "flex": null,
      "flex_flow": null,
      "grid_area": null,
      "grid_auto_columns": null,
      "grid_auto_flow": null,
      "grid_auto_rows": null,
      "grid_column": null,
      "grid_gap": null,
      "grid_row": null,
      "grid_template_areas": null,
      "grid_template_columns": null,
      "grid_template_rows": null,
      "height": null,
      "justify_content": null,
      "justify_items": null,
      "left": null,
      "margin": null,
      "max_height": null,
      "max_width": null,
      "min_height": null,
      "min_width": null,
      "object_fit": null,
      "object_position": null,
      "order": null,
      "overflow": null,
      "overflow_x": null,
      "overflow_y": null,
      "padding": null,
      "right": null,
      "top": null,
      "visibility": null,
      "width": null
     }
    },
    "7cac15aec871439e93b09905022ee6f7": {
     "model_module": "@jupyter-widgets/base",
     "model_module_version": "1.2.0",
     "model_name": "LayoutModel",
     "state": {
      "_model_module": "@jupyter-widgets/base",
      "_model_module_version": "1.2.0",
      "_model_name": "LayoutModel",
      "_view_count": null,
      "_view_module": "@jupyter-widgets/base",
      "_view_module_version": "1.2.0",
      "_view_name": "LayoutView",
      "align_content": null,
      "align_items": null,
      "align_self": null,
      "border": null,
      "bottom": null,
      "display": null,
      "flex": null,
      "flex_flow": null,
      "grid_area": null,
      "grid_auto_columns": null,
      "grid_auto_flow": null,
      "grid_auto_rows": null,
      "grid_column": null,
      "grid_gap": null,
      "grid_row": null,
      "grid_template_areas": null,
      "grid_template_columns": null,
      "grid_template_rows": null,
      "height": null,
      "justify_content": null,
      "justify_items": null,
      "left": null,
      "margin": null,
      "max_height": null,
      "max_width": null,
      "min_height": null,
      "min_width": null,
      "object_fit": null,
      "object_position": null,
      "order": null,
      "overflow": null,
      "overflow_x": null,
      "overflow_y": null,
      "padding": null,
      "right": null,
      "top": null,
      "visibility": null,
      "width": null
     }
    },
    "8b94f31240944d7bac365d30149ba818": {
     "model_module": "@jupyter-widgets/base",
     "model_module_version": "1.2.0",
     "model_name": "LayoutModel",
     "state": {
      "_model_module": "@jupyter-widgets/base",
      "_model_module_version": "1.2.0",
      "_model_name": "LayoutModel",
      "_view_count": null,
      "_view_module": "@jupyter-widgets/base",
      "_view_module_version": "1.2.0",
      "_view_name": "LayoutView",
      "align_content": null,
      "align_items": null,
      "align_self": null,
      "border": null,
      "bottom": null,
      "display": null,
      "flex": null,
      "flex_flow": null,
      "grid_area": null,
      "grid_auto_columns": null,
      "grid_auto_flow": null,
      "grid_auto_rows": null,
      "grid_column": null,
      "grid_gap": null,
      "grid_row": null,
      "grid_template_areas": null,
      "grid_template_columns": null,
      "grid_template_rows": null,
      "height": null,
      "justify_content": null,
      "justify_items": null,
      "left": null,
      "margin": null,
      "max_height": null,
      "max_width": null,
      "min_height": null,
      "min_width": null,
      "object_fit": null,
      "object_position": null,
      "order": null,
      "overflow": null,
      "overflow_x": null,
      "overflow_y": null,
      "padding": null,
      "right": null,
      "top": null,
      "visibility": null,
      "width": null
     }
    },
    "91e75a92fb7f4b54a0a7736d14587ce5": {
     "model_module": "@jupyter-widgets/controls",
     "model_module_version": "1.5.0",
     "model_name": "DropdownModel",
     "state": {
      "_dom_classes": [],
      "_model_module": "@jupyter-widgets/controls",
      "_model_module_version": "1.5.0",
      "_model_name": "DropdownModel",
      "_options_labels": [
       "haar",
       "db2",
       "db3",
       "db4",
       "sym2",
       "sym3"
      ],
      "_view_count": null,
      "_view_module": "@jupyter-widgets/controls",
      "_view_module_version": "1.5.0",
      "_view_name": "DropdownView",
      "description": "wavelet",
      "description_tooltip": null,
      "disabled": false,
      "index": 0,
      "layout": "IPY_MODEL_189d1732385148b090b0a83b57ba8ba9",
      "style": "IPY_MODEL_e1f381f831334903b060d86ebe11b0dc"
     }
    },
    "9524046d4fa441fb983ac17602aabd38": {
     "model_module": "@jupyter-widgets/base",
     "model_module_version": "1.2.0",
     "model_name": "LayoutModel",
     "state": {
      "_model_module": "@jupyter-widgets/base",
      "_model_module_version": "1.2.0",
      "_model_name": "LayoutModel",
      "_view_count": null,
      "_view_module": "@jupyter-widgets/base",
      "_view_module_version": "1.2.0",
      "_view_name": "LayoutView",
      "align_content": null,
      "align_items": null,
      "align_self": null,
      "border": null,
      "bottom": null,
      "display": null,
      "flex": null,
      "flex_flow": null,
      "grid_area": null,
      "grid_auto_columns": null,
      "grid_auto_flow": null,
      "grid_auto_rows": null,
      "grid_column": null,
      "grid_gap": null,
      "grid_row": null,
      "grid_template_areas": null,
      "grid_template_columns": null,
      "grid_template_rows": null,
      "height": null,
      "justify_content": null,
      "justify_items": null,
      "left": null,
      "margin": null,
      "max_height": null,
      "max_width": null,
      "min_height": null,
      "min_width": null,
      "object_fit": null,
      "object_position": null,
      "order": null,
      "overflow": null,
      "overflow_x": null,
      "overflow_y": null,
      "padding": null,
      "right": null,
      "top": null,
      "visibility": null,
      "width": null
     }
    },
    "9f7a5b38ef1b4b5fb69b9e3f77469a4f": {
     "model_module": "@jupyter-widgets/controls",
     "model_module_version": "1.5.0",
     "model_name": "SliderStyleModel",
     "state": {
      "_model_module": "@jupyter-widgets/controls",
      "_model_module_version": "1.5.0",
      "_model_name": "SliderStyleModel",
      "_view_count": null,
      "_view_module": "@jupyter-widgets/base",
      "_view_module_version": "1.2.0",
      "_view_name": "StyleView",
      "description_width": "",
      "handle_color": null
     }
    },
    "9f9dc64228d247e9939f333093d273ba": {
     "model_module": "@jupyter-widgets/controls",
     "model_module_version": "1.5.0",
     "model_name": "SliderStyleModel",
     "state": {
      "_model_module": "@jupyter-widgets/controls",
      "_model_module_version": "1.5.0",
      "_model_name": "SliderStyleModel",
      "_view_count": null,
      "_view_module": "@jupyter-widgets/base",
      "_view_module_version": "1.2.0",
      "_view_name": "StyleView",
      "description_width": "",
      "handle_color": null
     }
    },
    "a02f69fe888447fd92a884461fc5bc6a": {
     "model_module": "@jupyter-widgets/controls",
     "model_module_version": "1.5.0",
     "model_name": "VBoxModel",
     "state": {
      "_dom_classes": [
       "widget-interact"
      ],
      "_model_module": "@jupyter-widgets/controls",
      "_model_module_version": "1.5.0",
      "_model_name": "VBoxModel",
      "_view_count": null,
      "_view_module": "@jupyter-widgets/controls",
      "_view_module_version": "1.5.0",
      "_view_name": "VBoxView",
      "box_style": "",
      "children": [
       "IPY_MODEL_122ef93ae1f94cfc9cbb604f8ff47210",
       "IPY_MODEL_355807cf96de4f49b82ffb62ed940f51",
       "IPY_MODEL_91e75a92fb7f4b54a0a7736d14587ce5",
       "IPY_MODEL_d7bc3ae25077485395dddbc27f4f1a09"
      ],
      "layout": "IPY_MODEL_16b87451eb334e00bef2a94c6aed6b85"
     }
    },
    "a2c01bb34c2f4ecc898a205387efb1c8": {
     "model_module": "@jupyter-widgets/output",
     "model_module_version": "1.0.0",
     "model_name": "OutputModel",
     "state": {
      "_dom_classes": [],
      "_model_module": "@jupyter-widgets/output",
      "_model_module_version": "1.0.0",
      "_model_name": "OutputModel",
      "_view_count": null,
      "_view_module": "@jupyter-widgets/output",
      "_view_module_version": "1.0.0",
      "_view_name": "OutputView",
      "layout": "IPY_MODEL_9524046d4fa441fb983ac17602aabd38",
      "msg_id": "",
      "outputs": [
       {
        "data": {
         "image/png": "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\n",
         "text/plain": "<Figure size 576x360 with 1 Axes>"
        },
        "metadata": {
         "needs_background": "light"
        },
        "output_type": "display_data"
       }
      ]
     }
    },
    "a4136bc01f784fdc83124d07e00cf92e": {
     "model_module": "@jupyter-widgets/controls",
     "model_module_version": "1.5.0",
     "model_name": "DescriptionStyleModel",
     "state": {
      "_model_module": "@jupyter-widgets/controls",
      "_model_module_version": "1.5.0",
      "_model_name": "DescriptionStyleModel",
      "_view_count": null,
      "_view_module": "@jupyter-widgets/base",
      "_view_module_version": "1.2.0",
      "_view_name": "StyleView",
      "description_width": ""
     }
    },
    "a9a3948bde444bfaa44ddad3263e5c6e": {
     "model_module": "@jupyter-widgets/controls",
     "model_module_version": "1.5.0",
     "model_name": "DropdownModel",
     "state": {
      "_dom_classes": [],
      "_model_module": "@jupyter-widgets/controls",
      "_model_module_version": "1.5.0",
      "_model_name": "DropdownModel",
      "_options_labels": [
       "haar",
       "db2",
       "sym2"
      ],
      "_view_count": null,
      "_view_module": "@jupyter-widgets/controls",
      "_view_module_version": "1.5.0",
      "_view_name": "DropdownView",
      "description": "wavelet",
      "description_tooltip": null,
      "disabled": false,
      "index": 1,
      "layout": "IPY_MODEL_d2b3bac04bd24e5b804d9ae58bb86f2f",
      "style": "IPY_MODEL_4ce85256cfbe4e03bd902a192b3facaa"
     }
    },
    "ac3596592ee042baa91354269d1b6679": {
     "model_module": "@jupyter-widgets/base",
     "model_module_version": "1.2.0",
     "model_name": "LayoutModel",
     "state": {
      "_model_module": "@jupyter-widgets/base",
      "_model_module_version": "1.2.0",
      "_model_name": "LayoutModel",
      "_view_count": null,
      "_view_module": "@jupyter-widgets/base",
      "_view_module_version": "1.2.0",
      "_view_name": "LayoutView",
      "align_content": null,
      "align_items": null,
      "align_self": null,
      "border": null,
      "bottom": null,
      "display": null,
      "flex": null,
      "flex_flow": null,
      "grid_area": null,
      "grid_auto_columns": null,
      "grid_auto_flow": null,
      "grid_auto_rows": null,
      "grid_column": null,
      "grid_gap": null,
      "grid_row": null,
      "grid_template_areas": null,
      "grid_template_columns": null,
      "grid_template_rows": null,
      "height": null,
      "justify_content": null,
      "justify_items": null,
      "left": null,
      "margin": null,
      "max_height": null,
      "max_width": null,
      "min_height": null,
      "min_width": null,
      "object_fit": null,
      "object_position": null,
      "order": null,
      "overflow": null,
      "overflow_x": null,
      "overflow_y": null,
      "padding": null,
      "right": null,
      "top": null,
      "visibility": null,
      "width": null
     }
    },
    "ae1424e1c6ad434bbe7491e285c054fe": {
     "model_module": "@jupyter-widgets/base",
     "model_module_version": "1.2.0",
     "model_name": "LayoutModel",
     "state": {
      "_model_module": "@jupyter-widgets/base",
      "_model_module_version": "1.2.0",
      "_model_name": "LayoutModel",
      "_view_count": null,
      "_view_module": "@jupyter-widgets/base",
      "_view_module_version": "1.2.0",
      "_view_name": "LayoutView",
      "align_content": null,
      "align_items": null,
      "align_self": null,
      "border": null,
      "bottom": null,
      "display": null,
      "flex": null,
      "flex_flow": null,
      "grid_area": null,
      "grid_auto_columns": null,
      "grid_auto_flow": null,
      "grid_auto_rows": null,
      "grid_column": null,
      "grid_gap": null,
      "grid_row": null,
      "grid_template_areas": null,
      "grid_template_columns": null,
      "grid_template_rows": null,
      "height": null,
      "justify_content": null,
      "justify_items": null,
      "left": null,
      "margin": null,
      "max_height": null,
      "max_width": null,
      "min_height": null,
      "min_width": null,
      "object_fit": null,
      "object_position": null,
      "order": null,
      "overflow": null,
      "overflow_x": null,
      "overflow_y": null,
      "padding": null,
      "right": null,
      "top": null,
      "visibility": null,
      "width": null
     }
    },
    "afc050727e674bf6b4dac74c920016a9": {
     "model_module": "@jupyter-widgets/output",
     "model_module_version": "1.0.0",
     "model_name": "OutputModel",
     "state": {
      "_dom_classes": [],
      "_model_module": "@jupyter-widgets/output",
      "_model_module_version": "1.0.0",
      "_model_name": "OutputModel",
      "_view_count": null,
      "_view_module": "@jupyter-widgets/output",
      "_view_module_version": "1.0.0",
      "_view_name": "OutputView",
      "layout": "IPY_MODEL_e2ce3be096f24d4c858550ad87b7e45b",
      "msg_id": "",
      "outputs": [
       {
        "data": {
         "image/png": "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\n",
         "text/plain": "<Figure size 576x360 with 1 Axes>"
        },
        "metadata": {
         "needs_background": "light"
        },
        "output_type": "display_data"
       }
      ]
     }
    },
    "b4c9eb89ac79484b913dc859f4ee6aa0": {
     "model_module": "@jupyter-widgets/controls",
     "model_module_version": "1.5.0",
     "model_name": "VBoxModel",
     "state": {
      "_dom_classes": [
       "widget-interact"
      ],
      "_model_module": "@jupyter-widgets/controls",
      "_model_module_version": "1.5.0",
      "_model_name": "VBoxModel",
      "_view_count": null,
      "_view_module": "@jupyter-widgets/controls",
      "_view_module_version": "1.5.0",
      "_view_name": "VBoxView",
      "box_style": "",
      "children": [
       "IPY_MODEL_eb8388aebf084998bb63ce582e28b377",
       "IPY_MODEL_47190ce2f4ab437ab457f0f00b7c0081"
      ],
      "layout": "IPY_MODEL_f491950b193b45caa2b9b09da47c84ff"
     }
    },
    "b4d596119fcc441cbc92836553d97f43": {
     "model_module": "@jupyter-widgets/base",
     "model_module_version": "1.2.0",
     "model_name": "LayoutModel",
     "state": {
      "_model_module": "@jupyter-widgets/base",
      "_model_module_version": "1.2.0",
      "_model_name": "LayoutModel",
      "_view_count": null,
      "_view_module": "@jupyter-widgets/base",
      "_view_module_version": "1.2.0",
      "_view_name": "LayoutView",
      "align_content": null,
      "align_items": null,
      "align_self": null,
      "border": null,
      "bottom": null,
      "display": null,
      "flex": null,
      "flex_flow": null,
      "grid_area": null,
      "grid_auto_columns": null,
      "grid_auto_flow": null,
      "grid_auto_rows": null,
      "grid_column": null,
      "grid_gap": null,
      "grid_row": null,
      "grid_template_areas": null,
      "grid_template_columns": null,
      "grid_template_rows": null,
      "height": null,
      "justify_content": null,
      "justify_items": null,
      "left": null,
      "margin": null,
      "max_height": null,
      "max_width": null,
      "min_height": null,
      "min_width": null,
      "object_fit": null,
      "object_position": null,
      "order": null,
      "overflow": null,
      "overflow_x": null,
      "overflow_y": null,
      "padding": null,
      "right": null,
      "top": null,
      "visibility": null,
      "width": null
     }
    },
    "b5bd4f6b61c2436a8b2f328abaecc02d": {
     "model_module": "@jupyter-widgets/base",
     "model_module_version": "1.2.0",
     "model_name": "LayoutModel",
     "state": {
      "_model_module": "@jupyter-widgets/base",
      "_model_module_version": "1.2.0",
      "_model_name": "LayoutModel",
      "_view_count": null,
      "_view_module": "@jupyter-widgets/base",
      "_view_module_version": "1.2.0",
      "_view_name": "LayoutView",
      "align_content": null,
      "align_items": null,
      "align_self": null,
      "border": null,
      "bottom": null,
      "display": null,
      "flex": null,
      "flex_flow": null,
      "grid_area": null,
      "grid_auto_columns": null,
      "grid_auto_flow": null,
      "grid_auto_rows": null,
      "grid_column": null,
      "grid_gap": null,
      "grid_row": null,
      "grid_template_areas": null,
      "grid_template_columns": null,
      "grid_template_rows": null,
      "height": null,
      "justify_content": null,
      "justify_items": null,
      "left": null,
      "margin": null,
      "max_height": null,
      "max_width": null,
      "min_height": null,
      "min_width": null,
      "object_fit": null,
      "object_position": null,
      "order": null,
      "overflow": null,
      "overflow_x": null,
      "overflow_y": null,
      "padding": null,
      "right": null,
      "top": null,
      "visibility": null,
      "width": null
     }
    },
    "bc3113c0b637435ca79161adf6b9ac92": {
     "model_module": "@jupyter-widgets/controls",
     "model_module_version": "1.5.0",
     "model_name": "VBoxModel",
     "state": {
      "_dom_classes": [
       "widget-interact"
      ],
      "_model_module": "@jupyter-widgets/controls",
      "_model_module_version": "1.5.0",
      "_model_name": "VBoxModel",
      "_view_count": null,
      "_view_module": "@jupyter-widgets/controls",
      "_view_module_version": "1.5.0",
      "_view_name": "VBoxView",
      "box_style": "",
      "children": [
       "IPY_MODEL_a9a3948bde444bfaa44ddad3263e5c6e",
       "IPY_MODEL_c6604789f0d04accbdde72a85c6ab73e",
       "IPY_MODEL_afc050727e674bf6b4dac74c920016a9"
      ],
      "layout": "IPY_MODEL_ac3596592ee042baa91354269d1b6679"
     }
    },
    "bc454082e1ce404d95590ffafde62e5a": {
     "model_module": "@jupyter-widgets/controls",
     "model_module_version": "1.5.0",
     "model_name": "VBoxModel",
     "state": {
      "_dom_classes": [
       "widget-interact"
      ],
      "_model_module": "@jupyter-widgets/controls",
      "_model_module_version": "1.5.0",
      "_model_name": "VBoxModel",
      "_view_count": null,
      "_view_module": "@jupyter-widgets/controls",
      "_view_module_version": "1.5.0",
      "_view_name": "VBoxView",
      "box_style": "",
      "children": [
       "IPY_MODEL_c0d90252b4de4f75b0037305ad6dfa51",
       "IPY_MODEL_a2c01bb34c2f4ecc898a205387efb1c8"
      ],
      "layout": "IPY_MODEL_b5bd4f6b61c2436a8b2f328abaecc02d"
     }
    },
    "c0d90252b4de4f75b0037305ad6dfa51": {
     "model_module": "@jupyter-widgets/controls",
     "model_module_version": "1.5.0",
     "model_name": "IntSliderModel",
     "state": {
      "_dom_classes": [],
      "_model_module": "@jupyter-widgets/controls",
      "_model_module_version": "1.5.0",
      "_model_name": "IntSliderModel",
      "_view_count": null,
      "_view_module": "@jupyter-widgets/controls",
      "_view_module_version": "1.5.0",
      "_view_name": "IntSliderView",
      "continuous_update": true,
      "description": "k",
      "description_tooltip": null,
      "disabled": false,
      "layout": "IPY_MODEL_781cd8f525f641e4be4a75bbf2dca4e3",
      "max": 16,
      "min": 0,
      "orientation": "horizontal",
      "readout": true,
      "readout_format": "d",
      "step": 1,
      "style": "IPY_MODEL_9f7a5b38ef1b4b5fb69b9e3f77469a4f",
      "value": 8
     }
    },
    "c6604789f0d04accbdde72a85c6ab73e": {
     "model_module": "@jupyter-widgets/controls",
     "model_module_version": "1.5.0",
     "model_name": "IntSliderModel",
     "state": {
      "_dom_classes": [],
      "_model_module": "@jupyter-widgets/controls",
      "_model_module_version": "1.5.0",
      "_model_name": "IntSliderModel",
      "_view_count": null,
      "_view_module": "@jupyter-widgets/controls",
      "_view_module_version": "1.5.0",
      "_view_name": "IntSliderView",
      "continuous_update": true,
      "description": "level",
      "description_tooltip": null,
      "disabled": false,
      "layout": "IPY_MODEL_78364c1fb88d4d8ab5ed04328d7d9c73",
      "max": 8,
      "min": 0,
      "orientation": "horizontal",
      "readout": true,
      "readout_format": "d",
      "step": 1,
      "style": "IPY_MODEL_5fbc99c9f1264ded8d971eae08ee9e63",
      "value": 0
     }
    },
    "d2b3bac04bd24e5b804d9ae58bb86f2f": {
     "model_module": "@jupyter-widgets/base",
     "model_module_version": "1.2.0",
     "model_name": "LayoutModel",
     "state": {
      "_model_module": "@jupyter-widgets/base",
      "_model_module_version": "1.2.0",
      "_model_name": "LayoutModel",
      "_view_count": null,
      "_view_module": "@jupyter-widgets/base",
      "_view_module_version": "1.2.0",
      "_view_name": "LayoutView",
      "align_content": null,
      "align_items": null,
      "align_self": null,
      "border": null,
      "bottom": null,
      "display": null,
      "flex": null,
      "flex_flow": null,
      "grid_area": null,
      "grid_auto_columns": null,
      "grid_auto_flow": null,
      "grid_auto_rows": null,
      "grid_column": null,
      "grid_gap": null,
      "grid_row": null,
      "grid_template_areas": null,
      "grid_template_columns": null,
      "grid_template_rows": null,
      "height": null,
      "justify_content": null,
      "justify_items": null,
      "left": null,
      "margin": null,
      "max_height": null,
      "max_width": null,
      "min_height": null,
      "min_width": null,
      "object_fit": null,
      "object_position": null,
      "order": null,
      "overflow": null,
      "overflow_x": null,
      "overflow_y": null,
      "padding": null,
      "right": null,
      "top": null,
      "visibility": null,
      "width": null
     }
    },
    "d649ce4e0b9b45759c4382bfafda0d9d": {
     "model_module": "@jupyter-widgets/base",
     "model_module_version": "1.2.0",
     "model_name": "LayoutModel",
     "state": {
      "_model_module": "@jupyter-widgets/base",
      "_model_module_version": "1.2.0",
      "_model_name": "LayoutModel",
      "_view_count": null,
      "_view_module": "@jupyter-widgets/base",
      "_view_module_version": "1.2.0",
      "_view_name": "LayoutView",
      "align_content": null,
      "align_items": null,
      "align_self": null,
      "border": null,
      "bottom": null,
      "display": null,
      "flex": null,
      "flex_flow": null,
      "grid_area": null,
      "grid_auto_columns": null,
      "grid_auto_flow": null,
      "grid_auto_rows": null,
      "grid_column": null,
      "grid_gap": null,
      "grid_row": null,
      "grid_template_areas": null,
      "grid_template_columns": null,
      "grid_template_rows": null,
      "height": null,
      "justify_content": null,
      "justify_items": null,
      "left": null,
      "margin": null,
      "max_height": null,
      "max_width": null,
      "min_height": null,
      "min_width": null,
      "object_fit": null,
      "object_position": null,
      "order": null,
      "overflow": null,
      "overflow_x": null,
      "overflow_y": null,
      "padding": null,
      "right": null,
      "top": null,
      "visibility": null,
      "width": null
     }
    },
    "d7bc3ae25077485395dddbc27f4f1a09": {
     "model_module": "@jupyter-widgets/output",
     "model_module_version": "1.0.0",
     "model_name": "OutputModel",
     "state": {
      "_dom_classes": [],
      "_model_module": "@jupyter-widgets/output",
      "_model_module_version": "1.0.0",
      "_model_name": "OutputModel",
      "_view_count": null,
      "_view_module": "@jupyter-widgets/output",
      "_view_module_version": "1.0.0",
      "_view_name": "OutputView",
      "layout": "IPY_MODEL_70303fe32c394e90857e9f5bad0fa5d3",
      "msg_id": "",
      "outputs": [
       {
        "data": {
         "image/png": "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\n",
         "text/plain": "<Figure size 921.6x633.6 with 1 Axes>"
        },
        "metadata": {
         "needs_background": "light"
        },
        "output_type": "display_data"
       }
      ]
     }
    },
    "e1f381f831334903b060d86ebe11b0dc": {
     "model_module": "@jupyter-widgets/controls",
     "model_module_version": "1.5.0",
     "model_name": "DescriptionStyleModel",
     "state": {
      "_model_module": "@jupyter-widgets/controls",
      "_model_module_version": "1.5.0",
      "_model_name": "DescriptionStyleModel",
      "_view_count": null,
      "_view_module": "@jupyter-widgets/base",
      "_view_module_version": "1.2.0",
      "_view_name": "StyleView",
      "description_width": ""
     }
    },
    "e2ce3be096f24d4c858550ad87b7e45b": {
     "model_module": "@jupyter-widgets/base",
     "model_module_version": "1.2.0",
     "model_name": "LayoutModel",
     "state": {
      "_model_module": "@jupyter-widgets/base",
      "_model_module_version": "1.2.0",
      "_model_name": "LayoutModel",
      "_view_count": null,
      "_view_module": "@jupyter-widgets/base",
      "_view_module_version": "1.2.0",
      "_view_name": "LayoutView",
      "align_content": null,
      "align_items": null,
      "align_self": null,
      "border": null,
      "bottom": null,
      "display": null,
      "flex": null,
      "flex_flow": null,
      "grid_area": null,
      "grid_auto_columns": null,
      "grid_auto_flow": null,
      "grid_auto_rows": null,
      "grid_column": null,
      "grid_gap": null,
      "grid_row": null,
      "grid_template_areas": null,
      "grid_template_columns": null,
      "grid_template_rows": null,
      "height": null,
      "justify_content": null,
      "justify_items": null,
      "left": null,
      "margin": null,
      "max_height": null,
      "max_width": null,
      "min_height": null,
      "min_width": null,
      "object_fit": null,
      "object_position": null,
      "order": null,
      "overflow": null,
      "overflow_x": null,
      "overflow_y": null,
      "padding": null,
      "right": null,
      "top": null,
      "visibility": null,
      "width": null
     }
    },
    "e4ded65334004a93ab9d4fd0b6498a1b": {
     "model_module": "@jupyter-widgets/controls",
     "model_module_version": "1.5.0",
     "model_name": "IntSliderModel",
     "state": {
      "_dom_classes": [],
      "_model_module": "@jupyter-widgets/controls",
      "_model_module_version": "1.5.0",
      "_model_name": "IntSliderModel",
      "_view_count": null,
      "_view_module": "@jupyter-widgets/controls",
      "_view_module_version": "1.5.0",
      "_view_name": "IntSliderView",
      "continuous_update": true,
      "description": "j_scale",
      "description_tooltip": null,
      "disabled": false,
      "layout": "IPY_MODEL_ae1424e1c6ad434bbe7491e285c054fe",
      "max": 4,
      "min": 0,
      "orientation": "horizontal",
      "readout": true,
      "readout_format": "d",
      "step": 1,
      "style": "IPY_MODEL_9f9dc64228d247e9939f333093d273ba",
      "value": 0
     }
    },
    "eb8388aebf084998bb63ce582e28b377": {
     "model_module": "@jupyter-widgets/controls",
     "model_module_version": "1.5.0",
     "model_name": "IntSliderModel",
     "state": {
      "_dom_classes": [],
      "_model_module": "@jupyter-widgets/controls",
      "_model_module_version": "1.5.0",
      "_model_name": "IntSliderModel",
      "_view_count": null,
      "_view_module": "@jupyter-widgets/controls",
      "_view_module_version": "1.5.0",
      "_view_name": "IntSliderView",
      "continuous_update": true,
      "description": "max_level",
      "description_tooltip": null,
      "disabled": false,
      "layout": "IPY_MODEL_7cac15aec871439e93b09905022ee6f7",
      "max": 10,
      "min": 0,
      "orientation": "horizontal",
      "readout": true,
      "readout_format": "d",
      "step": 1,
      "style": "IPY_MODEL_3e16cd7b862d4003ba74aea644fd18c2",
      "value": 6
     }
    },
    "ed5fbb90758c41b9b1a51bbd916f3b9f": {
     "model_module": "@jupyter-widgets/controls",
     "model_module_version": "1.5.0",
     "model_name": "DropdownModel",
     "state": {
      "_dom_classes": [],
      "_model_module": "@jupyter-widgets/controls",
      "_model_module_version": "1.5.0",
      "_model_name": "DropdownModel",
      "_options_labels": [
       "haar",
       "db2",
       "db3",
       "db4",
       "sym2",
       "sym3"
      ],
      "_view_count": null,
      "_view_module": "@jupyter-widgets/controls",
      "_view_module_version": "1.5.0",
      "_view_name": "DropdownView",
      "description": "wavelet",
      "description_tooltip": null,
      "disabled": false,
      "index": 0,
      "layout": "IPY_MODEL_04ed4ab755cd4c0fae3b6d14ef3e6a95",
      "style": "IPY_MODEL_a4136bc01f784fdc83124d07e00cf92e"
     }
    },
    "f491950b193b45caa2b9b09da47c84ff": {
     "model_module": "@jupyter-widgets/base",
     "model_module_version": "1.2.0",
     "model_name": "LayoutModel",
     "state": {
      "_model_module": "@jupyter-widgets/base",
      "_model_module_version": "1.2.0",
      "_model_name": "LayoutModel",
      "_view_count": null,
      "_view_module": "@jupyter-widgets/base",
      "_view_module_version": "1.2.0",
      "_view_name": "LayoutView",
      "align_content": null,
      "align_items": null,
      "align_self": null,
      "border": null,
      "bottom": null,
      "display": null,
      "flex": null,
      "flex_flow": null,
      "grid_area": null,
      "grid_auto_columns": null,
      "grid_auto_flow": null,
      "grid_auto_rows": null,
      "grid_column": null,
      "grid_gap": null,
      "grid_row": null,
      "grid_template_areas": null,
      "grid_template_columns": null,
      "grid_template_rows": null,
      "height": null,
      "justify_content": null,
      "justify_items": null,
      "left": null,
      "margin": null,
      "max_height": null,
      "max_width": null,
      "min_height": null,
      "min_width": null,
      "object_fit": null,
      "object_position": null,
      "order": null,
      "overflow": null,
      "overflow_x": null,
      "overflow_y": null,
      "padding": null,
      "right": null,
      "top": null,
      "visibility": null,
      "width": null
     }
    },
    "fca20e62ca25410ea154e8d6b438d706": {
     "model_module": "@jupyter-widgets/controls",
     "model_module_version": "1.5.0",
     "model_name": "SliderStyleModel",
     "state": {
      "_model_module": "@jupyter-widgets/controls",
      "_model_module_version": "1.5.0",
      "_model_name": "SliderStyleModel",
      "_view_count": null,
      "_view_module": "@jupyter-widgets/base",
      "_view_module_version": "1.2.0",
      "_view_name": "StyleView",
      "description_width": "",
      "handle_color": null
     }
    }
   }
  }
 },
 "nbformat": 4,
 "nbformat_minor": 1
}
